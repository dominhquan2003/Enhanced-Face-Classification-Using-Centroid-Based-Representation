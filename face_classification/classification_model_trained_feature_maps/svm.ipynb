{
 "cells": [
  {
   "cell_type": "code",
   "execution_count": 1,
   "id": "47b8612e",
   "metadata": {
    "_cell_guid": "b1076dfc-b9ad-4769-8c92-a6c4dae69d19",
    "_uuid": "8f2839f25d086af736a60e9eeb907d3b93b6e0e5",
    "execution": {
     "iopub.execute_input": "2025-02-16T21:37:28.387891Z",
     "iopub.status.busy": "2025-02-16T21:37:28.387508Z",
     "iopub.status.idle": "2025-02-16T21:37:31.177514Z",
     "shell.execute_reply": "2025-02-16T21:37:31.176637Z"
    },
    "papermill": {
     "duration": 2.795763,
     "end_time": "2025-02-16T21:37:31.179328",
     "exception": false,
     "start_time": "2025-02-16T21:37:28.383565",
     "status": "completed"
    },
    "tags": []
   },
   "outputs": [],
   "source": [
    "import numpy as np\n",
    "import joblib\n",
    "import matplotlib.pyplot as plt\n",
    "import seaborn as sns\n",
    "from sklearn.svm import SVC\n",
    "from sklearn.decomposition import PCA\n",
    "from sklearn.preprocessing import StandardScaler\n",
    "from sklearn.metrics import accuracy_score, classification_report, confusion_matrix"
   ]
  },
  {
   "cell_type": "markdown",
   "id": "93810676",
   "metadata": {},
   "source": [
    "# `Load extracted feature maps`"
   ]
  },
  {
   "cell_type": "code",
   "execution_count": null,
   "id": "12a0661c",
   "metadata": {},
   "outputs": [],
   "source": [
    "X_train = np.load('/kaggle/input/pit-feature-maps-mobilenetv2/train_feature_maps.npy')\n",
    "X_test = np.load('/kaggle/input/pit-feature-maps-mobilenetv2/test_feature_maps.npy')\n",
    "X_val = np.load('/kaggle/input/pit-feature-maps-mobilenetv2/val_feature_maps.npy')\n",
    "y_train = np.load('/kaggle/input/pit-feature-maps-mobilenetv2/train_labels.npy')\n",
    "y_test = np.load('/kaggle/input/pit-feature-maps-mobilenetv2/test_labels.npy')\n",
    "y_val = np.load('/kaggle/input/pit-feature-maps-mobilenetv2/val_labels.npy')"
   ]
  },
  {
   "cell_type": "markdown",
   "id": "430f1d13",
   "metadata": {},
   "source": [
    "# `Convert one-hot encoded labels to class indices`"
   ]
  },
  {
   "cell_type": "code",
   "execution_count": null,
   "id": "9cb28ad9",
   "metadata": {
    "execution": {
     "iopub.execute_input": "2025-02-16T21:37:31.185897Z",
     "iopub.status.busy": "2025-02-16T21:37:31.185420Z",
     "iopub.status.idle": "2025-02-16T21:38:22.184406Z",
     "shell.execute_reply": "2025-02-16T21:38:22.183274Z"
    },
    "papermill": {
     "duration": 51.004034,
     "end_time": "2025-02-16T21:38:22.186364",
     "exception": false,
     "start_time": "2025-02-16T21:37:31.182330",
     "status": "completed"
    },
    "tags": []
   },
   "outputs": [],
   "source": [
    "y_train_labels = np.argmax(y_train, axis=1)\n",
    "y_test_labels = np.argmax(y_test, axis=1)\n",
    "y_val_labels = np.argmax(y_val, axis=1)"
   ]
  },
  {
   "cell_type": "markdown",
   "id": "72525723",
   "metadata": {},
   "source": [
    "# `Reshape 4D feature maps to 2D (samples, features)`\n"
   ]
  },
  {
   "cell_type": "code",
   "execution_count": null,
   "id": "0bd5d68a",
   "metadata": {
    "execution": {
     "iopub.execute_input": "2025-02-16T21:38:22.192602Z",
     "iopub.status.busy": "2025-02-16T21:38:22.192272Z",
     "iopub.status.idle": "2025-02-16T21:38:22.196439Z",
     "shell.execute_reply": "2025-02-16T21:38:22.195650Z"
    },
    "papermill": {
     "duration": 0.008928,
     "end_time": "2025-02-16T21:38:22.197970",
     "exception": false,
     "start_time": "2025-02-16T21:38:22.189042",
     "status": "completed"
    },
    "tags": []
   },
   "outputs": [],
   "source": [
    "X_train = X_train.reshape(X_train.shape[0], -1)\n",
    "X_test = X_test.reshape(X_test.shape[0], -1)\n",
    "X_val = X_val.reshape(X_val.shape[0], -1)"
   ]
  },
  {
   "cell_type": "markdown",
   "id": "911d0410",
   "metadata": {},
   "source": [
    "# `Standardize features`"
   ]
  },
  {
   "cell_type": "code",
   "execution_count": null,
   "id": "52d3cc47",
   "metadata": {
    "execution": {
     "iopub.execute_input": "2025-02-16T21:38:22.203967Z",
     "iopub.status.busy": "2025-02-16T21:38:22.203629Z",
     "iopub.status.idle": "2025-02-16T21:39:12.940651Z",
     "shell.execute_reply": "2025-02-16T21:39:12.939681Z"
    },
    "papermill": {
     "duration": 50.742041,
     "end_time": "2025-02-16T21:39:12.942591",
     "exception": false,
     "start_time": "2025-02-16T21:38:22.200550",
     "status": "completed"
    },
    "tags": []
   },
   "outputs": [],
   "source": [
    "scaler = StandardScaler()\n",
    "X_train_scaled = scaler.fit_transform(X_train)\n",
    "X_test_scaled = scaler.transform(X_test)\n",
    "X_val_scaled = scaler.transform(X_val)"
   ]
  },
  {
   "cell_type": "markdown",
   "id": "c1578172",
   "metadata": {},
   "source": [
    "# `Apply PCA for dimensionality reduction`\n"
   ]
  },
  {
   "cell_type": "code",
   "execution_count": null,
   "id": "6e0859a8",
   "metadata": {
    "execution": {
     "iopub.execute_input": "2025-02-16T21:39:12.949342Z",
     "iopub.status.busy": "2025-02-16T21:39:12.949019Z",
     "iopub.status.idle": "2025-02-16T21:43:30.956352Z",
     "shell.execute_reply": "2025-02-16T21:43:30.955330Z"
    },
    "papermill": {
     "duration": 258.012701,
     "end_time": "2025-02-16T21:43:30.958288",
     "exception": false,
     "start_time": "2025-02-16T21:39:12.945587",
     "status": "completed"
    },
    "tags": []
   },
   "outputs": [],
   "source": [
    "pca = PCA(n_components=500)\n",
    "X_train_pca = pca.fit_transform(X_train_scaled)\n",
    "X_test_pca = pca.transform(X_test_scaled)\n",
    "X_val_pca = pca.transform(X_val_scaled)"
   ]
  },
  {
   "cell_type": "markdown",
   "id": "549a8ebe",
   "metadata": {},
   "source": [
    "# `Train SVM model`\n"
   ]
  },
  {
   "cell_type": "code",
   "execution_count": null,
   "id": "fb088974",
   "metadata": {
    "execution": {
     "iopub.execute_input": "2025-02-16T21:43:30.968290Z",
     "iopub.status.busy": "2025-02-16T21:43:30.967974Z",
     "iopub.status.idle": "2025-02-16T21:49:02.229470Z",
     "shell.execute_reply": "2025-02-16T21:49:02.228203Z"
    },
    "papermill": {
     "duration": 331.269236,
     "end_time": "2025-02-16T21:49:02.233732",
     "exception": false,
     "start_time": "2025-02-16T21:43:30.964496",
     "status": "completed"
    },
    "tags": []
   },
   "outputs": [
    {
     "data": {
      "text/html": [
       "<style>#sk-container-id-1 {color: black;background-color: white;}#sk-container-id-1 pre{padding: 0;}#sk-container-id-1 div.sk-toggleable {background-color: white;}#sk-container-id-1 label.sk-toggleable__label {cursor: pointer;display: block;width: 100%;margin-bottom: 0;padding: 0.3em;box-sizing: border-box;text-align: center;}#sk-container-id-1 label.sk-toggleable__label-arrow:before {content: \"▸\";float: left;margin-right: 0.25em;color: #696969;}#sk-container-id-1 label.sk-toggleable__label-arrow:hover:before {color: black;}#sk-container-id-1 div.sk-estimator:hover label.sk-toggleable__label-arrow:before {color: black;}#sk-container-id-1 div.sk-toggleable__content {max-height: 0;max-width: 0;overflow: hidden;text-align: left;background-color: #f0f8ff;}#sk-container-id-1 div.sk-toggleable__content pre {margin: 0.2em;color: black;border-radius: 0.25em;background-color: #f0f8ff;}#sk-container-id-1 input.sk-toggleable__control:checked~div.sk-toggleable__content {max-height: 200px;max-width: 100%;overflow: auto;}#sk-container-id-1 input.sk-toggleable__control:checked~label.sk-toggleable__label-arrow:before {content: \"▾\";}#sk-container-id-1 div.sk-estimator input.sk-toggleable__control:checked~label.sk-toggleable__label {background-color: #d4ebff;}#sk-container-id-1 div.sk-label input.sk-toggleable__control:checked~label.sk-toggleable__label {background-color: #d4ebff;}#sk-container-id-1 input.sk-hidden--visually {border: 0;clip: rect(1px 1px 1px 1px);clip: rect(1px, 1px, 1px, 1px);height: 1px;margin: -1px;overflow: hidden;padding: 0;position: absolute;width: 1px;}#sk-container-id-1 div.sk-estimator {font-family: monospace;background-color: #f0f8ff;border: 1px dotted black;border-radius: 0.25em;box-sizing: border-box;margin-bottom: 0.5em;}#sk-container-id-1 div.sk-estimator:hover {background-color: #d4ebff;}#sk-container-id-1 div.sk-parallel-item::after {content: \"\";width: 100%;border-bottom: 1px solid gray;flex-grow: 1;}#sk-container-id-1 div.sk-label:hover label.sk-toggleable__label {background-color: #d4ebff;}#sk-container-id-1 div.sk-serial::before {content: \"\";position: absolute;border-left: 1px solid gray;box-sizing: border-box;top: 0;bottom: 0;left: 50%;z-index: 0;}#sk-container-id-1 div.sk-serial {display: flex;flex-direction: column;align-items: center;background-color: white;padding-right: 0.2em;padding-left: 0.2em;position: relative;}#sk-container-id-1 div.sk-item {position: relative;z-index: 1;}#sk-container-id-1 div.sk-parallel {display: flex;align-items: stretch;justify-content: center;background-color: white;position: relative;}#sk-container-id-1 div.sk-item::before, #sk-container-id-1 div.sk-parallel-item::before {content: \"\";position: absolute;border-left: 1px solid gray;box-sizing: border-box;top: 0;bottom: 0;left: 50%;z-index: -1;}#sk-container-id-1 div.sk-parallel-item {display: flex;flex-direction: column;z-index: 1;position: relative;background-color: white;}#sk-container-id-1 div.sk-parallel-item:first-child::after {align-self: flex-end;width: 50%;}#sk-container-id-1 div.sk-parallel-item:last-child::after {align-self: flex-start;width: 50%;}#sk-container-id-1 div.sk-parallel-item:only-child::after {width: 0;}#sk-container-id-1 div.sk-dashed-wrapped {border: 1px dashed gray;margin: 0 0.4em 0.5em 0.4em;box-sizing: border-box;padding-bottom: 0.4em;background-color: white;}#sk-container-id-1 div.sk-label label {font-family: monospace;font-weight: bold;display: inline-block;line-height: 1.2em;}#sk-container-id-1 div.sk-label-container {text-align: center;}#sk-container-id-1 div.sk-container {/* jupyter's `normalize.less` sets `[hidden] { display: none; }` but bootstrap.min.css set `[hidden] { display: none !important; }` so we also need the `!important` here to be able to override the default hidden behavior on the sphinx rendered scikit-learn.org. See: https://github.com/scikit-learn/scikit-learn/issues/21755 */display: inline-block !important;position: relative;}#sk-container-id-1 div.sk-text-repr-fallback {display: none;}</style><div id=\"sk-container-id-1\" class=\"sk-top-container\"><div class=\"sk-text-repr-fallback\"><pre>SVC(random_state=42)</pre><b>In a Jupyter environment, please rerun this cell to show the HTML representation or trust the notebook. <br />On GitHub, the HTML representation is unable to render, please try loading this page with nbviewer.org.</b></div><div class=\"sk-container\" hidden><div class=\"sk-item\"><div class=\"sk-estimator sk-toggleable\"><input class=\"sk-toggleable__control sk-hidden--visually\" id=\"sk-estimator-id-1\" type=\"checkbox\" checked><label for=\"sk-estimator-id-1\" class=\"sk-toggleable__label sk-toggleable__label-arrow\">SVC</label><div class=\"sk-toggleable__content\"><pre>SVC(random_state=42)</pre></div></div></div></div></div>"
      ],
      "text/plain": [
       "SVC(random_state=42)"
      ]
     },
     "execution_count": 6,
     "metadata": {},
     "output_type": "execute_result"
    }
   ],
   "source": [
    "svm_model = SVC(kernel='rbf', C=1.0, gamma='scale', random_state=42)\n",
    "svm_model.fit(X_train_pca, y_train_labels)"
   ]
  },
  {
   "cell_type": "markdown",
   "id": "d855a458",
   "metadata": {},
   "source": [
    "# `Save model, scaler, and PCA`"
   ]
  },
  {
   "cell_type": "code",
   "execution_count": null,
   "id": "e6a2c9d9",
   "metadata": {
    "execution": {
     "iopub.execute_input": "2025-02-16T21:49:02.240997Z",
     "iopub.status.busy": "2025-02-16T21:49:02.240573Z",
     "iopub.status.idle": "2025-02-16T21:49:03.194625Z",
     "shell.execute_reply": "2025-02-16T21:49:03.193494Z"
    },
    "papermill": {
     "duration": 0.959633,
     "end_time": "2025-02-16T21:49:03.196338",
     "exception": false,
     "start_time": "2025-02-16T21:49:02.236705",
     "status": "completed"
    },
    "tags": []
   },
   "outputs": [
    {
     "data": {
      "text/plain": [
       "['/kaggle/working/pca.pkl']"
      ]
     },
     "execution_count": 7,
     "metadata": {},
     "output_type": "execute_result"
    }
   ],
   "source": [
    "joblib.dump(svm_model, \"/kaggle/working/svm_model.pkl\")\n",
    "joblib.dump(scaler, \"/kaggle/working/scaler.pkl\")\n",
    "joblib.dump(pca, \"/kaggle/working/pca.pkl\")"
   ]
  },
  {
   "cell_type": "markdown",
   "id": "15ad5013",
   "metadata": {},
   "source": [
    "# `Testing performance`"
   ]
  },
  {
   "cell_type": "code",
   "execution_count": 8,
   "id": "f635d202",
   "metadata": {
    "execution": {
     "iopub.execute_input": "2025-02-16T21:49:03.203712Z",
     "iopub.status.busy": "2025-02-16T21:49:03.203399Z",
     "iopub.status.idle": "2025-02-16T22:21:38.613423Z",
     "shell.execute_reply": "2025-02-16T22:21:38.611348Z"
    },
    "papermill": {
     "duration": 1955.418603,
     "end_time": "2025-02-16T22:21:38.618115",
     "exception": false,
     "start_time": "2025-02-16T21:49:03.199512",
     "status": "completed"
    },
    "tags": []
   },
   "outputs": [],
   "source": [
    "# Predictions for each dataset\n",
    "y_train_pred = svm_model.predict(X_train_pca)\n",
    "y_val_pred = svm_model.predict(X_val_pca)\n",
    "y_test_pred = svm_model.predict(X_test_pca)"
   ]
  },
  {
   "cell_type": "code",
   "execution_count": 9,
   "id": "c208d172",
   "metadata": {
    "execution": {
     "iopub.execute_input": "2025-02-16T22:21:38.629967Z",
     "iopub.status.busy": "2025-02-16T22:21:38.629539Z",
     "iopub.status.idle": "2025-02-16T22:21:38.640857Z",
     "shell.execute_reply": "2025-02-16T22:21:38.639938Z"
    },
    "papermill": {
     "duration": 0.01782,
     "end_time": "2025-02-16T22:21:38.642619",
     "exception": false,
     "start_time": "2025-02-16T22:21:38.624799",
     "status": "completed"
    },
    "tags": []
   },
   "outputs": [],
   "source": [
    "# Compute accuracy for train, validation, and test sets\n",
    "train_accuracy = accuracy_score(y_train_labels, y_train_pred)\n",
    "val_accuracy = accuracy_score(y_val_labels, y_val_pred)\n",
    "test_accuracy = accuracy_score(y_test_labels, y_test_pred)"
   ]
  },
  {
   "cell_type": "code",
   "execution_count": 10,
   "id": "d2031053",
   "metadata": {
    "execution": {
     "iopub.execute_input": "2025-02-16T22:21:38.650160Z",
     "iopub.status.busy": "2025-02-16T22:21:38.649850Z",
     "iopub.status.idle": "2025-02-16T22:21:38.655877Z",
     "shell.execute_reply": "2025-02-16T22:21:38.655006Z"
    },
    "papermill": {
     "duration": 0.012053,
     "end_time": "2025-02-16T22:21:38.658034",
     "exception": false,
     "start_time": "2025-02-16T22:21:38.645981",
     "status": "completed"
    },
    "tags": []
   },
   "outputs": [
    {
     "name": "stdout",
     "output_type": "stream",
     "text": [
      "Training Accuracy: 87.12%\n",
      "Validation Accuracy: 49.98%\n",
      "Test Accuracy: 49.95%\n"
     ]
    }
   ],
   "source": [
    "# Print accuracies\n",
    "print(f\"Training Accuracy: {train_accuracy * 100:.2f}%\")\n",
    "print(f\"Validation Accuracy: {val_accuracy * 100:.2f}%\")\n",
    "print(f\"Test Accuracy: {test_accuracy * 100:.2f}%\")"
   ]
  }
 ],
 "metadata": {
  "kaggle": {
   "accelerator": "none",
   "dataSources": [
    {
     "datasetId": 6669550,
     "sourceId": 10759284,
     "sourceType": "datasetVersion"
    }
   ],
   "dockerImageVersionId": 30886,
   "isGpuEnabled": false,
   "isInternetEnabled": false,
   "language": "python",
   "sourceType": "notebook"
  },
  "kernelspec": {
   "display_name": "Python 3",
   "language": "python",
   "name": "python3"
  },
  "language_info": {
   "codemirror_mode": {
    "name": "ipython",
    "version": 3
   },
   "file_extension": ".py",
   "mimetype": "text/x-python",
   "name": "python",
   "nbconvert_exporter": "python",
   "pygments_lexer": "ipython3",
   "version": "3.10.12"
  },
  "papermill": {
   "default_parameters": {},
   "duration": 2654.03642,
   "end_time": "2025-02-16T22:21:39.788613",
   "environment_variables": {},
   "exception": null,
   "input_path": "__notebook__.ipynb",
   "output_path": "__notebook__.ipynb",
   "parameters": {},
   "start_time": "2025-02-16T21:37:25.752193",
   "version": "2.6.0"
  }
 },
 "nbformat": 4,
 "nbformat_minor": 5
}
