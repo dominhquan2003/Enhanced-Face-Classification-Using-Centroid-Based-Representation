{
 "cells": [
  {
   "cell_type": "code",
   "execution_count": 1,
   "id": "962d234e",
   "metadata": {
    "_cell_guid": "b1076dfc-b9ad-4769-8c92-a6c4dae69d19",
    "_uuid": "8f2839f25d086af736a60e9eeb907d3b93b6e0e5",
    "execution": {
     "iopub.execute_input": "2025-02-17T13:35:55.941427Z",
     "iopub.status.busy": "2025-02-17T13:35:55.941056Z",
     "iopub.status.idle": "2025-02-17T13:36:00.444048Z",
     "shell.execute_reply": "2025-02-17T13:36:00.442628Z"
    },
    "papermill": {
     "duration": 4.509917,
     "end_time": "2025-02-17T13:36:00.446007",
     "exception": false,
     "start_time": "2025-02-17T13:35:55.936090",
     "status": "completed"
    },
    "tags": []
   },
   "outputs": [],
   "source": [
    "import numpy as np\n",
    "import matplotlib.pyplot as plt\n",
    "import joblib\n",
    "import seaborn as sns\n",
    "from sklearn.linear_model import LogisticRegression\n",
    "from sklearn.preprocessing import StandardScaler\n",
    "from sklearn.metrics import accuracy_score, classification_report, confusion_matrix\n",
    "from sklearn.model_selection import learning_curve\n",
    "from sklearn.decomposition import PCA\n",
    "from imblearn.over_sampling import SMOTE"
   ]
  },
  {
   "cell_type": "markdown",
   "id": "f35335fc",
   "metadata": {},
   "source": [
    "# `Load extracted feature maps`"
   ]
  },
  {
   "cell_type": "code",
   "execution_count": null,
   "id": "7d3d3e5f",
   "metadata": {},
   "outputs": [],
   "source": [
    "X_train = np.load('/kaggle/input/pit-feature-maps-mobilenetv2/train_feature_maps.npy')\n",
    "X_test = np.load('/kaggle/input/pit-feature-maps-mobilenetv2/test_feature_maps.npy')\n",
    "X_val = np.load('/kaggle/input/pit-feature-maps-mobilenetv2/val_feature_maps.npy')\n",
    "y_train = np.load('/kaggle/input/pit-feature-maps-mobilenetv2/train_labels.npy')\n",
    "y_test = np.load('/kaggle/input/pit-feature-maps-mobilenetv2/test_labels.npy')\n",
    "y_val = np.load('/kaggle/input/pit-feature-maps-mobilenetv2/val_labels.npy')"
   ]
  },
  {
   "cell_type": "markdown",
   "id": "83d9ea59",
   "metadata": {},
   "source": [
    "# `Convert one-hot encoded labels to class indices`"
   ]
  },
  {
   "cell_type": "code",
   "execution_count": null,
   "id": "5fd93fb5",
   "metadata": {
    "execution": {
     "iopub.execute_input": "2025-02-17T13:36:00.452377Z",
     "iopub.status.busy": "2025-02-17T13:36:00.451881Z",
     "iopub.status.idle": "2025-02-17T13:37:11.289382Z",
     "shell.execute_reply": "2025-02-17T13:37:11.288424Z"
    },
    "papermill": {
     "duration": 70.842203,
     "end_time": "2025-02-17T13:37:11.291078",
     "exception": false,
     "start_time": "2025-02-17T13:36:00.448875",
     "status": "completed"
    },
    "tags": []
   },
   "outputs": [],
   "source": [
    "y_train = np.argmax(y_train, axis=1)\n",
    "y_test = np.argmax(y_test, axis=1)\n",
    "y_val = np.argmax(y_val, axis=1)"
   ]
  },
  {
   "cell_type": "markdown",
   "id": "2002a5dc",
   "metadata": {},
   "source": [
    "# `Reshape 4D feature maps to 2D (samples, features)`"
   ]
  },
  {
   "cell_type": "code",
   "execution_count": null,
   "id": "1344ee0e",
   "metadata": {
    "execution": {
     "iopub.execute_input": "2025-02-17T13:37:11.296795Z",
     "iopub.status.busy": "2025-02-17T13:37:11.296465Z",
     "iopub.status.idle": "2025-02-17T13:37:11.300473Z",
     "shell.execute_reply": "2025-02-17T13:37:11.299673Z"
    },
    "papermill": {
     "duration": 0.008323,
     "end_time": "2025-02-17T13:37:11.301933",
     "exception": false,
     "start_time": "2025-02-17T13:37:11.293610",
     "status": "completed"
    },
    "tags": []
   },
   "outputs": [],
   "source": [
    "X_train_reshaped = X_train.reshape(X_train.shape[0], -1)\n",
    "X_test_reshaped = X_test.reshape(X_test.shape[0], -1)\n",
    "X_val_reshaped = X_val.reshape(X_val.shape[0], -1)"
   ]
  },
  {
   "cell_type": "markdown",
   "id": "ef6dce61",
   "metadata": {},
   "source": [
    "# `Standardize features`"
   ]
  },
  {
   "cell_type": "code",
   "execution_count": null,
   "id": "1d6723ad",
   "metadata": {
    "execution": {
     "iopub.execute_input": "2025-02-17T13:37:11.307181Z",
     "iopub.status.busy": "2025-02-17T13:37:11.306898Z",
     "iopub.status.idle": "2025-02-17T13:37:53.368276Z",
     "shell.execute_reply": "2025-02-17T13:37:53.366942Z"
    },
    "papermill": {
     "duration": 42.065912,
     "end_time": "2025-02-17T13:37:53.370170",
     "exception": false,
     "start_time": "2025-02-17T13:37:11.304258",
     "status": "completed"
    },
    "tags": []
   },
   "outputs": [],
   "source": [
    "scaler = StandardScaler()\n",
    "X_train_scaled = scaler.fit_transform(X_train_reshaped)\n",
    "X_test_scaled = scaler.transform(X_test_reshaped)\n",
    "X_val_scaled = scaler.transform(X_val_reshaped)"
   ]
  },
  {
   "cell_type": "markdown",
   "id": "40c230ef",
   "metadata": {},
   "source": [
    "# `Apply PCA for dimensionality reduction`"
   ]
  },
  {
   "cell_type": "code",
   "execution_count": null,
   "id": "33a1b5c2",
   "metadata": {
    "execution": {
     "iopub.execute_input": "2025-02-17T13:37:53.376225Z",
     "iopub.status.busy": "2025-02-17T13:37:53.375858Z",
     "iopub.status.idle": "2025-02-17T13:57:34.981012Z",
     "shell.execute_reply": "2025-02-17T13:57:34.976206Z"
    },
    "papermill": {
     "duration": 1181.610026,
     "end_time": "2025-02-17T13:57:34.982924",
     "exception": false,
     "start_time": "2025-02-17T13:37:53.372898",
     "status": "completed"
    },
    "tags": []
   },
   "outputs": [],
   "source": [
    "pca = PCA(n_components=2000)\n",
    "X_train_pca = pca.fit_transform(X_train_scaled)\n",
    "X_test_pca = pca.transform(X_test_scaled)\n",
    "X_val_pca = pca.transform(X_val_scaled)"
   ]
  },
  {
   "cell_type": "code",
   "execution_count": 6,
   "id": "db680a55",
   "metadata": {
    "execution": {
     "iopub.execute_input": "2025-02-17T13:57:34.989138Z",
     "iopub.status.busy": "2025-02-17T13:57:34.988549Z",
     "iopub.status.idle": "2025-02-17T13:57:49.581209Z",
     "shell.execute_reply": "2025-02-17T13:57:49.580409Z"
    },
    "papermill": {
     "duration": 14.597322,
     "end_time": "2025-02-17T13:57:49.582786",
     "exception": false,
     "start_time": "2025-02-17T13:57:34.985464",
     "status": "completed"
    },
    "tags": []
   },
   "outputs": [],
   "source": [
    "# Apply SMOTE to handle class imbalance\n",
    "smote = SMOTE(sampling_strategy='auto', random_state=42)\n",
    "X_train_resampled, y_train_resampled = smote.fit_resample(X_train_pca, y_train)"
   ]
  },
  {
   "cell_type": "markdown",
   "id": "76398330",
   "metadata": {},
   "source": [
    "# `Logistic Regression`"
   ]
  },
  {
   "cell_type": "code",
   "execution_count": 7,
   "id": "ad077a62",
   "metadata": {
    "execution": {
     "iopub.execute_input": "2025-02-17T13:57:49.588047Z",
     "iopub.status.busy": "2025-02-17T13:57:49.587741Z",
     "iopub.status.idle": "2025-02-17T14:37:43.696550Z",
     "shell.execute_reply": "2025-02-17T14:37:43.695265Z"
    },
    "papermill": {
     "duration": 2394.122375,
     "end_time": "2025-02-17T14:37:43.707466",
     "exception": false,
     "start_time": "2025-02-17T13:57:49.585091",
     "status": "completed"
    },
    "tags": []
   },
   "outputs": [
    {
     "data": {
      "text/html": [
       "<style>#sk-container-id-1 {color: black;background-color: white;}#sk-container-id-1 pre{padding: 0;}#sk-container-id-1 div.sk-toggleable {background-color: white;}#sk-container-id-1 label.sk-toggleable__label {cursor: pointer;display: block;width: 100%;margin-bottom: 0;padding: 0.3em;box-sizing: border-box;text-align: center;}#sk-container-id-1 label.sk-toggleable__label-arrow:before {content: \"▸\";float: left;margin-right: 0.25em;color: #696969;}#sk-container-id-1 label.sk-toggleable__label-arrow:hover:before {color: black;}#sk-container-id-1 div.sk-estimator:hover label.sk-toggleable__label-arrow:before {color: black;}#sk-container-id-1 div.sk-toggleable__content {max-height: 0;max-width: 0;overflow: hidden;text-align: left;background-color: #f0f8ff;}#sk-container-id-1 div.sk-toggleable__content pre {margin: 0.2em;color: black;border-radius: 0.25em;background-color: #f0f8ff;}#sk-container-id-1 input.sk-toggleable__control:checked~div.sk-toggleable__content {max-height: 200px;max-width: 100%;overflow: auto;}#sk-container-id-1 input.sk-toggleable__control:checked~label.sk-toggleable__label-arrow:before {content: \"▾\";}#sk-container-id-1 div.sk-estimator input.sk-toggleable__control:checked~label.sk-toggleable__label {background-color: #d4ebff;}#sk-container-id-1 div.sk-label input.sk-toggleable__control:checked~label.sk-toggleable__label {background-color: #d4ebff;}#sk-container-id-1 input.sk-hidden--visually {border: 0;clip: rect(1px 1px 1px 1px);clip: rect(1px, 1px, 1px, 1px);height: 1px;margin: -1px;overflow: hidden;padding: 0;position: absolute;width: 1px;}#sk-container-id-1 div.sk-estimator {font-family: monospace;background-color: #f0f8ff;border: 1px dotted black;border-radius: 0.25em;box-sizing: border-box;margin-bottom: 0.5em;}#sk-container-id-1 div.sk-estimator:hover {background-color: #d4ebff;}#sk-container-id-1 div.sk-parallel-item::after {content: \"\";width: 100%;border-bottom: 1px solid gray;flex-grow: 1;}#sk-container-id-1 div.sk-label:hover label.sk-toggleable__label {background-color: #d4ebff;}#sk-container-id-1 div.sk-serial::before {content: \"\";position: absolute;border-left: 1px solid gray;box-sizing: border-box;top: 0;bottom: 0;left: 50%;z-index: 0;}#sk-container-id-1 div.sk-serial {display: flex;flex-direction: column;align-items: center;background-color: white;padding-right: 0.2em;padding-left: 0.2em;position: relative;}#sk-container-id-1 div.sk-item {position: relative;z-index: 1;}#sk-container-id-1 div.sk-parallel {display: flex;align-items: stretch;justify-content: center;background-color: white;position: relative;}#sk-container-id-1 div.sk-item::before, #sk-container-id-1 div.sk-parallel-item::before {content: \"\";position: absolute;border-left: 1px solid gray;box-sizing: border-box;top: 0;bottom: 0;left: 50%;z-index: -1;}#sk-container-id-1 div.sk-parallel-item {display: flex;flex-direction: column;z-index: 1;position: relative;background-color: white;}#sk-container-id-1 div.sk-parallel-item:first-child::after {align-self: flex-end;width: 50%;}#sk-container-id-1 div.sk-parallel-item:last-child::after {align-self: flex-start;width: 50%;}#sk-container-id-1 div.sk-parallel-item:only-child::after {width: 0;}#sk-container-id-1 div.sk-dashed-wrapped {border: 1px dashed gray;margin: 0 0.4em 0.5em 0.4em;box-sizing: border-box;padding-bottom: 0.4em;background-color: white;}#sk-container-id-1 div.sk-label label {font-family: monospace;font-weight: bold;display: inline-block;line-height: 1.2em;}#sk-container-id-1 div.sk-label-container {text-align: center;}#sk-container-id-1 div.sk-container {/* jupyter's `normalize.less` sets `[hidden] { display: none; }` but bootstrap.min.css set `[hidden] { display: none !important; }` so we also need the `!important` here to be able to override the default hidden behavior on the sphinx rendered scikit-learn.org. See: https://github.com/scikit-learn/scikit-learn/issues/21755 */display: inline-block !important;position: relative;}#sk-container-id-1 div.sk-text-repr-fallback {display: none;}</style><div id=\"sk-container-id-1\" class=\"sk-top-container\"><div class=\"sk-text-repr-fallback\"><pre>LogisticRegression(max_iter=1000, multi_class=&#x27;multinomial&#x27;, random_state=42)</pre><b>In a Jupyter environment, please rerun this cell to show the HTML representation or trust the notebook. <br />On GitHub, the HTML representation is unable to render, please try loading this page with nbviewer.org.</b></div><div class=\"sk-container\" hidden><div class=\"sk-item\"><div class=\"sk-estimator sk-toggleable\"><input class=\"sk-toggleable__control sk-hidden--visually\" id=\"sk-estimator-id-1\" type=\"checkbox\" checked><label for=\"sk-estimator-id-1\" class=\"sk-toggleable__label sk-toggleable__label-arrow\">LogisticRegression</label><div class=\"sk-toggleable__content\"><pre>LogisticRegression(max_iter=1000, multi_class=&#x27;multinomial&#x27;, random_state=42)</pre></div></div></div></div></div>"
      ],
      "text/plain": [
       "LogisticRegression(max_iter=1000, multi_class='multinomial', random_state=42)"
      ]
     },
     "execution_count": 7,
     "metadata": {},
     "output_type": "execute_result"
    }
   ],
   "source": [
    "logreg_model = LogisticRegression(multi_class='multinomial', max_iter=1000, solver='lbfgs', random_state=42)\n",
    "logreg_model.fit(X_train_resampled, y_train_resampled)"
   ]
  },
  {
   "cell_type": "code",
   "execution_count": 8,
   "id": "fb77ea78",
   "metadata": {
    "execution": {
     "iopub.execute_input": "2025-02-17T14:37:43.715046Z",
     "iopub.status.busy": "2025-02-17T14:37:43.714615Z",
     "iopub.status.idle": "2025-02-17T14:37:45.730092Z",
     "shell.execute_reply": "2025-02-17T14:37:45.728518Z"
    },
    "papermill": {
     "duration": 2.021725,
     "end_time": "2025-02-17T14:37:45.732094",
     "exception": false,
     "start_time": "2025-02-17T14:37:43.710369",
     "status": "completed"
    },
    "tags": []
   },
   "outputs": [
    {
     "data": {
      "text/plain": [
       "['/kaggle/working/pca.pkl']"
      ]
     },
     "execution_count": 8,
     "metadata": {},
     "output_type": "execute_result"
    }
   ],
   "source": [
    "# Save model, scaler, and PCA\n",
    "joblib.dump(logreg_model, \"/kaggle/working/logreg.pkl\")\n",
    "joblib.dump(scaler, \"/kaggle/working/scaler.pkl\")\n",
    "joblib.dump(pca, \"/kaggle/working/pca.pkl\")"
   ]
  },
  {
   "cell_type": "markdown",
   "id": "9a000af3",
   "metadata": {},
   "source": [
    "# `Testing performance`"
   ]
  },
  {
   "cell_type": "code",
   "execution_count": 9,
   "id": "41e4ef7f",
   "metadata": {
    "execution": {
     "iopub.execute_input": "2025-02-17T14:37:45.740041Z",
     "iopub.status.busy": "2025-02-17T14:37:45.739570Z",
     "iopub.status.idle": "2025-02-17T14:37:47.080994Z",
     "shell.execute_reply": "2025-02-17T14:37:47.079901Z"
    },
    "papermill": {
     "duration": 1.347371,
     "end_time": "2025-02-17T14:37:47.082896",
     "exception": false,
     "start_time": "2025-02-17T14:37:45.735525",
     "status": "completed"
    },
    "tags": []
   },
   "outputs": [],
   "source": [
    "# Predictions for each dataset\n",
    "y_train_pred = logreg_model.predict(X_train_pca)\n",
    "y_val_pred = logreg_model.predict(X_val_pca)\n",
    "y_test_pred = logreg_model.predict(X_test_pca)"
   ]
  },
  {
   "cell_type": "code",
   "execution_count": 10,
   "id": "246cc151",
   "metadata": {
    "execution": {
     "iopub.execute_input": "2025-02-17T14:37:47.090703Z",
     "iopub.status.busy": "2025-02-17T14:37:47.090365Z",
     "iopub.status.idle": "2025-02-17T14:37:47.099264Z",
     "shell.execute_reply": "2025-02-17T14:37:47.098003Z"
    },
    "papermill": {
     "duration": 0.014386,
     "end_time": "2025-02-17T14:37:47.101039",
     "exception": false,
     "start_time": "2025-02-17T14:37:47.086653",
     "status": "completed"
    },
    "tags": []
   },
   "outputs": [],
   "source": [
    "# Compute accuracy for train, validation, and test sets\n",
    "train_accuracy = accuracy_score(y_train, y_train_pred)\n",
    "val_accuracy = accuracy_score(y_val, y_val_pred)\n",
    "test_accuracy = accuracy_score(y_test, y_test_pred)"
   ]
  },
  {
   "cell_type": "code",
   "execution_count": 11,
   "id": "7bfe29fc",
   "metadata": {
    "execution": {
     "iopub.execute_input": "2025-02-17T14:37:47.107770Z",
     "iopub.status.busy": "2025-02-17T14:37:47.107403Z",
     "iopub.status.idle": "2025-02-17T14:37:47.113647Z",
     "shell.execute_reply": "2025-02-17T14:37:47.112722Z"
    },
    "papermill": {
     "duration": 0.011015,
     "end_time": "2025-02-17T14:37:47.115019",
     "exception": false,
     "start_time": "2025-02-17T14:37:47.104004",
     "status": "completed"
    },
    "tags": []
   },
   "outputs": [
    {
     "name": "stdout",
     "output_type": "stream",
     "text": [
      "Training Accuracy: 85.48%\n",
      "Validation Accuracy: 67.53%\n",
      "Test Accuracy: 67.85%\n"
     ]
    }
   ],
   "source": [
    "# Print accuracies\n",
    "print(f\"Training Accuracy: {train_accuracy * 100:.2f}%\")\n",
    "print(f\"Validation Accuracy: {val_accuracy * 100:.2f}%\")\n",
    "print(f\"Test Accuracy: {test_accuracy * 100:.2f}%\")"
   ]
  }
 ],
 "metadata": {
  "kaggle": {
   "accelerator": "none",
   "dataSources": [
    {
     "datasetId": 6669550,
     "sourceId": 10759284,
     "sourceType": "datasetVersion"
    }
   ],
   "dockerImageVersionId": 30886,
   "isGpuEnabled": false,
   "isInternetEnabled": false,
   "language": "python",
   "sourceType": "notebook"
  },
  "kernelspec": {
   "display_name": "Python 3",
   "language": "python",
   "name": "python3"
  },
  "language_info": {
   "codemirror_mode": {
    "name": "ipython",
    "version": 3
   },
   "file_extension": ".py",
   "mimetype": "text/x-python",
   "name": "python",
   "nbconvert_exporter": "python",
   "pygments_lexer": "ipython3",
   "version": "3.10.12"
  },
  "papermill": {
   "default_parameters": {},
   "duration": 3715.777745,
   "end_time": "2025-02-17T14:37:49.353543",
   "environment_variables": {},
   "exception": null,
   "input_path": "__notebook__.ipynb",
   "output_path": "__notebook__.ipynb",
   "parameters": {},
   "start_time": "2025-02-17T13:35:53.575798",
   "version": "2.6.0"
  }
 },
 "nbformat": 4,
 "nbformat_minor": 5
}
