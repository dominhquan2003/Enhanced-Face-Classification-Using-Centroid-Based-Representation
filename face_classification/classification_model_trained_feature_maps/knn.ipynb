{
 "cells": [
  {
   "cell_type": "code",
   "execution_count": 1,
   "id": "9dbd67b5",
   "metadata": {
    "_cell_guid": "b1076dfc-b9ad-4769-8c92-a6c4dae69d19",
    "_uuid": "8f2839f25d086af736a60e9eeb907d3b93b6e0e5",
    "execution": {
     "iopub.execute_input": "2025-02-16T18:20:08.061485Z",
     "iopub.status.busy": "2025-02-16T18:20:08.061087Z",
     "iopub.status.idle": "2025-02-16T18:20:12.039820Z",
     "shell.execute_reply": "2025-02-16T18:20:12.038695Z"
    },
    "papermill": {
     "duration": 3.985271,
     "end_time": "2025-02-16T18:20:12.041732",
     "exception": false,
     "start_time": "2025-02-16T18:20:08.056461",
     "status": "completed"
    },
    "tags": []
   },
   "outputs": [],
   "source": [
    "import numpy as np\n",
    "import matplotlib.pyplot as plt\n",
    "import seaborn as sns\n",
    "import joblib\n",
    "from sklearn.neighbors import KNeighborsClassifier\n",
    "from sklearn.preprocessing import StandardScaler\n",
    "from sklearn.metrics import accuracy_score, classification_report, confusion_matrix\n",
    "from sklearn.model_selection import GridSearchCV\n",
    "from sklearn.decomposition import PCA\n",
    "from imblearn.over_sampling import SMOTE\n"
   ]
  },
  {
   "cell_type": "markdown",
   "id": "bfbb9b44",
   "metadata": {},
   "source": [
    "# `Load extracted feature maps`"
   ]
  },
  {
   "cell_type": "code",
   "execution_count": null,
   "id": "79b1be4c",
   "metadata": {},
   "outputs": [],
   "source": [
    "X_train = np.load('/kaggle/input/pit-feature-maps-mobilenetv2/train_feature_maps.npy')\n",
    "X_test = np.load('/kaggle/input/pit-feature-maps-mobilenetv2/test_feature_maps.npy')\n",
    "X_val = np.load('/kaggle/input/pit-feature-maps-mobilenetv2/val_feature_maps.npy')\n",
    "y_train = np.load('/kaggle/input/pit-feature-maps-mobilenetv2/train_labels.npy')\n",
    "y_test = np.load('/kaggle/input/pit-feature-maps-mobilenetv2/test_labels.npy')\n",
    "y_val = np.load('/kaggle/input/pit-feature-maps-mobilenetv2/val_labels.npy')"
   ]
  },
  {
   "cell_type": "markdown",
   "id": "882fa673",
   "metadata": {},
   "source": [
    "# `Convert one-hot encoded labels to class indices`"
   ]
  },
  {
   "cell_type": "code",
   "execution_count": null,
   "id": "e864d2cc",
   "metadata": {
    "execution": {
     "iopub.execute_input": "2025-02-16T18:20:12.050501Z",
     "iopub.status.busy": "2025-02-16T18:20:12.049852Z",
     "iopub.status.idle": "2025-02-16T18:21:11.988323Z",
     "shell.execute_reply": "2025-02-16T18:21:11.986712Z"
    },
    "papermill": {
     "duration": 59.946629,
     "end_time": "2025-02-16T18:21:11.992151",
     "exception": false,
     "start_time": "2025-02-16T18:20:12.045522",
     "status": "completed"
    },
    "tags": []
   },
   "outputs": [],
   "source": [
    "y_train = np.argmax(y_train, axis=1)\n",
    "y_test = np.argmax(y_test, axis=1)\n",
    "y_val = np.argmax(y_val, axis=1)"
   ]
  },
  {
   "cell_type": "markdown",
   "id": "b6edb9ee",
   "metadata": {},
   "source": [
    "# `Reshape 4D feature maps to 2D (samples, features)`"
   ]
  },
  {
   "cell_type": "code",
   "execution_count": null,
   "id": "2d137b70",
   "metadata": {},
   "outputs": [],
   "source": [
    "X_train_reshaped = X_train.reshape(X_train.shape[0], -1)\n",
    "X_test_reshaped = X_test.reshape(X_test.shape[0], -1)\n",
    "X_val_reshaped = X_val.reshape(X_val.shape[0], -1)"
   ]
  },
  {
   "cell_type": "markdown",
   "id": "f5233fc1",
   "metadata": {},
   "source": [
    "# `Standardize features`"
   ]
  },
  {
   "cell_type": "code",
   "execution_count": null,
   "id": "bdd9f406",
   "metadata": {
    "execution": {
     "iopub.execute_input": "2025-02-16T18:21:12.003205Z",
     "iopub.status.busy": "2025-02-16T18:21:12.002834Z",
     "iopub.status.idle": "2025-02-16T18:22:08.897055Z",
     "shell.execute_reply": "2025-02-16T18:22:08.896050Z"
    },
    "papermill": {
     "duration": 56.900821,
     "end_time": "2025-02-16T18:22:08.899044",
     "exception": false,
     "start_time": "2025-02-16T18:21:11.998223",
     "status": "completed"
    },
    "tags": []
   },
   "outputs": [],
   "source": [
    "scaler = StandardScaler()\n",
    "X_train_scaled = scaler.fit_transform(X_train_reshaped)\n",
    "X_test_scaled = scaler.transform(X_test_reshaped)\n",
    "X_val_scaled = scaler.transform(X_val_reshaped)"
   ]
  },
  {
   "cell_type": "code",
   "execution_count": 4,
   "id": "54fe13e3",
   "metadata": {
    "execution": {
     "iopub.execute_input": "2025-02-16T18:22:08.908593Z",
     "iopub.status.busy": "2025-02-16T18:22:08.908219Z",
     "iopub.status.idle": "2025-02-16T18:27:18.051681Z",
     "shell.execute_reply": "2025-02-16T18:27:18.048701Z"
    },
    "papermill": {
     "duration": 309.151292,
     "end_time": "2025-02-16T18:27:18.054644",
     "exception": false,
     "start_time": "2025-02-16T18:22:08.903352",
     "status": "completed"
    },
    "tags": []
   },
   "outputs": [],
   "source": [
    "# Apply PCA for dimensionality reduction\n",
    "pca = PCA(n_components=500)\n",
    "X_train_pca = pca.fit_transform(X_train_scaled)\n",
    "X_test_pca = pca.transform(X_test_scaled)\n",
    "X_val_pca = pca.transform(X_val_scaled)"
   ]
  },
  {
   "cell_type": "code",
   "execution_count": 5,
   "id": "2b2bd5d6",
   "metadata": {
    "execution": {
     "iopub.execute_input": "2025-02-16T18:27:18.064748Z",
     "iopub.status.busy": "2025-02-16T18:27:18.064207Z",
     "iopub.status.idle": "2025-02-16T18:27:19.941531Z",
     "shell.execute_reply": "2025-02-16T18:27:19.940387Z"
    },
    "papermill": {
     "duration": 1.884389,
     "end_time": "2025-02-16T18:27:19.943463",
     "exception": false,
     "start_time": "2025-02-16T18:27:18.059074",
     "status": "completed"
    },
    "tags": []
   },
   "outputs": [],
   "source": [
    "# Apply SMOTE to handle class imbalance\n",
    "smote = SMOTE(sampling_strategy='auto', random_state=42)\n",
    "X_train_resampled, y_train_resampled = smote.fit_resample(X_train_pca, y_train)"
   ]
  },
  {
   "cell_type": "code",
   "execution_count": 6,
   "id": "87892afa",
   "metadata": {
    "execution": {
     "iopub.execute_input": "2025-02-16T18:27:19.951396Z",
     "iopub.status.busy": "2025-02-16T18:27:19.950976Z",
     "iopub.status.idle": "2025-02-16T18:27:19.955966Z",
     "shell.execute_reply": "2025-02-16T18:27:19.955079Z"
    },
    "papermill": {
     "duration": 0.010737,
     "end_time": "2025-02-16T18:27:19.957619",
     "exception": false,
     "start_time": "2025-02-16T18:27:19.946882",
     "status": "completed"
    },
    "tags": []
   },
   "outputs": [],
   "source": [
    "# Find best hyperparameters using GridSearchCV\n",
    "param_grid = {\n",
    "    'n_neighbors': [3, 5, 10, 15, 20],\n",
    "    'weights': ['uniform', 'distance'],\n",
    "    'p': [1, 2]\n",
    "}\n",
    "grid_search = GridSearchCV(\n",
    "    KNeighborsClassifier(n_jobs=-1), param_grid, cv=5, scoring='accuracy', n_jobs=-1\n",
    ")"
   ]
  },
  {
   "cell_type": "code",
   "execution_count": 7,
   "id": "52b85187",
   "metadata": {
    "execution": {
     "iopub.execute_input": "2025-02-16T18:27:19.965438Z",
     "iopub.status.busy": "2025-02-16T18:27:19.965049Z",
     "iopub.status.idle": "2025-02-16T19:43:16.154278Z",
     "shell.execute_reply": "2025-02-16T19:43:16.152000Z"
    },
    "papermill": {
     "duration": 4556.204623,
     "end_time": "2025-02-16T19:43:16.165546",
     "exception": false,
     "start_time": "2025-02-16T18:27:19.960923",
     "status": "completed"
    },
    "tags": []
   },
   "outputs": [],
   "source": [
    "grid_search.fit(X_train_resampled, y_train_resampled)\n",
    "best_params = grid_search.best_params_"
   ]
  },
  {
   "cell_type": "code",
   "execution_count": 8,
   "id": "7c8bf9bd",
   "metadata": {
    "execution": {
     "iopub.execute_input": "2025-02-16T19:43:16.188925Z",
     "iopub.status.busy": "2025-02-16T19:43:16.188482Z",
     "iopub.status.idle": "2025-02-16T19:43:16.196282Z",
     "shell.execute_reply": "2025-02-16T19:43:16.195078Z"
    },
    "papermill": {
     "duration": 0.02021,
     "end_time": "2025-02-16T19:43:16.201735",
     "exception": false,
     "start_time": "2025-02-16T19:43:16.181525",
     "status": "completed"
    },
    "tags": []
   },
   "outputs": [
    {
     "name": "stdout",
     "output_type": "stream",
     "text": [
      "Best K: 3, Best Weight: distance, Best p: 1\n"
     ]
    }
   ],
   "source": [
    "print(f\"Best K: {best_params['n_neighbors']}, Best Weight: {best_params['weights']}, Best p: {best_params['p']}\")"
   ]
  },
  {
   "cell_type": "code",
   "execution_count": 9,
   "id": "185a9ef9",
   "metadata": {
    "execution": {
     "iopub.execute_input": "2025-02-16T19:43:16.210965Z",
     "iopub.status.busy": "2025-02-16T19:43:16.210593Z",
     "iopub.status.idle": "2025-02-16T19:43:16.215921Z",
     "shell.execute_reply": "2025-02-16T19:43:16.214610Z"
    },
    "papermill": {
     "duration": 0.012088,
     "end_time": "2025-02-16T19:43:16.218020",
     "exception": false,
     "start_time": "2025-02-16T19:43:16.205932",
     "status": "completed"
    },
    "tags": []
   },
   "outputs": [],
   "source": [
    "# Train the best model\n",
    "knn_model = KNeighborsClassifier(\n",
    "    n_neighbors=best_params['n_neighbors'], \n",
    "    weights=best_params['weights'], \n",
    "    p=best_params['p'],\n",
    "    n_jobs=-1\n",
    ")"
   ]
  },
  {
   "cell_type": "code",
   "execution_count": 10,
   "id": "603a2d0a",
   "metadata": {
    "execution": {
     "iopub.execute_input": "2025-02-16T19:43:16.226825Z",
     "iopub.status.busy": "2025-02-16T19:43:16.226478Z",
     "iopub.status.idle": "2025-02-16T19:43:16.260833Z",
     "shell.execute_reply": "2025-02-16T19:43:16.259661Z"
    },
    "papermill": {
     "duration": 0.041496,
     "end_time": "2025-02-16T19:43:16.263388",
     "exception": false,
     "start_time": "2025-02-16T19:43:16.221892",
     "status": "completed"
    },
    "tags": []
   },
   "outputs": [
    {
     "data": {
      "text/html": [
       "<style>#sk-container-id-1 {color: black;background-color: white;}#sk-container-id-1 pre{padding: 0;}#sk-container-id-1 div.sk-toggleable {background-color: white;}#sk-container-id-1 label.sk-toggleable__label {cursor: pointer;display: block;width: 100%;margin-bottom: 0;padding: 0.3em;box-sizing: border-box;text-align: center;}#sk-container-id-1 label.sk-toggleable__label-arrow:before {content: \"▸\";float: left;margin-right: 0.25em;color: #696969;}#sk-container-id-1 label.sk-toggleable__label-arrow:hover:before {color: black;}#sk-container-id-1 div.sk-estimator:hover label.sk-toggleable__label-arrow:before {color: black;}#sk-container-id-1 div.sk-toggleable__content {max-height: 0;max-width: 0;overflow: hidden;text-align: left;background-color: #f0f8ff;}#sk-container-id-1 div.sk-toggleable__content pre {margin: 0.2em;color: black;border-radius: 0.25em;background-color: #f0f8ff;}#sk-container-id-1 input.sk-toggleable__control:checked~div.sk-toggleable__content {max-height: 200px;max-width: 100%;overflow: auto;}#sk-container-id-1 input.sk-toggleable__control:checked~label.sk-toggleable__label-arrow:before {content: \"▾\";}#sk-container-id-1 div.sk-estimator input.sk-toggleable__control:checked~label.sk-toggleable__label {background-color: #d4ebff;}#sk-container-id-1 div.sk-label input.sk-toggleable__control:checked~label.sk-toggleable__label {background-color: #d4ebff;}#sk-container-id-1 input.sk-hidden--visually {border: 0;clip: rect(1px 1px 1px 1px);clip: rect(1px, 1px, 1px, 1px);height: 1px;margin: -1px;overflow: hidden;padding: 0;position: absolute;width: 1px;}#sk-container-id-1 div.sk-estimator {font-family: monospace;background-color: #f0f8ff;border: 1px dotted black;border-radius: 0.25em;box-sizing: border-box;margin-bottom: 0.5em;}#sk-container-id-1 div.sk-estimator:hover {background-color: #d4ebff;}#sk-container-id-1 div.sk-parallel-item::after {content: \"\";width: 100%;border-bottom: 1px solid gray;flex-grow: 1;}#sk-container-id-1 div.sk-label:hover label.sk-toggleable__label {background-color: #d4ebff;}#sk-container-id-1 div.sk-serial::before {content: \"\";position: absolute;border-left: 1px solid gray;box-sizing: border-box;top: 0;bottom: 0;left: 50%;z-index: 0;}#sk-container-id-1 div.sk-serial {display: flex;flex-direction: column;align-items: center;background-color: white;padding-right: 0.2em;padding-left: 0.2em;position: relative;}#sk-container-id-1 div.sk-item {position: relative;z-index: 1;}#sk-container-id-1 div.sk-parallel {display: flex;align-items: stretch;justify-content: center;background-color: white;position: relative;}#sk-container-id-1 div.sk-item::before, #sk-container-id-1 div.sk-parallel-item::before {content: \"\";position: absolute;border-left: 1px solid gray;box-sizing: border-box;top: 0;bottom: 0;left: 50%;z-index: -1;}#sk-container-id-1 div.sk-parallel-item {display: flex;flex-direction: column;z-index: 1;position: relative;background-color: white;}#sk-container-id-1 div.sk-parallel-item:first-child::after {align-self: flex-end;width: 50%;}#sk-container-id-1 div.sk-parallel-item:last-child::after {align-self: flex-start;width: 50%;}#sk-container-id-1 div.sk-parallel-item:only-child::after {width: 0;}#sk-container-id-1 div.sk-dashed-wrapped {border: 1px dashed gray;margin: 0 0.4em 0.5em 0.4em;box-sizing: border-box;padding-bottom: 0.4em;background-color: white;}#sk-container-id-1 div.sk-label label {font-family: monospace;font-weight: bold;display: inline-block;line-height: 1.2em;}#sk-container-id-1 div.sk-label-container {text-align: center;}#sk-container-id-1 div.sk-container {/* jupyter's `normalize.less` sets `[hidden] { display: none; }` but bootstrap.min.css set `[hidden] { display: none !important; }` so we also need the `!important` here to be able to override the default hidden behavior on the sphinx rendered scikit-learn.org. See: https://github.com/scikit-learn/scikit-learn/issues/21755 */display: inline-block !important;position: relative;}#sk-container-id-1 div.sk-text-repr-fallback {display: none;}</style><div id=\"sk-container-id-1\" class=\"sk-top-container\"><div class=\"sk-text-repr-fallback\"><pre>KNeighborsClassifier(n_jobs=-1, n_neighbors=3, p=1, weights=&#x27;distance&#x27;)</pre><b>In a Jupyter environment, please rerun this cell to show the HTML representation or trust the notebook. <br />On GitHub, the HTML representation is unable to render, please try loading this page with nbviewer.org.</b></div><div class=\"sk-container\" hidden><div class=\"sk-item\"><div class=\"sk-estimator sk-toggleable\"><input class=\"sk-toggleable__control sk-hidden--visually\" id=\"sk-estimator-id-1\" type=\"checkbox\" checked><label for=\"sk-estimator-id-1\" class=\"sk-toggleable__label sk-toggleable__label-arrow\">KNeighborsClassifier</label><div class=\"sk-toggleable__content\"><pre>KNeighborsClassifier(n_jobs=-1, n_neighbors=3, p=1, weights=&#x27;distance&#x27;)</pre></div></div></div></div></div>"
      ],
      "text/plain": [
       "KNeighborsClassifier(n_jobs=-1, n_neighbors=3, p=1, weights='distance')"
      ]
     },
     "execution_count": 10,
     "metadata": {},
     "output_type": "execute_result"
    }
   ],
   "source": [
    "knn_model.fit(X_train_resampled, y_train_resampled)"
   ]
  },
  {
   "cell_type": "code",
   "execution_count": 11,
   "id": "c96274b9",
   "metadata": {
    "execution": {
     "iopub.execute_input": "2025-02-16T19:43:16.273253Z",
     "iopub.status.busy": "2025-02-16T19:43:16.272911Z",
     "iopub.status.idle": "2025-02-16T19:43:17.039536Z",
     "shell.execute_reply": "2025-02-16T19:43:17.038376Z"
    },
    "papermill": {
     "duration": 0.773211,
     "end_time": "2025-02-16T19:43:17.041497",
     "exception": false,
     "start_time": "2025-02-16T19:43:16.268286",
     "status": "completed"
    },
    "tags": []
   },
   "outputs": [
    {
     "data": {
      "text/plain": [
       "['pca.pkl']"
      ]
     },
     "execution_count": 11,
     "metadata": {},
     "output_type": "execute_result"
    }
   ],
   "source": [
    "# Save the model and preprocessing objects\n",
    "joblib.dump(knn_model, \"knn_model.pkl\")\n",
    "joblib.dump(scaler, \"scaler.pkl\")\n",
    "joblib.dump(pca, \"pca.pkl\")"
   ]
  },
  {
   "cell_type": "markdown",
   "id": "7c01cb56",
   "metadata": {},
   "source": [
    "# `Testing performance`"
   ]
  },
  {
   "cell_type": "code",
   "execution_count": 12,
   "id": "c60fe491",
   "metadata": {
    "execution": {
     "iopub.execute_input": "2025-02-16T19:43:17.050903Z",
     "iopub.status.busy": "2025-02-16T19:43:17.050486Z",
     "iopub.status.idle": "2025-02-16T19:50:24.384771Z",
     "shell.execute_reply": "2025-02-16T19:50:24.383635Z"
    },
    "papermill": {
     "duration": 427.341555,
     "end_time": "2025-02-16T19:50:24.387131",
     "exception": false,
     "start_time": "2025-02-16T19:43:17.045576",
     "status": "completed"
    },
    "tags": []
   },
   "outputs": [],
   "source": [
    "# Make predictions for each dataset\n",
    "y_train_pred = knn_model.predict(X_train_pca)\n",
    "y_val_pred = knn_model.predict(X_val_pca)\n",
    "y_test_pred = knn_model.predict(X_test_pca)"
   ]
  },
  {
   "cell_type": "code",
   "execution_count": 13,
   "id": "f8da8bac",
   "metadata": {
    "execution": {
     "iopub.execute_input": "2025-02-16T19:50:24.397370Z",
     "iopub.status.busy": "2025-02-16T19:50:24.396958Z",
     "iopub.status.idle": "2025-02-16T19:50:24.406056Z",
     "shell.execute_reply": "2025-02-16T19:50:24.405055Z"
    },
    "papermill": {
     "duration": 0.016159,
     "end_time": "2025-02-16T19:50:24.407933",
     "exception": false,
     "start_time": "2025-02-16T19:50:24.391774",
     "status": "completed"
    },
    "tags": []
   },
   "outputs": [],
   "source": [
    "# Compute accuracy for train, validation, and test sets\n",
    "train_accuracy = accuracy_score(y_train, y_train_pred)\n",
    "val_accuracy = accuracy_score(y_val, y_val_pred)\n",
    "test_accuracy = accuracy_score(y_test, y_test_pred)"
   ]
  },
  {
   "cell_type": "code",
   "execution_count": 14,
   "id": "162d6ad2",
   "metadata": {
    "execution": {
     "iopub.execute_input": "2025-02-16T19:50:24.417748Z",
     "iopub.status.busy": "2025-02-16T19:50:24.417380Z",
     "iopub.status.idle": "2025-02-16T19:50:24.423480Z",
     "shell.execute_reply": "2025-02-16T19:50:24.422183Z"
    },
    "papermill": {
     "duration": 0.013234,
     "end_time": "2025-02-16T19:50:24.425342",
     "exception": false,
     "start_time": "2025-02-16T19:50:24.412108",
     "status": "completed"
    },
    "tags": []
   },
   "outputs": [
    {
     "name": "stdout",
     "output_type": "stream",
     "text": [
      "Training Accuracy: 52.78%\n",
      "Validation Accuracy: 36.34%\n",
      "Test Accuracy: 36.31%\n"
     ]
    }
   ],
   "source": [
    "# Print accuracies\n",
    "print(f\"Training Accuracy: {train_accuracy * 100:.2f}%\")\n",
    "print(f\"Validation Accuracy: {val_accuracy * 100:.2f}%\")\n",
    "print(f\"Test Accuracy: {test_accuracy * 100:.2f}%\")"
   ]
  }
 ],
 "metadata": {
  "kaggle": {
   "accelerator": "none",
   "dataSources": [
    {
     "datasetId": 6669550,
     "sourceId": 10759284,
     "sourceType": "datasetVersion"
    }
   ],
   "dockerImageVersionId": 30886,
   "isGpuEnabled": false,
   "isInternetEnabled": false,
   "language": "python",
   "sourceType": "notebook"
  },
  "kernelspec": {
   "display_name": "Python 3",
   "language": "python",
   "name": "python3"
  },
  "language_info": {
   "codemirror_mode": {
    "name": "ipython",
    "version": 3
   },
   "file_extension": ".py",
   "mimetype": "text/x-python",
   "name": "python",
   "nbconvert_exporter": "python",
   "pygments_lexer": "ipython3",
   "version": "3.10.12"
  },
  "papermill": {
   "default_parameters": {},
   "duration": 5420.780883,
   "end_time": "2025-02-16T19:50:25.978826",
   "environment_variables": {},
   "exception": null,
   "input_path": "__notebook__.ipynb",
   "output_path": "__notebook__.ipynb",
   "parameters": {},
   "start_time": "2025-02-16T18:20:05.197943",
   "version": "2.6.0"
  }
 },
 "nbformat": 4,
 "nbformat_minor": 5
}
