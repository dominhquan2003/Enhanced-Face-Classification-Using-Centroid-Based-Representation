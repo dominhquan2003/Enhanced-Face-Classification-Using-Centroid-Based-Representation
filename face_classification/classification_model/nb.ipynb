{
 "cells": [
  {
   "cell_type": "code",
   "execution_count": null,
   "id": "c8afb89e",
   "metadata": {
    "_cell_guid": "b1076dfc-b9ad-4769-8c92-a6c4dae69d19",
    "_uuid": "8f2839f25d086af736a60e9eeb907d3b93b6e0e5",
    "execution": {
     "iopub.execute_input": "2025-02-16T20:47:09.922373Z",
     "iopub.status.busy": "2025-02-16T20:47:09.921917Z",
     "iopub.status.idle": "2025-02-16T20:47:13.210321Z",
     "shell.execute_reply": "2025-02-16T20:47:13.208918Z"
    },
    "papermill": {
     "duration": 3.295015,
     "end_time": "2025-02-16T20:47:13.212847",
     "exception": false,
     "start_time": "2025-02-16T20:47:09.917832",
     "status": "completed"
    },
    "tags": []
   },
   "outputs": [],
   "source": [
    "import numpy as np\n",
    "import joblib\n",
    "from sklearn.naive_bayes import GaussianNB\n",
    "from sklearn.preprocessing import StandardScaler\n",
    "from sklearn.metrics import accuracy_score,"
   ]
  },
  {
   "cell_type": "markdown",
   "id": "82ba0e86",
   "metadata": {},
   "source": [
    "# `Load datasets`"
   ]
  },
  {
   "cell_type": "code",
   "execution_count": null,
   "id": "cf0e1780",
   "metadata": {},
   "outputs": [],
   "source": [
    "X_train = np.load('/kaggle/input/pit-classification/distance_vectors_train.npy')\n",
    "X_test = np.load('/kaggle/input/pit-classification/distance_vectors_test.npy')\n",
    "X_val = np.load('/kaggle/input/pit-classification/distance_vectors_val.npy')\n",
    "y_train = np.load('/kaggle/input/pit-classification/train_labels.npy')\n",
    "y_test = np.load('/kaggle/input/pit-classification/test_labels.npy')\n",
    "y_val = np.load('/kaggle/input/pit-classification/val_labels.npy')"
   ]
  },
  {
   "cell_type": "markdown",
   "id": "56b2f792",
   "metadata": {},
   "source": [
    "# `Convert one-hot encoded labels to class indices`"
   ]
  },
  {
   "cell_type": "code",
   "execution_count": null,
   "id": "20b3bdbb",
   "metadata": {
    "execution": {
     "iopub.execute_input": "2025-02-16T20:47:13.219665Z",
     "iopub.status.busy": "2025-02-16T20:47:13.219134Z",
     "iopub.status.idle": "2025-02-16T20:47:29.349224Z",
     "shell.execute_reply": "2025-02-16T20:47:29.348010Z"
    },
    "papermill": {
     "duration": 16.135547,
     "end_time": "2025-02-16T20:47:29.351299",
     "exception": false,
     "start_time": "2025-02-16T20:47:13.215752",
     "status": "completed"
    },
    "tags": []
   },
   "outputs": [],
   "source": [
    "y_train_labels = np.argmax(y_train, axis=1)\n",
    "y_test_labels = np.argmax(y_test, axis=1)\n",
    "y_val_labels = np.argmax(y_val, axis=1)"
   ]
  },
  {
   "cell_type": "markdown",
   "id": "11faa3b2",
   "metadata": {},
   "source": [
    "# `Standardize features`"
   ]
  },
  {
   "cell_type": "code",
   "execution_count": null,
   "id": "54b288f5",
   "metadata": {
    "execution": {
     "iopub.execute_input": "2025-02-16T20:47:29.358055Z",
     "iopub.status.busy": "2025-02-16T20:47:29.357663Z",
     "iopub.status.idle": "2025-02-16T20:47:34.484607Z",
     "shell.execute_reply": "2025-02-16T20:47:34.483597Z"
    },
    "papermill": {
     "duration": 5.132357,
     "end_time": "2025-02-16T20:47:34.486673",
     "exception": false,
     "start_time": "2025-02-16T20:47:29.354316",
     "status": "completed"
    },
    "tags": []
   },
   "outputs": [],
   "source": [
    "scaler = StandardScaler()\n",
    "X_train_scaled = scaler.fit_transform(X_train)\n",
    "X_test_scaled = scaler.transform(X_test)\n",
    "X_val_scaled = scaler.transform(X_val)"
   ]
  },
  {
   "cell_type": "markdown",
   "id": "40799409",
   "metadata": {},
   "source": [
    "# `Train Naïve Bayes model`"
   ]
  },
  {
   "cell_type": "code",
   "execution_count": null,
   "id": "1bcf59f7",
   "metadata": {
    "execution": {
     "iopub.execute_input": "2025-02-16T20:47:34.493949Z",
     "iopub.status.busy": "2025-02-16T20:47:34.493562Z",
     "iopub.status.idle": "2025-02-16T20:47:38.905998Z",
     "shell.execute_reply": "2025-02-16T20:47:38.904856Z"
    },
    "papermill": {
     "duration": 4.417979,
     "end_time": "2025-02-16T20:47:38.907811",
     "exception": false,
     "start_time": "2025-02-16T20:47:34.489832",
     "status": "completed"
    },
    "tags": []
   },
   "outputs": [
    {
     "data": {
      "text/html": [
       "<style>#sk-container-id-1 {color: black;background-color: white;}#sk-container-id-1 pre{padding: 0;}#sk-container-id-1 div.sk-toggleable {background-color: white;}#sk-container-id-1 label.sk-toggleable__label {cursor: pointer;display: block;width: 100%;margin-bottom: 0;padding: 0.3em;box-sizing: border-box;text-align: center;}#sk-container-id-1 label.sk-toggleable__label-arrow:before {content: \"▸\";float: left;margin-right: 0.25em;color: #696969;}#sk-container-id-1 label.sk-toggleable__label-arrow:hover:before {color: black;}#sk-container-id-1 div.sk-estimator:hover label.sk-toggleable__label-arrow:before {color: black;}#sk-container-id-1 div.sk-toggleable__content {max-height: 0;max-width: 0;overflow: hidden;text-align: left;background-color: #f0f8ff;}#sk-container-id-1 div.sk-toggleable__content pre {margin: 0.2em;color: black;border-radius: 0.25em;background-color: #f0f8ff;}#sk-container-id-1 input.sk-toggleable__control:checked~div.sk-toggleable__content {max-height: 200px;max-width: 100%;overflow: auto;}#sk-container-id-1 input.sk-toggleable__control:checked~label.sk-toggleable__label-arrow:before {content: \"▾\";}#sk-container-id-1 div.sk-estimator input.sk-toggleable__control:checked~label.sk-toggleable__label {background-color: #d4ebff;}#sk-container-id-1 div.sk-label input.sk-toggleable__control:checked~label.sk-toggleable__label {background-color: #d4ebff;}#sk-container-id-1 input.sk-hidden--visually {border: 0;clip: rect(1px 1px 1px 1px);clip: rect(1px, 1px, 1px, 1px);height: 1px;margin: -1px;overflow: hidden;padding: 0;position: absolute;width: 1px;}#sk-container-id-1 div.sk-estimator {font-family: monospace;background-color: #f0f8ff;border: 1px dotted black;border-radius: 0.25em;box-sizing: border-box;margin-bottom: 0.5em;}#sk-container-id-1 div.sk-estimator:hover {background-color: #d4ebff;}#sk-container-id-1 div.sk-parallel-item::after {content: \"\";width: 100%;border-bottom: 1px solid gray;flex-grow: 1;}#sk-container-id-1 div.sk-label:hover label.sk-toggleable__label {background-color: #d4ebff;}#sk-container-id-1 div.sk-serial::before {content: \"\";position: absolute;border-left: 1px solid gray;box-sizing: border-box;top: 0;bottom: 0;left: 50%;z-index: 0;}#sk-container-id-1 div.sk-serial {display: flex;flex-direction: column;align-items: center;background-color: white;padding-right: 0.2em;padding-left: 0.2em;position: relative;}#sk-container-id-1 div.sk-item {position: relative;z-index: 1;}#sk-container-id-1 div.sk-parallel {display: flex;align-items: stretch;justify-content: center;background-color: white;position: relative;}#sk-container-id-1 div.sk-item::before, #sk-container-id-1 div.sk-parallel-item::before {content: \"\";position: absolute;border-left: 1px solid gray;box-sizing: border-box;top: 0;bottom: 0;left: 50%;z-index: -1;}#sk-container-id-1 div.sk-parallel-item {display: flex;flex-direction: column;z-index: 1;position: relative;background-color: white;}#sk-container-id-1 div.sk-parallel-item:first-child::after {align-self: flex-end;width: 50%;}#sk-container-id-1 div.sk-parallel-item:last-child::after {align-self: flex-start;width: 50%;}#sk-container-id-1 div.sk-parallel-item:only-child::after {width: 0;}#sk-container-id-1 div.sk-dashed-wrapped {border: 1px dashed gray;margin: 0 0.4em 0.5em 0.4em;box-sizing: border-box;padding-bottom: 0.4em;background-color: white;}#sk-container-id-1 div.sk-label label {font-family: monospace;font-weight: bold;display: inline-block;line-height: 1.2em;}#sk-container-id-1 div.sk-label-container {text-align: center;}#sk-container-id-1 div.sk-container {/* jupyter's `normalize.less` sets `[hidden] { display: none; }` but bootstrap.min.css set `[hidden] { display: none !important; }` so we also need the `!important` here to be able to override the default hidden behavior on the sphinx rendered scikit-learn.org. See: https://github.com/scikit-learn/scikit-learn/issues/21755 */display: inline-block !important;position: relative;}#sk-container-id-1 div.sk-text-repr-fallback {display: none;}</style><div id=\"sk-container-id-1\" class=\"sk-top-container\"><div class=\"sk-text-repr-fallback\"><pre>GaussianNB()</pre><b>In a Jupyter environment, please rerun this cell to show the HTML representation or trust the notebook. <br />On GitHub, the HTML representation is unable to render, please try loading this page with nbviewer.org.</b></div><div class=\"sk-container\" hidden><div class=\"sk-item\"><div class=\"sk-estimator sk-toggleable\"><input class=\"sk-toggleable__control sk-hidden--visually\" id=\"sk-estimator-id-1\" type=\"checkbox\" checked><label for=\"sk-estimator-id-1\" class=\"sk-toggleable__label sk-toggleable__label-arrow\">GaussianNB</label><div class=\"sk-toggleable__content\"><pre>GaussianNB()</pre></div></div></div></div></div>"
      ],
      "text/plain": [
       "GaussianNB()"
      ]
     },
     "execution_count": 4,
     "metadata": {},
     "output_type": "execute_result"
    }
   ],
   "source": [
    "nb_model = GaussianNB()\n",
    "nb_model.fit(X_train_scaled, y_train_labels)"
   ]
  },
  {
   "cell_type": "markdown",
   "id": "45639dde",
   "metadata": {},
   "source": [
    "# `Save model and scaler`"
   ]
  },
  {
   "cell_type": "code",
   "execution_count": null,
   "id": "3615086e",
   "metadata": {
    "execution": {
     "iopub.execute_input": "2025-02-16T20:47:38.914655Z",
     "iopub.status.busy": "2025-02-16T20:47:38.914292Z",
     "iopub.status.idle": "2025-02-16T20:47:39.013901Z",
     "shell.execute_reply": "2025-02-16T20:47:39.012747Z"
    },
    "papermill": {
     "duration": 0.105116,
     "end_time": "2025-02-16T20:47:39.015741",
     "exception": false,
     "start_time": "2025-02-16T20:47:38.910625",
     "status": "completed"
    },
    "tags": []
   },
   "outputs": [
    {
     "data": {
      "text/plain": [
       "['/kaggle/working/scaler.pkl']"
      ]
     },
     "execution_count": 5,
     "metadata": {},
     "output_type": "execute_result"
    }
   ],
   "source": [
    "joblib.dump(nb_model, \"/kaggle/working/naive_bayes.pkl\")\n",
    "joblib.dump(scaler, \"/kaggle/working/scaler.pkl\")"
   ]
  },
  {
   "cell_type": "markdown",
   "id": "b4537345",
   "metadata": {},
   "source": [
    "# `Testing performance`"
   ]
  },
  {
   "cell_type": "code",
   "execution_count": 6,
   "id": "c20d1fad",
   "metadata": {
    "execution": {
     "iopub.execute_input": "2025-02-16T20:47:39.022874Z",
     "iopub.status.busy": "2025-02-16T20:47:39.022507Z",
     "iopub.status.idle": "2025-02-16T21:07:56.634765Z",
     "shell.execute_reply": "2025-02-16T21:07:56.631367Z"
    },
    "papermill": {
     "duration": 1217.621311,
     "end_time": "2025-02-16T21:07:56.640109",
     "exception": false,
     "start_time": "2025-02-16T20:47:39.018798",
     "status": "completed"
    },
    "tags": []
   },
   "outputs": [],
   "source": [
    "# Predictions for each dataset\n",
    "y_train_pred = nb_model.predict(X_train_scaled)\n",
    "y_val_pred = nb_model.predict(X_val_scaled)\n",
    "y_test_pred = nb_model.predict(X_test_scaled)"
   ]
  },
  {
   "cell_type": "code",
   "execution_count": 7,
   "id": "90631f44",
   "metadata": {
    "execution": {
     "iopub.execute_input": "2025-02-16T21:07:56.654398Z",
     "iopub.status.busy": "2025-02-16T21:07:56.653720Z",
     "iopub.status.idle": "2025-02-16T21:07:56.668348Z",
     "shell.execute_reply": "2025-02-16T21:07:56.667122Z"
    },
    "papermill": {
     "duration": 0.023051,
     "end_time": "2025-02-16T21:07:56.670907",
     "exception": false,
     "start_time": "2025-02-16T21:07:56.647856",
     "status": "completed"
    },
    "tags": []
   },
   "outputs": [],
   "source": [
    "# Compute accuracy for train, validation, and test sets\n",
    "train_accuracy = accuracy_score(y_train_labels, y_train_pred)\n",
    "val_accuracy = accuracy_score(y_val_labels, y_val_pred)\n",
    "test_accuracy = accuracy_score(y_test_labels, y_test_pred)"
   ]
  },
  {
   "cell_type": "code",
   "execution_count": 8,
   "id": "378e2159",
   "metadata": {
    "execution": {
     "iopub.execute_input": "2025-02-16T21:07:56.678707Z",
     "iopub.status.busy": "2025-02-16T21:07:56.678319Z",
     "iopub.status.idle": "2025-02-16T21:07:56.685824Z",
     "shell.execute_reply": "2025-02-16T21:07:56.684575Z"
    },
    "papermill": {
     "duration": 0.01385,
     "end_time": "2025-02-16T21:07:56.687887",
     "exception": false,
     "start_time": "2025-02-16T21:07:56.674037",
     "status": "completed"
    },
    "tags": []
   },
   "outputs": [
    {
     "name": "stdout",
     "output_type": "stream",
     "text": [
      "Training Accuracy: 3.13%\n",
      "Validation Accuracy: 2.50%\n",
      "Test Accuracy: 2.33%\n"
     ]
    }
   ],
   "source": [
    "# Print accuracies\n",
    "print(f\"Training Accuracy: {train_accuracy * 100:.2f}%\")\n",
    "print(f\"Validation Accuracy: {val_accuracy * 100:.2f}%\")\n",
    "print(f\"Test Accuracy: {test_accuracy * 100:.2f}%\")"
   ]
  }
 ],
 "metadata": {
  "kaggle": {
   "accelerator": "none",
   "dataSources": [
    {
     "datasetId": 6629633,
     "sourceId": 10765505,
     "sourceType": "datasetVersion"
    }
   ],
   "isGpuEnabled": false,
   "isInternetEnabled": true,
   "language": "python",
   "sourceType": "notebook"
  },
  "kernelspec": {
   "display_name": "Python 3",
   "language": "python",
   "name": "python3"
  },
  "language_info": {
   "codemirror_mode": {
    "name": "ipython",
    "version": 3
   },
   "file_extension": ".py",
   "mimetype": "text/x-python",
   "name": "python",
   "nbconvert_exporter": "python",
   "pygments_lexer": "ipython3",
   "version": "3.10.12"
  },
  "papermill": {
   "default_parameters": {},
   "duration": 1250.793346,
   "end_time": "2025-02-16T21:07:57.818362",
   "environment_variables": {},
   "exception": null,
   "input_path": "__notebook__.ipynb",
   "output_path": "__notebook__.ipynb",
   "parameters": {},
   "start_time": "2025-02-16T20:47:07.025016",
   "version": "2.6.0"
  }
 },
 "nbformat": 4,
 "nbformat_minor": 5
}
