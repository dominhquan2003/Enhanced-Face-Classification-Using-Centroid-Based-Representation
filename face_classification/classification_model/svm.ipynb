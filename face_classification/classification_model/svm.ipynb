{
 "cells": [
  {
   "cell_type": "code",
   "execution_count": 1,
   "id": "2897c6f6",
   "metadata": {
    "execution": {
     "iopub.execute_input": "2025-02-16T20:53:06.102152Z",
     "iopub.status.busy": "2025-02-16T20:53:06.101730Z",
     "iopub.status.idle": "2025-02-16T20:53:10.722556Z",
     "shell.execute_reply": "2025-02-16T20:53:10.721619Z"
    },
    "papermill": {
     "duration": 4.627462,
     "end_time": "2025-02-16T20:53:10.724395",
     "exception": false,
     "start_time": "2025-02-16T20:53:06.096933",
     "status": "completed"
    },
    "tags": []
   },
   "outputs": [],
   "source": [
    "import numpy as np\n",
    "import joblib\n",
    "import matplotlib.pyplot as plt\n",
    "import seaborn as sns\n",
    "from sklearn.svm import SVC\n",
    "from sklearn.decomposition import PCA\n",
    "from sklearn.preprocessing import StandardScaler\n",
    "from sklearn.metrics import accuracy_score, classification_report, confusion_matrix"
   ]
  },
  {
   "cell_type": "markdown",
   "id": "ceba1245",
   "metadata": {},
   "source": [
    "# `Load datasets`"
   ]
  },
  {
   "cell_type": "code",
   "execution_count": null,
   "id": "e028066b",
   "metadata": {},
   "outputs": [],
   "source": [
    "X_train = np.load('/kaggle/input/pit-classification/distance_vectors_train.npy')\n",
    "X_test = np.load('/kaggle/input/pit-classification/distance_vectors_test.npy')\n",
    "X_val = np.load('/kaggle/input/pit-classification/distance_vectors_val.npy')\n",
    "y_train = np.load('/kaggle/input/pit-classification/train_labels.npy')\n",
    "y_test = np.load('/kaggle/input/pit-classification/test_labels.npy')\n",
    "y_val = np.load('/kaggle/input/pit-classification/val_labels.npy')"
   ]
  },
  {
   "cell_type": "markdown",
   "id": "5667a1a9",
   "metadata": {},
   "source": [
    "# `Convert one-hot encoded labels to class indices`"
   ]
  },
  {
   "cell_type": "code",
   "execution_count": null,
   "id": "5de55694",
   "metadata": {
    "execution": {
     "iopub.execute_input": "2025-02-16T20:53:10.731094Z",
     "iopub.status.busy": "2025-02-16T20:53:10.730602Z",
     "iopub.status.idle": "2025-02-16T20:53:24.979365Z",
     "shell.execute_reply": "2025-02-16T20:53:24.978109Z"
    },
    "papermill": {
     "duration": 14.254182,
     "end_time": "2025-02-16T20:53:24.981545",
     "exception": false,
     "start_time": "2025-02-16T20:53:10.727363",
     "status": "completed"
    },
    "tags": []
   },
   "outputs": [],
   "source": [
    "y_train_labels = np.argmax(y_train, axis=1)\n",
    "y_test_labels = np.argmax(y_test, axis=1)\n",
    "y_val_labels = np.argmax(y_val, axis=1)"
   ]
  },
  {
   "cell_type": "markdown",
   "id": "cc6c3239",
   "metadata": {},
   "source": [
    "# `Standardize features`"
   ]
  },
  {
   "cell_type": "code",
   "execution_count": null,
   "id": "aa7f55dd",
   "metadata": {
    "execution": {
     "iopub.execute_input": "2025-02-16T20:53:24.987976Z",
     "iopub.status.busy": "2025-02-16T20:53:24.987565Z",
     "iopub.status.idle": "2025-02-16T20:53:30.396656Z",
     "shell.execute_reply": "2025-02-16T20:53:30.395309Z"
    },
    "papermill": {
     "duration": 5.415739,
     "end_time": "2025-02-16T20:53:30.400015",
     "exception": false,
     "start_time": "2025-02-16T20:53:24.984276",
     "status": "completed"
    },
    "tags": []
   },
   "outputs": [],
   "source": [
    "scaler = StandardScaler()\n",
    "X_train_scaled = scaler.fit_transform(X_train)\n",
    "X_test_scaled = scaler.transform(X_test)\n",
    "X_val_scaled = scaler.transform(X_val)"
   ]
  },
  {
   "cell_type": "markdown",
   "id": "55b61ffb",
   "metadata": {},
   "source": [
    "# `Apply PCA for dimensionality reduction`"
   ]
  },
  {
   "cell_type": "code",
   "execution_count": null,
   "id": "20ac383f",
   "metadata": {
    "execution": {
     "iopub.execute_input": "2025-02-16T20:53:30.413019Z",
     "iopub.status.busy": "2025-02-16T20:53:30.412498Z",
     "iopub.status.idle": "2025-02-16T20:54:50.877627Z",
     "shell.execute_reply": "2025-02-16T20:54:50.875414Z"
    },
    "papermill": {
     "duration": 80.473738,
     "end_time": "2025-02-16T20:54:50.880028",
     "exception": false,
     "start_time": "2025-02-16T20:53:30.406290",
     "status": "completed"
    },
    "tags": []
   },
   "outputs": [],
   "source": [
    "pca = PCA(n_components=500)\n",
    "X_train_pca = pca.fit_transform(X_train_scaled)\n",
    "X_test_pca = pca.transform(X_test_scaled)\n",
    "X_val_pca = pca.transform(X_val_scaled)"
   ]
  },
  {
   "cell_type": "markdown",
   "id": "e62d9168",
   "metadata": {},
   "source": [
    "# `SVM`"
   ]
  },
  {
   "cell_type": "code",
   "execution_count": null,
   "id": "ac2542d1",
   "metadata": {
    "execution": {
     "iopub.execute_input": "2025-02-16T20:54:50.888127Z",
     "iopub.status.busy": "2025-02-16T20:54:50.887763Z",
     "iopub.status.idle": "2025-02-16T20:59:05.326425Z",
     "shell.execute_reply": "2025-02-16T20:59:05.324957Z"
    },
    "papermill": {
     "duration": 254.452342,
     "end_time": "2025-02-16T20:59:05.335903",
     "exception": false,
     "start_time": "2025-02-16T20:54:50.883561",
     "status": "completed"
    },
    "tags": []
   },
   "outputs": [
    {
     "data": {
      "text/html": [
       "<style>#sk-container-id-1 {color: black;background-color: white;}#sk-container-id-1 pre{padding: 0;}#sk-container-id-1 div.sk-toggleable {background-color: white;}#sk-container-id-1 label.sk-toggleable__label {cursor: pointer;display: block;width: 100%;margin-bottom: 0;padding: 0.3em;box-sizing: border-box;text-align: center;}#sk-container-id-1 label.sk-toggleable__label-arrow:before {content: \"▸\";float: left;margin-right: 0.25em;color: #696969;}#sk-container-id-1 label.sk-toggleable__label-arrow:hover:before {color: black;}#sk-container-id-1 div.sk-estimator:hover label.sk-toggleable__label-arrow:before {color: black;}#sk-container-id-1 div.sk-toggleable__content {max-height: 0;max-width: 0;overflow: hidden;text-align: left;background-color: #f0f8ff;}#sk-container-id-1 div.sk-toggleable__content pre {margin: 0.2em;color: black;border-radius: 0.25em;background-color: #f0f8ff;}#sk-container-id-1 input.sk-toggleable__control:checked~div.sk-toggleable__content {max-height: 200px;max-width: 100%;overflow: auto;}#sk-container-id-1 input.sk-toggleable__control:checked~label.sk-toggleable__label-arrow:before {content: \"▾\";}#sk-container-id-1 div.sk-estimator input.sk-toggleable__control:checked~label.sk-toggleable__label {background-color: #d4ebff;}#sk-container-id-1 div.sk-label input.sk-toggleable__control:checked~label.sk-toggleable__label {background-color: #d4ebff;}#sk-container-id-1 input.sk-hidden--visually {border: 0;clip: rect(1px 1px 1px 1px);clip: rect(1px, 1px, 1px, 1px);height: 1px;margin: -1px;overflow: hidden;padding: 0;position: absolute;width: 1px;}#sk-container-id-1 div.sk-estimator {font-family: monospace;background-color: #f0f8ff;border: 1px dotted black;border-radius: 0.25em;box-sizing: border-box;margin-bottom: 0.5em;}#sk-container-id-1 div.sk-estimator:hover {background-color: #d4ebff;}#sk-container-id-1 div.sk-parallel-item::after {content: \"\";width: 100%;border-bottom: 1px solid gray;flex-grow: 1;}#sk-container-id-1 div.sk-label:hover label.sk-toggleable__label {background-color: #d4ebff;}#sk-container-id-1 div.sk-serial::before {content: \"\";position: absolute;border-left: 1px solid gray;box-sizing: border-box;top: 0;bottom: 0;left: 50%;z-index: 0;}#sk-container-id-1 div.sk-serial {display: flex;flex-direction: column;align-items: center;background-color: white;padding-right: 0.2em;padding-left: 0.2em;position: relative;}#sk-container-id-1 div.sk-item {position: relative;z-index: 1;}#sk-container-id-1 div.sk-parallel {display: flex;align-items: stretch;justify-content: center;background-color: white;position: relative;}#sk-container-id-1 div.sk-item::before, #sk-container-id-1 div.sk-parallel-item::before {content: \"\";position: absolute;border-left: 1px solid gray;box-sizing: border-box;top: 0;bottom: 0;left: 50%;z-index: -1;}#sk-container-id-1 div.sk-parallel-item {display: flex;flex-direction: column;z-index: 1;position: relative;background-color: white;}#sk-container-id-1 div.sk-parallel-item:first-child::after {align-self: flex-end;width: 50%;}#sk-container-id-1 div.sk-parallel-item:last-child::after {align-self: flex-start;width: 50%;}#sk-container-id-1 div.sk-parallel-item:only-child::after {width: 0;}#sk-container-id-1 div.sk-dashed-wrapped {border: 1px dashed gray;margin: 0 0.4em 0.5em 0.4em;box-sizing: border-box;padding-bottom: 0.4em;background-color: white;}#sk-container-id-1 div.sk-label label {font-family: monospace;font-weight: bold;display: inline-block;line-height: 1.2em;}#sk-container-id-1 div.sk-label-container {text-align: center;}#sk-container-id-1 div.sk-container {/* jupyter's `normalize.less` sets `[hidden] { display: none; }` but bootstrap.min.css set `[hidden] { display: none !important; }` so we also need the `!important` here to be able to override the default hidden behavior on the sphinx rendered scikit-learn.org. See: https://github.com/scikit-learn/scikit-learn/issues/21755 */display: inline-block !important;position: relative;}#sk-container-id-1 div.sk-text-repr-fallback {display: none;}</style><div id=\"sk-container-id-1\" class=\"sk-top-container\"><div class=\"sk-text-repr-fallback\"><pre>SVC(random_state=42)</pre><b>In a Jupyter environment, please rerun this cell to show the HTML representation or trust the notebook. <br />On GitHub, the HTML representation is unable to render, please try loading this page with nbviewer.org.</b></div><div class=\"sk-container\" hidden><div class=\"sk-item\"><div class=\"sk-estimator sk-toggleable\"><input class=\"sk-toggleable__control sk-hidden--visually\" id=\"sk-estimator-id-1\" type=\"checkbox\" checked><label for=\"sk-estimator-id-1\" class=\"sk-toggleable__label sk-toggleable__label-arrow\">SVC</label><div class=\"sk-toggleable__content\"><pre>SVC(random_state=42)</pre></div></div></div></div></div>"
      ],
      "text/plain": [
       "SVC(random_state=42)"
      ]
     },
     "execution_count": 5,
     "metadata": {},
     "output_type": "execute_result"
    }
   ],
   "source": [
    "svm_model = SVC(kernel='rbf', C=1.0, gamma='scale', random_state=42)\n",
    "svm_model.fit(X_train_pca, y_train_labels)"
   ]
  },
  {
   "cell_type": "markdown",
   "id": "7b4be4fd",
   "metadata": {},
   "source": [
    "# `Save model, scaler, and PCA`"
   ]
  },
  {
   "cell_type": "code",
   "execution_count": null,
   "id": "c1a03ba4",
   "metadata": {
    "execution": {
     "iopub.execute_input": "2025-02-16T20:59:05.343835Z",
     "iopub.status.busy": "2025-02-16T20:59:05.343408Z",
     "iopub.status.idle": "2025-02-16T20:59:06.168380Z",
     "shell.execute_reply": "2025-02-16T20:59:06.167322Z"
    },
    "papermill": {
     "duration": 0.83101,
     "end_time": "2025-02-16T20:59:06.170141",
     "exception": false,
     "start_time": "2025-02-16T20:59:05.339131",
     "status": "completed"
    },
    "tags": []
   },
   "outputs": [
    {
     "data": {
      "text/plain": [
       "['/kaggle/working/pca.pkl']"
      ]
     },
     "execution_count": 6,
     "metadata": {},
     "output_type": "execute_result"
    }
   ],
   "source": [
    "joblib.dump(svm_model, \"/kaggle/working/svm_model.pkl\")\n",
    "joblib.dump(scaler, \"/kaggle/working/scaler.pkl\")\n",
    "joblib.dump(pca, \"/kaggle/working/pca.pkl\")"
   ]
  },
  {
   "cell_type": "markdown",
   "id": "0beea30a",
   "metadata": {},
   "source": [
    "# `Testing performance`"
   ]
  },
  {
   "cell_type": "code",
   "execution_count": 7,
   "id": "7ad40a0a",
   "metadata": {
    "execution": {
     "iopub.execute_input": "2025-02-16T20:59:06.177883Z",
     "iopub.status.busy": "2025-02-16T20:59:06.177551Z",
     "iopub.status.idle": "2025-02-16T21:32:07.084551Z",
     "shell.execute_reply": "2025-02-16T21:32:07.083007Z"
    },
    "papermill": {
     "duration": 1980.913894,
     "end_time": "2025-02-16T21:32:07.087188",
     "exception": false,
     "start_time": "2025-02-16T20:59:06.173294",
     "status": "completed"
    },
    "tags": []
   },
   "outputs": [],
   "source": [
    "# Predictions for each dataset\n",
    "y_train_pred = svm_model.predict(X_train_pca)\n",
    "y_val_pred = svm_model.predict(X_val_pca)\n",
    "y_test_pred = svm_model.predict(X_test_pca)"
   ]
  },
  {
   "cell_type": "code",
   "execution_count": 8,
   "id": "3375ab80",
   "metadata": {
    "execution": {
     "iopub.execute_input": "2025-02-16T21:32:07.095769Z",
     "iopub.status.busy": "2025-02-16T21:32:07.095384Z",
     "iopub.status.idle": "2025-02-16T21:32:07.106299Z",
     "shell.execute_reply": "2025-02-16T21:32:07.105221Z"
    },
    "papermill": {
     "duration": 0.017142,
     "end_time": "2025-02-16T21:32:07.108294",
     "exception": false,
     "start_time": "2025-02-16T21:32:07.091152",
     "status": "completed"
    },
    "tags": []
   },
   "outputs": [],
   "source": [
    "# Compute accuracy for train, validation, and test sets\n",
    "train_accuracy = accuracy_score(y_train_labels, y_train_pred)\n",
    "val_accuracy = accuracy_score(y_val_labels, y_val_pred)\n",
    "test_accuracy = accuracy_score(y_test_labels, y_test_pred)"
   ]
  },
  {
   "cell_type": "code",
   "execution_count": 9,
   "id": "513829e2",
   "metadata": {
    "execution": {
     "iopub.execute_input": "2025-02-16T21:32:07.115881Z",
     "iopub.status.busy": "2025-02-16T21:32:07.115536Z",
     "iopub.status.idle": "2025-02-16T21:32:07.122244Z",
     "shell.execute_reply": "2025-02-16T21:32:07.121250Z"
    },
    "papermill": {
     "duration": 0.012459,
     "end_time": "2025-02-16T21:32:07.124050",
     "exception": false,
     "start_time": "2025-02-16T21:32:07.111591",
     "status": "completed"
    },
    "tags": []
   },
   "outputs": [
    {
     "name": "stdout",
     "output_type": "stream",
     "text": [
      "Training Accuracy: 21.27%\n",
      "Validation Accuracy: 11.70%\n",
      "Test Accuracy: 11.69%\n"
     ]
    }
   ],
   "source": [
    "# Print accuracies\n",
    "print(f\"Training Accuracy: {train_accuracy * 100:.2f}%\")\n",
    "print(f\"Validation Accuracy: {val_accuracy * 100:.2f}%\")\n",
    "print(f\"Test Accuracy: {test_accuracy * 100:.2f}%\")"
   ]
  }
 ],
 "metadata": {
  "kaggle": {
   "accelerator": "none",
   "dataSources": [
    {
     "datasetId": 6629633,
     "sourceId": 10765505,
     "sourceType": "datasetVersion"
    }
   ],
   "dockerImageVersionId": 30886,
   "isGpuEnabled": false,
   "isInternetEnabled": true,
   "language": "python",
   "sourceType": "notebook"
  },
  "kernelspec": {
   "display_name": "Python 3",
   "language": "python",
   "name": "python3"
  },
  "language_info": {
   "codemirror_mode": {
    "name": "ipython",
    "version": 3
   },
   "file_extension": ".py",
   "mimetype": "text/x-python",
   "name": "python",
   "nbconvert_exporter": "python",
   "pygments_lexer": "ipython3",
   "version": "3.10.12"
  },
  "papermill": {
   "default_parameters": {},
   "duration": 2345.671399,
   "end_time": "2025-02-16T21:32:08.555511",
   "environment_variables": {},
   "exception": null,
   "input_path": "__notebook__.ipynb",
   "output_path": "__notebook__.ipynb",
   "parameters": {},
   "start_time": "2025-02-16T20:53:02.884112",
   "version": "2.6.0"
  }
 },
 "nbformat": 4,
 "nbformat_minor": 5
}
