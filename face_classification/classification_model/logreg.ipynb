{
 "cells": [
  {
   "cell_type": "code",
   "execution_count": null,
   "id": "90ec8ba1",
   "metadata": {
    "_cell_guid": "b1076dfc-b9ad-4769-8c92-a6c4dae69d19",
    "_uuid": "8f2839f25d086af736a60e9eeb907d3b93b6e0e5",
    "execution": {
     "iopub.execute_input": "2025-02-16T21:53:07.676298Z",
     "iopub.status.busy": "2025-02-16T21:53:07.675830Z",
     "iopub.status.idle": "2025-02-16T21:53:11.023577Z",
     "shell.execute_reply": "2025-02-16T21:53:11.022206Z"
    },
    "papermill": {
     "duration": 3.354254,
     "end_time": "2025-02-16T21:53:11.025706",
     "exception": false,
     "start_time": "2025-02-16T21:53:07.671452",
     "status": "completed"
    },
    "tags": []
   },
   "outputs": [],
   "source": [
    "import numpy as np\n",
    "import joblib\n",
    "from sklearn.linear_model import LogisticRegression\n",
    "from sklearn.preprocessing import StandardScaler\n",
    "from sklearn.metrics import accuracy_score\n",
    "from sklearn.decomposition import PCA\n"
   ]
  },
  {
   "cell_type": "markdown",
   "id": "01e9de89",
   "metadata": {},
   "source": [
    "# `Load datasets`"
   ]
  },
  {
   "cell_type": "code",
   "execution_count": null,
   "id": "bac91e82",
   "metadata": {},
   "outputs": [],
   "source": [
    "X_train = np.load('/kaggle/input/pit-classification/distance_vectors_train.npy')\n",
    "X_test = np.load('/kaggle/input/pit-classification/distance_vectors_test.npy')\n",
    "X_val = np.load('/kaggle/input/pit-classification/distance_vectors_val.npy')\n",
    "y_train = np.load('/kaggle/input/pit-classification/train_labels.npy')\n",
    "y_test = np.load('/kaggle/input/pit-classification/test_labels.npy')\n",
    "y_val = np.load('/kaggle/input/pit-classification/val_labels.npy')"
   ]
  },
  {
   "cell_type": "markdown",
   "id": "9ea89496",
   "metadata": {},
   "source": [
    "# `Convert one-hot encoded labels to class indices`"
   ]
  },
  {
   "cell_type": "code",
   "execution_count": null,
   "id": "4563d7de",
   "metadata": {
    "execution": {
     "iopub.execute_input": "2025-02-16T21:53:11.032827Z",
     "iopub.status.busy": "2025-02-16T21:53:11.032165Z",
     "iopub.status.idle": "2025-02-16T21:53:26.421349Z",
     "shell.execute_reply": "2025-02-16T21:53:26.419709Z"
    },
    "papermill": {
     "duration": 15.394859,
     "end_time": "2025-02-16T21:53:26.423581",
     "exception": false,
     "start_time": "2025-02-16T21:53:11.028722",
     "status": "completed"
    },
    "tags": []
   },
   "outputs": [],
   "source": [
    "y_train_labels = np.argmax(y_train, axis=1)\n",
    "y_test_labels = np.argmax(y_test, axis=1)\n",
    "y_val_labels = np.argmax(y_val, axis=1)"
   ]
  },
  {
   "cell_type": "markdown",
   "id": "96daef10",
   "metadata": {},
   "source": [
    "# `Standardize features`"
   ]
  },
  {
   "cell_type": "code",
   "execution_count": null,
   "id": "0811c190",
   "metadata": {
    "execution": {
     "iopub.execute_input": "2025-02-16T21:53:26.430855Z",
     "iopub.status.busy": "2025-02-16T21:53:26.430477Z",
     "iopub.status.idle": "2025-02-16T21:53:32.420958Z",
     "shell.execute_reply": "2025-02-16T21:53:32.419879Z"
    },
    "papermill": {
     "duration": 5.996377,
     "end_time": "2025-02-16T21:53:32.423203",
     "exception": false,
     "start_time": "2025-02-16T21:53:26.426826",
     "status": "completed"
    },
    "tags": []
   },
   "outputs": [],
   "source": [
    "scaler = StandardScaler()\n",
    "X_train_scaled = scaler.fit_transform(X_train)\n",
    "X_test_scaled = scaler.transform(X_test)\n",
    "X_val_scaled = scaler.transform(X_val)"
   ]
  },
  {
   "cell_type": "markdown",
   "id": "3ca1f4ab",
   "metadata": {},
   "source": [
    "# `Apply PCA for dimensionality reduction`"
   ]
  },
  {
   "cell_type": "code",
   "execution_count": null,
   "id": "c62d0e94",
   "metadata": {
    "execution": {
     "iopub.execute_input": "2025-02-16T21:53:32.430965Z",
     "iopub.status.busy": "2025-02-16T21:53:32.430592Z",
     "iopub.status.idle": "2025-02-16T21:57:29.950779Z",
     "shell.execute_reply": "2025-02-16T21:57:29.948858Z"
    },
    "papermill": {
     "duration": 237.52928,
     "end_time": "2025-02-16T21:57:29.955699",
     "exception": false,
     "start_time": "2025-02-16T21:53:32.426419",
     "status": "completed"
    },
    "tags": []
   },
   "outputs": [],
   "source": [
    "pca = PCA(n_components=2000)\n",
    "X_train_pca = pca.fit_transform(X_train_scaled)\n",
    "X_test_pca = pca.transform(X_test_scaled)\n",
    "X_val_pca = pca.transform(X_val_scaled)"
   ]
  },
  {
   "cell_type": "markdown",
   "id": "8a32867a",
   "metadata": {},
   "source": [
    "# `Logistic Regression`"
   ]
  },
  {
   "cell_type": "code",
   "execution_count": 5,
   "id": "8744b268",
   "metadata": {
    "execution": {
     "iopub.execute_input": "2025-02-16T21:57:29.966820Z",
     "iopub.status.busy": "2025-02-16T21:57:29.966339Z",
     "iopub.status.idle": "2025-02-16T22:19:08.426934Z",
     "shell.execute_reply": "2025-02-16T22:19:08.425244Z"
    },
    "papermill": {
     "duration": 1298.47392,
     "end_time": "2025-02-16T22:19:08.435630",
     "exception": false,
     "start_time": "2025-02-16T21:57:29.961710",
     "status": "completed"
    },
    "tags": []
   },
   "outputs": [
    {
     "name": "stderr",
     "output_type": "stream",
     "text": [
      "/usr/local/lib/python3.10/dist-packages/sklearn/linear_model/_logistic.py:458: ConvergenceWarning: lbfgs failed to converge (status=1):\n",
      "STOP: TOTAL NO. of ITERATIONS REACHED LIMIT.\n",
      "\n",
      "Increase the number of iterations (max_iter) or scale the data as shown in:\n",
      "    https://scikit-learn.org/stable/modules/preprocessing.html\n",
      "Please also refer to the documentation for alternative solver options:\n",
      "    https://scikit-learn.org/stable/modules/linear_model.html#logistic-regression\n",
      "  n_iter_i = _check_optimize_result(\n"
     ]
    },
    {
     "data": {
      "text/html": [
       "<style>#sk-container-id-1 {color: black;background-color: white;}#sk-container-id-1 pre{padding: 0;}#sk-container-id-1 div.sk-toggleable {background-color: white;}#sk-container-id-1 label.sk-toggleable__label {cursor: pointer;display: block;width: 100%;margin-bottom: 0;padding: 0.3em;box-sizing: border-box;text-align: center;}#sk-container-id-1 label.sk-toggleable__label-arrow:before {content: \"▸\";float: left;margin-right: 0.25em;color: #696969;}#sk-container-id-1 label.sk-toggleable__label-arrow:hover:before {color: black;}#sk-container-id-1 div.sk-estimator:hover label.sk-toggleable__label-arrow:before {color: black;}#sk-container-id-1 div.sk-toggleable__content {max-height: 0;max-width: 0;overflow: hidden;text-align: left;background-color: #f0f8ff;}#sk-container-id-1 div.sk-toggleable__content pre {margin: 0.2em;color: black;border-radius: 0.25em;background-color: #f0f8ff;}#sk-container-id-1 input.sk-toggleable__control:checked~div.sk-toggleable__content {max-height: 200px;max-width: 100%;overflow: auto;}#sk-container-id-1 input.sk-toggleable__control:checked~label.sk-toggleable__label-arrow:before {content: \"▾\";}#sk-container-id-1 div.sk-estimator input.sk-toggleable__control:checked~label.sk-toggleable__label {background-color: #d4ebff;}#sk-container-id-1 div.sk-label input.sk-toggleable__control:checked~label.sk-toggleable__label {background-color: #d4ebff;}#sk-container-id-1 input.sk-hidden--visually {border: 0;clip: rect(1px 1px 1px 1px);clip: rect(1px, 1px, 1px, 1px);height: 1px;margin: -1px;overflow: hidden;padding: 0;position: absolute;width: 1px;}#sk-container-id-1 div.sk-estimator {font-family: monospace;background-color: #f0f8ff;border: 1px dotted black;border-radius: 0.25em;box-sizing: border-box;margin-bottom: 0.5em;}#sk-container-id-1 div.sk-estimator:hover {background-color: #d4ebff;}#sk-container-id-1 div.sk-parallel-item::after {content: \"\";width: 100%;border-bottom: 1px solid gray;flex-grow: 1;}#sk-container-id-1 div.sk-label:hover label.sk-toggleable__label {background-color: #d4ebff;}#sk-container-id-1 div.sk-serial::before {content: \"\";position: absolute;border-left: 1px solid gray;box-sizing: border-box;top: 0;bottom: 0;left: 50%;z-index: 0;}#sk-container-id-1 div.sk-serial {display: flex;flex-direction: column;align-items: center;background-color: white;padding-right: 0.2em;padding-left: 0.2em;position: relative;}#sk-container-id-1 div.sk-item {position: relative;z-index: 1;}#sk-container-id-1 div.sk-parallel {display: flex;align-items: stretch;justify-content: center;background-color: white;position: relative;}#sk-container-id-1 div.sk-item::before, #sk-container-id-1 div.sk-parallel-item::before {content: \"\";position: absolute;border-left: 1px solid gray;box-sizing: border-box;top: 0;bottom: 0;left: 50%;z-index: -1;}#sk-container-id-1 div.sk-parallel-item {display: flex;flex-direction: column;z-index: 1;position: relative;background-color: white;}#sk-container-id-1 div.sk-parallel-item:first-child::after {align-self: flex-end;width: 50%;}#sk-container-id-1 div.sk-parallel-item:last-child::after {align-self: flex-start;width: 50%;}#sk-container-id-1 div.sk-parallel-item:only-child::after {width: 0;}#sk-container-id-1 div.sk-dashed-wrapped {border: 1px dashed gray;margin: 0 0.4em 0.5em 0.4em;box-sizing: border-box;padding-bottom: 0.4em;background-color: white;}#sk-container-id-1 div.sk-label label {font-family: monospace;font-weight: bold;display: inline-block;line-height: 1.2em;}#sk-container-id-1 div.sk-label-container {text-align: center;}#sk-container-id-1 div.sk-container {/* jupyter's `normalize.less` sets `[hidden] { display: none; }` but bootstrap.min.css set `[hidden] { display: none !important; }` so we also need the `!important` here to be able to override the default hidden behavior on the sphinx rendered scikit-learn.org. See: https://github.com/scikit-learn/scikit-learn/issues/21755 */display: inline-block !important;position: relative;}#sk-container-id-1 div.sk-text-repr-fallback {display: none;}</style><div id=\"sk-container-id-1\" class=\"sk-top-container\"><div class=\"sk-text-repr-fallback\"><pre>LogisticRegression(max_iter=500, multi_class=&#x27;multinomial&#x27;, random_state=42)</pre><b>In a Jupyter environment, please rerun this cell to show the HTML representation or trust the notebook. <br />On GitHub, the HTML representation is unable to render, please try loading this page with nbviewer.org.</b></div><div class=\"sk-container\" hidden><div class=\"sk-item\"><div class=\"sk-estimator sk-toggleable\"><input class=\"sk-toggleable__control sk-hidden--visually\" id=\"sk-estimator-id-1\" type=\"checkbox\" checked><label for=\"sk-estimator-id-1\" class=\"sk-toggleable__label sk-toggleable__label-arrow\">LogisticRegression</label><div class=\"sk-toggleable__content\"><pre>LogisticRegression(max_iter=500, multi_class=&#x27;multinomial&#x27;, random_state=42)</pre></div></div></div></div></div>"
      ],
      "text/plain": [
       "LogisticRegression(max_iter=500, multi_class='multinomial', random_state=42)"
      ]
     },
     "execution_count": 5,
     "metadata": {},
     "output_type": "execute_result"
    }
   ],
   "source": [
    "logreg_model = LogisticRegression(multi_class='multinomial', max_iter=500, solver='lbfgs', random_state=42)\n",
    "logreg_model.fit(X_train_pca, y_train_labels)"
   ]
  },
  {
   "cell_type": "markdown",
   "id": "5551dabb",
   "metadata": {},
   "source": [
    "# `Save model, scaler, and PCA`"
   ]
  },
  {
   "cell_type": "code",
   "execution_count": null,
   "id": "c63ebc1c",
   "metadata": {
    "execution": {
     "iopub.execute_input": "2025-02-16T22:19:08.443713Z",
     "iopub.status.busy": "2025-02-16T22:19:08.443353Z",
     "iopub.status.idle": "2025-02-16T22:19:08.663971Z",
     "shell.execute_reply": "2025-02-16T22:19:08.662531Z"
    },
    "papermill": {
     "duration": 0.227187,
     "end_time": "2025-02-16T22:19:08.666160",
     "exception": false,
     "start_time": "2025-02-16T22:19:08.438973",
     "status": "completed"
    },
    "tags": []
   },
   "outputs": [
    {
     "data": {
      "text/plain": [
       "['/kaggle/working/pca.pkl']"
      ]
     },
     "execution_count": 6,
     "metadata": {},
     "output_type": "execute_result"
    }
   ],
   "source": [
    "joblib.dump(logreg_model, \"/kaggle/working/logreg.pkl\")\n",
    "joblib.dump(scaler, \"/kaggle/working/scaler.pkl\")\n",
    "joblib.dump(pca, \"/kaggle/working/pca.pkl\")"
   ]
  },
  {
   "cell_type": "markdown",
   "id": "b867ed1d",
   "metadata": {},
   "source": [
    "# `Testing performance`"
   ]
  },
  {
   "cell_type": "code",
   "execution_count": null,
   "id": "bcad43ec",
   "metadata": {
    "execution": {
     "iopub.execute_input": "2025-02-16T22:19:08.675051Z",
     "iopub.status.busy": "2025-02-16T22:19:08.674692Z",
     "iopub.status.idle": "2025-02-16T22:19:10.349402Z",
     "shell.execute_reply": "2025-02-16T22:19:10.347725Z"
    },
    "papermill": {
     "duration": 1.682025,
     "end_time": "2025-02-16T22:19:10.352088",
     "exception": false,
     "start_time": "2025-02-16T22:19:08.670063",
     "status": "completed"
    },
    "tags": []
   },
   "outputs": [],
   "source": [
    "# Predictions for each dataset\n",
    "y_train_pred = logreg_model.predict(X_train_pca)\n",
    "y_val_pred = logreg_model.predict(X_val_pca)\n",
    "y_test_pred = logreg_model.predict(X_test_pca)"
   ]
  },
  {
   "cell_type": "code",
   "execution_count": null,
   "id": "c0d5e1a3",
   "metadata": {
    "execution": {
     "iopub.execute_input": "2025-02-16T22:19:10.362603Z",
     "iopub.status.busy": "2025-02-16T22:19:10.362093Z",
     "iopub.status.idle": "2025-02-16T22:19:10.374212Z",
     "shell.execute_reply": "2025-02-16T22:19:10.372869Z"
    },
    "papermill": {
     "duration": 0.020243,
     "end_time": "2025-02-16T22:19:10.376812",
     "exception": false,
     "start_time": "2025-02-16T22:19:10.356569",
     "status": "completed"
    },
    "tags": []
   },
   "outputs": [],
   "source": [
    "# Compute accuracy for train, validation, and test sets\n",
    "train_accuracy = accuracy_score(y_train_labels, y_train_pred)\n",
    "val_accuracy = accuracy_score(y_val_labels, y_val_pred)\n",
    "test_accuracy = accuracy_score(y_test_labels, y_test_pred)"
   ]
  },
  {
   "cell_type": "code",
   "execution_count": null,
   "id": "11e1137e",
   "metadata": {
    "execution": {
     "iopub.execute_input": "2025-02-16T22:19:10.386560Z",
     "iopub.status.busy": "2025-02-16T22:19:10.386067Z",
     "iopub.status.idle": "2025-02-16T22:19:10.393760Z",
     "shell.execute_reply": "2025-02-16T22:19:10.392399Z"
    },
    "papermill": {
     "duration": 0.015241,
     "end_time": "2025-02-16T22:19:10.395946",
     "exception": false,
     "start_time": "2025-02-16T22:19:10.380705",
     "status": "completed"
    },
    "tags": []
   },
   "outputs": [
    {
     "name": "stdout",
     "output_type": "stream",
     "text": [
      "Training Accuracy: 74.80%\n",
      "Validation Accuracy: 33.13%\n",
      "Test Accuracy: 33.10%\n"
     ]
    }
   ],
   "source": [
    "# Print accuracies\n",
    "print(f\"Training Accuracy: {train_accuracy * 100:.2f}%\")\n",
    "print(f\"Validation Accuracy: {val_accuracy * 100:.2f}%\")\n",
    "print(f\"Test Accuracy: {test_accuracy * 100:.2f}%\")"
   ]
  }
 ],
 "metadata": {
  "kaggle": {
   "accelerator": "none",
   "dataSources": [
    {
     "datasetId": 6629633,
     "sourceId": 10765505,
     "sourceType": "datasetVersion"
    }
   ],
   "dockerImageVersionId": 30886,
   "isGpuEnabled": false,
   "isInternetEnabled": true,
   "language": "python",
   "sourceType": "notebook"
  },
  "kernelspec": {
   "display_name": "Python 3",
   "language": "python",
   "name": "python3"
  },
  "language_info": {
   "codemirror_mode": {
    "name": "ipython",
    "version": 3
   },
   "file_extension": ".py",
   "mimetype": "text/x-python",
   "name": "python",
   "nbconvert_exporter": "python",
   "pygments_lexer": "ipython3",
   "version": "3.10.12"
  },
  "papermill": {
   "default_parameters": {},
   "duration": 1566.866911,
   "end_time": "2025-02-16T22:19:11.529612",
   "environment_variables": {},
   "exception": null,
   "input_path": "__notebook__.ipynb",
   "output_path": "__notebook__.ipynb",
   "parameters": {},
   "start_time": "2025-02-16T21:53:04.662701",
   "version": "2.6.0"
  }
 },
 "nbformat": 4,
 "nbformat_minor": 5
}
