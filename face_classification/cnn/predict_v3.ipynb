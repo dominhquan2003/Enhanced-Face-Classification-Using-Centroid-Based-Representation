{
 "cells": [
  {
   "cell_type": "code",
   "execution_count": 12,
   "metadata": {},
   "outputs": [
    {
     "name": "stderr",
     "output_type": "stream",
     "text": [
      "WARNING:absl:Compiled the loaded model, but the compiled metrics have yet to be built. `model.compile_metrics` will be empty until you train or evaluate the model.\n"
     ]
    }
   ],
   "source": [
    "import numpy as np\n",
    "import tensorflow as tf\n",
    "import matplotlib.pyplot as plt\n",
    "import cv2\n",
    "import os\n",
    "import glob\n",
    "import json\n",
    "import joblib\n",
    "from tensorflow.keras.models import load_model\n",
    "from tensorflow.keras.preprocessing import image\n",
    "from tensorflow.keras.applications.resnet50 import preprocess_input\n",
    "\n",
    "IMG_SIZE = (224, 224)\n",
    "NUM_CENTROIDS_PER_PERSON = 16\n",
    "NUM_PEOPLE = 488\n",
    "\n",
    "def load_models_centroids(name_model: str = 'MobileNetV2', cluster: str = 'kmeans_k=16'):\n",
    "    if name_model == 'EfficientNetB0':\n",
    "        model = load_model('../models/EfficientNetb0.h5', compile=True)\n",
    "        feature_layer_name = 'top_conv'\n",
    "    elif name_model == 'MobileNetV2':\n",
    "        model = load_model('../models/MobileNetV2.h5', compile=True)\n",
    "        feature_layer_name = 'Conv_1'\n",
    "    elif name_model == 'ResNet50':\n",
    "        model = load_model('../models/ResNet50.h5', compile=True)\n",
    "        feature_layer_name = 'conv5_block3_out'\n",
    "    feature_extractor = tf.keras.Model(inputs=model.input, outputs=model.get_layer(feature_layer_name).output)\n",
    "    \n",
    "    pca_model = joblib.load(f'../models/{cluster}/pca_model.pkl')\n",
    "    all_centroids = np.load(f'../models/{cluster}/all_centroids.npy')\n",
    "    \n",
    "    with open(f\"../feature_maps/{name_model}/class_indices.json\", \"r\") as f:\n",
    "        index_to_class = {v: k for k, v in json.load(f).items()}\n",
    "    \n",
    "    return feature_extractor, feature_layer_name, pca_model, all_centroids, index_to_class\n",
    "\n",
    "feature_extractor, feature_layer_name, pca_model, all_centroids, index_to_class = load_models_centroids(name_model='MobileNetV2', \n",
    "                                                                                                        cluster='gmm_k=16')\n",
    "\n",
    "def detect_and_crop_face(image_path):\n",
    "    image = cv2.imread(image_path)\n",
    "    face_cascade = cv2.CascadeClassifier(cv2.data.haarcascades + \"haarcascade_frontalface_default.xml\")\n",
    "    gray = cv2.cvtColor(image, cv2.COLOR_BGR2GRAY)\n",
    "    faces = face_cascade.detectMultiScale(gray, scaleFactor=1.1, minNeighbors=5, minSize=(30, 30))\n",
    "    \n",
    "    if len(faces) == 0:\n",
    "        print(\"No faces detected, using original image.\")\n",
    "        return image_path  \n",
    "    \n",
    "    x, y, w, h = faces[0] \n",
    "    return image[y:y+h, x:x+w]\n",
    "\n",
    "def preprocess_image(img_path):\n",
    "    img = detect_and_crop_face(img_path)\n",
    "    img = cv2.resize(img, IMG_SIZE)\n",
    "    img_array = image.img_to_array(img)\n",
    "    return preprocess_input(np.expand_dims(img_array, axis=0)), img\n",
    "\n",
    "def extract_feature_map(img_path):\n",
    "    img_array, _ = preprocess_image(img_path)\n",
    "    feature_maps = feature_extractor.predict(img_array)\n",
    "    feature_vector = feature_maps.reshape(1, -1)\n",
    "    return pca_model.transform(feature_vector)\n",
    "\n",
    "def find_closest_people(img_path, num_people=3):\n",
    "    feature_vector_reduced = extract_feature_map(img_path)\n",
    "    distances = np.linalg.norm(all_centroids - feature_vector_reduced, axis=1)\n",
    "    closest_centroids = np.argsort(distances)[:num_people * NUM_CENTROIDS_PER_PERSON]\n",
    "    closest_people = set(closest_centroids // NUM_CENTROIDS_PER_PERSON)\n",
    "    return [index_to_class.get(person, \"Unknown\") for person in list(closest_people)[:num_people]]\n",
    "\n",
    "def get_image_from_train(actor_name, train_dir=\"../data/train\"):\n",
    "    img_paths = glob.glob(os.path.join(train_dir, actor_name, \"*.jpeg\"))\n",
    "    return img_paths[0] if img_paths else None\n",
    "\n"
   ]
  },
  {
   "cell_type": "markdown",
   "metadata": {},
   "source": [
    "# Classification"
   ]
  },
  {
   "cell_type": "code",
   "execution_count": 13,
   "metadata": {},
   "outputs": [],
   "source": [
    "def load_classification_model():\n",
    "    logreg_model = joblib.load('../models/logreg/logreg.pkl')\n",
    "    logreg_pca = joblib.load('../models/logreg/logreg_pca.pkl')\n",
    "    logreg_scaler = joblib.load('../models/logreg/logreg_scaler.pkl')\n",
    "    \n",
    "    knn_model = joblib.load('../models/knn/knn.pkl')\n",
    "    knn_pca = joblib.load(\"../models/knn/knn_pca.pkl\")\n",
    "    knn_scaler = joblib.load(\"../models/knn/knn_scaler.pkl\")\n",
    "    \n",
    "    mlp_model = load_model(\"../models/mlp/mlp.h5\")\n",
    "    mlp_scaler = joblib.load(\"../models/mlp/mlp_scaler.pkl\")\n",
    "    \n",
    "    return logreg_model, logreg_pca, logreg_scaler, knn_model, knn_pca, knn_scaler, mlp_model, mlp_scaler\n",
    "\n",
    "def compute_distance_vector(img_path):\n",
    "    feature_vector_reduced = extract_feature_map(img_path)\n",
    "    return np.linalg.norm(all_centroids - feature_vector_reduced, axis=1).reshape(1, -1)\n",
    "\n",
    "def predict_label(img_path):\n",
    "    distance_vector = compute_distance_vector(img_path)\n",
    "    logreg_model, logreg_pca, logreg_scaler, knn_model, knn_pca, knn_scaler, mlp_model, mlp_scaler = load_classification_model()\n",
    "    \n",
    "    knn_pred = knn_model.predict(knn_pca.transform(knn_scaler.transform(distance_vector)))[0]\n",
    "    mlp_pred = np.argmax(mlp_model.predict(mlp_scaler.transform(distance_vector)), axis=1)[0]\n",
    "    logreg_pred = logreg_model.predict(logreg_pca.transform(logreg_scaler.transform(distance_vector)))[0]\n",
    "    \n",
    "    predictions = {\"LogisticRegression\": logreg_pred, \"KNN\": knn_pred, \"MLP\": mlp_pred}\n",
    "    \n",
    "    predicted_images = {method: get_image_from_train(index_to_class.get(pred, \"Unknown\")) for method, pred in predictions.items()}\n",
    "    \n",
    "    return predicted_images"
   ]
  },
  {
   "cell_type": "code",
   "execution_count": 14,
   "metadata": {},
   "outputs": [
    {
     "name": "stdout",
     "output_type": "stream",
     "text": [
      "\u001b[1m1/1\u001b[0m \u001b[32m━━━━━━━━━━━━━━━━━━━━\u001b[0m\u001b[37m\u001b[0m \u001b[1m1s\u001b[0m 844ms/step\n"
     ]
    },
    {
     "data": {
      "text/plain": [
       "[\"Olivia_d'Abo\", 'Dina_Meyer', 'Dominic_Monaghan']"
      ]
     },
     "execution_count": 14,
     "metadata": {},
     "output_type": "execute_result"
    }
   ],
   "source": [
    "find_closest_people(\"../temp/tranthanh.jpg\")"
   ]
  },
  {
   "cell_type": "code",
   "execution_count": 15,
   "metadata": {},
   "outputs": [
    {
     "name": "stdout",
     "output_type": "stream",
     "text": [
      "\u001b[1m1/1\u001b[0m \u001b[32m━━━━━━━━━━━━━━━━━━━━\u001b[0m\u001b[37m\u001b[0m \u001b[1m0s\u001b[0m 49ms/step\n"
     ]
    },
    {
     "name": "stderr",
     "output_type": "stream",
     "text": [
      "WARNING:absl:Compiled the loaded model, but the compiled metrics have yet to be built. `model.compile_metrics` will be empty until you train or evaluate the model.\n"
     ]
    },
    {
     "name": "stdout",
     "output_type": "stream",
     "text": [
      "\u001b[1m1/1\u001b[0m \u001b[32m━━━━━━━━━━━━━━━━━━━━\u001b[0m\u001b[37m\u001b[0m \u001b[1m0s\u001b[0m 122ms/step\n"
     ]
    },
    {
     "data": {
      "text/plain": [
       "{'LogisticRegression': '../data/train\\\\Amy_Davidson\\\\Amy_Davidson_39560_18451.jpeg',\n",
       " 'KNN': '../data/train\\\\Katherine_Helmond\\\\Katherine_Helmond_75289_33961.jpeg',\n",
       " 'MLP': '../data/train\\\\Patricia_Arquette\\\\Patricia_Arquette_6469_3190.jpeg'}"
      ]
     },
     "execution_count": 15,
     "metadata": {},
     "output_type": "execute_result"
    }
   ],
   "source": [
    "predict_label(\"../temp/tranthanh.jpg\")"
   ]
  }
 ],
 "metadata": {
  "kernelspec": {
   "display_name": "base",
   "language": "python",
   "name": "python3"
  },
  "language_info": {
   "codemirror_mode": {
    "name": "ipython",
    "version": 3
   },
   "file_extension": ".py",
   "mimetype": "text/x-python",
   "name": "python",
   "nbconvert_exporter": "python",
   "pygments_lexer": "ipython3",
   "version": "3.11.9"
  }
 },
 "nbformat": 4,
 "nbformat_minor": 2
}
