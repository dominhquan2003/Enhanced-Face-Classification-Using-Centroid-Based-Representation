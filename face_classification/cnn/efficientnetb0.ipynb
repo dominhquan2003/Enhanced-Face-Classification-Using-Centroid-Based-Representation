{
 "cells": [
  {
   "cell_type": "code",
   "execution_count": 3,
   "id": "ad896393",
   "metadata": {
    "execution": {
     "iopub.execute_input": "2025-02-14T20:34:34.641462Z",
     "iopub.status.busy": "2025-02-14T20:34:34.641063Z",
     "iopub.status.idle": "2025-02-14T20:34:51.514744Z",
     "shell.execute_reply": "2025-02-14T20:34:51.513687Z"
    },
    "papermill": {
     "duration": 16.96546,
     "end_time": "2025-02-14T20:34:51.516709",
     "exception": false,
     "start_time": "2025-02-14T20:34:34.551249",
     "status": "completed"
    },
    "tags": []
   },
   "outputs": [],
   "source": [
    "import numpy as np\n",
    "import tensorflow as tf\n",
    "from tensorflow.keras.applications import EfficientNetB0\n",
    "from tensorflow.keras.layers import Dense, GlobalAveragePooling2D, Dropout\n",
    "from tensorflow.keras.models import Model\n",
    "from tensorflow.keras.optimizers import Adam\n",
    "from tensorflow.keras.preprocessing.image import ImageDataGenerator\n",
    "from tensorflow.keras.callbacks import EarlyStopping, ReduceLROnPlateau\n",
    "import matplotlib.pyplot as plt"
   ]
  },
  {
   "cell_type": "code",
   "execution_count": null,
   "id": "d6de9a74",
   "metadata": {
    "execution": {
     "iopub.execute_input": "2025-02-14T20:34:51.679001Z",
     "iopub.status.busy": "2025-02-14T20:34:51.677968Z",
     "iopub.status.idle": "2025-02-14T20:34:51.685353Z",
     "shell.execute_reply": "2025-02-14T20:34:51.684255Z"
    },
    "papermill": {
     "duration": 0.089736,
     "end_time": "2025-02-14T20:34:51.687149",
     "exception": false,
     "start_time": "2025-02-14T20:34:51.597413",
     "status": "completed"
    },
    "tags": []
   },
   "outputs": [],
   "source": [
    "train_data_dir = '/kaggle/working/train'\n",
    "val_data_dir = '/kaggle/working/val'\n",
    "test_data_dir = '/kaggle/working/test'\n",
    "\n",
    "img_height, img_width = 224, 224\n",
    "batch_size = 32\n",
    "num_classes = 488 \n",
    "\n",
    "train_datagen = ImageDataGenerator(\n",
    "    rescale=1.0 / 255.0,\n",
    "    rotation_range=30,\n",
    "    width_shift_range=0.3,\n",
    "    height_shift_range=0.3,\n",
    "    shear_range=0.3,\n",
    "    zoom_range=0.3,\n",
    "    horizontal_flip=True,\n",
    "    brightness_range=[0.7, 1.3],\n",
    "    channel_shift_range=50.0,\n",
    "    fill_mode='nearest'\n",
    ")\n",
    "\n",
    "val_test_datagen = ImageDataGenerator(rescale=1.0 / 255.0)"
   ]
  },
  {
   "cell_type": "markdown",
   "id": "fb7d20d9",
   "metadata": {},
   "source": [
    "# `Load datasets`"
   ]
  },
  {
   "cell_type": "code",
   "execution_count": null,
   "id": "bdc8723d",
   "metadata": {
    "execution": {
     "iopub.execute_input": "2025-02-14T20:34:51.848581Z",
     "iopub.status.busy": "2025-02-14T20:34:51.847987Z",
     "iopub.status.idle": "2025-02-14T20:34:53.517149Z",
     "shell.execute_reply": "2025-02-14T20:34:53.515787Z"
    },
    "papermill": {
     "duration": 1.751595,
     "end_time": "2025-02-14T20:34:53.519603",
     "exception": false,
     "start_time": "2025-02-14T20:34:51.768008",
     "status": "completed"
    },
    "tags": []
   },
   "outputs": [
    {
     "name": "stdout",
     "output_type": "stream",
     "text": [
      "Found 31921 images belonging to 488 classes.\n",
      "Found 4238 images belonging to 488 classes.\n",
      "Found 3988 images belonging to 488 classes.\n"
     ]
    }
   ],
   "source": [
    "train_generator = train_datagen.flow_from_directory(\n",
    "    train_data_dir,\n",
    "    target_size=(img_height, img_width),\n",
    "    batch_size=batch_size,\n",
    "    class_mode='categorical'\n",
    ")\n",
    "\n",
    "val_generator = val_test_datagen.flow_from_directory(\n",
    "    val_data_dir,\n",
    "    target_size=(img_height, img_width),\n",
    "    batch_size=batch_size,\n",
    "    class_mode='categorical'\n",
    ")\n",
    "\n",
    "test_generator = val_test_datagen.flow_from_directory(\n",
    "    test_data_dir,\n",
    "    target_size=(img_height, img_width),\n",
    "    batch_size=batch_size,\n",
    "    class_mode='categorical',\n",
    "    shuffle=False\n",
    ")"
   ]
  },
  {
   "cell_type": "code",
   "execution_count": 6,
   "id": "eb902005",
   "metadata": {
    "execution": {
     "iopub.execute_input": "2025-02-14T20:34:53.688889Z",
     "iopub.status.busy": "2025-02-14T20:34:53.688369Z",
     "iopub.status.idle": "2025-02-14T20:34:55.725843Z",
     "shell.execute_reply": "2025-02-14T20:34:55.724539Z"
    },
    "papermill": {
     "duration": 2.124899,
     "end_time": "2025-02-14T20:34:55.728761",
     "exception": false,
     "start_time": "2025-02-14T20:34:53.603862",
     "status": "completed"
    },
    "tags": []
   },
   "outputs": [
    {
     "name": "stdout",
     "output_type": "stream",
     "text": [
      "Downloading data from https://storage.googleapis.com/keras-applications/efficientnetb0_notop.h5\n",
      "\u001b[1m16705208/16705208\u001b[0m \u001b[32m━━━━━━━━━━━━━━━━━━━━\u001b[0m\u001b[37m\u001b[0m \u001b[1m0s\u001b[0m 0us/step\n"
     ]
    }
   ],
   "source": [
    "# Load EfficientNetB0 model\n",
    "base_model = EfficientNetB0(weights='imagenet', include_top=False, input_shape=(img_height, img_width, 3))\n",
    "base_model.trainable = False "
   ]
  },
  {
   "cell_type": "code",
   "execution_count": 7,
   "id": "518ce319",
   "metadata": {
    "execution": {
     "iopub.execute_input": "2025-02-14T20:34:56.048697Z",
     "iopub.status.busy": "2025-02-14T20:34:56.048125Z",
     "iopub.status.idle": "2025-02-14T20:34:56.143923Z",
     "shell.execute_reply": "2025-02-14T20:34:56.142367Z"
    },
    "papermill": {
     "duration": 0.267013,
     "end_time": "2025-02-14T20:34:56.147055",
     "exception": false,
     "start_time": "2025-02-14T20:34:55.880042",
     "status": "completed"
    },
    "tags": []
   },
   "outputs": [],
   "source": [
    "# Build model\n",
    "x = base_model.output\n",
    "x = GlobalAveragePooling2D()(x)\n",
    "x = Dense(1024, activation='relu')(x)\n",
    "x = Dropout(0.5)(x) \n",
    "predictions = Dense(num_classes, activation='softmax')(x)"
   ]
  },
  {
   "cell_type": "code",
   "execution_count": 8,
   "id": "b3cc67bf",
   "metadata": {
    "execution": {
     "iopub.execute_input": "2025-02-14T20:34:56.365014Z",
     "iopub.status.busy": "2025-02-14T20:34:56.364387Z",
     "iopub.status.idle": "2025-02-14T20:34:56.386957Z",
     "shell.execute_reply": "2025-02-14T20:34:56.385671Z"
    },
    "papermill": {
     "duration": 0.113416,
     "end_time": "2025-02-14T20:34:56.389045",
     "exception": false,
     "start_time": "2025-02-14T20:34:56.275629",
     "status": "completed"
    },
    "tags": []
   },
   "outputs": [],
   "source": [
    "model = Model(inputs=base_model.input, outputs=predictions)"
   ]
  },
  {
   "cell_type": "code",
   "execution_count": 9,
   "id": "d5efd3ff",
   "metadata": {
    "execution": {
     "iopub.execute_input": "2025-02-14T20:34:56.555296Z",
     "iopub.status.busy": "2025-02-14T20:34:56.554655Z",
     "iopub.status.idle": "2025-02-14T20:34:56.569329Z",
     "shell.execute_reply": "2025-02-14T20:34:56.568207Z"
    },
    "papermill": {
     "duration": 0.100931,
     "end_time": "2025-02-14T20:34:56.571400",
     "exception": false,
     "start_time": "2025-02-14T20:34:56.470469",
     "status": "completed"
    },
    "tags": []
   },
   "outputs": [],
   "source": [
    "# Compile model\n",
    "model.compile(optimizer=Adam(learning_rate=0.001), loss='categorical_crossentropy', metrics=['accuracy'])"
   ]
  },
  {
   "cell_type": "code",
   "execution_count": 10,
   "id": "1b1271ef",
   "metadata": {
    "execution": {
     "iopub.execute_input": "2025-02-14T20:34:56.738721Z",
     "iopub.status.busy": "2025-02-14T20:34:56.738372Z",
     "iopub.status.idle": "2025-02-14T20:34:56.743530Z",
     "shell.execute_reply": "2025-02-14T20:34:56.742345Z"
    },
    "papermill": {
     "duration": 0.092292,
     "end_time": "2025-02-14T20:34:56.745105",
     "exception": false,
     "start_time": "2025-02-14T20:34:56.652813",
     "status": "completed"
    },
    "tags": []
   },
   "outputs": [],
   "source": [
    "# Callbacks\n",
    "early_stopping = EarlyStopping(monitor='val_loss', patience=5, restore_best_weights=True)\n",
    "reduce_lr = ReduceLROnPlateau(monitor='val_loss', factor=0.5, patience=2, min_lr=1e-6)"
   ]
  },
  {
   "cell_type": "code",
   "execution_count": 11,
   "id": "43de3402",
   "metadata": {
    "execution": {
     "iopub.execute_input": "2025-02-14T20:34:56.913137Z",
     "iopub.status.busy": "2025-02-14T20:34:56.912789Z",
     "iopub.status.idle": "2025-02-14T20:34:56.917579Z",
     "shell.execute_reply": "2025-02-14T20:34:56.916562Z"
    },
    "papermill": {
     "duration": 0.092205,
     "end_time": "2025-02-14T20:34:56.919272",
     "exception": false,
     "start_time": "2025-02-14T20:34:56.827067",
     "status": "completed"
    },
    "tags": []
   },
   "outputs": [],
   "source": [
    "# Fix steps to avoid running out of data\n",
    "steps_per_epoch = max(1, len(train_generator))\n",
    "validation_steps = max(1, len(val_generator))\n",
    "test_steps = max(1, len(test_generator))"
   ]
  },
  {
   "cell_type": "code",
   "execution_count": 12,
   "id": "249f22ad",
   "metadata": {
    "execution": {
     "iopub.execute_input": "2025-02-14T20:34:57.074074Z",
     "iopub.status.busy": "2025-02-14T20:34:57.073479Z",
     "iopub.status.idle": "2025-02-14T23:12:11.915578Z",
     "shell.execute_reply": "2025-02-14T23:12:11.914298Z"
    },
    "papermill": {
     "duration": 9435.195982,
     "end_time": "2025-02-14T23:12:12.192778",
     "exception": false,
     "start_time": "2025-02-14T20:34:56.996796",
     "status": "completed"
    },
    "tags": []
   },
   "outputs": [
    {
     "name": "stdout",
     "output_type": "stream",
     "text": [
      "Epoch 1/10\n"
     ]
    },
    {
     "name": "stderr",
     "output_type": "stream",
     "text": []
    },
    {
     "name": "stdout",
     "output_type": "stream",
     "text": [
      "\u001b[1m998/998\u001b[0m \u001b[32m━━━━━━━━━━━━━━━━━━━━\u001b[0m\u001b[37m\u001b[0m \u001b[1m1910s\u001b[0m 2s/step - accuracy: 0.0024 - loss: 6.1914 - val_accuracy: 0.0031 - val_loss: 6.1671 - learning_rate: 0.0010\n",
      "Epoch 2/10\n",
      "\u001b[1m998/998\u001b[0m \u001b[32m━━━━━━━━━━━━━━━━━━━━\u001b[0m\u001b[37m\u001b[0m \u001b[1m0s\u001b[0m 225us/step - accuracy: 0.0000e+00 - loss: 0.0000e+00 - learning_rate: 0.0010\n",
      "Epoch 3/10\n",
      "\u001b[1m998/998\u001b[0m \u001b[32m━━━━━━━━━━━━━━━━━━━━\u001b[0m\u001b[37m\u001b[0m \u001b[1m1884s\u001b[0m 2s/step - accuracy: 0.0030 - loss: 6.1723 - val_accuracy: 0.0031 - val_loss: 6.1641 - learning_rate: 0.0010\n",
      "Epoch 4/10\n",
      "\u001b[1m998/998\u001b[0m \u001b[32m━━━━━━━━━━━━━━━━━━━━\u001b[0m\u001b[37m\u001b[0m \u001b[1m0s\u001b[0m 68us/step - accuracy: 0.0000e+00 - loss: 0.0000e+00 - learning_rate: 0.0010\n",
      "Epoch 5/10\n",
      "\u001b[1m998/998\u001b[0m \u001b[32m━━━━━━━━━━━━━━━━━━━━\u001b[0m\u001b[37m\u001b[0m \u001b[1m1873s\u001b[0m 2s/step - accuracy: 0.0026 - loss: 6.1664 - val_accuracy: 0.0031 - val_loss: 6.1680 - learning_rate: 0.0010\n",
      "Epoch 6/10\n",
      "\u001b[1m998/998\u001b[0m \u001b[32m━━━━━━━━━━━━━━━━━━━━\u001b[0m\u001b[37m\u001b[0m \u001b[1m0s\u001b[0m 59us/step - accuracy: 0.0000e+00 - loss: 0.0000e+00 - learning_rate: 0.0010\n",
      "Epoch 7/10\n",
      "\u001b[1m998/998\u001b[0m \u001b[32m━━━━━━━━━━━━━━━━━━━━\u001b[0m\u001b[37m\u001b[0m \u001b[1m1875s\u001b[0m 2s/step - accuracy: 0.0027 - loss: 6.1659 - val_accuracy: 0.0031 - val_loss: 6.1635 - learning_rate: 0.0010\n",
      "Epoch 8/10\n",
      "\u001b[1m998/998\u001b[0m \u001b[32m━━━━━━━━━━━━━━━━━━━━\u001b[0m\u001b[37m\u001b[0m \u001b[1m0s\u001b[0m 60us/step - accuracy: 0.0000e+00 - loss: 0.0000e+00 - learning_rate: 0.0010\n",
      "Epoch 9/10\n",
      "\u001b[1m998/998\u001b[0m \u001b[32m━━━━━━━━━━━━━━━━━━━━\u001b[0m\u001b[37m\u001b[0m \u001b[1m1890s\u001b[0m 2s/step - accuracy: 0.0029 - loss: 6.1661 - val_accuracy: 0.0031 - val_loss: 6.1639 - learning_rate: 0.0010\n",
      "Epoch 10/10\n",
      "\u001b[1m998/998\u001b[0m \u001b[32m━━━━━━━━━━━━━━━━━━━━\u001b[0m\u001b[37m\u001b[0m \u001b[1m0s\u001b[0m 63us/step - accuracy: 0.0000e+00 - loss: 0.0000e+00 - learning_rate: 0.0010\n"
     ]
    }
   ],
   "source": [
    "# Train model\n",
    "history = model.fit(\n",
    "    train_generator,\n",
    "    validation_data=val_generator,\n",
    "    epochs=10,\n",
    "    steps_per_epoch=steps_per_epoch,\n",
    "    validation_steps=validation_steps,\n",
    "    callbacks=[early_stopping, reduce_lr],\n",
    "    verbose=1\n",
    ")"
   ]
  },
  {
   "cell_type": "code",
   "execution_count": 13,
   "id": "f9735fe0",
   "metadata": {
    "execution": {
     "iopub.execute_input": "2025-02-14T23:12:12.928345Z",
     "iopub.status.busy": "2025-02-14T23:12:12.927150Z",
     "iopub.status.idle": "2025-02-14T23:12:13.311940Z",
     "shell.execute_reply": "2025-02-14T23:12:13.310872Z"
    },
    "papermill": {
     "duration": 0.749753,
     "end_time": "2025-02-14T23:12:13.314012",
     "exception": false,
     "start_time": "2025-02-14T23:12:12.564259",
     "status": "completed"
    },
    "tags": []
   },
   "outputs": [],
   "source": [
    "# Save trained model\n",
    "model.save('EfficientNetB0.h5')"
   ]
  },
  {
   "cell_type": "markdown",
   "id": "92d75a37",
   "metadata": {},
   "source": [
    "# `Test Performance`"
   ]
  },
  {
   "cell_type": "code",
   "execution_count": 14,
   "id": "8a876516",
   "metadata": {
    "execution": {
     "iopub.execute_input": "2025-02-14T23:12:14.068244Z",
     "iopub.status.busy": "2025-02-14T23:12:14.067638Z",
     "iopub.status.idle": "2025-02-14T23:15:10.232678Z",
     "shell.execute_reply": "2025-02-14T23:15:10.231466Z"
    },
    "papermill": {
     "duration": 176.558016,
     "end_time": "2025-02-14T23:15:10.234636",
     "exception": false,
     "start_time": "2025-02-14T23:12:13.676620",
     "status": "completed"
    },
    "tags": []
   },
   "outputs": [
    {
     "name": "stdout",
     "output_type": "stream",
     "text": [
      "\u001b[1m125/125\u001b[0m \u001b[32m━━━━━━━━━━━━━━━━━━━━\u001b[0m\u001b[37m\u001b[0m \u001b[1m176s\u001b[0m 1s/step - accuracy: 0.0035 - loss: 6.1490\n"
     ]
    }
   ],
   "source": [
    "# Get final accuracy\n",
    "final_train_acc = history.history['accuracy'][-1]\n",
    "final_val_acc = history.history['val_accuracy'][-1]\n",
    "\n",
    "# Evaluate on test set\n",
    "test_loss, final_test_acc = model.evaluate(test_generator, steps=test_steps)"
   ]
  },
  {
   "cell_type": "code",
   "execution_count": 15,
   "id": "6b008ac5",
   "metadata": {
    "execution": {
     "iopub.execute_input": "2025-02-14T23:15:10.982839Z",
     "iopub.status.busy": "2025-02-14T23:15:10.982206Z",
     "iopub.status.idle": "2025-02-14T23:15:10.990166Z",
     "shell.execute_reply": "2025-02-14T23:15:10.989169Z"
    },
    "papermill": {
     "duration": 0.379734,
     "end_time": "2025-02-14T23:15:10.991686",
     "exception": false,
     "start_time": "2025-02-14T23:15:10.611952",
     "status": "completed"
    },
    "tags": []
   },
   "outputs": [
    {
     "name": "stdout",
     "output_type": "stream",
     "text": [
      "\n",
      "EfficientNetB0 Results:\n",
      "Final Train Accuracy: 0.0212\n",
      "Final Validation Accuracy: 0.0331\n",
      "Final Test Accuracy: 0.0312\n",
      "\n"
     ]
    }
   ],
   "source": [
    "# Print results\n",
    "print(\"\\nEfficientNetB0 Results:\")\n",
    "print(f\"Final Train Accuracy: {final_train_acc:.4f}\")\n",
    "print(f\"Final Validation Accuracy: {final_val_acc:.4f}\")\n",
    "print(f\"Final Test Accuracy: {final_test_acc:.4f}\\n\")\n"
   ]
  },
  {
   "cell_type": "code",
   "execution_count": 16,
   "id": "c5313994",
   "metadata": {
    "execution": {
     "iopub.execute_input": "2025-02-14T23:15:11.817623Z",
     "iopub.status.busy": "2025-02-14T23:15:11.817264Z",
     "iopub.status.idle": "2025-02-14T23:15:12.286049Z",
     "shell.execute_reply": "2025-02-14T23:15:12.284894Z"
    },
    "papermill": {
     "duration": 0.841838,
     "end_time": "2025-02-14T23:15:12.288490",
     "exception": false,
     "start_time": "2025-02-14T23:15:11.446652",
     "status": "completed"
    },
    "tags": []
   },
   "outputs": [
    {
     "data": {
      "image/png": "[encoded data removed]",
      "text/plain": [
       "<Figure size 1200x500 with 2 Axes>"
      ]
     },
     "metadata": {},
     "output_type": "display_data"
    }
   ],
   "source": [
    "# Plot accuracy and loss\n",
    "plt.figure(figsize=(12, 5))\n",
    "\n",
    "plt.subplot(1, 2, 1)\n",
    "plt.plot(history.history['accuracy'], label='Train Accuracy')\n",
    "plt.plot(history.history['val_accuracy'], label='Val Accuracy')\n",
    "plt.title('EfficientNetB0 - Accuracy')\n",
    "plt.xlabel('Epochs')\n",
    "plt.ylabel('Accuracy')\n",
    "plt.legend()\n",
    "\n",
    "plt.subplot(1, 2, 2)\n",
    "plt.plot(history.history['loss'], label='Train Loss')\n",
    "plt.plot(history.history['val_loss'], label='Val Loss')\n",
    "plt.title('EfficientNetB0 - Loss')\n",
    "plt.xlabel('Epochs')\n",
    "plt.ylabel('Loss')\n",
    "plt.legend()\n",
    "\n",
    "plt.show()"
   ]
  }
 ],
 "metadata": {
  "kaggle": {
   "accelerator": "none",
   "dataSources": [],
   "dockerImageVersionId": 30886,
   "isGpuEnabled": false,
   "isInternetEnabled": true,
   "language": "python",
   "sourceType": "notebook"
  },
  "kernelspec": {
   "display_name": "Python 3",
   "language": "python",
   "name": "python3"
  },
  "language_info": {
   "codemirror_mode": {
    "name": "ipython",
    "version": 3
   },
   "file_extension": ".py",
   "mimetype": "text/x-python",
   "name": "python",
   "nbconvert_exporter": "python",
   "pygments_lexer": "ipython3",
   "version": "3.10.12"
  },
  "papermill": {
   "default_parameters": {},
   "duration": 9669.461328,
   "end_time": "2025-02-14T23:15:15.681999",
   "environment_variables": {},
   "exception": null,
   "input_path": "__notebook__.ipynb",
   "output_path": "__notebook__.ipynb",
   "parameters": {},
   "start_time": "2025-02-14T20:34:06.220671",
   "version": "2.6.0"
  }
 },
 "nbformat": 4,
 "nbformat_minor": 5
}
