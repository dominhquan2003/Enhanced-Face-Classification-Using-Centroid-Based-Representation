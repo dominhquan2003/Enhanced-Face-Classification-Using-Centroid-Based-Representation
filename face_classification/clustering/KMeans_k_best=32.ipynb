{
 "cells": [
  {
   "cell_type": "code",
   "execution_count": 1,
   "id": "5bf5105c",
   "metadata": {
    "execution": {
     "iopub.execute_input": "2025-02-15T19:36:41.029593Z",
     "iopub.status.busy": "2025-02-15T19:36:41.029249Z",
     "iopub.status.idle": "2025-02-15T19:36:43.602016Z",
     "shell.execute_reply": "2025-02-15T19:36:43.600755Z"
    },
    "papermill": {
     "duration": 2.583075,
     "end_time": "2025-02-15T19:36:43.603843",
     "exception": false,
     "start_time": "2025-02-15T19:36:41.020768",
     "status": "completed"
    },
    "tags": []
   },
   "outputs": [],
   "source": [
    "import numpy as np\n",
    "import joblib\n",
    "import matplotlib.pyplot as plt\n",
    "from sklearn.cluster import KMeans\n",
    "from sklearn.decomposition import PCA"
   ]
  },
  {
   "cell_type": "code",
   "execution_count": 2,
   "id": "964c6df5",
   "metadata": {
    "execution": {
     "iopub.execute_input": "2025-02-15T19:36:43.610006Z",
     "iopub.status.busy": "2025-02-15T19:36:43.609521Z",
     "iopub.status.idle": "2025-02-15T19:37:24.448493Z",
     "shell.execute_reply": "2025-02-15T19:37:24.446634Z"
    },
    "papermill": {
     "duration": 40.846233,
     "end_time": "2025-02-15T19:37:24.452740",
     "exception": false,
     "start_time": "2025-02-15T19:36:43.606507",
     "status": "completed"
    },
    "tags": []
   },
   "outputs": [],
   "source": [
    "# Load feature maps and labels\n",
    "feature_maps_array = np.load('/kaggle/input/pit-feature-maps-mobilenetv2/train_feature_maps.npy')\n",
    "labels_array = np.load('/kaggle/input/pit-feature-maps-mobilenetv2/train_labels.npy')\n",
    "\n",
    "labels = np.argmax(labels_array, axis=1)   \n",
    "unique_labels = np.unique(labels)  \n",
    "num_people = len(unique_labels)  "
   ]
  },
  {
   "cell_type": "code",
   "execution_count": 3,
   "id": "fafb9070",
   "metadata": {
    "execution": {
     "iopub.execute_input": "2025-02-15T19:37:24.462991Z",
     "iopub.status.busy": "2025-02-15T19:37:24.462535Z",
     "iopub.status.idle": "2025-02-15T19:38:57.291403Z",
     "shell.execute_reply": "2025-02-15T19:38:57.290245Z"
    },
    "papermill": {
     "duration": 92.837704,
     "end_time": "2025-02-15T19:38:57.296165",
     "exception": false,
     "start_time": "2025-02-15T19:37:24.458461",
     "status": "completed"
    },
    "tags": []
   },
   "outputs": [
    {
     "data": {
      "text/plain": [
       "['/kaggle/working/pca_model.pkl']"
      ]
     },
     "execution_count": 3,
     "metadata": {},
     "output_type": "execute_result"
    }
   ],
   "source": [
    "# Reshape feature maps\n",
    "num_samples, height, width, channels = feature_maps_array.shape\n",
    "feature_maps_reshaped = feature_maps_array.reshape(num_samples, -1)\n",
    "\n",
    "# Reduce dimensions using PCA\n",
    "pca = PCA(n_components=128)\n",
    "feature_maps_reduced = pca.fit_transform(feature_maps_reshaped)\n",
    "\n",
    "# Save PCA model\n",
    "joblib.dump(pca, '/kaggle/working/pca_model.pkl')"
   ]
  },
  {
   "cell_type": "code",
   "execution_count": 4,
   "id": "2949eb65",
   "metadata": {
    "execution": {
     "iopub.execute_input": "2025-02-15T19:38:57.301748Z",
     "iopub.status.busy": "2025-02-15T19:38:57.301440Z",
     "iopub.status.idle": "2025-02-15T19:48:31.038306Z",
     "shell.execute_reply": "2025-02-15T19:48:31.037661Z"
    },
    "papermill": {
     "duration": 573.741678,
     "end_time": "2025-02-15T19:48:31.040110",
     "exception": false,
     "start_time": "2025-02-15T19:38:57.298432",
     "status": "completed"
    },
    "tags": []
   },
   "outputs": [
    {
     "name": "stderr",
     "output_type": "stream",
     "text": [
      "<ipython-input-4-60929c9dcf0a>:14: ConvergenceWarning: Number of distinct clusters (31) found smaller than n_clusters (32). Possibly due to duplicate points in X.\n",
      "  kmeans.fit(person_feature_maps)\n"
     ]
    }
   ],
   "source": [
    "# Finding the best k for clustering\n",
    "k_values = range(2, 33)\n",
    "best_k_values = {}\n",
    "\n",
    "for label in unique_labels:\n",
    "    person_indices = np.where(labels == label)[0]\n",
    "    person_feature_maps = feature_maps_reduced[person_indices]\n",
    "    \n",
    "    best_k = 2\n",
    "    best_score = float('inf')\n",
    "    \n",
    "    for k in k_values:\n",
    "        kmeans = KMeans(n_clusters=k, random_state=42, n_init=10)\n",
    "        kmeans.fit(person_feature_maps)\n",
    "        \n",
    "        distances = np.linalg.norm(kmeans.cluster_centers_ - person_feature_maps[:, None, :], axis=2)\n",
    "        min_distances = np.min(distances, axis=1)\n",
    "        avg_distance = np.mean(min_distances)\n",
    "        \n",
    "        if avg_distance < best_score:\n",
    "            best_score = avg_distance\n",
    "            best_k = k\n",
    "    \n",
    "    best_k_values[label] = best_k"
   ]
  },
  {
   "cell_type": "code",
   "execution_count": 5,
   "id": "f6ebda5a",
   "metadata": {
    "execution": {
     "iopub.execute_input": "2025-02-15T19:48:31.046105Z",
     "iopub.status.busy": "2025-02-15T19:48:31.045883Z",
     "iopub.status.idle": "2025-02-15T19:58:18.469379Z",
     "shell.execute_reply": "2025-02-15T19:58:18.468458Z"
    },
    "papermill": {
     "duration": 587.428611,
     "end_time": "2025-02-15T19:58:18.471677",
     "exception": false,
     "start_time": "2025-02-15T19:48:31.043066",
     "status": "completed"
    },
    "tags": []
   },
   "outputs": [
    {
     "name": "stderr",
     "output_type": "stream",
     "text": [
      "<ipython-input-5-a0fcb38197c3>:11: ConvergenceWarning: Number of distinct clusters (31) found smaller than n_clusters (32). Possibly due to duplicate points in X.\n",
      "  kmeans.fit(person_feature_maps)\n"
     ]
    }
   ],
   "source": [
    "avg_distances = {}\n",
    "for k in k_values:\n",
    "    total_distance = 0\n",
    "    count = 0\n",
    "    \n",
    "    for label in unique_labels:\n",
    "        person_indices = np.where(labels == label)[0]\n",
    "        person_feature_maps = feature_maps_reduced[person_indices]\n",
    "        \n",
    "        kmeans = KMeans(n_clusters=k, random_state=42, n_init=10)\n",
    "        kmeans.fit(person_feature_maps)\n",
    "        \n",
    "        distances = np.linalg.norm(kmeans.cluster_centers_ - person_feature_maps[:, None, :], axis=2)\n",
    "        min_distances = np.min(distances, axis=1)\n",
    "        total_distance += np.mean(min_distances)\n",
    "        count += 1\n",
    "    \n",
    "    avg_distances[k] = total_distance / count"
   ]
  },
  {
   "cell_type": "code",
   "execution_count": 6,
   "id": "26bebdd5",
   "metadata": {
    "execution": {
     "iopub.execute_input": "2025-02-15T19:58:18.479480Z",
     "iopub.status.busy": "2025-02-15T19:58:18.479089Z",
     "iopub.status.idle": "2025-02-15T19:58:19.130683Z",
     "shell.execute_reply": "2025-02-15T19:58:19.129011Z"
    },
    "papermill": {
     "duration": 0.658354,
     "end_time": "2025-02-15T19:58:19.132943",
     "exception": false,
     "start_time": "2025-02-15T19:58:18.474589",
     "status": "completed"
    },
    "tags": []
   },
   "outputs": [
    {
     "data": {
      "image/png": "[encoded data removed]",
      "text/plain": [
       "<Figure size 1200x500 with 1 Axes>"
      ]
     },
     "metadata": {},
     "output_type": "display_data"
    }
   ],
   "source": [
    "plt.figure(figsize=(12, 5))\n",
    "bars = plt.bar(avg_distances.keys(), avg_distances.values())\n",
    "plt.xlabel(\"k\")\n",
    "plt.ylabel(\"Average Distance to Nearest Centroid\")\n",
    "plt.title(\"Average Distance vs k\")\n",
    "plt.bar_label(bars, fmt='%.3f', padding=3)\n",
    "plt.xticks(list(avg_distances.keys()))\n",
    "plt.show()"
   ]
  },
  {
   "cell_type": "code",
   "execution_count": 7,
   "id": "2bd1a694",
   "metadata": {
    "execution": {
     "iopub.execute_input": "2025-02-15T19:58:19.141119Z",
     "iopub.status.busy": "2025-02-15T19:58:19.140715Z",
     "iopub.status.idle": "2025-02-15T19:58:19.146764Z",
     "shell.execute_reply": "2025-02-15T19:58:19.145648Z"
    },
    "papermill": {
     "duration": 0.012087,
     "end_time": "2025-02-15T19:58:19.148529",
     "exception": false,
     "start_time": "2025-02-15T19:58:19.136442",
     "status": "completed"
    },
    "tags": []
   },
   "outputs": [
    {
     "name": "stdout",
     "output_type": "stream",
     "text": [
      "Best k: 32\n"
     ]
    }
   ],
   "source": [
    "best_k = min(avg_distances, key=avg_distances.get)\n",
    "print(f\"Best k: {best_k}\")"
   ]
  },
  {
   "cell_type": "code",
   "execution_count": 8,
   "id": "0501f3ca",
   "metadata": {
    "execution": {
     "iopub.execute_input": "2025-02-15T19:58:19.157625Z",
     "iopub.status.busy": "2025-02-15T19:58:19.157201Z",
     "iopub.status.idle": "2025-02-15T19:58:51.525103Z",
     "shell.execute_reply": "2025-02-15T19:58:51.524425Z"
    },
    "papermill": {
     "duration": 32.374509,
     "end_time": "2025-02-15T19:58:51.527046",
     "exception": false,
     "start_time": "2025-02-15T19:58:19.152537",
     "status": "completed"
    },
    "tags": []
   },
   "outputs": [
    {
     "name": "stderr",
     "output_type": "stream",
     "text": [
      "<ipython-input-8-2b6d0579cf6f>:10: ConvergenceWarning: Number of distinct clusters (31) found smaller than n_clusters (32). Possibly due to duplicate points in X.\n",
      "  kmeans.fit(person_feature_maps)\n"
     ]
    }
   ],
   "source": [
    "# Clustering using the best k\n",
    "all_centroids = []\n",
    "\n",
    "for label in unique_labels:\n",
    "    person_indices = np.where(labels == label)[0]\n",
    "    person_feature_maps = feature_maps_reduced[person_indices]\n",
    "    \n",
    "    best_k = best_k_values[label]\n",
    "    kmeans = KMeans(n_clusters=best_k, random_state=42, n_init=10)\n",
    "    kmeans.fit(person_feature_maps)\n",
    "    joblib.dump(kmeans, f\"/kaggle/working/kmeans_model_{label}.pkl\")\n",
    "    \n",
    "    all_centroids.append(kmeans.cluster_centers_)"
   ]
  },
  {
   "cell_type": "code",
   "execution_count": 9,
   "id": "b83dcd9c",
   "metadata": {
    "execution": {
     "iopub.execute_input": "2025-02-15T19:58:51.536677Z",
     "iopub.status.busy": "2025-02-15T19:58:51.536281Z",
     "iopub.status.idle": "2025-02-15T19:58:51.566176Z",
     "shell.execute_reply": "2025-02-15T19:58:51.565310Z"
    },
    "papermill": {
     "duration": 0.036045,
     "end_time": "2025-02-15T19:58:51.567801",
     "exception": false,
     "start_time": "2025-02-15T19:58:51.531756",
     "status": "completed"
    },
    "tags": []
   },
   "outputs": [],
   "source": [
    "# Concatenate all centroids\n",
    "all_centroids = np.concatenate(all_centroids, axis=0)\n",
    "np.save('/kaggle/working/all_kmeans_centroids.npy', all_centroids)"
   ]
  },
  {
   "cell_type": "code",
   "execution_count": 10,
   "id": "57ac9ad2",
   "metadata": {
    "execution": {
     "iopub.execute_input": "2025-02-15T19:58:51.576063Z",
     "iopub.status.busy": "2025-02-15T19:58:51.575779Z",
     "iopub.status.idle": "2025-02-15T20:00:34.598637Z",
     "shell.execute_reply": "2025-02-15T20:00:34.597065Z"
    },
    "papermill": {
     "duration": 103.029801,
     "end_time": "2025-02-15T20:00:34.601256",
     "exception": false,
     "start_time": "2025-02-15T19:58:51.571455",
     "status": "completed"
    },
    "tags": []
   },
   "outputs": [],
   "source": [
    "# Compute distance vectors\n",
    "distance_vectors = []\n",
    "for feature_map in feature_maps_reduced:\n",
    "    distances = np.linalg.norm(all_centroids - feature_map, axis=1)\n",
    "    distance_vectors.append(distances)\n",
    "\n",
    "distance_vectors = np.array(distance_vectors)"
   ]
  },
  {
   "cell_type": "code",
   "execution_count": 11,
   "id": "c60dffe1",
   "metadata": {
    "execution": {
     "iopub.execute_input": "2025-02-15T20:00:34.611026Z",
     "iopub.status.busy": "2025-02-15T20:00:34.610652Z",
     "iopub.status.idle": "2025-02-15T20:00:34.615712Z",
     "shell.execute_reply": "2025-02-15T20:00:34.614668Z"
    },
    "papermill": {
     "duration": 0.011932,
     "end_time": "2025-02-15T20:00:34.617790",
     "exception": false,
     "start_time": "2025-02-15T20:00:34.605858",
     "status": "completed"
    },
    "tags": []
   },
   "outputs": [
    {
     "name": "stdout",
     "output_type": "stream",
     "text": [
      "Shape of distance_vectors: (31921, 15593)\n"
     ]
    }
   ],
   "source": [
    "print(\"Shape of distance_vectors:\", distance_vectors.shape)"
   ]
  },
  {
   "cell_type": "code",
   "execution_count": 12,
   "id": "8baa6e36",
   "metadata": {
    "execution": {
     "iopub.execute_input": "2025-02-15T20:00:34.626863Z",
     "iopub.status.busy": "2025-02-15T20:00:34.626536Z",
     "iopub.status.idle": "2025-02-15T20:00:42.025957Z",
     "shell.execute_reply": "2025-02-15T20:00:42.025080Z"
    },
    "papermill": {
     "duration": 7.405727,
     "end_time": "2025-02-15T20:00:42.027645",
     "exception": false,
     "start_time": "2025-02-15T20:00:34.621918",
     "status": "completed"
    },
    "tags": []
   },
   "outputs": [],
   "source": [
    "np.save('/kaggle/working/distance_vectors_train.npy', distance_vectors)"
   ]
  }
 ],
 "metadata": {
  "kaggle": {
   "accelerator": "none",
   "dataSources": [
    {
     "datasetId": 6669550,
     "sourceId": 10759284,
     "sourceType": "datasetVersion"
    }
   ],
   "dockerImageVersionId": 30839,
   "isGpuEnabled": false,
   "isInternetEnabled": true,
   "language": "python",
   "sourceType": "notebook"
  },
  "kernelspec": {
   "display_name": "Python 3",
   "language": "python",
   "name": "python3"
  },
  "language_info": {
   "codemirror_mode": {
    "name": "ipython",
    "version": 3
   },
   "file_extension": ".py",
   "mimetype": "text/x-python",
   "name": "python",
   "nbconvert_exporter": "python",
   "pygments_lexer": "ipython3",
   "version": "3.10.12"
  },
  "papermill": {
   "default_parameters": {},
   "duration": 1445.191623,
   "end_time": "2025-02-15T20:00:43.461845",
   "environment_variables": {},
   "exception": null,
   "input_path": "__notebook__.ipynb",
   "output_path": "__notebook__.ipynb",
   "parameters": {},
   "start_time": "2025-02-15T19:36:38.270222",
   "version": "2.6.0"
  }
 },
 "nbformat": 4,
 "nbformat_minor": 5
}
