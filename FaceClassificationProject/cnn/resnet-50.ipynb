{
 "cells": [
  {
   "cell_type": "code",
   "execution_count": null,
   "id": "29154862",
   "metadata": {
    "execution": {
     "iopub.execute_input": "2025-02-15T16:29:12.945795Z",
     "iopub.status.busy": "2025-02-15T16:29:12.945241Z",
     "iopub.status.idle": "2025-02-15T16:29:32.137932Z",
     "shell.execute_reply": "2025-02-15T16:29:32.136610Z"
    },
    "papermill": {
     "duration": 19.281383,
     "end_time": "2025-02-15T16:29:32.140733",
     "exception": false,
     "start_time": "2025-02-15T16:29:12.859350",
     "status": "completed"
    },
    "tags": []
   },
   "outputs": [],
   "source": [
    "import numpy as np\n",
    "import tensorflow as tf\n",
    "import matplotlib.pyplot as plt\n",
    "from tensorflow.keras.applications import ResNet50\n",
    "from tensorflow.keras.layers import Dense, GlobalAveragePooling2D, Dropout\n",
    "from tensorflow.keras.models import Model\n",
    "from tensorflow.keras.optimizers import Adam\n",
    "from tensorflow.keras.preprocessing.image import ImageDataGenerator\n",
    "from tensorflow.keras.callbacks import EarlyStopping, ReduceLROnPlateau"
   ]
  },
  {
   "cell_type": "code",
   "execution_count": 4,
   "id": "a78df5b6",
   "metadata": {
    "execution": {
     "iopub.execute_input": "2025-02-15T16:29:32.311775Z",
     "iopub.status.busy": "2025-02-15T16:29:32.310759Z",
     "iopub.status.idle": "2025-02-15T16:29:32.318747Z",
     "shell.execute_reply": "2025-02-15T16:29:32.317747Z"
    },
    "papermill": {
     "duration": 0.093771,
     "end_time": "2025-02-15T16:29:32.320894",
     "exception": false,
     "start_time": "2025-02-15T16:29:32.227123",
     "status": "completed"
    },
    "tags": []
   },
   "outputs": [],
   "source": [
    "# Paths to dataset\n",
    "train_data_dir = '/kaggle/working/train'\n",
    "val_data_dir = '/kaggle/working/val'\n",
    "test_data_dir = '/kaggle/working/test'\n",
    "\n",
    "# Image properties\n",
    "img_height, img_width = 224, 224\n",
    "batch_size = 32\n",
    "num_classes = 488  # Number of classes\n",
    "\n",
    "# Data augmentation\n",
    "train_datagen = ImageDataGenerator(\n",
    "    rescale=1.0 / 255.0,\n",
    "    rotation_range=30,\n",
    "    width_shift_range=0.3,\n",
    "    height_shift_range=0.3,\n",
    "    shear_range=0.3,\n",
    "    zoom_range=0.3,\n",
    "    horizontal_flip=True,\n",
    "    brightness_range=[0.7, 1.3],\n",
    "    channel_shift_range=50.0,\n",
    "    fill_mode='nearest'\n",
    ")\n",
    "\n",
    "val_test_datagen = ImageDataGenerator(rescale=1.0 / 255.0)"
   ]
  },
  {
   "cell_type": "code",
   "execution_count": 5,
   "id": "7dfac23c",
   "metadata": {
    "execution": {
     "iopub.execute_input": "2025-02-15T16:29:32.497558Z",
     "iopub.status.busy": "2025-02-15T16:29:32.496984Z",
     "iopub.status.idle": "2025-02-15T16:29:34.001535Z",
     "shell.execute_reply": "2025-02-15T16:29:34.000296Z"
    },
    "papermill": {
     "duration": 1.596519,
     "end_time": "2025-02-15T16:29:34.003548",
     "exception": false,
     "start_time": "2025-02-15T16:29:32.407029",
     "status": "completed"
    },
    "tags": []
   },
   "outputs": [
    {
     "name": "stdout",
     "output_type": "stream",
     "text": [
      "Found 31921 images belonging to 488 classes.\n",
      "Found 4238 images belonging to 488 classes.\n",
      "Found 3988 images belonging to 488 classes.\n"
     ]
    }
   ],
   "source": [
    "# Load datasets\n",
    "train_generator = train_datagen.flow_from_directory(\n",
    "    train_data_dir,\n",
    "    target_size=(img_height, img_width),\n",
    "    batch_size=batch_size,\n",
    "    class_mode='categorical'\n",
    ")\n",
    "\n",
    "val_generator = val_test_datagen.flow_from_directory(\n",
    "    val_data_dir,\n",
    "    target_size=(img_height, img_width),\n",
    "    batch_size=batch_size,\n",
    "    class_mode='categorical'\n",
    ")\n",
    "\n",
    "test_generator = val_test_datagen.flow_from_directory(\n",
    "    test_data_dir,\n",
    "    target_size=(img_height, img_width),\n",
    "    batch_size=batch_size,\n",
    "    class_mode='categorical',\n",
    "    shuffle=False\n",
    ")"
   ]
  },
  {
   "cell_type": "markdown",
   "id": "25fd94c1",
   "metadata": {
    "papermill": {
     "duration": 0.084621,
     "end_time": "2025-02-15T16:29:34.169588",
     "exception": false,
     "start_time": "2025-02-15T16:29:34.084967",
     "status": "completed"
    },
    "tags": []
   },
   "source": [
    "# `ResNet-50`"
   ]
  },
  {
   "cell_type": "code",
   "execution_count": 6,
   "id": "38e2db3a",
   "metadata": {
    "execution": {
     "iopub.execute_input": "2025-02-15T16:29:34.337661Z",
     "iopub.status.busy": "2025-02-15T16:29:34.337245Z",
     "iopub.status.idle": "2025-02-15T16:29:39.528668Z",
     "shell.execute_reply": "2025-02-15T16:29:39.527393Z"
    },
    "papermill": {
     "duration": 5.278466,
     "end_time": "2025-02-15T16:29:39.530730",
     "exception": false,
     "start_time": "2025-02-15T16:29:34.252264",
     "status": "completed"
    },
    "tags": []
   },
   "outputs": [
    {
     "name": "stdout",
     "output_type": "stream",
     "text": [
      "Downloading data from https://storage.googleapis.com/tensorflow/keras-applications/resnet/resnet50_weights_tf_dim_ordering_tf_kernels_notop.h5\n",
      "\u001b[1m94765736/94765736\u001b[0m \u001b[32m━━━━━━━━━━━━━━━━━━━━\u001b[0m\u001b[37m\u001b[0m \u001b[1m3s\u001b[0m 0us/step\n"
     ]
    }
   ],
   "source": [
    "# Load ResNet50 with pre-trained ImageNet weights\n",
    "base_model = ResNet50(weights='imagenet', include_top=False, input_shape=(img_height, img_width, 3))"
   ]
  },
  {
   "cell_type": "code",
   "execution_count": 7,
   "id": "2981bd35",
   "metadata": {
    "execution": {
     "iopub.execute_input": "2025-02-15T16:29:39.696544Z",
     "iopub.status.busy": "2025-02-15T16:29:39.696129Z",
     "iopub.status.idle": "2025-02-15T16:29:39.739148Z",
     "shell.execute_reply": "2025-02-15T16:29:39.738194Z"
    },
    "papermill": {
     "duration": 0.129078,
     "end_time": "2025-02-15T16:29:39.740990",
     "exception": false,
     "start_time": "2025-02-15T16:29:39.611912",
     "status": "completed"
    },
    "tags": []
   },
   "outputs": [],
   "source": [
    "# Freeze base layers\n",
    "for layer in base_model.layers:\n",
    "    layer.trainable = False  # Freeze pretrained layers\n",
    "\n",
    "# Add custom classification layers\n",
    "x = base_model.output\n",
    "x = GlobalAveragePooling2D()(x)\n",
    "x = Dense(1024, activation='relu')(x)\n",
    "x = Dropout(0.5)(x)  # Regularization\n",
    "predictions = Dense(num_classes, activation='softmax')(x)"
   ]
  },
  {
   "cell_type": "code",
   "execution_count": 8,
   "id": "4ffc8921",
   "metadata": {
    "execution": {
     "iopub.execute_input": "2025-02-15T16:29:39.908949Z",
     "iopub.status.busy": "2025-02-15T16:29:39.908579Z",
     "iopub.status.idle": "2025-02-15T16:29:39.924534Z",
     "shell.execute_reply": "2025-02-15T16:29:39.923394Z"
    },
    "papermill": {
     "duration": 0.101549,
     "end_time": "2025-02-15T16:29:39.926424",
     "exception": false,
     "start_time": "2025-02-15T16:29:39.824875",
     "status": "completed"
    },
    "tags": []
   },
   "outputs": [],
   "source": [
    "model = Model(inputs=base_model.input, outputs=predictions)"
   ]
  },
  {
   "cell_type": "code",
   "execution_count": 9,
   "id": "c3899d0c",
   "metadata": {
    "execution": {
     "iopub.execute_input": "2025-02-15T16:29:40.095877Z",
     "iopub.status.busy": "2025-02-15T16:29:40.095424Z",
     "iopub.status.idle": "2025-02-15T16:29:40.111240Z",
     "shell.execute_reply": "2025-02-15T16:29:40.109956Z"
    },
    "papermill": {
     "duration": 0.103093,
     "end_time": "2025-02-15T16:29:40.113236",
     "exception": false,
     "start_time": "2025-02-15T16:29:40.010143",
     "status": "completed"
    },
    "tags": []
   },
   "outputs": [],
   "source": [
    "# Compile model\n",
    "model.compile(optimizer=Adam(learning_rate=0.001), loss='categorical_crossentropy', metrics=['accuracy'])"
   ]
  },
  {
   "cell_type": "code",
   "execution_count": 10,
   "id": "de15f84c",
   "metadata": {
    "execution": {
     "iopub.execute_input": "2025-02-15T16:29:40.282841Z",
     "iopub.status.busy": "2025-02-15T16:29:40.282439Z",
     "iopub.status.idle": "2025-02-15T16:29:40.287431Z",
     "shell.execute_reply": "2025-02-15T16:29:40.286242Z"
    },
    "papermill": {
     "duration": 0.091734,
     "end_time": "2025-02-15T16:29:40.289336",
     "exception": false,
     "start_time": "2025-02-15T16:29:40.197602",
     "status": "completed"
    },
    "tags": []
   },
   "outputs": [],
   "source": [
    "# Callbacks to prevent overfitting\n",
    "early_stopping = EarlyStopping(monitor='val_loss', patience=5, restore_best_weights=True)\n",
    "reduce_lr = ReduceLROnPlateau(monitor='val_loss', factor=0.5, patience=2, min_lr=1e-6)"
   ]
  },
  {
   "cell_type": "code",
   "execution_count": 11,
   "id": "92183919",
   "metadata": {
    "execution": {
     "iopub.execute_input": "2025-02-15T16:29:40.458919Z",
     "iopub.status.busy": "2025-02-15T16:29:40.458504Z",
     "iopub.status.idle": "2025-02-15T16:29:40.463526Z",
     "shell.execute_reply": "2025-02-15T16:29:40.462469Z"
    },
    "papermill": {
     "duration": 0.093776,
     "end_time": "2025-02-15T16:29:40.465382",
     "exception": false,
     "start_time": "2025-02-15T16:29:40.371606",
     "status": "completed"
    },
    "tags": []
   },
   "outputs": [],
   "source": [
    "# Fix steps to avoid running out of data\n",
    "steps_per_epoch = max(1, len(train_generator))\n",
    "validation_steps = max(1, len(val_generator))\n",
    "test_steps = max(1, len(test_generator))"
   ]
  },
  {
   "cell_type": "code",
   "execution_count": 12,
   "id": "08c3938a",
   "metadata": {
    "execution": {
     "iopub.execute_input": "2025-02-15T16:29:40.631977Z",
     "iopub.status.busy": "2025-02-15T16:29:40.631606Z",
     "iopub.status.idle": "2025-02-16T02:28:06.984889Z",
     "shell.execute_reply": "2025-02-16T02:28:06.982472Z"
    },
    "papermill": {
     "duration": 35906.86011,
     "end_time": "2025-02-16T02:28:07.406725",
     "exception": false,
     "start_time": "2025-02-15T16:29:40.546615",
     "status": "completed"
    },
    "tags": []
   },
   "outputs": [
    {
     "name": "stdout",
     "output_type": "stream",
     "text": [
      "Epoch 1/20\n"
     ]
    },
    {
     "name": "stderr",
     "output_type": "stream",
     "text": []
    },
    {
     "name": "stdout",
     "output_type": "stream",
     "text": [
      "\u001b[1m998/998\u001b[0m \u001b[32m━━━━━━━━━━━━━━━━━━━━\u001b[0m\u001b[37m\u001b[0m \u001b[1m3593s\u001b[0m 4s/step - accuracy: 0.0024 - loss: 6.2304 - val_accuracy: 0.0031 - val_loss: 6.1781 - learning_rate: 0.0010\n",
      "Epoch 2/20\n",
      "\u001b[1m998/998\u001b[0m \u001b[32m━━━━━━━━━━━━━━━━━━━━\u001b[0m\u001b[37m\u001b[0m \u001b[1m0s\u001b[0m 184us/step - accuracy: 0.0000e+00 - loss: 0.0000e+00 - learning_rate: 0.0010\n",
      "Epoch 3/20\n"
     ]
    },
    {
     "name": "stderr",
     "output_type": "stream",
     "text": []
    },
    {
     "name": "stdout",
     "output_type": "stream",
     "text": [
      "\u001b[1m998/998\u001b[0m \u001b[32m━━━━━━━━━━━━━━━━━━━━\u001b[0m\u001b[37m\u001b[0m \u001b[1m3593s\u001b[0m 4s/step - accuracy: 0.0028 - loss: 6.1763 - val_accuracy: 0.0031 - val_loss: 6.1713 - learning_rate: 0.0010\n",
      "Epoch 4/20\n",
      "\u001b[1m998/998\u001b[0m \u001b[32m━━━━━━━━━━━━━━━━━━━━\u001b[0m\u001b[37m\u001b[0m \u001b[1m2s\u001b[0m 2ms/step - accuracy: 0.0000e+00 - loss: 0.0000e+00 - learning_rate: 0.0010\n",
      "Epoch 5/20\n",
      "\u001b[1m998/998\u001b[0m \u001b[32m━━━━━━━━━━━━━━━━━━━━\u001b[0m\u001b[37m\u001b[0m \u001b[1m3577s\u001b[0m 4s/step - accuracy: 0.0028 - loss: 6.1692 - val_accuracy: 0.0031 - val_loss: 6.1674 - learning_rate: 0.0010\n",
      "Epoch 6/20\n",
      "\u001b[1m998/998\u001b[0m \u001b[32m━━━━━━━━━━━━━━━━━━━━\u001b[0m\u001b[37m\u001b[0m \u001b[1m0s\u001b[0m 58us/step - accuracy: 0.0000e+00 - loss: 0.0000e+00 - learning_rate: 0.0010\n",
      "Epoch 7/20\n",
      "\u001b[1m998/998\u001b[0m \u001b[32m━━━━━━━━━━━━━━━━━━━━\u001b[0m\u001b[37m\u001b[0m \u001b[1m3579s\u001b[0m 4s/step - accuracy: 0.0029 - loss: 6.1666 - val_accuracy: 0.0031 - val_loss: 6.1652 - learning_rate: 0.0010\n",
      "Epoch 8/20\n",
      "\u001b[1m998/998\u001b[0m \u001b[32m━━━━━━━━━━━━━━━━━━━━\u001b[0m\u001b[37m\u001b[0m \u001b[1m0s\u001b[0m 62us/step - accuracy: 0.0000e+00 - loss: 0.0000e+00 - learning_rate: 0.0010\n",
      "Epoch 9/20\n",
      "\u001b[1m998/998\u001b[0m \u001b[32m━━━━━━━━━━━━━━━━━━━━\u001b[0m\u001b[37m\u001b[0m \u001b[1m3601s\u001b[0m 4s/step - accuracy: 0.0024 - loss: 6.1628 - val_accuracy: 0.0031 - val_loss: 6.1639 - learning_rate: 0.0010\n",
      "Epoch 10/20\n",
      "\u001b[1m998/998\u001b[0m \u001b[32m━━━━━━━━━━━━━━━━━━━━\u001b[0m\u001b[37m\u001b[0m \u001b[1m0s\u001b[0m 63us/step - accuracy: 0.0000e+00 - loss: 0.0000e+00 - learning_rate: 0.0010\n",
      "Epoch 11/20\n",
      "\u001b[1m998/998\u001b[0m \u001b[32m━━━━━━━━━━━━━━━━━━━━\u001b[0m\u001b[37m\u001b[0m \u001b[1m3617s\u001b[0m 4s/step - accuracy: 0.0031 - loss: 6.1617 - val_accuracy: 0.0031 - val_loss: 6.1633 - learning_rate: 0.0010\n",
      "Epoch 12/20\n",
      "\u001b[1m998/998\u001b[0m \u001b[32m━━━━━━━━━━━━━━━━━━━━\u001b[0m\u001b[37m\u001b[0m \u001b[1m0s\u001b[0m 75us/step - accuracy: 0.0000e+00 - loss: 0.0000e+00 - learning_rate: 0.0010\n",
      "Epoch 13/20\n",
      "\u001b[1m998/998\u001b[0m \u001b[32m━━━━━━━━━━━━━━━━━━━━\u001b[0m\u001b[37m\u001b[0m \u001b[1m3586s\u001b[0m 4s/step - accuracy: 0.0030 - loss: 6.1588 - val_accuracy: 0.0031 - val_loss: 6.1629 - learning_rate: 0.0010\n",
      "Epoch 14/20\n",
      "\u001b[1m998/998\u001b[0m \u001b[32m━━━━━━━━━━━━━━━━━━━━\u001b[0m\u001b[37m\u001b[0m \u001b[1m2s\u001b[0m 2ms/step - accuracy: 0.0000e+00 - loss: 0.0000e+00 - learning_rate: 0.0010\n",
      "Epoch 15/20\n",
      "\u001b[1m998/998\u001b[0m \u001b[32m━━━━━━━━━━━━━━━━━━━━\u001b[0m\u001b[37m\u001b[0m \u001b[1m3587s\u001b[0m 4s/step - accuracy: 0.0029 - loss: 6.1610 - val_accuracy: 0.0031 - val_loss: 6.1627 - learning_rate: 0.0010\n",
      "Epoch 16/20\n",
      "\u001b[1m998/998\u001b[0m \u001b[32m━━━━━━━━━━━━━━━━━━━━\u001b[0m\u001b[37m\u001b[0m \u001b[1m0s\u001b[0m 75us/step - accuracy: 0.0000e+00 - loss: 0.0000e+00 - learning_rate: 0.0010\n",
      "Epoch 17/20\n",
      "\u001b[1m998/998\u001b[0m \u001b[32m━━━━━━━━━━━━━━━━━━━━\u001b[0m\u001b[37m\u001b[0m \u001b[1m3589s\u001b[0m 4s/step - accuracy: 0.0031 - loss: 6.1587 - val_accuracy: 0.0031 - val_loss: 6.1626 - learning_rate: 0.0010\n",
      "Epoch 18/20\n",
      "\u001b[1m998/998\u001b[0m \u001b[32m━━━━━━━━━━━━━━━━━━━━\u001b[0m\u001b[37m\u001b[0m \u001b[1m0s\u001b[0m 84us/step - accuracy: 0.0000e+00 - loss: 0.0000e+00 - learning_rate: 0.0010\n",
      "Epoch 19/20\n",
      "\u001b[1m998/998\u001b[0m \u001b[32m━━━━━━━━━━━━━━━━━━━━\u001b[0m\u001b[37m\u001b[0m \u001b[1m3578s\u001b[0m 4s/step - accuracy: 0.0028 - loss: 6.1594 - val_accuracy: 0.0031 - val_loss: 6.1626 - learning_rate: 0.0010\n",
      "Epoch 20/20\n",
      "\u001b[1m998/998\u001b[0m \u001b[32m━━━━━━━━━━━━━━━━━━━━\u001b[0m\u001b[37m\u001b[0m \u001b[1m0s\u001b[0m 73us/step - accuracy: 0.0000e+00 - loss: 0.0000e+00 - learning_rate: 0.0010\n"
     ]
    }
   ],
   "source": [
    "epochs = 20\n",
    "history = model.fit(\n",
    "    train_generator,\n",
    "    validation_data=val_generator,\n",
    "    epochs=epochs,\n",
    "    steps_per_epoch=steps_per_epoch,\n",
    "    validation_steps=validation_steps,\n",
    "    callbacks=[early_stopping, reduce_lr],\n",
    "    verbose=1\n",
    ")"
   ]
  },
  {
   "cell_type": "code",
   "execution_count": 13,
   "id": "499b3551",
   "metadata": {
    "execution": {
     "iopub.execute_input": "2025-02-16T02:28:08.882471Z",
     "iopub.status.busy": "2025-02-16T02:28:08.878603Z",
     "iopub.status.idle": "2025-02-16T02:28:09.423589Z",
     "shell.execute_reply": "2025-02-16T02:28:09.422466Z"
    },
    "papermill": {
     "duration": 1.356129,
     "end_time": "2025-02-16T02:28:09.425298",
     "exception": false,
     "start_time": "2025-02-16T02:28:08.069169",
     "status": "completed"
    },
    "tags": []
   },
   "outputs": [],
   "source": [
    "# Save trained model\n",
    "model.save('resnet50.h5')"
   ]
  },
  {
   "cell_type": "markdown",
   "id": "db3f0b83",
   "metadata": {},
   "source": [
    "# `Test Performance`"
   ]
  },
  {
   "cell_type": "code",
   "execution_count": 14,
   "id": "fc591b8f",
   "metadata": {
    "execution": {
     "iopub.execute_input": "2025-02-16T02:28:10.727235Z",
     "iopub.status.busy": "2025-02-16T02:28:10.726611Z",
     "iopub.status.idle": "2025-02-16T02:28:10.732003Z",
     "shell.execute_reply": "2025-02-16T02:28:10.731120Z"
    },
    "papermill": {
     "duration": 0.662226,
     "end_time": "2025-02-16T02:28:10.733720",
     "exception": false,
     "start_time": "2025-02-16T02:28:10.071494",
     "status": "completed"
    },
    "tags": []
   },
   "outputs": [],
   "source": [
    "final_train_acc = history.history['accuracy'][-1]\n",
    "final_val_acc = history.history['val_accuracy'][-1]"
   ]
  },
  {
   "cell_type": "code",
   "execution_count": 15,
   "id": "2e1375ee",
   "metadata": {
    "execution": {
     "iopub.execute_input": "2025-02-16T02:28:12.034989Z",
     "iopub.status.busy": "2025-02-16T02:28:12.034625Z",
     "iopub.status.idle": "2025-02-16T02:34:34.134315Z",
     "shell.execute_reply": "2025-02-16T02:34:34.132937Z"
    },
    "papermill": {
     "duration": 382.754428,
     "end_time": "2025-02-16T02:34:34.136394",
     "exception": false,
     "start_time": "2025-02-16T02:28:11.381966",
     "status": "completed"
    },
    "tags": []
   },
   "outputs": [
    {
     "name": "stdout",
     "output_type": "stream",
     "text": [
      "\u001b[1m125/125\u001b[0m \u001b[32m━━━━━━━━━━━━━━━━━━━━\u001b[0m\u001b[37m\u001b[0m \u001b[1m363s\u001b[0m 3s/step - accuracy: 0.0018 - loss: 6.1435\n"
     ]
    }
   ],
   "source": [
    "# Evaluate model on test set\n",
    "test_loss, final_test_acc = model.evaluate(test_generator, steps=test_steps)"
   ]
  },
  {
   "cell_type": "code",
   "execution_count": null,
   "id": "ac5142f0",
   "metadata": {
    "execution": {
     "iopub.execute_input": "2025-02-16T02:34:35.455860Z",
     "iopub.status.busy": "2025-02-16T02:34:35.455480Z",
     "iopub.status.idle": "2025-02-16T02:34:35.461797Z",
     "shell.execute_reply": "2025-02-16T02:34:35.460587Z"
    },
    "papermill": {
     "duration": 0.668376,
     "end_time": "2025-02-16T02:34:35.463753",
     "exception": false,
     "start_time": "2025-02-16T02:34:34.795377",
     "status": "completed"
    },
    "tags": []
   },
   "outputs": [
    {
     "name": "stdout",
     "output_type": "stream",
     "text": [
      "\n",
      "ResNet50 Results:\n",
      "Final Train Accuracy: 0.0219\n",
      "Final Validation Accuracy: 0.0316\n",
      "Final Test Accuracy: 0.0341\n"
     ]
    }
   ],
   "source": [
    "# Print results\n",
    "print(\"\\nResNet50 Results:\")\n",
    "print(f\"Final Train Accuracy: {final_train_acc:.4f}\")\n",
    "print(f\"Final Validation Accuracy: {final_val_acc:.4f}\")\n",
    "print(f\"Final Test Accuracy: {final_test_acc:.4f}\")"
   ]
  },
  {
   "cell_type": "code",
   "execution_count": null,
   "id": "01ed8e1e",
   "metadata": {},
   "outputs": [
    {
     "data": {
      "image/png": "[encoded data removed]",
      "text/plain": [
       "<Figure size 1200x500 with 2 Axes>"
      ]
     },
     "metadata": {},
     "output_type": "display_data"
    }
   ],
   "source": [
    "\n",
    "plt.figure(figsize=(12, 5))\n",
    "\n",
    "# Accuracy plot\n",
    "plt.subplot(1, 2, 1)\n",
    "plt.plot(history['accuracy'], label='Train Accuracy')\n",
    "plt.plot(history['val_accuracy'], label='Val Accuracy')\n",
    "plt.title('ResNet-50 Accuracy')\n",
    "plt.xlabel('Epochs')\n",
    "plt.ylabel('Accuracy')\n",
    "plt.legend()\n",
    "\n",
    "# Loss plot\n",
    "plt.subplot(1, 2, 2)\n",
    "plt.plot(history['loss'], label='Train Loss')\n",
    "plt.plot(history['val_loss'], label='Val Loss')\n",
    "plt.title('ResNet-50 Loss')\n",
    "plt.xlabel('Epochs')\n",
    "plt.ylabel('Loss')\n",
    "plt.legend()\n",
    "\n",
    "plt.show()"
   ]
  }
 ],
 "metadata": {
  "kaggle": {
   "accelerator": "none",
   "dataSources": [],
   "dockerImageVersionId": 30839,
   "isGpuEnabled": false,
   "isInternetEnabled": true,
   "language": "python",
   "sourceType": "notebook"
  },
  "kernelspec": {
   "display_name": "base",
   "language": "python",
   "name": "python3"
  },
  "language_info": {
   "codemirror_mode": {
    "name": "ipython",
    "version": 3
   },
   "file_extension": ".py",
   "mimetype": "text/x-python",
   "name": "python",
   "nbconvert_exporter": "python",
   "pygments_lexer": "ipython3",
   "version": "3.11.9"
  },
  "papermill": {
   "default_parameters": {},
   "duration": 36369.158736,
   "end_time": "2025-02-16T02:34:51.340419",
   "environment_variables": {},
   "exception": null,
   "input_path": "__notebook__.ipynb",
   "output_path": "__notebook__.ipynb",
   "parameters": {},
   "start_time": "2025-02-15T16:28:42.181683",
   "version": "2.6.0"
  }
 },
 "nbformat": 4,
 "nbformat_minor": 5
}
