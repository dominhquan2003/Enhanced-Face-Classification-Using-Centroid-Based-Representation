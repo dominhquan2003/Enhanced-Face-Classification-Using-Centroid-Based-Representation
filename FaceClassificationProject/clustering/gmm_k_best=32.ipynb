{
 "cells": [
  {
   "cell_type": "code",
   "execution_count": 1,
   "id": "ab4e004a",
   "metadata": {
    "_cell_guid": "b1076dfc-b9ad-4769-8c92-a6c4dae69d19",
    "_uuid": "8f2839f25d086af736a60e9eeb907d3b93b6e0e5",
    "execution": {
     "iopub.execute_input": "2025-02-15T19:33:22.399719Z",
     "iopub.status.busy": "2025-02-15T19:33:22.399153Z",
     "iopub.status.idle": "2025-02-15T19:33:24.389319Z",
     "shell.execute_reply": "2025-02-15T19:33:24.388105Z"
    },
    "papermill": {
     "duration": 1.9978,
     "end_time": "2025-02-15T19:33:24.391730",
     "exception": false,
     "start_time": "2025-02-15T19:33:22.393930",
     "status": "completed"
    },
    "tags": []
   },
   "outputs": [],
   "source": [
    "import numpy as np\n",
    "import joblib\n",
    "import matplotlib.pyplot as plt\n",
    "from sklearn.mixture import GaussianMixture\n",
    "from sklearn.decomposition import PCA"
   ]
  },
  {
   "cell_type": "code",
   "execution_count": 2,
   "id": "605e4c00",
   "metadata": {
    "execution": {
     "iopub.execute_input": "2025-02-15T19:33:24.399957Z",
     "iopub.status.busy": "2025-02-15T19:33:24.399352Z",
     "iopub.status.idle": "2025-02-15T19:34:31.070365Z",
     "shell.execute_reply": "2025-02-15T19:34:31.068989Z"
    },
    "papermill": {
     "duration": 66.677419,
     "end_time": "2025-02-15T19:34:31.072792",
     "exception": false,
     "start_time": "2025-02-15T19:33:24.395373",
     "status": "completed"
    },
    "tags": []
   },
   "outputs": [],
   "source": [
    "# Load feature maps and labels\n",
    "feature_maps_array = np.load('/kaggle/input/pit-feature-maps-mobilenetv2/train_feature_maps.npy')\n",
    "labels_array = np.load('/kaggle/input/pit-feature-maps-mobilenetv2/train_labels.npy')"
   ]
  },
  {
   "cell_type": "code",
   "execution_count": 3,
   "id": "7ab40b78",
   "metadata": {
    "execution": {
     "iopub.execute_input": "2025-02-15T19:34:31.081022Z",
     "iopub.status.busy": "2025-02-15T19:34:31.080532Z",
     "iopub.status.idle": "2025-02-15T19:36:19.318774Z",
     "shell.execute_reply": "2025-02-15T19:36:19.317609Z"
    },
    "papermill": {
     "duration": 108.247145,
     "end_time": "2025-02-15T19:36:19.323538",
     "exception": false,
     "start_time": "2025-02-15T19:34:31.076393",
     "status": "completed"
    },
    "tags": []
   },
   "outputs": [
    {
     "data": {
      "text/plain": [
       "['/kaggle/working/pca_model.pkl']"
      ]
     },
     "execution_count": 3,
     "metadata": {},
     "output_type": "execute_result"
    }
   ],
   "source": [
    "labels = np.argmax(labels_array, axis=1)   \n",
    "unique_labels = np.unique(labels)  \n",
    "num_people = len(unique_labels)  \n",
    "\n",
    "# Reshape feature maps\n",
    "num_samples, height, width, channels = feature_maps_array.shape\n",
    "feature_maps_reshaped = feature_maps_array.reshape(num_samples, -1)\n",
    "\n",
    "# Reduce dimensions using PCA\n",
    "pca = PCA(n_components=128)\n",
    "feature_maps_reduced = pca.fit_transform(feature_maps_reshaped)\n",
    "\n",
    "# Save PCA model\n",
    "joblib.dump(pca, '/kaggle/working/pca_model.pkl')"
   ]
  },
  {
   "cell_type": "code",
   "execution_count": 4,
   "id": "e4b4c14b",
   "metadata": {
    "execution": {
     "iopub.execute_input": "2025-02-15T19:36:19.332502Z",
     "iopub.status.busy": "2025-02-15T19:36:19.332075Z",
     "iopub.status.idle": "2025-02-15T19:50:31.264065Z",
     "shell.execute_reply": "2025-02-15T19:50:31.262211Z"
    },
    "papermill": {
     "duration": 851.940354,
     "end_time": "2025-02-15T19:50:31.267041",
     "exception": false,
     "start_time": "2025-02-15T19:36:19.326687",
     "status": "completed"
    },
    "tags": []
   },
   "outputs": [
    {
     "name": "stderr",
     "output_type": "stream",
     "text": [
      "/usr/local/lib/python3.10/dist-packages/sklearn/mixture/_base.py:119: ConvergenceWarning: Number of distinct clusters (31) found smaller than n_clusters (32). Possibly due to duplicate points in X.\n",
      "  .fit(X)\n"
     ]
    }
   ],
   "source": [
    "# Finding the best k for clustering\n",
    "k_values = range(2, 33)\n",
    "best_k_values = {}\n",
    "\n",
    "for label in unique_labels:\n",
    "    person_indices = np.where(labels == label)[0]\n",
    "    person_feature_maps = feature_maps_reduced[person_indices]\n",
    "    \n",
    "    best_k = 2\n",
    "    best_score = float('inf')\n",
    "    \n",
    "    for k in k_values:\n",
    "        gmm = GaussianMixture(n_components=k, random_state=42)\n",
    "        gmm.fit(person_feature_maps)\n",
    "        \n",
    "        distances = np.linalg.norm(gmm.means_ - person_feature_maps[:, None, :], axis=2)\n",
    "        min_distances = np.min(distances, axis=1)\n",
    "        avg_distance = np.mean(min_distances)\n",
    "        \n",
    "        if avg_distance < best_score:\n",
    "            best_score = avg_distance\n",
    "            best_k = k\n",
    "    \n",
    "    best_k_values[label] = best_k"
   ]
  },
  {
   "cell_type": "code",
   "execution_count": 5,
   "id": "33e38615",
   "metadata": {
    "execution": {
     "iopub.execute_input": "2025-02-15T19:50:31.276954Z",
     "iopub.status.busy": "2025-02-15T19:50:31.276434Z",
     "iopub.status.idle": "2025-02-15T20:04:43.414456Z",
     "shell.execute_reply": "2025-02-15T20:04:43.413069Z"
    },
    "papermill": {
     "duration": 852.145545,
     "end_time": "2025-02-15T20:04:43.416879",
     "exception": false,
     "start_time": "2025-02-15T19:50:31.271334",
     "status": "completed"
    },
    "tags": []
   },
   "outputs": [
    {
     "name": "stderr",
     "output_type": "stream",
     "text": [
      "/usr/local/lib/python3.10/dist-packages/sklearn/mixture/_base.py:119: ConvergenceWarning: Number of distinct clusters (31) found smaller than n_clusters (32). Possibly due to duplicate points in X.\n",
      "  .fit(X)\n"
     ]
    }
   ],
   "source": [
    "avg_distances = {}\n",
    "for k in k_values:\n",
    "    total_distance = 0\n",
    "    count = 0\n",
    "    \n",
    "    for label in unique_labels:\n",
    "        person_indices = np.where(labels == label)[0]\n",
    "        person_feature_maps = feature_maps_reduced[person_indices]\n",
    "        \n",
    "        gmm = GaussianMixture(n_components=k, random_state=42)\n",
    "        gmm.fit(person_feature_maps)\n",
    "        \n",
    "        distances = np.linalg.norm(gmm.means_ - person_feature_maps[:, None, :], axis=2)\n",
    "        min_distances = np.min(distances, axis=1)\n",
    "        total_distance += np.mean(min_distances)\n",
    "        count += 1\n",
    "    \n",
    "    avg_distances[k] = total_distance / count"
   ]
  },
  {
   "cell_type": "code",
   "execution_count": 6,
   "id": "84e6f578",
   "metadata": {
    "execution": {
     "iopub.execute_input": "2025-02-15T20:04:43.425742Z",
     "iopub.status.busy": "2025-02-15T20:04:43.425248Z",
     "iopub.status.idle": "2025-02-15T20:04:44.016279Z",
     "shell.execute_reply": "2025-02-15T20:04:44.014880Z"
    },
    "papermill": {
     "duration": 0.598192,
     "end_time": "2025-02-15T20:04:44.018795",
     "exception": false,
     "start_time": "2025-02-15T20:04:43.420603",
     "status": "completed"
    },
    "tags": []
   },
   "outputs": [
    {
     "data": {
      "image/png": "[encoded data removed]",
      "text/plain": [
       "<Figure size 1200x500 with 1 Axes>"
      ]
     },
     "metadata": {},
     "output_type": "display_data"
    }
   ],
   "source": [
    "plt.figure(figsize=(12, 5))\n",
    "bars = plt.bar(avg_distances.keys(), avg_distances.values())\n",
    "plt.xlabel(\"k\")\n",
    "plt.ylabel(\"Average Distance to Nearest Centroid\")\n",
    "plt.title(\"Average Distance vs k\")\n",
    "\n",
    "plt.bar_label(bars, fmt='%.3f', padding=3)\n",
    "plt.xticks(list(avg_distances.keys()))\n",
    "plt.show()"
   ]
  },
  {
   "cell_type": "code",
   "execution_count": 7,
   "id": "d945c830",
   "metadata": {
    "execution": {
     "iopub.execute_input": "2025-02-15T20:04:44.029703Z",
     "iopub.status.busy": "2025-02-15T20:04:44.029307Z",
     "iopub.status.idle": "2025-02-15T20:04:44.034571Z",
     "shell.execute_reply": "2025-02-15T20:04:44.033416Z"
    },
    "papermill": {
     "duration": 0.012763,
     "end_time": "2025-02-15T20:04:44.036398",
     "exception": false,
     "start_time": "2025-02-15T20:04:44.023635",
     "status": "completed"
    },
    "tags": []
   },
   "outputs": [
    {
     "name": "stdout",
     "output_type": "stream",
     "text": [
      "Best k: 32\n"
     ]
    }
   ],
   "source": [
    "best_k = min(avg_distances, key=avg_distances.get)\n",
    "print(f\"Best k: {best_k}\")"
   ]
  },
  {
   "cell_type": "code",
   "execution_count": 8,
   "id": "8c5e64a4",
   "metadata": {
    "execution": {
     "iopub.execute_input": "2025-02-15T20:04:44.047545Z",
     "iopub.status.busy": "2025-02-15T20:04:44.047152Z",
     "iopub.status.idle": "2025-02-15T20:05:56.861298Z",
     "shell.execute_reply": "2025-02-15T20:05:56.859760Z"
    },
    "papermill": {
     "duration": 72.823144,
     "end_time": "2025-02-15T20:05:56.864381",
     "exception": false,
     "start_time": "2025-02-15T20:04:44.041237",
     "status": "completed"
    },
    "tags": []
   },
   "outputs": [],
   "source": [
    "# Clustering using the best k\n",
    "all_centroids = []\n",
    "\n",
    "for label in unique_labels:\n",
    "    person_indices = np.where(labels == label)[0]\n",
    "    person_feature_maps = feature_maps_reduced[person_indices]\n",
    "    \n",
    "    best_k = best_k_values[label]\n",
    "    gmm = GaussianMixture(n_components=best_k, random_state=42)\n",
    "    gmm.fit(person_feature_maps)\n",
    "    joblib.dump(gmm, f\"/kaggle/working/gmm_model_{label}.pkl\")\n",
    "    \n",
    "    all_centroids.append(gmm.means_)"
   ]
  },
  {
   "cell_type": "code",
   "execution_count": 9,
   "id": "aa25da58",
   "metadata": {
    "execution": {
     "iopub.execute_input": "2025-02-15T20:05:56.879308Z",
     "iopub.status.busy": "2025-02-15T20:05:56.878633Z",
     "iopub.status.idle": "2025-02-15T20:05:56.921781Z",
     "shell.execute_reply": "2025-02-15T20:05:56.920732Z"
    },
    "papermill": {
     "duration": 0.052252,
     "end_time": "2025-02-15T20:05:56.923951",
     "exception": false,
     "start_time": "2025-02-15T20:05:56.871699",
     "status": "completed"
    },
    "tags": []
   },
   "outputs": [],
   "source": [
    "# Concatenate all centroids\n",
    "all_centroids = np.concatenate(all_centroids, axis=0)\n",
    "np.save('/kaggle/working/all_gmm_centroids.npy', all_centroids)"
   ]
  },
  {
   "cell_type": "code",
   "execution_count": 10,
   "id": "e116684c",
   "metadata": {
    "execution": {
     "iopub.execute_input": "2025-02-15T20:05:56.935662Z",
     "iopub.status.busy": "2025-02-15T20:05:56.935243Z",
     "iopub.status.idle": "2025-02-15T20:11:16.025116Z",
     "shell.execute_reply": "2025-02-15T20:11:16.023718Z"
    },
    "papermill": {
     "duration": 319.098789,
     "end_time": "2025-02-15T20:11:16.027994",
     "exception": false,
     "start_time": "2025-02-15T20:05:56.929205",
     "status": "completed"
    },
    "tags": []
   },
   "outputs": [],
   "source": [
    "# Compute distance vectors\n",
    "distance_vectors = []\n",
    "for feature_map in feature_maps_reduced:\n",
    "    distances = np.linalg.norm(all_centroids - feature_map, axis=1)\n",
    "    distance_vectors.append(distances)"
   ]
  },
  {
   "cell_type": "code",
   "execution_count": 11,
   "id": "a2460c3e",
   "metadata": {
    "execution": {
     "iopub.execute_input": "2025-02-15T20:11:16.040547Z",
     "iopub.status.busy": "2025-02-15T20:11:16.040079Z",
     "iopub.status.idle": "2025-02-15T20:11:29.512711Z",
     "shell.execute_reply": "2025-02-15T20:11:29.511170Z"
    },
    "papermill": {
     "duration": 13.481446,
     "end_time": "2025-02-15T20:11:29.515388",
     "exception": false,
     "start_time": "2025-02-15T20:11:16.033942",
     "status": "completed"
    },
    "tags": []
   },
   "outputs": [],
   "source": [
    "distance_vectors = np.array(distance_vectors)\n",
    "np.save('/kaggle/working/distance_vectors_train.npy', distance_vectors)"
   ]
  }
 ],
 "metadata": {
  "kaggle": {
   "accelerator": "none",
   "dataSources": [
    {
     "datasetId": 6669550,
     "sourceId": 10759284,
     "sourceType": "datasetVersion"
    }
   ],
   "dockerImageVersionId": 30886,
   "isGpuEnabled": false,
   "isInternetEnabled": true,
   "language": "python",
   "sourceType": "notebook"
  },
  "kernelspec": {
   "display_name": "Python 3",
   "language": "python",
   "name": "python3"
  },
  "language_info": {
   "codemirror_mode": {
    "name": "ipython",
    "version": 3
   },
   "file_extension": ".py",
   "mimetype": "text/x-python",
   "name": "python",
   "nbconvert_exporter": "python",
   "pygments_lexer": "ipython3",
   "version": "3.10.12"
  },
  "papermill": {
   "default_parameters": {},
   "duration": 2291.885619,
   "end_time": "2025-02-15T20:11:31.159183",
   "environment_variables": {},
   "exception": null,
   "input_path": "__notebook__.ipynb",
   "output_path": "__notebook__.ipynb",
   "parameters": {},
   "start_time": "2025-02-15T19:33:19.273564",
   "version": "2.6.0"
  }
 },
 "nbformat": 4,
 "nbformat_minor": 5
}
