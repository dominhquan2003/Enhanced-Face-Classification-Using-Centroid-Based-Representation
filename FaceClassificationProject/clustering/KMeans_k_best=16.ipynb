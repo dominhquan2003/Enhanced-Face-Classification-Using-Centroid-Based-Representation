{
 "cells": [
  {
   "cell_type": "code",
   "execution_count": 1,
   "id": "1a6c1194",
   "metadata": {
    "execution": {
     "iopub.execute_input": "2025-02-15T19:32:47.643614Z",
     "iopub.status.busy": "2025-02-15T19:32:47.643245Z",
     "iopub.status.idle": "2025-02-15T19:32:49.467394Z",
     "shell.execute_reply": "2025-02-15T19:32:49.466285Z"
    },
    "papermill": {
     "duration": 1.830654,
     "end_time": "2025-02-15T19:32:49.469349",
     "exception": false,
     "start_time": "2025-02-15T19:32:47.638695",
     "status": "completed"
    },
    "tags": []
   },
   "outputs": [],
   "source": [
    "import numpy as np\n",
    "import joblib\n",
    "import matplotlib.pyplot as plt\n",
    "from sklearn.cluster import KMeans\n",
    "from sklearn.decomposition import PCA"
   ]
  },
  {
   "cell_type": "code",
   "execution_count": 2,
   "id": "24903201",
   "metadata": {
    "execution": {
     "iopub.execute_input": "2025-02-15T19:32:49.476456Z",
     "iopub.status.busy": "2025-02-15T19:32:49.475980Z",
     "iopub.status.idle": "2025-02-15T19:33:36.773929Z",
     "shell.execute_reply": "2025-02-15T19:33:36.772917Z"
    },
    "papermill": {
     "duration": 47.303169,
     "end_time": "2025-02-15T19:33:36.775755",
     "exception": false,
     "start_time": "2025-02-15T19:32:49.472586",
     "status": "completed"
    },
    "tags": []
   },
   "outputs": [],
   "source": [
    "# Load feature maps and labels\n",
    "feature_maps_array = np.load('/kaggle/input/pit-feature-maps-mobilenetv2/train_feature_maps.npy')\n",
    "labels_array = np.load('/kaggle/input/pit-feature-maps-mobilenetv2/train_labels.npy')\n",
    "\n",
    "labels = np.argmax(labels_array, axis=1)   \n",
    "unique_labels = np.unique(labels)  \n",
    "num_people = len(unique_labels)  "
   ]
  },
  {
   "cell_type": "code",
   "execution_count": 3,
   "id": "932d8df1",
   "metadata": {
    "execution": {
     "iopub.execute_input": "2025-02-15T19:33:36.782871Z",
     "iopub.status.busy": "2025-02-15T19:33:36.782515Z",
     "iopub.status.idle": "2025-02-15T19:35:21.233230Z",
     "shell.execute_reply": "2025-02-15T19:35:21.231787Z"
    },
    "papermill": {
     "duration": 104.463466,
     "end_time": "2025-02-15T19:35:21.242227",
     "exception": false,
     "start_time": "2025-02-15T19:33:36.778761",
     "status": "completed"
    },
    "tags": []
   },
   "outputs": [
    {
     "data": {
      "text/plain": [
       "['/kaggle/working/pca_model.pkl']"
      ]
     },
     "execution_count": 3,
     "metadata": {},
     "output_type": "execute_result"
    }
   ],
   "source": [
    "# Reshape feature maps\n",
    "num_samples, height, width, channels = feature_maps_array.shape\n",
    "feature_maps_reshaped = feature_maps_array.reshape(num_samples, -1)\n",
    "\n",
    "# Reduce dimensions using PCA\n",
    "pca = PCA(n_components=128)\n",
    "feature_maps_reduced = pca.fit_transform(feature_maps_reshaped)\n",
    "\n",
    "# Save PCA model\n",
    "joblib.dump(pca, '/kaggle/working/pca_model.pkl')"
   ]
  },
  {
   "cell_type": "code",
   "execution_count": 4,
   "id": "6e93dfcc",
   "metadata": {
    "execution": {
     "iopub.execute_input": "2025-02-15T19:35:21.251016Z",
     "iopub.status.busy": "2025-02-15T19:35:21.250569Z",
     "iopub.status.idle": "2025-02-15T19:39:14.599260Z",
     "shell.execute_reply": "2025-02-15T19:39:14.598137Z"
    },
    "papermill": {
     "duration": 233.357446,
     "end_time": "2025-02-15T19:39:14.603195",
     "exception": false,
     "start_time": "2025-02-15T19:35:21.245749",
     "status": "completed"
    },
    "tags": []
   },
   "outputs": [],
   "source": [
    "# Finding the best k for clustering\n",
    "k_values = range(2, 17)\n",
    "best_k_values = {}\n",
    "\n",
    "for label in unique_labels:\n",
    "    person_indices = np.where(labels == label)[0]\n",
    "    person_feature_maps = feature_maps_reduced[person_indices]\n",
    "    \n",
    "    best_k = 2\n",
    "    best_score = float('inf')\n",
    "    \n",
    "    for k in k_values:\n",
    "        kmeans = KMeans(n_clusters=k, random_state=42, n_init=10)\n",
    "        kmeans.fit(person_feature_maps)\n",
    "        \n",
    "        distances = np.linalg.norm(kmeans.cluster_centers_ - person_feature_maps[:, None, :], axis=2)\n",
    "        min_distances = np.min(distances, axis=1)\n",
    "        avg_distance = np.mean(min_distances)\n",
    "        \n",
    "        if avg_distance < best_score:\n",
    "            best_score = avg_distance\n",
    "            best_k = k\n",
    "    \n",
    "    best_k_values[label] = best_k"
   ]
  },
  {
   "cell_type": "code",
   "execution_count": 5,
   "id": "00e4a00d",
   "metadata": {
    "execution": {
     "iopub.execute_input": "2025-02-15T19:39:14.614285Z",
     "iopub.status.busy": "2025-02-15T19:39:14.613861Z",
     "iopub.status.idle": "2025-02-15T19:43:09.200336Z",
     "shell.execute_reply": "2025-02-15T19:43:09.199344Z"
    },
    "papermill": {
     "duration": 234.59405,
     "end_time": "2025-02-15T19:43:09.202532",
     "exception": false,
     "start_time": "2025-02-15T19:39:14.608482",
     "status": "completed"
    },
    "tags": []
   },
   "outputs": [],
   "source": [
    "avg_distances = {}\n",
    "for k in k_values:\n",
    "    total_distance = 0\n",
    "    count = 0\n",
    "    \n",
    "    for label in unique_labels:\n",
    "        person_indices = np.where(labels == label)[0]\n",
    "        person_feature_maps = feature_maps_reduced[person_indices]\n",
    "        \n",
    "        kmeans = KMeans(n_clusters=k, random_state=42, n_init=10)\n",
    "        kmeans.fit(person_feature_maps)\n",
    "        \n",
    "        distances = np.linalg.norm(kmeans.cluster_centers_ - person_feature_maps[:, None, :], axis=2)\n",
    "        min_distances = np.min(distances, axis=1)\n",
    "        total_distance += np.mean(min_distances)\n",
    "        count += 1\n",
    "    \n",
    "    avg_distances[k] = total_distance / count"
   ]
  },
  {
   "cell_type": "code",
   "execution_count": 6,
   "id": "7782f49e",
   "metadata": {
    "execution": {
     "iopub.execute_input": "2025-02-15T19:43:09.212456Z",
     "iopub.status.busy": "2025-02-15T19:43:09.212074Z",
     "iopub.status.idle": "2025-02-15T19:43:09.616619Z",
     "shell.execute_reply": "2025-02-15T19:43:09.615236Z"
    },
    "papermill": {
     "duration": 0.412086,
     "end_time": "2025-02-15T19:43:09.618883",
     "exception": false,
     "start_time": "2025-02-15T19:43:09.206797",
     "status": "completed"
    },
    "tags": []
   },
   "outputs": [
    {
     "data": {
      "image/png": "[encoded data removed]",
      "text/plain": [
       "<Figure size 1200x500 with 1 Axes>"
      ]
     },
     "metadata": {},
     "output_type": "display_data"
    }
   ],
   "source": [
    "plt.figure(figsize=(12, 5))\n",
    "bars = plt.bar(avg_distances.keys(), avg_distances.values())\n",
    "plt.xlabel(\"k\")\n",
    "plt.ylabel(\"Average Distance to Nearest Centroid\")\n",
    "plt.title(\"Average Distance vs k\")\n",
    "plt.bar_label(bars, fmt='%.3f', padding=3)\n",
    "plt.xticks(list(avg_distances.keys()))\n",
    "plt.show()"
   ]
  },
  {
   "cell_type": "code",
   "execution_count": 7,
   "id": "13cbcbfa",
   "metadata": {
    "execution": {
     "iopub.execute_input": "2025-02-15T19:43:09.628676Z",
     "iopub.status.busy": "2025-02-15T19:43:09.628273Z",
     "iopub.status.idle": "2025-02-15T19:43:09.634509Z",
     "shell.execute_reply": "2025-02-15T19:43:09.633243Z"
    },
    "papermill": {
     "duration": 0.013049,
     "end_time": "2025-02-15T19:43:09.636441",
     "exception": false,
     "start_time": "2025-02-15T19:43:09.623392",
     "status": "completed"
    },
    "tags": []
   },
   "outputs": [
    {
     "name": "stdout",
     "output_type": "stream",
     "text": [
      "Best k: 16\n"
     ]
    }
   ],
   "source": [
    "best_k = min(avg_distances, key=avg_distances.get)\n",
    "print(f\"Best k: {best_k}\")"
   ]
  },
  {
   "cell_type": "code",
   "execution_count": 8,
   "id": "77093706",
   "metadata": {
    "execution": {
     "iopub.execute_input": "2025-02-15T19:43:09.646549Z",
     "iopub.status.busy": "2025-02-15T19:43:09.646208Z",
     "iopub.status.idle": "2025-02-15T19:43:34.854631Z",
     "shell.execute_reply": "2025-02-15T19:43:34.853629Z"
    },
    "papermill": {
     "duration": 25.215673,
     "end_time": "2025-02-15T19:43:34.856802",
     "exception": false,
     "start_time": "2025-02-15T19:43:09.641129",
     "status": "completed"
    },
    "tags": []
   },
   "outputs": [],
   "source": [
    "# Clustering using the best k\n",
    "all_centroids = []\n",
    "\n",
    "for label in unique_labels:\n",
    "    person_indices = np.where(labels == label)[0]\n",
    "    person_feature_maps = feature_maps_reduced[person_indices]\n",
    "    \n",
    "    best_k = best_k_values[label]\n",
    "    kmeans = KMeans(n_clusters=best_k, random_state=42, n_init=10)\n",
    "    kmeans.fit(person_feature_maps)\n",
    "    joblib.dump(kmeans, f\"/kaggle/working/kmeans_model_{label}.pkl\")\n",
    "    \n",
    "    all_centroids.append(kmeans.cluster_centers_)"
   ]
  },
  {
   "cell_type": "code",
   "execution_count": 9,
   "id": "260da627",
   "metadata": {
    "execution": {
     "iopub.execute_input": "2025-02-15T19:43:34.868757Z",
     "iopub.status.busy": "2025-02-15T19:43:34.868398Z",
     "iopub.status.idle": "2025-02-15T19:43:34.878964Z",
     "shell.execute_reply": "2025-02-15T19:43:34.878152Z"
    },
    "papermill": {
     "duration": 0.018672,
     "end_time": "2025-02-15T19:43:34.880790",
     "exception": false,
     "start_time": "2025-02-15T19:43:34.862118",
     "status": "completed"
    },
    "tags": []
   },
   "outputs": [],
   "source": [
    "# Concatenate all centroids\n",
    "all_centroids = np.concatenate(all_centroids, axis=0)\n",
    "np.save('/kaggle/working/all_kmeans_centroids.npy', all_centroids)"
   ]
  },
  {
   "cell_type": "code",
   "execution_count": 10,
   "id": "c1dd20ee",
   "metadata": {
    "execution": {
     "iopub.execute_input": "2025-02-15T19:43:34.890557Z",
     "iopub.status.busy": "2025-02-15T19:43:34.890233Z",
     "iopub.status.idle": "2025-02-15T19:44:20.546984Z",
     "shell.execute_reply": "2025-02-15T19:44:20.545847Z"
    },
    "papermill": {
     "duration": 45.663855,
     "end_time": "2025-02-15T19:44:20.549119",
     "exception": false,
     "start_time": "2025-02-15T19:43:34.885264",
     "status": "completed"
    },
    "tags": []
   },
   "outputs": [],
   "source": [
    "# Compute distance vectors\n",
    "distance_vectors = []\n",
    "for feature_map in feature_maps_reduced:\n",
    "    distances = np.linalg.norm(all_centroids - feature_map, axis=1)\n",
    "    distance_vectors.append(distances)\n",
    "\n",
    "distance_vectors = np.array(distance_vectors)"
   ]
  },
  {
   "cell_type": "code",
   "execution_count": 11,
   "id": "20a6418b",
   "metadata": {
    "execution": {
     "iopub.execute_input": "2025-02-15T19:44:20.559204Z",
     "iopub.status.busy": "2025-02-15T19:44:20.558824Z",
     "iopub.status.idle": "2025-02-15T19:44:20.564086Z",
     "shell.execute_reply": "2025-02-15T19:44:20.562822Z"
    },
    "papermill": {
     "duration": 0.01216,
     "end_time": "2025-02-15T19:44:20.565838",
     "exception": false,
     "start_time": "2025-02-15T19:44:20.553678",
     "status": "completed"
    },
    "tags": []
   },
   "outputs": [
    {
     "name": "stdout",
     "output_type": "stream",
     "text": [
      "Shape of distance_vectors: (31921, 7789)\n"
     ]
    }
   ],
   "source": [
    "print(\"Shape of distance_vectors:\", distance_vectors.shape)"
   ]
  },
  {
   "cell_type": "code",
   "execution_count": 12,
   "id": "acf4ecdc",
   "metadata": {
    "execution": {
     "iopub.execute_input": "2025-02-15T19:44:20.575859Z",
     "iopub.status.busy": "2025-02-15T19:44:20.575516Z",
     "iopub.status.idle": "2025-02-15T19:44:22.320061Z",
     "shell.execute_reply": "2025-02-15T19:44:22.319140Z"
    },
    "papermill": {
     "duration": 1.751712,
     "end_time": "2025-02-15T19:44:22.321907",
     "exception": false,
     "start_time": "2025-02-15T19:44:20.570195",
     "status": "completed"
    },
    "tags": []
   },
   "outputs": [],
   "source": [
    "np.save('/kaggle/working/distance_vectors_train.npy', distance_vectors)"
   ]
  }
 ],
 "metadata": {
  "kaggle": {
   "accelerator": "none",
   "dataSources": [
    {
     "datasetId": 6669550,
     "sourceId": 10759284,
     "sourceType": "datasetVersion"
    }
   ],
   "dockerImageVersionId": 30839,
   "isGpuEnabled": false,
   "isInternetEnabled": true,
   "language": "python",
   "sourceType": "notebook"
  },
  "kernelspec": {
   "display_name": "Python 3",
   "language": "python",
   "name": "python3"
  },
  "language_info": {
   "codemirror_mode": {
    "name": "ipython",
    "version": 3
   },
   "file_extension": ".py",
   "mimetype": "text/x-python",
   "name": "python",
   "nbconvert_exporter": "python",
   "pygments_lexer": "ipython3",
   "version": "3.10.12"
  },
  "papermill": {
   "default_parameters": {},
   "duration": 698.484748,
   "end_time": "2025-02-15T19:44:23.250150",
   "environment_variables": {},
   "exception": null,
   "input_path": "__notebook__.ipynb",
   "output_path": "__notebook__.ipynb",
   "parameters": {},
   "start_time": "2025-02-15T19:32:44.765402",
   "version": "2.6.0"
  }
 },
 "nbformat": 4,
 "nbformat_minor": 5
}
