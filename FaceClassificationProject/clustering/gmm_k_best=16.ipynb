{
 "cells": [
  {
   "cell_type": "code",
   "execution_count": 1,
   "id": "9635a8b3",
   "metadata": {
    "_cell_guid": "b1076dfc-b9ad-4769-8c92-a6c4dae69d19",
    "_uuid": "8f2839f25d086af736a60e9eeb907d3b93b6e0e5",
    "execution": {
     "iopub.execute_input": "2025-02-15T19:38:11.886009Z",
     "iopub.status.busy": "2025-02-15T19:38:11.885548Z",
     "iopub.status.idle": "2025-02-15T19:38:14.196342Z",
     "shell.execute_reply": "2025-02-15T19:38:14.195005Z"
    },
    "papermill": {
     "duration": 2.31814,
     "end_time": "2025-02-15T19:38:14.198560",
     "exception": false,
     "start_time": "2025-02-15T19:38:11.880420",
     "status": "completed"
    },
    "tags": []
   },
   "outputs": [],
   "source": [
    "import numpy as np\n",
    "import joblib\n",
    "import matplotlib.pyplot as plt\n",
    "from sklearn.mixture import GaussianMixture\n",
    "from sklearn.decomposition import PCA"
   ]
  },
  {
   "cell_type": "code",
   "execution_count": 2,
   "id": "4d6bcc3e",
   "metadata": {
    "execution": {
     "iopub.execute_input": "2025-02-15T19:38:14.206165Z",
     "iopub.status.busy": "2025-02-15T19:38:14.205646Z",
     "iopub.status.idle": "2025-02-15T19:38:58.903603Z",
     "shell.execute_reply": "2025-02-15T19:38:58.901477Z"
    },
    "papermill": {
     "duration": 44.706728,
     "end_time": "2025-02-15T19:38:58.908732",
     "exception": false,
     "start_time": "2025-02-15T19:38:14.202004",
     "status": "completed"
    },
    "tags": []
   },
   "outputs": [],
   "source": [
    "# Load feature maps and labels\n",
    "feature_maps_array = np.load('/kaggle/input/pit-feature-maps-mobilenetv2/train_feature_maps.npy')\n",
    "labels_array = np.load('/kaggle/input/pit-feature-maps-mobilenetv2/train_labels.npy')"
   ]
  },
  {
   "cell_type": "code",
   "execution_count": 3,
   "id": "098d1c28",
   "metadata": {
    "execution": {
     "iopub.execute_input": "2025-02-15T19:38:58.921882Z",
     "iopub.status.busy": "2025-02-15T19:38:58.921425Z",
     "iopub.status.idle": "2025-02-15T19:40:44.899696Z",
     "shell.execute_reply": "2025-02-15T19:40:44.897919Z"
    },
    "papermill": {
     "duration": 105.992756,
     "end_time": "2025-02-15T19:40:44.907927",
     "exception": false,
     "start_time": "2025-02-15T19:38:58.915171",
     "status": "completed"
    },
    "tags": []
   },
   "outputs": [
    {
     "data": {
      "text/plain": [
       "['/kaggle/working/pca_model.pkl']"
      ]
     },
     "execution_count": 3,
     "metadata": {},
     "output_type": "execute_result"
    }
   ],
   "source": [
    "labels = np.argmax(labels_array, axis=1)   \n",
    "unique_labels = np.unique(labels)  \n",
    "num_people = len(unique_labels)  \n",
    "\n",
    "# Reshape feature maps\n",
    "num_samples, height, width, channels = feature_maps_array.shape\n",
    "feature_maps_reshaped = feature_maps_array.reshape(num_samples, -1)\n",
    "\n",
    "# Reduce dimensions using PCA\n",
    "pca = PCA(n_components=128)\n",
    "feature_maps_reduced = pca.fit_transform(feature_maps_reshaped)\n",
    "\n",
    "# Save PCA model\n",
    "joblib.dump(pca, '/kaggle/working/pca_model.pkl')"
   ]
  },
  {
   "cell_type": "code",
   "execution_count": 4,
   "id": "fe4531a4",
   "metadata": {
    "execution": {
     "iopub.execute_input": "2025-02-15T19:40:44.915894Z",
     "iopub.status.busy": "2025-02-15T19:40:44.915494Z",
     "iopub.status.idle": "2025-02-15T19:44:34.658663Z",
     "shell.execute_reply": "2025-02-15T19:44:34.656836Z"
    },
    "papermill": {
     "duration": 229.750857,
     "end_time": "2025-02-15T19:44:34.661997",
     "exception": false,
     "start_time": "2025-02-15T19:40:44.911140",
     "status": "completed"
    },
    "tags": []
   },
   "outputs": [],
   "source": [
    "# Finding the best k for clustering\n",
    "k_values = range(2, 17)\n",
    "best_k_values = {}\n",
    "\n",
    "for label in unique_labels:\n",
    "    person_indices = np.where(labels == label)[0]\n",
    "    person_feature_maps = feature_maps_reduced[person_indices]\n",
    "    \n",
    "    best_k = 2\n",
    "    best_score = float('inf')\n",
    "    \n",
    "    for k in k_values:\n",
    "        gmm = GaussianMixture(n_components=k, random_state=42)\n",
    "        gmm.fit(person_feature_maps)\n",
    "        \n",
    "        distances = np.linalg.norm(gmm.means_ - person_feature_maps[:, None, :], axis=2)\n",
    "        min_distances = np.min(distances, axis=1)\n",
    "        avg_distance = np.mean(min_distances)\n",
    "        \n",
    "        if avg_distance < best_score:\n",
    "            best_score = avg_distance\n",
    "            best_k = k\n",
    "    \n",
    "    best_k_values[label] = best_k"
   ]
  },
  {
   "cell_type": "code",
   "execution_count": 5,
   "id": "2c2b0ded",
   "metadata": {
    "execution": {
     "iopub.execute_input": "2025-02-15T19:44:34.672756Z",
     "iopub.status.busy": "2025-02-15T19:44:34.672290Z",
     "iopub.status.idle": "2025-02-15T19:48:29.175409Z",
     "shell.execute_reply": "2025-02-15T19:48:29.174164Z"
    },
    "papermill": {
     "duration": 234.510905,
     "end_time": "2025-02-15T19:48:29.177709",
     "exception": false,
     "start_time": "2025-02-15T19:44:34.666804",
     "status": "completed"
    },
    "tags": []
   },
   "outputs": [],
   "source": [
    "avg_distances = {}\n",
    "for k in k_values:\n",
    "    total_distance = 0\n",
    "    count = 0\n",
    "    \n",
    "    for label in unique_labels:\n",
    "        person_indices = np.where(labels == label)[0]\n",
    "        person_feature_maps = feature_maps_reduced[person_indices]\n",
    "        \n",
    "        gmm = GaussianMixture(n_components=k, random_state=42)\n",
    "        gmm.fit(person_feature_maps)\n",
    "        \n",
    "        distances = np.linalg.norm(gmm.means_ - person_feature_maps[:, None, :], axis=2)\n",
    "        min_distances = np.min(distances, axis=1)\n",
    "        total_distance += np.mean(min_distances)\n",
    "        count += 1\n",
    "    \n",
    "    avg_distances[k] = total_distance / count"
   ]
  },
  {
   "cell_type": "code",
   "execution_count": 6,
   "id": "ebc1c6e7",
   "metadata": {
    "execution": {
     "iopub.execute_input": "2025-02-15T19:48:29.186366Z",
     "iopub.status.busy": "2025-02-15T19:48:29.185935Z",
     "iopub.status.idle": "2025-02-15T19:48:29.637441Z",
     "shell.execute_reply": "2025-02-15T19:48:29.635985Z"
    },
    "papermill": {
     "duration": 0.459534,
     "end_time": "2025-02-15T19:48:29.640840",
     "exception": false,
     "start_time": "2025-02-15T19:48:29.181306",
     "status": "completed"
    },
    "tags": []
   },
   "outputs": [
    {
     "data": {
      "image/png": "[encoded data removed]",
      "text/plain": [
       "<Figure size 1200x500 with 1 Axes>"
      ]
     },
     "metadata": {},
     "output_type": "display_data"
    }
   ],
   "source": [
    "plt.figure(figsize=(12, 5))\n",
    "bars = plt.bar(avg_distances.keys(), avg_distances.values())\n",
    "plt.xlabel(\"k\")\n",
    "plt.ylabel(\"Average Distance to Nearest Centroid\")\n",
    "plt.title(\"Average Distance vs k\")\n",
    "\n",
    "plt.bar_label(bars, fmt='%.3f', padding=3)\n",
    "plt.xticks(list(avg_distances.keys()))\n",
    "plt.show()"
   ]
  },
  {
   "cell_type": "code",
   "execution_count": 7,
   "id": "0193c3d0",
   "metadata": {
    "execution": {
     "iopub.execute_input": "2025-02-15T19:48:29.650715Z",
     "iopub.status.busy": "2025-02-15T19:48:29.650305Z",
     "iopub.status.idle": "2025-02-15T19:48:29.657529Z",
     "shell.execute_reply": "2025-02-15T19:48:29.655801Z"
    },
    "papermill": {
     "duration": 0.01443,
     "end_time": "2025-02-15T19:48:29.659584",
     "exception": false,
     "start_time": "2025-02-15T19:48:29.645154",
     "status": "completed"
    },
    "tags": []
   },
   "outputs": [
    {
     "name": "stdout",
     "output_type": "stream",
     "text": [
      "Best k: 16\n"
     ]
    }
   ],
   "source": [
    "best_k = min(avg_distances, key=avg_distances.get)\n",
    "print(f\"Best k: {best_k}\")"
   ]
  },
  {
   "cell_type": "code",
   "execution_count": 8,
   "id": "420dde53",
   "metadata": {
    "execution": {
     "iopub.execute_input": "2025-02-15T19:48:29.670800Z",
     "iopub.status.busy": "2025-02-15T19:48:29.670412Z",
     "iopub.status.idle": "2025-02-15T19:49:02.729981Z",
     "shell.execute_reply": "2025-02-15T19:49:02.728984Z"
    },
    "papermill": {
     "duration": 33.068163,
     "end_time": "2025-02-15T19:49:02.732333",
     "exception": false,
     "start_time": "2025-02-15T19:48:29.664170",
     "status": "completed"
    },
    "tags": []
   },
   "outputs": [],
   "source": [
    "# Clustering using the best k\n",
    "all_centroids = []\n",
    "\n",
    "for label in unique_labels:\n",
    "    person_indices = np.where(labels == label)[0]\n",
    "    person_feature_maps = feature_maps_reduced[person_indices]\n",
    "    \n",
    "    best_k = best_k_values[label]\n",
    "    gmm = GaussianMixture(n_components=best_k, random_state=42)\n",
    "    gmm.fit(person_feature_maps)\n",
    "    joblib.dump(gmm, f\"/kaggle/working/gmm_model_{label}.pkl\")\n",
    "    \n",
    "    all_centroids.append(gmm.means_)"
   ]
  },
  {
   "cell_type": "code",
   "execution_count": 9,
   "id": "7dafa58b",
   "metadata": {
    "execution": {
     "iopub.execute_input": "2025-02-15T19:49:02.742130Z",
     "iopub.status.busy": "2025-02-15T19:49:02.741745Z",
     "iopub.status.idle": "2025-02-15T19:49:02.756342Z",
     "shell.execute_reply": "2025-02-15T19:49:02.755314Z"
    },
    "papermill": {
     "duration": 0.021697,
     "end_time": "2025-02-15T19:49:02.758407",
     "exception": false,
     "start_time": "2025-02-15T19:49:02.736710",
     "status": "completed"
    },
    "tags": []
   },
   "outputs": [],
   "source": [
    "# Concatenate all centroids\n",
    "all_centroids = np.concatenate(all_centroids, axis=0)\n",
    "np.save('/kaggle/working/all_gmm_centroids.npy', all_centroids)"
   ]
  },
  {
   "cell_type": "code",
   "execution_count": 10,
   "id": "96334f0b",
   "metadata": {
    "execution": {
     "iopub.execute_input": "2025-02-15T19:49:02.768393Z",
     "iopub.status.busy": "2025-02-15T19:49:02.767986Z",
     "iopub.status.idle": "2025-02-15T19:50:57.054332Z",
     "shell.execute_reply": "2025-02-15T19:50:57.052756Z"
    },
    "papermill": {
     "duration": 114.293871,
     "end_time": "2025-02-15T19:50:57.056767",
     "exception": false,
     "start_time": "2025-02-15T19:49:02.762896",
     "status": "completed"
    },
    "tags": []
   },
   "outputs": [],
   "source": [
    "# Compute distance vectors\n",
    "distance_vectors = []\n",
    "for feature_map in feature_maps_reduced:\n",
    "    distances = np.linalg.norm(all_centroids - feature_map, axis=1)\n",
    "    distance_vectors.append(distances)"
   ]
  },
  {
   "cell_type": "code",
   "execution_count": 11,
   "id": "ee223dbc",
   "metadata": {
    "execution": {
     "iopub.execute_input": "2025-02-15T19:50:57.067560Z",
     "iopub.status.busy": "2025-02-15T19:50:57.066887Z",
     "iopub.status.idle": "2025-02-15T19:51:00.062720Z",
     "shell.execute_reply": "2025-02-15T19:51:00.061480Z"
    },
    "papermill": {
     "duration": 3.003656,
     "end_time": "2025-02-15T19:51:00.065192",
     "exception": false,
     "start_time": "2025-02-15T19:50:57.061536",
     "status": "completed"
    },
    "tags": []
   },
   "outputs": [],
   "source": [
    "distance_vectors = np.array(distance_vectors)\n",
    "np.save('/kaggle/working/distance_vectors_train.npy', distance_vectors)"
   ]
  }
 ],
 "metadata": {
  "kaggle": {
   "accelerator": "none",
   "dataSources": [
    {
     "datasetId": 6669550,
     "sourceId": 10759284,
     "sourceType": "datasetVersion"
    }
   ],
   "dockerImageVersionId": 30886,
   "isGpuEnabled": false,
   "isInternetEnabled": true,
   "language": "python",
   "sourceType": "notebook"
  },
  "kernelspec": {
   "display_name": "Python 3",
   "language": "python",
   "name": "python3"
  },
  "language_info": {
   "codemirror_mode": {
    "name": "ipython",
    "version": 3
   },
   "file_extension": ".py",
   "mimetype": "text/x-python",
   "name": "python",
   "nbconvert_exporter": "python",
   "pygments_lexer": "ipython3",
   "version": "3.10.12"
  },
  "papermill": {
   "default_parameters": {},
   "duration": 772.534153,
   "end_time": "2025-02-15T19:51:01.300271",
   "environment_variables": {},
   "exception": null,
   "input_path": "__notebook__.ipynb",
   "output_path": "__notebook__.ipynb",
   "parameters": {},
   "start_time": "2025-02-15T19:38:08.766118",
   "version": "2.6.0"
  }
 },
 "nbformat": 4,
 "nbformat_minor": 5
}
