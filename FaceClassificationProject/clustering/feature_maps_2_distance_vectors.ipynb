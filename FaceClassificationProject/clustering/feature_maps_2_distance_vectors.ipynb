{
 "cells": [
  {
   "cell_type": "code",
   "execution_count": null,
   "metadata": {},
   "outputs": [],
   "source": [
    "import numpy as np\n",
    "import joblib"
   ]
  },
  {
   "cell_type": "code",
   "execution_count": null,
   "metadata": {},
   "outputs": [],
   "source": [
    "def compute_distance_vectors(model_cnn:str='MobileNetV2', model_cluster:str='gmm_k=16',):\n",
    "    test_feature_maps = np.load(f'../feature_maps/{model_cnn}/test_feature_maps.npy')\n",
    "    val_feature_maps = np.load(f'../feature_maps/{model_cnn}/val_feature_maps.npy')\n",
    "\n",
    "    pca = joblib.load(f'../models/{model_cluster}/pca_model.pkl')\n",
    "    all_centroids = np.load(f'../models/{model_cluster}/all_centroids.npy')\n",
    "\n",
    "    num_samples_test, height, width, channels = test_feature_maps.shape\n",
    "    num_samples_val, _, _, _ = val_feature_maps.shape\n",
    "\n",
    "    test_feature_maps_reshaped = test_feature_maps.reshape(num_samples_test, -1)\n",
    "    val_feature_maps_reshaped = val_feature_maps.reshape(num_samples_val, -1)\n",
    "\n",
    "    test_feature_maps_reduced = pca.transform(test_feature_maps_reshaped)\n",
    "    val_feature_maps_reduced = pca.transform(val_feature_maps_reshaped)\n",
    "\n",
    "    # Compute distance vectors\n",
    "    def compute_distance_vectors(feature_maps, centroids):\n",
    "        distance_vectors = []\n",
    "        for feature_map in feature_maps:\n",
    "            distances = np.linalg.norm(centroids - feature_map, axis=1) \n",
    "            distance_vectors.append(distances)\n",
    "        return np.array(distance_vectors)\n",
    "\n",
    "    distance_vectors_test = compute_distance_vectors(test_feature_maps_reduced, all_centroids)\n",
    "\n",
    "    np.save(f'../distance_vectors/{model_cluster}/distance_vectors_test.npy', distance_vectors_test)\n",
    "\n",
    "    distance_vectors_val = compute_distance_vectors(val_feature_maps_reduced, all_centroids)\n",
    "    np.save(f'../distance_vectors/{model_cluster}/distance_vectors_val.npy', distance_vectors_val)"
   ]
  },
  {
   "cell_type": "code",
   "execution_count": 9,
   "metadata": {},
   "outputs": [],
   "source": [
    "compute_distance_vectors(\"MobileNetV2\", \"gmm_k=16\")"
   ]
  },
  {
   "cell_type": "code",
   "execution_count": 10,
   "metadata": {},
   "outputs": [],
   "source": [
    "compute_distance_vectors(\"MobileNetV2\", \"gmm_k=32\")"
   ]
  },
  {
   "cell_type": "code",
   "execution_count": 1,
   "metadata": {},
   "outputs": [],
   "source": [
    "import numpy as np\n",
    "data = np.load('../models\\kmeans_k=16/all_centroids.npy')"
   ]
  },
  {
   "cell_type": "code",
   "execution_count": 2,
   "metadata": {},
   "outputs": [
    {
     "data": {
      "text/plain": [
       "(7789, 128)"
      ]
     },
     "execution_count": 2,
     "metadata": {},
     "output_type": "execute_result"
    }
   ],
   "source": [
    "data.shape"
   ]
  },
  {
   "cell_type": "code",
   "execution_count": null,
   "metadata": {},
   "outputs": [],
   "source": []
  }
 ],
 "metadata": {
  "kernelspec": {
   "display_name": "base",
   "language": "python",
   "name": "python3"
  },
  "language_info": {
   "codemirror_mode": {
    "name": "ipython",
    "version": 3
   },
   "file_extension": ".py",
   "mimetype": "text/x-python",
   "name": "python",
   "nbconvert_exporter": "python",
   "pygments_lexer": "ipython3",
   "version": "3.11.9"
  }
 },
 "nbformat": 4,
 "nbformat_minor": 2
}
