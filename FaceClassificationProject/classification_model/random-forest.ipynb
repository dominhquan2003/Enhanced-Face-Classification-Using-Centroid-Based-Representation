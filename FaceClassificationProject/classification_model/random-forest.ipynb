{
 "cells": [
  {
   "cell_type": "code",
   "execution_count": 1,
   "id": "ce4eef03",
   "metadata": {
    "execution": {
     "iopub.execute_input": "2025-02-16T18:44:57.786612Z",
     "iopub.status.busy": "2025-02-16T18:44:57.786268Z",
     "iopub.status.idle": "2025-02-16T18:45:01.082604Z",
     "shell.execute_reply": "2025-02-16T18:45:01.081674Z"
    },
    "papermill": {
     "duration": 3.302534,
     "end_time": "2025-02-16T18:45:01.084555",
     "exception": false,
     "start_time": "2025-02-16T18:44:57.782021",
     "status": "completed"
    },
    "tags": []
   },
   "outputs": [],
   "source": [
    "import numpy as np\n",
    "import joblib\n",
    "import matplotlib.pyplot as plt\n",
    "import seaborn as sns\n",
    "from sklearn.ensemble import RandomForestClassifier\n",
    "from sklearn.model_selection import train_test_split, GridSearchCV\n",
    "from sklearn.metrics import accuracy_score, classification_report, confusion_matrix"
   ]
  },
  {
   "cell_type": "markdown",
   "id": "622012d2",
   "metadata": {},
   "source": [
    "# `Load datasets`"
   ]
  },
  {
   "cell_type": "code",
   "execution_count": 2,
   "id": "94737231",
   "metadata": {
    "execution": {
     "iopub.execute_input": "2025-02-16T18:45:01.091547Z",
     "iopub.status.busy": "2025-02-16T18:45:01.091012Z",
     "iopub.status.idle": "2025-02-16T18:45:15.760677Z",
     "shell.execute_reply": "2025-02-16T18:45:15.759307Z"
    },
    "papermill": {
     "duration": 14.675162,
     "end_time": "2025-02-16T18:45:15.762788",
     "exception": false,
     "start_time": "2025-02-16T18:45:01.087626",
     "status": "completed"
    },
    "tags": []
   },
   "outputs": [],
   "source": [
    "X_train = np.load('/kaggle/input/pit-classification/distance_vectors_train.npy')\n",
    "X_test = np.load('/kaggle/input/pit-classification/distance_vectors_test.npy')\n",
    "X_val = np.load('/kaggle/input/pit-classification/distance_vectors_val.npy')\n",
    "y_train = np.load('/kaggle/input/pit-classification/train_labels.npy')\n",
    "y_test = np.load('/kaggle/input/pit-classification/test_labels.npy')\n",
    "y_val = np.load('/kaggle/input/pit-classification/val_labels.npy')"
   ]
  },
  {
   "cell_type": "code",
   "execution_count": 3,
   "id": "07cf0abe",
   "metadata": {
    "execution": {
     "iopub.execute_input": "2025-02-16T18:45:15.769144Z",
     "iopub.status.busy": "2025-02-16T18:45:15.768793Z",
     "iopub.status.idle": "2025-02-16T18:45:15.785762Z",
     "shell.execute_reply": "2025-02-16T18:45:15.784687Z"
    },
    "papermill": {
     "duration": 0.022295,
     "end_time": "2025-02-16T18:45:15.787797",
     "exception": false,
     "start_time": "2025-02-16T18:45:15.765502",
     "status": "completed"
    },
    "tags": []
   },
   "outputs": [],
   "source": [
    "y_train = np.argmax(y_train, axis=1)\n",
    "y_test = np.argmax(y_test, axis=1)\n",
    "y_val = np.argmax(y_val, axis=1)"
   ]
  },
  {
   "cell_type": "markdown",
   "id": "3bf0500b",
   "metadata": {},
   "source": [
    "# `Random Forest`"
   ]
  },
  {
   "cell_type": "code",
   "execution_count": 4,
   "id": "97337493",
   "metadata": {
    "execution": {
     "iopub.execute_input": "2025-02-16T18:45:15.794094Z",
     "iopub.status.busy": "2025-02-16T18:45:15.793759Z",
     "iopub.status.idle": "2025-02-16T18:45:15.797900Z",
     "shell.execute_reply": "2025-02-16T18:45:15.796931Z"
    },
    "papermill": {
     "duration": 0.009133,
     "end_time": "2025-02-16T18:45:15.799632",
     "exception": false,
     "start_time": "2025-02-16T18:45:15.790499",
     "status": "completed"
    },
    "tags": []
   },
   "outputs": [],
   "source": [
    "rf_model = RandomForestClassifier(n_estimators=200, max_depth=20, min_samples_split=5,  min_samples_leaf = 2,random_state=42)"
   ]
  },
  {
   "cell_type": "code",
   "execution_count": 5,
   "id": "2c7ec419",
   "metadata": {
    "execution": {
     "iopub.execute_input": "2025-02-16T18:45:15.805906Z",
     "iopub.status.busy": "2025-02-16T18:45:15.805592Z",
     "iopub.status.idle": "2025-02-16T20:48:58.403075Z",
     "shell.execute_reply": "2025-02-16T20:48:58.402003Z"
    },
    "papermill": {
     "duration": 7422.605302,
     "end_time": "2025-02-16T20:48:58.407561",
     "exception": false,
     "start_time": "2025-02-16T18:45:15.802259",
     "status": "completed"
    },
    "tags": []
   },
   "outputs": [
    {
     "data": {
      "text/html": [
       "<style>#sk-container-id-1 {color: black;background-color: white;}#sk-container-id-1 pre{padding: 0;}#sk-container-id-1 div.sk-toggleable {background-color: white;}#sk-container-id-1 label.sk-toggleable__label {cursor: pointer;display: block;width: 100%;margin-bottom: 0;padding: 0.3em;box-sizing: border-box;text-align: center;}#sk-container-id-1 label.sk-toggleable__label-arrow:before {content: \"▸\";float: left;margin-right: 0.25em;color: #696969;}#sk-container-id-1 label.sk-toggleable__label-arrow:hover:before {color: black;}#sk-container-id-1 div.sk-estimator:hover label.sk-toggleable__label-arrow:before {color: black;}#sk-container-id-1 div.sk-toggleable__content {max-height: 0;max-width: 0;overflow: hidden;text-align: left;background-color: #f0f8ff;}#sk-container-id-1 div.sk-toggleable__content pre {margin: 0.2em;color: black;border-radius: 0.25em;background-color: #f0f8ff;}#sk-container-id-1 input.sk-toggleable__control:checked~div.sk-toggleable__content {max-height: 200px;max-width: 100%;overflow: auto;}#sk-container-id-1 input.sk-toggleable__control:checked~label.sk-toggleable__label-arrow:before {content: \"▾\";}#sk-container-id-1 div.sk-estimator input.sk-toggleable__control:checked~label.sk-toggleable__label {background-color: #d4ebff;}#sk-container-id-1 div.sk-label input.sk-toggleable__control:checked~label.sk-toggleable__label {background-color: #d4ebff;}#sk-container-id-1 input.sk-hidden--visually {border: 0;clip: rect(1px 1px 1px 1px);clip: rect(1px, 1px, 1px, 1px);height: 1px;margin: -1px;overflow: hidden;padding: 0;position: absolute;width: 1px;}#sk-container-id-1 div.sk-estimator {font-family: monospace;background-color: #f0f8ff;border: 1px dotted black;border-radius: 0.25em;box-sizing: border-box;margin-bottom: 0.5em;}#sk-container-id-1 div.sk-estimator:hover {background-color: #d4ebff;}#sk-container-id-1 div.sk-parallel-item::after {content: \"\";width: 100%;border-bottom: 1px solid gray;flex-grow: 1;}#sk-container-id-1 div.sk-label:hover label.sk-toggleable__label {background-color: #d4ebff;}#sk-container-id-1 div.sk-serial::before {content: \"\";position: absolute;border-left: 1px solid gray;box-sizing: border-box;top: 0;bottom: 0;left: 50%;z-index: 0;}#sk-container-id-1 div.sk-serial {display: flex;flex-direction: column;align-items: center;background-color: white;padding-right: 0.2em;padding-left: 0.2em;position: relative;}#sk-container-id-1 div.sk-item {position: relative;z-index: 1;}#sk-container-id-1 div.sk-parallel {display: flex;align-items: stretch;justify-content: center;background-color: white;position: relative;}#sk-container-id-1 div.sk-item::before, #sk-container-id-1 div.sk-parallel-item::before {content: \"\";position: absolute;border-left: 1px solid gray;box-sizing: border-box;top: 0;bottom: 0;left: 50%;z-index: -1;}#sk-container-id-1 div.sk-parallel-item {display: flex;flex-direction: column;z-index: 1;position: relative;background-color: white;}#sk-container-id-1 div.sk-parallel-item:first-child::after {align-self: flex-end;width: 50%;}#sk-container-id-1 div.sk-parallel-item:last-child::after {align-self: flex-start;width: 50%;}#sk-container-id-1 div.sk-parallel-item:only-child::after {width: 0;}#sk-container-id-1 div.sk-dashed-wrapped {border: 1px dashed gray;margin: 0 0.4em 0.5em 0.4em;box-sizing: border-box;padding-bottom: 0.4em;background-color: white;}#sk-container-id-1 div.sk-label label {font-family: monospace;font-weight: bold;display: inline-block;line-height: 1.2em;}#sk-container-id-1 div.sk-label-container {text-align: center;}#sk-container-id-1 div.sk-container {/* jupyter's `normalize.less` sets `[hidden] { display: none; }` but bootstrap.min.css set `[hidden] { display: none !important; }` so we also need the `!important` here to be able to override the default hidden behavior on the sphinx rendered scikit-learn.org. See: https://github.com/scikit-learn/scikit-learn/issues/21755 */display: inline-block !important;position: relative;}#sk-container-id-1 div.sk-text-repr-fallback {display: none;}</style><div id=\"sk-container-id-1\" class=\"sk-top-container\"><div class=\"sk-text-repr-fallback\"><pre>RandomForestClassifier(max_depth=20, min_samples_leaf=2, min_samples_split=5,\n",
       "                       n_estimators=200, random_state=42)</pre><b>In a Jupyter environment, please rerun this cell to show the HTML representation or trust the notebook. <br />On GitHub, the HTML representation is unable to render, please try loading this page with nbviewer.org.</b></div><div class=\"sk-container\" hidden><div class=\"sk-item\"><div class=\"sk-estimator sk-toggleable\"><input class=\"sk-toggleable__control sk-hidden--visually\" id=\"sk-estimator-id-1\" type=\"checkbox\" checked><label for=\"sk-estimator-id-1\" class=\"sk-toggleable__label sk-toggleable__label-arrow\">RandomForestClassifier</label><div class=\"sk-toggleable__content\"><pre>RandomForestClassifier(max_depth=20, min_samples_leaf=2, min_samples_split=5,\n",
       "                       n_estimators=200, random_state=42)</pre></div></div></div></div></div>"
      ],
      "text/plain": [
       "RandomForestClassifier(max_depth=20, min_samples_leaf=2, min_samples_split=5,\n",
       "                       n_estimators=200, random_state=42)"
      ]
     },
     "execution_count": 5,
     "metadata": {},
     "output_type": "execute_result"
    }
   ],
   "source": [
    "rf_model.fit(X_train, y_train) "
   ]
  },
  {
   "cell_type": "markdown",
   "id": "d8b2cc71",
   "metadata": {},
   "source": [
    "# `Testing performance`"
   ]
  },
  {
   "cell_type": "code",
   "execution_count": 6,
   "id": "f03d5d3a",
   "metadata": {
    "execution": {
     "iopub.execute_input": "2025-02-16T20:48:58.414462Z",
     "iopub.status.busy": "2025-02-16T20:48:58.414075Z",
     "iopub.status.idle": "2025-02-16T20:49:21.545878Z",
     "shell.execute_reply": "2025-02-16T20:49:21.543440Z"
    },
    "papermill": {
     "duration": 23.142286,
     "end_time": "2025-02-16T20:49:21.552717",
     "exception": false,
     "start_time": "2025-02-16T20:48:58.410431",
     "status": "completed"
    },
    "tags": []
   },
   "outputs": [],
   "source": [
    "# Predictions for each dataset\n",
    "y_train_pred = rf_model.predict(X_train)\n",
    "y_val_pred = rf_model.predict(X_val)\n",
    "y_test_pred = rf_model.predict(X_test)"
   ]
  },
  {
   "cell_type": "code",
   "execution_count": 7,
   "id": "f43b23d7",
   "metadata": {
    "execution": {
     "iopub.execute_input": "2025-02-16T20:49:21.581549Z",
     "iopub.status.busy": "2025-02-16T20:49:21.581078Z",
     "iopub.status.idle": "2025-02-16T20:49:21.594812Z",
     "shell.execute_reply": "2025-02-16T20:49:21.593773Z"
    },
    "papermill": {
     "duration": 0.030013,
     "end_time": "2025-02-16T20:49:21.596613",
     "exception": false,
     "start_time": "2025-02-16T20:49:21.566600",
     "status": "completed"
    },
    "tags": []
   },
   "outputs": [],
   "source": [
    "# Compute accuracy for train, validation, and test sets\n",
    "train_accuracy = accuracy_score(y_train, y_train_pred)\n",
    "val_accuracy = accuracy_score(y_val, y_val_pred)\n",
    "test_accuracy = accuracy_score(y_test, y_test_pred)"
   ]
  },
  {
   "cell_type": "code",
   "execution_count": 8,
   "id": "40d02db2",
   "metadata": {
    "execution": {
     "iopub.execute_input": "2025-02-16T20:49:21.603793Z",
     "iopub.status.busy": "2025-02-16T20:49:21.603458Z",
     "iopub.status.idle": "2025-02-16T20:49:21.609389Z",
     "shell.execute_reply": "2025-02-16T20:49:21.608270Z"
    },
    "papermill": {
     "duration": 0.011492,
     "end_time": "2025-02-16T20:49:21.611276",
     "exception": false,
     "start_time": "2025-02-16T20:49:21.599784",
     "status": "completed"
    },
    "tags": []
   },
   "outputs": [
    {
     "name": "stdout",
     "output_type": "stream",
     "text": [
      "Training Accuracy: 36.35%\n",
      "Validation Accuracy: 12.98%\n",
      "Test Accuracy: 13.21%\n"
     ]
    }
   ],
   "source": [
    "# Print accuracies\n",
    "print(f\"Training Accuracy: {train_accuracy * 100:.2f}%\")\n",
    "print(f\"Validation Accuracy: {val_accuracy * 100:.2f}%\")\n",
    "print(f\"Test Accuracy: {test_accuracy * 100:.2f}%\")"
   ]
  },
  {
   "cell_type": "code",
   "execution_count": 9,
   "id": "35b62d81",
   "metadata": {
    "execution": {
     "iopub.execute_input": "2025-02-16T20:49:21.619486Z",
     "iopub.status.busy": "2025-02-16T20:49:21.619069Z",
     "iopub.status.idle": "2025-02-16T20:49:25.368400Z",
     "shell.execute_reply": "2025-02-16T20:49:25.367347Z"
    },
    "papermill": {
     "duration": 3.755609,
     "end_time": "2025-02-16T20:49:25.370427",
     "exception": false,
     "start_time": "2025-02-16T20:49:21.614818",
     "status": "completed"
    },
    "tags": []
   },
   "outputs": [
    {
     "data": {
      "text/plain": [
       "['/kaggle/working/random_forest.pkl']"
      ]
     },
     "execution_count": 9,
     "metadata": {},
     "output_type": "execute_result"
    }
   ],
   "source": [
    "# Save the best model\n",
    "joblib.dump(rf_model, '/kaggle/working/random_forest.pkl')"
   ]
  }
 ],
 "metadata": {
  "kaggle": {
   "accelerator": "none",
   "dataSources": [
    {
     "datasetId": 6629633,
     "sourceId": 10765505,
     "sourceType": "datasetVersion"
    }
   ],
   "dockerImageVersionId": 30886,
   "isGpuEnabled": false,
   "isInternetEnabled": true,
   "language": "python",
   "sourceType": "notebook"
  },
  "kernelspec": {
   "display_name": "Python 3",
   "language": "python",
   "name": "python3"
  },
  "language_info": {
   "codemirror_mode": {
    "name": "ipython",
    "version": 3
   },
   "file_extension": ".py",
   "mimetype": "text/x-python",
   "name": "python",
   "nbconvert_exporter": "python",
   "pygments_lexer": "ipython3",
   "version": "3.10.12"
  },
  "papermill": {
   "default_parameters": {},
   "duration": 7471.489321,
   "end_time": "2025-02-16T20:49:26.563054",
   "environment_variables": {},
   "exception": null,
   "input_path": "__notebook__.ipynb",
   "output_path": "__notebook__.ipynb",
   "parameters": {},
   "start_time": "2025-02-16T18:44:55.073733",
   "version": "2.6.0"
  }
 },
 "nbformat": 4,
 "nbformat_minor": 5
}
