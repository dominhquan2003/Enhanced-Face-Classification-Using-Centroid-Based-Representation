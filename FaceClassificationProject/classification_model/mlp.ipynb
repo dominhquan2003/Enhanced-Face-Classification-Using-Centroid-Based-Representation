{
 "cells": [
  {
   "cell_type": "code",
   "execution_count": 1,
   "id": "9fddca66",
   "metadata": {
    "_cell_guid": "b1076dfc-b9ad-4769-8c92-a6c4dae69d19",
    "_uuid": "8f2839f25d086af736a60e9eeb907d3b93b6e0e5",
    "execution": {
     "iopub.execute_input": "2025-02-16T15:43:33.647784Z",
     "iopub.status.busy": "2025-02-16T15:43:33.647383Z",
     "iopub.status.idle": "2025-02-16T15:43:51.648836Z",
     "shell.execute_reply": "2025-02-16T15:43:51.647940Z"
    },
    "papermill": {
     "duration": 18.007893,
     "end_time": "2025-02-16T15:43:51.650623",
     "exception": false,
     "start_time": "2025-02-16T15:43:33.642730",
     "status": "completed"
    },
    "tags": []
   },
   "outputs": [],
   "source": [
    "import numpy as np\n",
    "import tensorflow as tf\n",
    "import matplotlib.pyplot as plt\n",
    "import seaborn as sns\n",
    "import joblib\n",
    "from sklearn.metrics import accuracy_score, classification_report, confusion_matrix\n",
    "from sklearn.preprocessing import StandardScaler\n",
    "from tensorflow.keras.models import Sequential, load_model\n",
    "from tensorflow.keras.layers import Dense, Dropout, BatchNormalization\n",
    "from tensorflow.keras.optimizers import Adam\n",
    "from tensorflow.keras.callbacks import EarlyStopping, ReduceLROnPlateau\n"
   ]
  },
  {
   "cell_type": "markdown",
   "id": "a8e821c7",
   "metadata": {},
   "source": [
    "# `Load datasets`"
   ]
  },
  {
   "cell_type": "code",
   "execution_count": null,
   "id": "1fc27f68",
   "metadata": {
    "execution": {
     "iopub.execute_input": "2025-02-16T15:43:51.657545Z",
     "iopub.status.busy": "2025-02-16T15:43:51.656941Z",
     "iopub.status.idle": "2025-02-16T15:44:08.510836Z",
     "shell.execute_reply": "2025-02-16T15:44:08.509695Z"
    },
    "papermill": {
     "duration": 16.85901,
     "end_time": "2025-02-16T15:44:08.512631",
     "exception": false,
     "start_time": "2025-02-16T15:43:51.653621",
     "status": "completed"
    },
    "tags": []
   },
   "outputs": [],
   "source": [
    "X_train = np.load('/kaggle/input/pit-classification/distance_vectors_train.npy')\n",
    "X_test = np.load('/kaggle/input/pit-classification/distance_vectors_test.npy')\n",
    "X_val = np.load('/kaggle/input/pit-classification/distance_vectors_val.npy')\n",
    "y_train = np.load('/kaggle/input/pit-classification/train_labels.npy')\n",
    "y_test = np.load('/kaggle/input/pit-classification/test_labels.npy')\n",
    "y_val = np.load('/kaggle/input/pit-classification/val_labels.npy')\n",
    "\n"
   ]
  },
  {
   "cell_type": "markdown",
   "id": "9c973565",
   "metadata": {},
   "source": [
    "# `Convert one-hot encoded labels to class indices`"
   ]
  },
  {
   "cell_type": "code",
   "execution_count": null,
   "id": "a5ca9198",
   "metadata": {},
   "outputs": [],
   "source": [
    "y_train_labels = np.argmax(y_train, axis=1)\n",
    "y_test_labels = np.argmax(y_test, axis=1)\n",
    "y_val_labels = np.argmax(y_val, axis=1)"
   ]
  },
  {
   "cell_type": "markdown",
   "id": "4825a59b",
   "metadata": {},
   "source": [
    "# `Standardize features`"
   ]
  },
  {
   "cell_type": "code",
   "execution_count": null,
   "id": "0497f2f5",
   "metadata": {
    "execution": {
     "iopub.execute_input": "2025-02-16T15:44:08.519486Z",
     "iopub.status.busy": "2025-02-16T15:44:08.519147Z",
     "iopub.status.idle": "2025-02-16T15:44:13.541970Z",
     "shell.execute_reply": "2025-02-16T15:44:13.540612Z"
    },
    "papermill": {
     "duration": 5.028651,
     "end_time": "2025-02-16T15:44:13.544223",
     "exception": false,
     "start_time": "2025-02-16T15:44:08.515572",
     "status": "completed"
    },
    "tags": []
   },
   "outputs": [],
   "source": [
    "scaler = StandardScaler()\n",
    "X_train_scaled = scaler.fit_transform(X_train)\n",
    "X_test_scaled = scaler.transform(X_test)\n",
    "X_val_scaled = scaler.transform(X_val)"
   ]
  },
  {
   "cell_type": "markdown",
   "id": "cf441f59",
   "metadata": {},
   "source": [
    "# `Define MLP model`"
   ]
  },
  {
   "cell_type": "code",
   "execution_count": null,
   "id": "88bb9f52",
   "metadata": {
    "execution": {
     "iopub.execute_input": "2025-02-16T15:44:13.551937Z",
     "iopub.status.busy": "2025-02-16T15:44:13.551511Z",
     "iopub.status.idle": "2025-02-16T15:44:13.763651Z",
     "shell.execute_reply": "2025-02-16T15:44:13.762423Z"
    },
    "papermill": {
     "duration": 0.217887,
     "end_time": "2025-02-16T15:44:13.765660",
     "exception": false,
     "start_time": "2025-02-16T15:44:13.547773",
     "status": "completed"
    },
    "tags": []
   },
   "outputs": [
    {
     "name": "stderr",
     "output_type": "stream",
     "text": [
      "/usr/local/lib/python3.10/dist-packages/keras/src/layers/core/dense.py:87: UserWarning: Do not pass an `input_shape`/`input_dim` argument to a layer. When using Sequential models, prefer using an `Input(shape)` object as the first layer in the model instead.\n",
      "  super().__init__(activity_regularizer=activity_regularizer, **kwargs)\n"
     ]
    }
   ],
   "source": [
    "model = Sequential([\n",
    "    Dense(1024, activation='relu', input_shape=(X_train.shape[1],)),\n",
    "    BatchNormalization(),\n",
    "    Dropout(0.4),\n",
    "    \n",
    "    Dense(512, activation='relu'),\n",
    "    BatchNormalization(),\n",
    "    Dropout(0.4),\n",
    "    \n",
    "    Dense(256, activation='relu'),\n",
    "    Dropout(0.3),\n",
    "    \n",
    "    Dense(y_train.shape[1], activation='softmax')\n",
    "])"
   ]
  },
  {
   "cell_type": "code",
   "execution_count": 5,
   "id": "98ab7d90",
   "metadata": {
    "execution": {
     "iopub.execute_input": "2025-02-16T15:44:13.772769Z",
     "iopub.status.busy": "2025-02-16T15:44:13.772338Z",
     "iopub.status.idle": "2025-02-16T15:44:13.786293Z",
     "shell.execute_reply": "2025-02-16T15:44:13.785260Z"
    },
    "papermill": {
     "duration": 0.01952,
     "end_time": "2025-02-16T15:44:13.788176",
     "exception": false,
     "start_time": "2025-02-16T15:44:13.768656",
     "status": "completed"
    },
    "tags": []
   },
   "outputs": [],
   "source": [
    "model.compile(optimizer=Adam(learning_rate=0.001),\n",
    "              loss='categorical_crossentropy',\n",
    "              metrics=['accuracy'])"
   ]
  },
  {
   "cell_type": "code",
   "execution_count": null,
   "id": "d45753c3",
   "metadata": {
    "execution": {
     "iopub.execute_input": "2025-02-16T15:44:13.795334Z",
     "iopub.status.busy": "2025-02-16T15:44:13.795006Z",
     "iopub.status.idle": "2025-02-16T15:44:13.799070Z",
     "shell.execute_reply": "2025-02-16T15:44:13.798156Z"
    },
    "papermill": {
     "duration": 0.009534,
     "end_time": "2025-02-16T15:44:13.800690",
     "exception": false,
     "start_time": "2025-02-16T15:44:13.791156",
     "status": "completed"
    },
    "tags": []
   },
   "outputs": [],
   "source": [
    "early_stopping = EarlyStopping(monitor='val_loss', patience=10, restore_best_weights=True)\n",
    "lr_scheduler = ReduceLROnPlateau(monitor='val_loss', factor=0.5, patience=5)"
   ]
  },
  {
   "cell_type": "markdown",
   "id": "a39630f1",
   "metadata": {},
   "source": [
    "# `Train the model`"
   ]
  },
  {
   "cell_type": "code",
   "execution_count": null,
   "id": "a1b70c37",
   "metadata": {
    "execution": {
     "iopub.execute_input": "2025-02-16T15:44:13.807850Z",
     "iopub.status.busy": "2025-02-16T15:44:13.807469Z",
     "iopub.status.idle": "2025-02-16T17:20:07.979805Z",
     "shell.execute_reply": "2025-02-16T17:20:07.975476Z"
    },
    "papermill": {
     "duration": 5754.178711,
     "end_time": "2025-02-16T17:20:07.982426",
     "exception": false,
     "start_time": "2025-02-16T15:44:13.803715",
     "status": "completed"
    },
    "tags": []
   },
   "outputs": [
    {
     "name": "stdout",
     "output_type": "stream",
     "text": [
      "Epoch 1/100\n",
      "\u001b[1m998/998\u001b[0m \u001b[32m━━━━━━━━━━━━━━━━━━━━\u001b[0m\u001b[37m\u001b[0m \u001b[1m72s\u001b[0m 69ms/step - accuracy: 0.0062 - loss: 6.3290 - val_accuracy: 0.0217 - val_loss: 5.4266 - learning_rate: 0.0010\n",
      "Epoch 2/100\n",
      "\u001b[1m998/998\u001b[0m \u001b[32m━━━━━━━━━━━━━━━━━━━━\u001b[0m\u001b[37m\u001b[0m \u001b[1m63s\u001b[0m 63ms/step - accuracy: 0.0188 - loss: 5.4471 - val_accuracy: 0.0422 - val_loss: 5.0434 - learning_rate: 0.0010\n",
      "Epoch 3/100\n",
      "\u001b[1m998/998\u001b[0m \u001b[32m━━━━━━━━━━━━━━━━━━━━\u001b[0m\u001b[37m\u001b[0m \u001b[1m66s\u001b[0m 66ms/step - accuracy: 0.0320 - loss: 5.1454 - val_accuracy: 0.0642 - val_loss: 4.7933 - learning_rate: 0.0010\n",
      "Epoch 4/100\n",
      "\u001b[1m998/998\u001b[0m \u001b[32m━━━━━━━━━━━━━━━━━━━━\u001b[0m\u001b[37m\u001b[0m \u001b[1m57s\u001b[0m 57ms/step - accuracy: 0.0484 - loss: 4.9372 - val_accuracy: 0.0765 - val_loss: 4.6545 - learning_rate: 0.0010\n",
      "Epoch 5/100\n",
      "\u001b[1m998/998\u001b[0m \u001b[32m━━━━━━━━━━━━━━━━━━━━\u001b[0m\u001b[37m\u001b[0m \u001b[1m61s\u001b[0m 62ms/step - accuracy: 0.0587 - loss: 4.7639 - val_accuracy: 0.0873 - val_loss: 4.5717 - learning_rate: 0.0010\n",
      "Epoch 6/100\n",
      "\u001b[1m998/998\u001b[0m \u001b[32m━━━━━━━━━━━━━━━━━━━━\u001b[0m\u001b[37m\u001b[0m \u001b[1m79s\u001b[0m 58ms/step - accuracy: 0.0697 - loss: 4.6316 - val_accuracy: 0.0958 - val_loss: 4.4803 - learning_rate: 0.0010\n",
      "Epoch 7/100\n",
      "\u001b[1m998/998\u001b[0m \u001b[32m━━━━━━━━━━━━━━━━━━━━\u001b[0m\u001b[37m\u001b[0m \u001b[1m62s\u001b[0m 62ms/step - accuracy: 0.0758 - loss: 4.5464 - val_accuracy: 0.1144 - val_loss: 4.3696 - learning_rate: 0.0010\n",
      "Epoch 8/100\n",
      "\u001b[1m998/998\u001b[0m \u001b[32m━━━━━━━━━━━━━━━━━━━━\u001b[0m\u001b[37m\u001b[0m \u001b[1m58s\u001b[0m 58ms/step - accuracy: 0.0923 - loss: 4.4353 - val_accuracy: 0.1109 - val_loss: 4.3171 - learning_rate: 0.0010\n",
      "Epoch 9/100\n",
      "\u001b[1m998/998\u001b[0m \u001b[32m━━━━━━━━━━━━━━━━━━━━\u001b[0m\u001b[37m\u001b[0m \u001b[1m62s\u001b[0m 62ms/step - accuracy: 0.1008 - loss: 4.3479 - val_accuracy: 0.1321 - val_loss: 4.2184 - learning_rate: 0.0010\n",
      "Epoch 10/100\n",
      "\u001b[1m998/998\u001b[0m \u001b[32m━━━━━━━━━━━━━━━━━━━━\u001b[0m\u001b[37m\u001b[0m \u001b[1m59s\u001b[0m 59ms/step - accuracy: 0.1085 - loss: 4.2543 - val_accuracy: 0.1390 - val_loss: 4.1575 - learning_rate: 0.0010\n",
      "Epoch 11/100\n",
      "\u001b[1m998/998\u001b[0m \u001b[32m━━━━━━━━━━━━━━━━━━━━\u001b[0m\u001b[37m\u001b[0m \u001b[1m60s\u001b[0m 60ms/step - accuracy: 0.1192 - loss: 4.1729 - val_accuracy: 0.1541 - val_loss: 4.0831 - learning_rate: 0.0010\n",
      "Epoch 12/100\n",
      "\u001b[1m998/998\u001b[0m \u001b[32m━━━━━━━━━━━━━━━━━━━━\u001b[0m\u001b[37m\u001b[0m \u001b[1m57s\u001b[0m 57ms/step - accuracy: 0.1325 - loss: 4.0914 - val_accuracy: 0.1557 - val_loss: 4.0290 - learning_rate: 0.0010\n",
      "Epoch 13/100\n",
      "\u001b[1m998/998\u001b[0m \u001b[32m━━━━━━━━━━━━━━━━━━━━\u001b[0m\u001b[37m\u001b[0m \u001b[1m61s\u001b[0m 61ms/step - accuracy: 0.1440 - loss: 4.0102 - val_accuracy: 0.1678 - val_loss: 3.9921 - learning_rate: 0.0010\n",
      "Epoch 14/100\n",
      "\u001b[1m998/998\u001b[0m \u001b[32m━━━━━━━━━━━━━━━━━━━━\u001b[0m\u001b[37m\u001b[0m \u001b[1m59s\u001b[0m 59ms/step - accuracy: 0.1471 - loss: 3.9690 - val_accuracy: 0.1772 - val_loss: 3.9419 - learning_rate: 0.0010\n",
      "Epoch 15/100\n",
      "\u001b[1m998/998\u001b[0m \u001b[32m━━━━━━━━━━━━━━━━━━━━\u001b[0m\u001b[37m\u001b[0m \u001b[1m59s\u001b[0m 59ms/step - accuracy: 0.1592 - loss: 3.8696 - val_accuracy: 0.1845 - val_loss: 3.9045 - learning_rate: 0.0010\n",
      "Epoch 16/100\n",
      "\u001b[1m998/998\u001b[0m \u001b[32m━━━━━━━━━━━━━━━━━━━━\u001b[0m\u001b[37m\u001b[0m \u001b[1m57s\u001b[0m 57ms/step - accuracy: 0.1673 - loss: 3.8262 - val_accuracy: 0.1864 - val_loss: 3.8764 - learning_rate: 0.0010\n",
      "Epoch 17/100\n",
      "\u001b[1m998/998\u001b[0m \u001b[32m━━━━━━━━━━━━━━━━━━━━\u001b[0m\u001b[37m\u001b[0m \u001b[1m57s\u001b[0m 57ms/step - accuracy: 0.1808 - loss: 3.7609 - val_accuracy: 0.2008 - val_loss: 3.8216 - learning_rate: 0.0010\n",
      "Epoch 18/100\n",
      "\u001b[1m998/998\u001b[0m \u001b[32m━━━━━━━━━━━━━━━━━━━━\u001b[0m\u001b[37m\u001b[0m \u001b[1m81s\u001b[0m 57ms/step - accuracy: 0.1895 - loss: 3.6961 - val_accuracy: 0.2072 - val_loss: 3.7901 - learning_rate: 0.0010\n",
      "Epoch 19/100\n",
      "\u001b[1m998/998\u001b[0m \u001b[32m━━━━━━━━━━━━━━━━━━━━\u001b[0m\u001b[37m\u001b[0m \u001b[1m57s\u001b[0m 57ms/step - accuracy: 0.1845 - loss: 3.6613 - val_accuracy: 0.2084 - val_loss: 3.7915 - learning_rate: 0.0010\n",
      "Epoch 20/100\n",
      "\u001b[1m998/998\u001b[0m \u001b[32m━━━━━━━━━━━━━━━━━━━━\u001b[0m\u001b[37m\u001b[0m \u001b[1m58s\u001b[0m 58ms/step - accuracy: 0.1977 - loss: 3.6173 - val_accuracy: 0.2112 - val_loss: 3.7463 - learning_rate: 0.0010\n",
      "Epoch 21/100\n",
      "\u001b[1m998/998\u001b[0m \u001b[32m━━━━━━━━━━━━━━━━━━━━\u001b[0m\u001b[37m\u001b[0m \u001b[1m56s\u001b[0m 56ms/step - accuracy: 0.2045 - loss: 3.5718 - val_accuracy: 0.2246 - val_loss: 3.7061 - learning_rate: 0.0010\n",
      "Epoch 22/100\n",
      "\u001b[1m998/998\u001b[0m \u001b[32m━━━━━━━━━━━━━━━━━━━━\u001b[0m\u001b[37m\u001b[0m \u001b[1m57s\u001b[0m 57ms/step - accuracy: 0.2126 - loss: 3.5302 - val_accuracy: 0.2303 - val_loss: 3.6822 - learning_rate: 0.0010\n",
      "Epoch 23/100\n",
      "\u001b[1m998/998\u001b[0m \u001b[32m━━━━━━━━━━━━━━━━━━━━\u001b[0m\u001b[37m\u001b[0m \u001b[1m57s\u001b[0m 57ms/step - accuracy: 0.2150 - loss: 3.4885 - val_accuracy: 0.2350 - val_loss: 3.6803 - learning_rate: 0.0010\n",
      "Epoch 24/100\n",
      "\u001b[1m998/998\u001b[0m \u001b[32m━━━━━━━━━━━━━━━━━━━━\u001b[0m\u001b[37m\u001b[0m \u001b[1m59s\u001b[0m 59ms/step - accuracy: 0.2225 - loss: 3.4512 - val_accuracy: 0.2360 - val_loss: 3.6707 - learning_rate: 0.0010\n",
      "Epoch 25/100\n",
      "\u001b[1m998/998\u001b[0m \u001b[32m━━━━━━━━━━━━━━━━━━━━\u001b[0m\u001b[37m\u001b[0m \u001b[1m60s\u001b[0m 60ms/step - accuracy: 0.2249 - loss: 3.4116 - val_accuracy: 0.2397 - val_loss: 3.6686 - learning_rate: 0.0010\n",
      "Epoch 26/100\n",
      "\u001b[1m998/998\u001b[0m \u001b[32m━━━━━━━━━━━━━━━━━━━━\u001b[0m\u001b[37m\u001b[0m \u001b[1m65s\u001b[0m 65ms/step - accuracy: 0.2272 - loss: 3.3898 - val_accuracy: 0.2489 - val_loss: 3.6106 - learning_rate: 0.0010\n",
      "Epoch 27/100\n",
      "\u001b[1m998/998\u001b[0m \u001b[32m━━━━━━━━━━━━━━━━━━━━\u001b[0m\u001b[37m\u001b[0m \u001b[1m61s\u001b[0m 61ms/step - accuracy: 0.2370 - loss: 3.3572 - val_accuracy: 0.2381 - val_loss: 3.6523 - learning_rate: 0.0010\n",
      "Epoch 28/100\n",
      "\u001b[1m998/998\u001b[0m \u001b[32m━━━━━━━━━━━━━━━━━━━━\u001b[0m\u001b[37m\u001b[0m \u001b[1m59s\u001b[0m 59ms/step - accuracy: 0.2472 - loss: 3.2994 - val_accuracy: 0.2504 - val_loss: 3.5964 - learning_rate: 0.0010\n",
      "Epoch 29/100\n",
      "\u001b[1m998/998\u001b[0m \u001b[32m━━━━━━━━━━━━━━━━━━━━\u001b[0m\u001b[37m\u001b[0m \u001b[1m65s\u001b[0m 65ms/step - accuracy: 0.2501 - loss: 3.2912 - val_accuracy: 0.2456 - val_loss: 3.6117 - learning_rate: 0.0010\n",
      "Epoch 30/100\n",
      "\u001b[1m998/998\u001b[0m \u001b[32m━━━━━━━━━━━━━━━━━━━━\u001b[0m\u001b[37m\u001b[0m \u001b[1m65s\u001b[0m 65ms/step - accuracy: 0.2596 - loss: 3.2435 - val_accuracy: 0.2532 - val_loss: 3.5905 - learning_rate: 0.0010\n",
      "Epoch 31/100\n",
      "\u001b[1m998/998\u001b[0m \u001b[32m━━━━━━━━━━━━━━━━━━━━\u001b[0m\u001b[37m\u001b[0m \u001b[1m61s\u001b[0m 61ms/step - accuracy: 0.2607 - loss: 3.2310 - val_accuracy: 0.2588 - val_loss: 3.5752 - learning_rate: 0.0010\n",
      "Epoch 32/100\n",
      "\u001b[1m998/998\u001b[0m \u001b[32m━━━━━━━━━━━━━━━━━━━━\u001b[0m\u001b[37m\u001b[0m \u001b[1m61s\u001b[0m 61ms/step - accuracy: 0.2661 - loss: 3.1818 - val_accuracy: 0.2567 - val_loss: 3.5562 - learning_rate: 0.0010\n",
      "Epoch 33/100\n",
      "\u001b[1m998/998\u001b[0m \u001b[32m━━━━━━━━━━━━━━━━━━━━\u001b[0m\u001b[37m\u001b[0m \u001b[1m58s\u001b[0m 58ms/step - accuracy: 0.2629 - loss: 3.1801 - val_accuracy: 0.2638 - val_loss: 3.5253 - learning_rate: 0.0010\n",
      "Epoch 34/100\n",
      "\u001b[1m998/998\u001b[0m \u001b[32m━━━━━━━━━━━━━━━━━━━━\u001b[0m\u001b[37m\u001b[0m \u001b[1m83s\u001b[0m 59ms/step - accuracy: 0.2708 - loss: 3.1627 - val_accuracy: 0.2664 - val_loss: 3.5173 - learning_rate: 0.0010\n",
      "Epoch 35/100\n",
      "\u001b[1m998/998\u001b[0m \u001b[32m━━━━━━━━━━━━━━━━━━━━\u001b[0m\u001b[37m\u001b[0m \u001b[1m61s\u001b[0m 61ms/step - accuracy: 0.2746 - loss: 3.1408 - val_accuracy: 0.2697 - val_loss: 3.5331 - learning_rate: 0.0010\n",
      "Epoch 36/100\n",
      "\u001b[1m998/998\u001b[0m \u001b[32m━━━━━━━━━━━━━━━━━━━━\u001b[0m\u001b[37m\u001b[0m \u001b[1m61s\u001b[0m 61ms/step - accuracy: 0.2712 - loss: 3.1298 - val_accuracy: 0.2678 - val_loss: 3.5110 - learning_rate: 0.0010\n",
      "Epoch 37/100\n",
      "\u001b[1m998/998\u001b[0m \u001b[32m━━━━━━━━━━━━━━━━━━━━\u001b[0m\u001b[37m\u001b[0m \u001b[1m61s\u001b[0m 61ms/step - accuracy: 0.2768 - loss: 3.0972 - val_accuracy: 0.2732 - val_loss: 3.4657 - learning_rate: 0.0010\n",
      "Epoch 38/100\n",
      "\u001b[1m998/998\u001b[0m \u001b[32m━━━━━━━━━━━━━━━━━━━━\u001b[0m\u001b[37m\u001b[0m \u001b[1m60s\u001b[0m 60ms/step - accuracy: 0.2870 - loss: 3.0713 - val_accuracy: 0.2756 - val_loss: 3.4932 - learning_rate: 0.0010\n",
      "Epoch 39/100\n",
      "\u001b[1m998/998\u001b[0m \u001b[32m━━━━━━━━━━━━━━━━━━━━\u001b[0m\u001b[37m\u001b[0m \u001b[1m59s\u001b[0m 59ms/step - accuracy: 0.2924 - loss: 3.0399 - val_accuracy: 0.2758 - val_loss: 3.4823 - learning_rate: 0.0010\n",
      "Epoch 40/100\n",
      "\u001b[1m998/998\u001b[0m \u001b[32m━━━━━━━━━━━━━━━━━━━━\u001b[0m\u001b[37m\u001b[0m \u001b[1m62s\u001b[0m 62ms/step - accuracy: 0.2964 - loss: 3.0112 - val_accuracy: 0.2744 - val_loss: 3.4673 - learning_rate: 0.0010\n",
      "Epoch 41/100\n",
      "\u001b[1m998/998\u001b[0m \u001b[32m━━━━━━━━━━━━━━━━━━━━\u001b[0m\u001b[37m\u001b[0m \u001b[1m59s\u001b[0m 59ms/step - accuracy: 0.2960 - loss: 2.9837 - val_accuracy: 0.2699 - val_loss: 3.4513 - learning_rate: 0.0010\n",
      "Epoch 42/100\n",
      "\u001b[1m998/998\u001b[0m \u001b[32m━━━━━━━━━━━━━━━━━━━━\u001b[0m\u001b[37m\u001b[0m \u001b[1m58s\u001b[0m 58ms/step - accuracy: 0.2966 - loss: 2.9930 - val_accuracy: 0.2704 - val_loss: 3.4641 - learning_rate: 0.0010\n",
      "Epoch 43/100\n",
      "\u001b[1m998/998\u001b[0m \u001b[32m━━━━━━━━━━━━━━━━━━━━\u001b[0m\u001b[37m\u001b[0m \u001b[1m58s\u001b[0m 58ms/step - accuracy: 0.3044 - loss: 2.9509 - val_accuracy: 0.2810 - val_loss: 3.4655 - learning_rate: 0.0010\n",
      "Epoch 44/100\n",
      "\u001b[1m998/998\u001b[0m \u001b[32m━━━━━━━━━━━━━━━━━━━━\u001b[0m\u001b[37m\u001b[0m \u001b[1m60s\u001b[0m 60ms/step - accuracy: 0.2995 - loss: 2.9736 - val_accuracy: 0.2796 - val_loss: 3.4478 - learning_rate: 0.0010\n",
      "Epoch 45/100\n",
      "\u001b[1m998/998\u001b[0m \u001b[32m━━━━━━━━━━━━━━━━━━━━\u001b[0m\u001b[37m\u001b[0m \u001b[1m60s\u001b[0m 60ms/step - accuracy: 0.3076 - loss: 2.9248 - val_accuracy: 0.2782 - val_loss: 3.4538 - learning_rate: 0.0010\n",
      "Epoch 46/100\n",
      "\u001b[1m998/998\u001b[0m \u001b[32m━━━━━━━━━━━━━━━━━━━━\u001b[0m\u001b[37m\u001b[0m \u001b[1m60s\u001b[0m 60ms/step - accuracy: 0.3135 - loss: 2.9220 - val_accuracy: 0.2832 - val_loss: 3.4275 - learning_rate: 0.0010\n",
      "Epoch 47/100\n",
      "\u001b[1m998/998\u001b[0m \u001b[32m━━━━━━━━━━━━━━━━━━━━\u001b[0m\u001b[37m\u001b[0m \u001b[1m58s\u001b[0m 58ms/step - accuracy: 0.3122 - loss: 2.9222 - val_accuracy: 0.2780 - val_loss: 3.4264 - learning_rate: 0.0010\n",
      "Epoch 48/100\n",
      "\u001b[1m998/998\u001b[0m \u001b[32m━━━━━━━━━━━━━━━━━━━━\u001b[0m\u001b[37m\u001b[0m \u001b[1m65s\u001b[0m 65ms/step - accuracy: 0.3181 - loss: 2.8828 - val_accuracy: 0.2824 - val_loss: 3.4560 - learning_rate: 0.0010\n",
      "Epoch 49/100\n",
      "\u001b[1m998/998\u001b[0m \u001b[32m━━━━━━━━━━━━━━━━━━━━\u001b[0m\u001b[37m\u001b[0m \u001b[1m64s\u001b[0m 65ms/step - accuracy: 0.3158 - loss: 2.8911 - val_accuracy: 0.2853 - val_loss: 3.4254 - learning_rate: 0.0010\n",
      "Epoch 50/100\n",
      "\u001b[1m998/998\u001b[0m \u001b[32m━━━━━━━━━━━━━━━━━━━━\u001b[0m\u001b[37m\u001b[0m \u001b[1m64s\u001b[0m 64ms/step - accuracy: 0.3230 - loss: 2.8564 - val_accuracy: 0.2891 - val_loss: 3.4551 - learning_rate: 0.0010\n",
      "Epoch 51/100\n",
      "\u001b[1m998/998\u001b[0m \u001b[32m━━━━━━━━━━━━━━━━━━━━\u001b[0m\u001b[37m\u001b[0m \u001b[1m65s\u001b[0m 65ms/step - accuracy: 0.3197 - loss: 2.8619 - val_accuracy: 0.2850 - val_loss: 3.4263 - learning_rate: 0.0010\n",
      "Epoch 52/100\n",
      "\u001b[1m998/998\u001b[0m \u001b[32m━━━━━━━━━━━━━━━━━━━━\u001b[0m\u001b[37m\u001b[0m \u001b[1m66s\u001b[0m 66ms/step - accuracy: 0.3244 - loss: 2.8424 - val_accuracy: 0.2872 - val_loss: 3.4204 - learning_rate: 0.0010\n",
      "Epoch 53/100\n",
      "\u001b[1m998/998\u001b[0m \u001b[32m━━━━━━━━━━━━━━━━━━━━\u001b[0m\u001b[37m\u001b[0m \u001b[1m65s\u001b[0m 65ms/step - accuracy: 0.3290 - loss: 2.8282 - val_accuracy: 0.2846 - val_loss: 3.4128 - learning_rate: 0.0010\n",
      "Epoch 54/100\n",
      "\u001b[1m998/998\u001b[0m \u001b[32m━━━━━━━━━━━━━━━━━━━━\u001b[0m\u001b[37m\u001b[0m \u001b[1m60s\u001b[0m 60ms/step - accuracy: 0.3292 - loss: 2.7998 - val_accuracy: 0.2857 - val_loss: 3.3887 - learning_rate: 0.0010\n",
      "Epoch 55/100\n",
      "\u001b[1m998/998\u001b[0m \u001b[32m━━━━━━━━━━━━━━━━━━━━\u001b[0m\u001b[37m\u001b[0m \u001b[1m58s\u001b[0m 58ms/step - accuracy: 0.3319 - loss: 2.8017 - val_accuracy: 0.2919 - val_loss: 3.4138 - learning_rate: 0.0010\n",
      "Epoch 56/100\n",
      "\u001b[1m998/998\u001b[0m \u001b[32m━━━━━━━━━━━━━━━━━━━━\u001b[0m\u001b[37m\u001b[0m \u001b[1m66s\u001b[0m 66ms/step - accuracy: 0.3284 - loss: 2.8040 - val_accuracy: 0.2898 - val_loss: 3.3991 - learning_rate: 0.0010\n",
      "Epoch 57/100\n",
      "\u001b[1m998/998\u001b[0m \u001b[32m━━━━━━━━━━━━━━━━━━━━\u001b[0m\u001b[37m\u001b[0m \u001b[1m64s\u001b[0m 64ms/step - accuracy: 0.3375 - loss: 2.7772 - val_accuracy: 0.2898 - val_loss: 3.4083 - learning_rate: 0.0010\n",
      "Epoch 58/100\n",
      "\u001b[1m998/998\u001b[0m \u001b[32m━━━━━━━━━━━━━━━━━━━━\u001b[0m\u001b[37m\u001b[0m \u001b[1m62s\u001b[0m 63ms/step - accuracy: 0.3402 - loss: 2.7513 - val_accuracy: 0.2909 - val_loss: 3.3858 - learning_rate: 0.0010\n",
      "Epoch 59/100\n",
      "\u001b[1m998/998\u001b[0m \u001b[32m━━━━━━━━━━━━━━━━━━━━\u001b[0m\u001b[37m\u001b[0m \u001b[1m66s\u001b[0m 66ms/step - accuracy: 0.3390 - loss: 2.7553 - val_accuracy: 0.2978 - val_loss: 3.4051 - learning_rate: 0.0010\n",
      "Epoch 60/100\n",
      "\u001b[1m998/998\u001b[0m \u001b[32m━━━━━━━━━━━━━━━━━━━━\u001b[0m\u001b[37m\u001b[0m \u001b[1m65s\u001b[0m 65ms/step - accuracy: 0.3377 - loss: 2.7456 - val_accuracy: 0.2947 - val_loss: 3.3773 - learning_rate: 0.0010\n",
      "Epoch 61/100\n",
      "\u001b[1m998/998\u001b[0m \u001b[32m━━━━━━━━━━━━━━━━━━━━\u001b[0m\u001b[37m\u001b[0m \u001b[1m60s\u001b[0m 60ms/step - accuracy: 0.3425 - loss: 2.7487 - val_accuracy: 0.3039 - val_loss: 3.4245 - learning_rate: 0.0010\n",
      "Epoch 62/100\n",
      "\u001b[1m998/998\u001b[0m \u001b[32m━━━━━━━━━━━━━━━━━━━━\u001b[0m\u001b[37m\u001b[0m \u001b[1m61s\u001b[0m 61ms/step - accuracy: 0.3413 - loss: 2.7356 - val_accuracy: 0.2940 - val_loss: 3.3818 - learning_rate: 0.0010\n",
      "Epoch 63/100\n",
      "\u001b[1m998/998\u001b[0m \u001b[32m━━━━━━━━━━━━━━━━━━━━\u001b[0m\u001b[37m\u001b[0m \u001b[1m58s\u001b[0m 58ms/step - accuracy: 0.3421 - loss: 2.7442 - val_accuracy: 0.2990 - val_loss: 3.3591 - learning_rate: 0.0010\n",
      "Epoch 64/100\n",
      "\u001b[1m998/998\u001b[0m \u001b[32m━━━━━━━━━━━━━━━━━━━━\u001b[0m\u001b[37m\u001b[0m \u001b[1m58s\u001b[0m 58ms/step - accuracy: 0.3483 - loss: 2.7034 - val_accuracy: 0.3032 - val_loss: 3.3620 - learning_rate: 0.0010\n",
      "Epoch 65/100\n",
      "\u001b[1m998/998\u001b[0m \u001b[32m━━━━━━━━━━━━━━━━━━━━\u001b[0m\u001b[37m\u001b[0m \u001b[1m65s\u001b[0m 65ms/step - accuracy: 0.3433 - loss: 2.7104 - val_accuracy: 0.3023 - val_loss: 3.3335 - learning_rate: 0.0010\n",
      "Epoch 66/100\n",
      "\u001b[1m998/998\u001b[0m \u001b[32m━━━━━━━━━━━━━━━━━━━━\u001b[0m\u001b[37m\u001b[0m \u001b[1m57s\u001b[0m 58ms/step - accuracy: 0.3500 - loss: 2.6818 - val_accuracy: 0.2999 - val_loss: 3.3978 - learning_rate: 0.0010\n",
      "Epoch 67/100\n",
      "\u001b[1m998/998\u001b[0m \u001b[32m━━━━━━━━━━━━━━━━━━━━\u001b[0m\u001b[37m\u001b[0m \u001b[1m65s\u001b[0m 65ms/step - accuracy: 0.3527 - loss: 2.6904 - val_accuracy: 0.3034 - val_loss: 3.3634 - learning_rate: 0.0010\n",
      "Epoch 68/100\n",
      "\u001b[1m998/998\u001b[0m \u001b[32m━━━━━━━━━━━━━━━━━━━━\u001b[0m\u001b[37m\u001b[0m \u001b[1m65s\u001b[0m 65ms/step - accuracy: 0.3536 - loss: 2.6709 - val_accuracy: 0.3084 - val_loss: 3.3561 - learning_rate: 0.0010\n",
      "Epoch 69/100\n",
      "\u001b[1m998/998\u001b[0m \u001b[32m━━━━━━━━━━━━━━━━━━━━\u001b[0m\u001b[37m\u001b[0m \u001b[1m65s\u001b[0m 65ms/step - accuracy: 0.3539 - loss: 2.6753 - val_accuracy: 0.2994 - val_loss: 3.3853 - learning_rate: 0.0010\n",
      "Epoch 70/100\n",
      "\u001b[1m998/998\u001b[0m \u001b[32m━━━━━━━━━━━━━━━━━━━━\u001b[0m\u001b[37m\u001b[0m \u001b[1m58s\u001b[0m 58ms/step - accuracy: 0.3586 - loss: 2.6551 - val_accuracy: 0.3082 - val_loss: 3.3576 - learning_rate: 0.0010\n",
      "Epoch 71/100\n",
      "\u001b[1m998/998\u001b[0m \u001b[32m━━━━━━━━━━━━━━━━━━━━\u001b[0m\u001b[37m\u001b[0m \u001b[1m82s\u001b[0m 58ms/step - accuracy: 0.3770 - loss: 2.5569 - val_accuracy: 0.3178 - val_loss: 3.3332 - learning_rate: 5.0000e-04\n",
      "Epoch 72/100\n",
      "\u001b[1m998/998\u001b[0m \u001b[32m━━━━━━━━━━━━━━━━━━━━\u001b[0m\u001b[37m\u001b[0m \u001b[1m58s\u001b[0m 58ms/step - accuracy: 0.3897 - loss: 2.5010 - val_accuracy: 0.3188 - val_loss: 3.3519 - learning_rate: 5.0000e-04\n",
      "Epoch 73/100\n",
      "\u001b[1m998/998\u001b[0m \u001b[32m━━━━━━━━━━━━━━━━━━━━\u001b[0m\u001b[37m\u001b[0m \u001b[1m58s\u001b[0m 58ms/step - accuracy: 0.3868 - loss: 2.4864 - val_accuracy: 0.3167 - val_loss: 3.3342 - learning_rate: 5.0000e-04\n",
      "Epoch 74/100\n",
      "\u001b[1m998/998\u001b[0m \u001b[32m━━━━━━━━━━━━━━━━━━━━\u001b[0m\u001b[37m\u001b[0m \u001b[1m57s\u001b[0m 58ms/step - accuracy: 0.4007 - loss: 2.4374 - val_accuracy: 0.3233 - val_loss: 3.3299 - learning_rate: 5.0000e-04\n",
      "Epoch 75/100\n",
      "\u001b[1m998/998\u001b[0m \u001b[32m━━━━━━━━━━━━━━━━━━━━\u001b[0m\u001b[37m\u001b[0m \u001b[1m58s\u001b[0m 58ms/step - accuracy: 0.3972 - loss: 2.4617 - val_accuracy: 0.3207 - val_loss: 3.3478 - learning_rate: 5.0000e-04\n",
      "Epoch 76/100\n",
      "\u001b[1m998/998\u001b[0m \u001b[32m━━━━━━━━━━━━━━━━━━━━\u001b[0m\u001b[37m\u001b[0m \u001b[1m57s\u001b[0m 57ms/step - accuracy: 0.4056 - loss: 2.4228 - val_accuracy: 0.3183 - val_loss: 3.3034 - learning_rate: 5.0000e-04\n",
      "Epoch 77/100\n",
      "\u001b[1m998/998\u001b[0m \u001b[32m━━━━━━━━━━━━━━━━━━━━\u001b[0m\u001b[37m\u001b[0m \u001b[1m58s\u001b[0m 58ms/step - accuracy: 0.4000 - loss: 2.4084 - val_accuracy: 0.3209 - val_loss: 3.3111 - learning_rate: 5.0000e-04\n",
      "Epoch 78/100\n",
      "\u001b[1m998/998\u001b[0m \u001b[32m━━━━━━━━━━━━━━━━━━━━\u001b[0m\u001b[37m\u001b[0m \u001b[1m57s\u001b[0m 57ms/step - accuracy: 0.4001 - loss: 2.4118 - val_accuracy: 0.3188 - val_loss: 3.3004 - learning_rate: 5.0000e-04\n",
      "Epoch 79/100\n",
      "\u001b[1m998/998\u001b[0m \u001b[32m━━━━━━━━━━━━━━━━━━━━\u001b[0m\u001b[37m\u001b[0m \u001b[1m56s\u001b[0m 56ms/step - accuracy: 0.4070 - loss: 2.4082 - val_accuracy: 0.3185 - val_loss: 3.3406 - learning_rate: 5.0000e-04\n",
      "Epoch 80/100\n",
      "\u001b[1m998/998\u001b[0m \u001b[32m━━━━━━━━━━━━━━━━━━━━\u001b[0m\u001b[37m\u001b[0m \u001b[1m56s\u001b[0m 56ms/step - accuracy: 0.4023 - loss: 2.4080 - val_accuracy: 0.3263 - val_loss: 3.3103 - learning_rate: 5.0000e-04\n",
      "Epoch 81/100\n",
      "\u001b[1m998/998\u001b[0m \u001b[32m━━━━━━━━━━━━━━━━━━━━\u001b[0m\u001b[37m\u001b[0m \u001b[1m57s\u001b[0m 58ms/step - accuracy: 0.4089 - loss: 2.3866 - val_accuracy: 0.3256 - val_loss: 3.3142 - learning_rate: 5.0000e-04\n",
      "Epoch 82/100\n",
      "\u001b[1m998/998\u001b[0m \u001b[32m━━━━━━━━━━━━━━━━━━━━\u001b[0m\u001b[37m\u001b[0m \u001b[1m57s\u001b[0m 58ms/step - accuracy: 0.4053 - loss: 2.4120 - val_accuracy: 0.3240 - val_loss: 3.3247 - learning_rate: 5.0000e-04\n",
      "Epoch 83/100\n",
      "\u001b[1m998/998\u001b[0m \u001b[32m━━━━━━━━━━━━━━━━━━━━\u001b[0m\u001b[37m\u001b[0m \u001b[1m57s\u001b[0m 57ms/step - accuracy: 0.4077 - loss: 2.3803 - val_accuracy: 0.3282 - val_loss: 3.3300 - learning_rate: 5.0000e-04\n",
      "Epoch 84/100\n",
      "\u001b[1m998/998\u001b[0m \u001b[32m━━━━━━━━━━━━━━━━━━━━\u001b[0m\u001b[37m\u001b[0m \u001b[1m57s\u001b[0m 57ms/step - accuracy: 0.4178 - loss: 2.3390 - val_accuracy: 0.3320 - val_loss: 3.2858 - learning_rate: 2.5000e-04\n",
      "Epoch 85/100\n",
      "\u001b[1m998/998\u001b[0m \u001b[32m━━━━━━━━━━━━━━━━━━━━\u001b[0m\u001b[37m\u001b[0m \u001b[1m57s\u001b[0m 57ms/step - accuracy: 0.4239 - loss: 2.2947 - val_accuracy: 0.3294 - val_loss: 3.3120 - learning_rate: 2.5000e-04\n",
      "Epoch 86/100\n",
      "\u001b[1m998/998\u001b[0m \u001b[32m━━━━━━━━━━━━━━━━━━━━\u001b[0m\u001b[37m\u001b[0m \u001b[1m57s\u001b[0m 57ms/step - accuracy: 0.4252 - loss: 2.2967 - val_accuracy: 0.3287 - val_loss: 3.3140 - learning_rate: 2.5000e-04\n",
      "Epoch 87/100\n",
      "\u001b[1m998/998\u001b[0m \u001b[32m━━━━━━━━━━━━━━━━━━━━\u001b[0m\u001b[37m\u001b[0m \u001b[1m57s\u001b[0m 57ms/step - accuracy: 0.4317 - loss: 2.2880 - val_accuracy: 0.3339 - val_loss: 3.3084 - learning_rate: 2.5000e-04\n",
      "Epoch 88/100\n",
      "\u001b[1m998/998\u001b[0m \u001b[32m━━━━━━━━━━━━━━━━━━━━\u001b[0m\u001b[37m\u001b[0m \u001b[1m57s\u001b[0m 57ms/step - accuracy: 0.4246 - loss: 2.3012 - val_accuracy: 0.3351 - val_loss: 3.3259 - learning_rate: 2.5000e-04\n",
      "Epoch 89/100\n",
      "\u001b[1m998/998\u001b[0m \u001b[32m━━━━━━━━━━━━━━━━━━━━\u001b[0m\u001b[37m\u001b[0m \u001b[1m56s\u001b[0m 56ms/step - accuracy: 0.4288 - loss: 2.2992 - val_accuracy: 0.3306 - val_loss: 3.3102 - learning_rate: 2.5000e-04\n",
      "Epoch 90/100\n",
      "\u001b[1m998/998\u001b[0m \u001b[32m━━━━━━━━━━━━━━━━━━━━\u001b[0m\u001b[37m\u001b[0m \u001b[1m56s\u001b[0m 56ms/step - accuracy: 0.4393 - loss: 2.2451 - val_accuracy: 0.3322 - val_loss: 3.2967 - learning_rate: 1.2500e-04\n",
      "Epoch 91/100\n",
      "\u001b[1m998/998\u001b[0m \u001b[32m━━━━━━━━━━━━━━━━━━━━\u001b[0m\u001b[37m\u001b[0m \u001b[1m58s\u001b[0m 58ms/step - accuracy: 0.4388 - loss: 2.2512 - val_accuracy: 0.3372 - val_loss: 3.2969 - learning_rate: 1.2500e-04\n",
      "Epoch 92/100\n",
      "\u001b[1m998/998\u001b[0m \u001b[32m━━━━━━━━━━━━━━━━━━━━\u001b[0m\u001b[37m\u001b[0m \u001b[1m81s\u001b[0m 57ms/step - accuracy: 0.4386 - loss: 2.2249 - val_accuracy: 0.3365 - val_loss: 3.2942 - learning_rate: 1.2500e-04\n",
      "Epoch 93/100\n",
      "\u001b[1m998/998\u001b[0m \u001b[32m━━━━━━━━━━━━━━━━━━━━\u001b[0m\u001b[37m\u001b[0m \u001b[1m57s\u001b[0m 58ms/step - accuracy: 0.4388 - loss: 2.2226 - val_accuracy: 0.3367 - val_loss: 3.3012 - learning_rate: 1.2500e-04\n",
      "Epoch 94/100\n",
      "\u001b[1m998/998\u001b[0m \u001b[32m━━━━━━━━━━━━━━━━━━━━\u001b[0m\u001b[37m\u001b[0m \u001b[1m58s\u001b[0m 58ms/step - accuracy: 0.4316 - loss: 2.2438 - val_accuracy: 0.3403 - val_loss: 3.3013 - learning_rate: 1.2500e-04\n"
     ]
    }
   ],
   "source": [
    "history = model.fit(X_train_scaled, y_train, \n",
    "                    epochs=100, batch_size=32,\n",
    "                    validation_data=(X_val_scaled, y_val),\n",
    "                    callbacks=[early_stopping, lr_scheduler],\n",
    "                    verbose=1)"
   ]
  },
  {
   "cell_type": "markdown",
   "id": "7d964975",
   "metadata": {},
   "source": [
    "# `Save model and scaler`"
   ]
  },
  {
   "cell_type": "code",
   "execution_count": null,
   "id": "f10df1fe",
   "metadata": {
    "execution": {
     "iopub.execute_input": "2025-02-16T17:20:19.618420Z",
     "iopub.status.busy": "2025-02-16T17:20:19.617740Z",
     "iopub.status.idle": "2025-02-16T17:20:19.862064Z",
     "shell.execute_reply": "2025-02-16T17:20:19.860896Z"
    },
    "papermill": {
     "duration": 6.055732,
     "end_time": "2025-02-16T17:20:19.863916",
     "exception": false,
     "start_time": "2025-02-16T17:20:13.808184",
     "status": "completed"
    },
    "tags": []
   },
   "outputs": [
    {
     "data": {
      "text/plain": [
       "['/kaggle/working/scaler.pkl']"
      ]
     },
     "execution_count": 8,
     "metadata": {},
     "output_type": "execute_result"
    }
   ],
   "source": [
    "\n",
    "model.save(\"/kaggle/working/mlp_optimized.h5\")\n",
    "joblib.dump(scaler, \"/kaggle/working/scaler.pkl\")"
   ]
  },
  {
   "cell_type": "markdown",
   "id": "7dbcdc65",
   "metadata": {},
   "source": [
    "# `Testing performance`"
   ]
  },
  {
   "cell_type": "code",
   "execution_count": 9,
   "id": "90647f40",
   "metadata": {
    "execution": {
     "iopub.execute_input": "2025-02-16T17:20:31.531308Z",
     "iopub.status.busy": "2025-02-16T17:20:31.530837Z",
     "iopub.status.idle": "2025-02-16T17:20:52.279582Z",
     "shell.execute_reply": "2025-02-16T17:20:52.278637Z"
    },
    "papermill": {
     "duration": 26.570683,
     "end_time": "2025-02-16T17:20:52.281372",
     "exception": false,
     "start_time": "2025-02-16T17:20:25.710689",
     "status": "completed"
    },
    "tags": []
   },
   "outputs": [
    {
     "name": "stdout",
     "output_type": "stream",
     "text": [
      "\u001b[1m998/998\u001b[0m \u001b[32m━━━━━━━━━━━━━━━━━━━━\u001b[0m\u001b[37m\u001b[0m \u001b[1m12s\u001b[0m 12ms/step\n",
      "\u001b[1m133/133\u001b[0m \u001b[32m━━━━━━━━━━━━━━━━━━━━\u001b[0m\u001b[37m\u001b[0m \u001b[1m2s\u001b[0m 11ms/step\n",
      "\u001b[1m125/125\u001b[0m \u001b[32m━━━━━━━━━━━━━━━━━━━━\u001b[0m\u001b[37m\u001b[0m \u001b[1m1s\u001b[0m 11ms/step\n"
     ]
    }
   ],
   "source": [
    "# Predictions for each dataset\n",
    "y_train_pred = np.argmax(model.predict(X_train_scaled), axis=1)\n",
    "y_val_pred = np.argmax(model.predict(X_val_scaled), axis=1)\n",
    "y_test_pred = np.argmax(model.predict(X_test_scaled), axis=1)"
   ]
  },
  {
   "cell_type": "code",
   "execution_count": 10,
   "id": "635e145b",
   "metadata": {
    "execution": {
     "iopub.execute_input": "2025-02-16T17:21:04.061236Z",
     "iopub.status.busy": "2025-02-16T17:21:04.060653Z",
     "iopub.status.idle": "2025-02-16T17:21:04.076847Z",
     "shell.execute_reply": "2025-02-16T17:21:04.075753Z"
    },
    "papermill": {
     "duration": 5.908728,
     "end_time": "2025-02-16T17:21:04.078878",
     "exception": false,
     "start_time": "2025-02-16T17:20:58.170150",
     "status": "completed"
    },
    "tags": []
   },
   "outputs": [],
   "source": [
    "# Compute accuracy for train, validation, and test sets\n",
    "train_accuracy = accuracy_score(y_train_labels, y_train_pred)\n",
    "val_accuracy = accuracy_score(y_val_labels, y_val_pred)\n",
    "test_accuracy = accuracy_score(y_test_labels, y_test_pred)"
   ]
  },
  {
   "cell_type": "code",
   "execution_count": 11,
   "id": "a850a504",
   "metadata": {
    "execution": {
     "iopub.execute_input": "2025-02-16T17:21:15.830714Z",
     "iopub.status.busy": "2025-02-16T17:21:15.830288Z",
     "iopub.status.idle": "2025-02-16T17:21:15.836824Z",
     "shell.execute_reply": "2025-02-16T17:21:15.835349Z"
    },
    "papermill": {
     "duration": 5.920083,
     "end_time": "2025-02-16T17:21:15.838443",
     "exception": false,
     "start_time": "2025-02-16T17:21:09.918360",
     "status": "completed"
    },
    "tags": []
   },
   "outputs": [
    {
     "name": "stdout",
     "output_type": "stream",
     "text": [
      "Training Accuracy: 69.52%\n",
      "Validation Accuracy: 33.20%\n",
      "Test Accuracy: 34.08%\n"
     ]
    }
   ],
   "source": [
    "# Print accuracies\n",
    "print(f\"Training Accuracy: {train_accuracy * 100:.2f}%\")\n",
    "print(f\"Validation Accuracy: {val_accuracy * 100:.2f}%\")\n",
    "print(f\"Test Accuracy: {test_accuracy * 100:.2f}%\")"
   ]
  }
 ],
 "metadata": {
  "kaggle": {
   "accelerator": "none",
   "dataSources": [
    {
     "datasetId": 6629633,
     "sourceId": 10765505,
     "sourceType": "datasetVersion"
    }
   ],
   "dockerImageVersionId": 30886,
   "isGpuEnabled": false,
   "isInternetEnabled": true,
   "language": "python",
   "sourceType": "notebook"
  },
  "kernelspec": {
   "display_name": "Python 3",
   "language": "python",
   "name": "python3"
  },
  "language_info": {
   "codemirror_mode": {
    "name": "ipython",
    "version": 3
   },
   "file_extension": ".py",
   "mimetype": "text/x-python",
   "name": "python",
   "nbconvert_exporter": "python",
   "pygments_lexer": "ipython3",
   "version": "3.10.12"
  },
  "papermill": {
   "default_parameters": {},
   "duration": 5874.666966,
   "end_time": "2025-02-16T17:21:25.500182",
   "environment_variables": {},
   "exception": null,
   "input_path": "__notebook__.ipynb",
   "output_path": "__notebook__.ipynb",
   "parameters": {},
   "start_time": "2025-02-16T15:43:30.833216",
   "version": "2.6.0"
  }
 },
 "nbformat": 4,
 "nbformat_minor": 5
}
