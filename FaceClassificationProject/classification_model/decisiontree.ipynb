{
 "cells": [
  {
   "cell_type": "code",
   "execution_count": null,
   "id": "e12db9aa",
   "metadata": {
    "_cell_guid": "b1076dfc-b9ad-4769-8c92-a6c4dae69d19",
    "_uuid": "8f2839f25d086af736a60e9eeb907d3b93b6e0e5",
    "execution": {
     "iopub.execute_input": "2025-02-16T21:59:45.561348Z",
     "iopub.status.busy": "2025-02-16T21:59:45.560922Z",
     "iopub.status.idle": "2025-02-16T21:59:49.415870Z",
     "shell.execute_reply": "2025-02-16T21:59:49.414480Z"
    },
    "papermill": {
     "duration": 3.862822,
     "end_time": "2025-02-16T21:59:49.418774",
     "exception": false,
     "start_time": "2025-02-16T21:59:45.555952",
     "status": "completed"
    },
    "tags": []
   },
   "outputs": [],
   "source": [
    "import numpy as np\n",
    "import joblib\n",
    "from sklearn.tree import DecisionTreeClassifier\n",
    "from sklearn.preprocessing import StandardScaler\n",
    "from sklearn.metrics import accuracy_score\n",
    "from sklearn.decomposition import PCA"
   ]
  },
  {
   "cell_type": "markdown",
   "id": "60e3080d",
   "metadata": {},
   "source": [
    "# `Load datasets`"
   ]
  },
  {
   "cell_type": "code",
   "execution_count": null,
   "id": "09f37401",
   "metadata": {},
   "outputs": [],
   "source": [
    "X_train = np.load('/kaggle/input/pit-classification/distance_vectors_train.npy')\n",
    "X_test = np.load('/kaggle/input/pit-classification/distance_vectors_test.npy')\n",
    "X_val = np.load('/kaggle/input/pit-classification/distance_vectors_val.npy')\n",
    "y_train = np.load('/kaggle/input/pit-classification/train_labels.npy')\n",
    "y_test = np.load('/kaggle/input/pit-classification/test_labels.npy')\n",
    "y_val = np.load('/kaggle/input/pit-classification/val_labels.npy')"
   ]
  },
  {
   "cell_type": "markdown",
   "id": "6ef6023b",
   "metadata": {},
   "source": [
    "# `Convert one-hot encoded labels to class indices`"
   ]
  },
  {
   "cell_type": "code",
   "execution_count": null,
   "id": "d8c654a1",
   "metadata": {
    "execution": {
     "iopub.execute_input": "2025-02-16T21:59:49.427768Z",
     "iopub.status.busy": "2025-02-16T21:59:49.427173Z",
     "iopub.status.idle": "2025-02-16T22:00:06.812532Z",
     "shell.execute_reply": "2025-02-16T22:00:06.811051Z"
    },
    "papermill": {
     "duration": 17.391693,
     "end_time": "2025-02-16T22:00:06.815134",
     "exception": false,
     "start_time": "2025-02-16T21:59:49.423441",
     "status": "completed"
    },
    "tags": []
   },
   "outputs": [],
   "source": [
    "y_train_labels = np.argmax(y_train, axis=1)\n",
    "y_test_labels = np.argmax(y_test, axis=1)\n",
    "y_val_labels = np.argmax(y_val, axis=1)"
   ]
  },
  {
   "cell_type": "markdown",
   "id": "72468fff",
   "metadata": {},
   "source": [
    "# `Standardize features`"
   ]
  },
  {
   "cell_type": "code",
   "execution_count": null,
   "id": "85b1cde5",
   "metadata": {
    "execution": {
     "iopub.execute_input": "2025-02-16T22:00:06.822471Z",
     "iopub.status.busy": "2025-02-16T22:00:06.821933Z",
     "iopub.status.idle": "2025-02-16T22:00:12.150565Z",
     "shell.execute_reply": "2025-02-16T22:00:12.149583Z"
    },
    "papermill": {
     "duration": 5.334235,
     "end_time": "2025-02-16T22:00:12.152552",
     "exception": false,
     "start_time": "2025-02-16T22:00:06.818317",
     "status": "completed"
    },
    "tags": []
   },
   "outputs": [],
   "source": [
    "scaler = StandardScaler()\n",
    "X_train_scaled = scaler.fit_transform(X_train)\n",
    "X_test_scaled = scaler.transform(X_test)\n",
    "X_val_scaled = scaler.transform(X_val)"
   ]
  },
  {
   "cell_type": "markdown",
   "id": "2b72eb64",
   "metadata": {},
   "source": [
    "# `Apply PCA for dimensionality reduction`"
   ]
  },
  {
   "cell_type": "code",
   "execution_count": null,
   "id": "2a6b9622",
   "metadata": {
    "execution": {
     "iopub.execute_input": "2025-02-16T22:00:12.161489Z",
     "iopub.status.busy": "2025-02-16T22:00:12.160947Z",
     "iopub.status.idle": "2025-02-16T22:01:53.139355Z",
     "shell.execute_reply": "2025-02-16T22:01:53.138350Z"
    },
    "papermill": {
     "duration": 100.984995,
     "end_time": "2025-02-16T22:01:53.141493",
     "exception": false,
     "start_time": "2025-02-16T22:00:12.156498",
     "status": "completed"
    },
    "tags": []
   },
   "outputs": [],
   "source": [
    "pca = PCA(n_components=1000)\n",
    "X_train_pca = pca.fit_transform(X_train_scaled)\n",
    "X_test_pca = pca.transform(X_test_scaled)\n",
    "X_val_pca = pca.transform(X_val_scaled)"
   ]
  },
  {
   "cell_type": "markdown",
   "id": "f7e7d0f0",
   "metadata": {},
   "source": [
    "# `Decision Tree`"
   ]
  },
  {
   "cell_type": "code",
   "execution_count": null,
   "id": "82fbe4f5",
   "metadata": {
    "execution": {
     "iopub.execute_input": "2025-02-16T22:01:53.148399Z",
     "iopub.status.busy": "2025-02-16T22:01:53.148020Z",
     "iopub.status.idle": "2025-02-16T22:34:51.230190Z",
     "shell.execute_reply": "2025-02-16T22:34:51.228490Z"
    },
    "papermill": {
     "duration": 1978.095576,
     "end_time": "2025-02-16T22:34:51.240051",
     "exception": false,
     "start_time": "2025-02-16T22:01:53.144475",
     "status": "completed"
    },
    "tags": []
   },
   "outputs": [
    {
     "data": {
      "text/html": [
       "<style>#sk-container-id-1 {color: black;background-color: white;}#sk-container-id-1 pre{padding: 0;}#sk-container-id-1 div.sk-toggleable {background-color: white;}#sk-container-id-1 label.sk-toggleable__label {cursor: pointer;display: block;width: 100%;margin-bottom: 0;padding: 0.3em;box-sizing: border-box;text-align: center;}#sk-container-id-1 label.sk-toggleable__label-arrow:before {content: \"▸\";float: left;margin-right: 0.25em;color: #696969;}#sk-container-id-1 label.sk-toggleable__label-arrow:hover:before {color: black;}#sk-container-id-1 div.sk-estimator:hover label.sk-toggleable__label-arrow:before {color: black;}#sk-container-id-1 div.sk-toggleable__content {max-height: 0;max-width: 0;overflow: hidden;text-align: left;background-color: #f0f8ff;}#sk-container-id-1 div.sk-toggleable__content pre {margin: 0.2em;color: black;border-radius: 0.25em;background-color: #f0f8ff;}#sk-container-id-1 input.sk-toggleable__control:checked~div.sk-toggleable__content {max-height: 200px;max-width: 100%;overflow: auto;}#sk-container-id-1 input.sk-toggleable__control:checked~label.sk-toggleable__label-arrow:before {content: \"▾\";}#sk-container-id-1 div.sk-estimator input.sk-toggleable__control:checked~label.sk-toggleable__label {background-color: #d4ebff;}#sk-container-id-1 div.sk-label input.sk-toggleable__control:checked~label.sk-toggleable__label {background-color: #d4ebff;}#sk-container-id-1 input.sk-hidden--visually {border: 0;clip: rect(1px 1px 1px 1px);clip: rect(1px, 1px, 1px, 1px);height: 1px;margin: -1px;overflow: hidden;padding: 0;position: absolute;width: 1px;}#sk-container-id-1 div.sk-estimator {font-family: monospace;background-color: #f0f8ff;border: 1px dotted black;border-radius: 0.25em;box-sizing: border-box;margin-bottom: 0.5em;}#sk-container-id-1 div.sk-estimator:hover {background-color: #d4ebff;}#sk-container-id-1 div.sk-parallel-item::after {content: \"\";width: 100%;border-bottom: 1px solid gray;flex-grow: 1;}#sk-container-id-1 div.sk-label:hover label.sk-toggleable__label {background-color: #d4ebff;}#sk-container-id-1 div.sk-serial::before {content: \"\";position: absolute;border-left: 1px solid gray;box-sizing: border-box;top: 0;bottom: 0;left: 50%;z-index: 0;}#sk-container-id-1 div.sk-serial {display: flex;flex-direction: column;align-items: center;background-color: white;padding-right: 0.2em;padding-left: 0.2em;position: relative;}#sk-container-id-1 div.sk-item {position: relative;z-index: 1;}#sk-container-id-1 div.sk-parallel {display: flex;align-items: stretch;justify-content: center;background-color: white;position: relative;}#sk-container-id-1 div.sk-item::before, #sk-container-id-1 div.sk-parallel-item::before {content: \"\";position: absolute;border-left: 1px solid gray;box-sizing: border-box;top: 0;bottom: 0;left: 50%;z-index: -1;}#sk-container-id-1 div.sk-parallel-item {display: flex;flex-direction: column;z-index: 1;position: relative;background-color: white;}#sk-container-id-1 div.sk-parallel-item:first-child::after {align-self: flex-end;width: 50%;}#sk-container-id-1 div.sk-parallel-item:last-child::after {align-self: flex-start;width: 50%;}#sk-container-id-1 div.sk-parallel-item:only-child::after {width: 0;}#sk-container-id-1 div.sk-dashed-wrapped {border: 1px dashed gray;margin: 0 0.4em 0.5em 0.4em;box-sizing: border-box;padding-bottom: 0.4em;background-color: white;}#sk-container-id-1 div.sk-label label {font-family: monospace;font-weight: bold;display: inline-block;line-height: 1.2em;}#sk-container-id-1 div.sk-label-container {text-align: center;}#sk-container-id-1 div.sk-container {/* jupyter's `normalize.less` sets `[hidden] { display: none; }` but bootstrap.min.css set `[hidden] { display: none !important; }` so we also need the `!important` here to be able to override the default hidden behavior on the sphinx rendered scikit-learn.org. See: https://github.com/scikit-learn/scikit-learn/issues/21755 */display: inline-block !important;position: relative;}#sk-container-id-1 div.sk-text-repr-fallback {display: none;}</style><div id=\"sk-container-id-1\" class=\"sk-top-container\"><div class=\"sk-text-repr-fallback\"><pre>DecisionTreeClassifier(max_depth=100, random_state=42)</pre><b>In a Jupyter environment, please rerun this cell to show the HTML representation or trust the notebook. <br />On GitHub, the HTML representation is unable to render, please try loading this page with nbviewer.org.</b></div><div class=\"sk-container\" hidden><div class=\"sk-item\"><div class=\"sk-estimator sk-toggleable\"><input class=\"sk-toggleable__control sk-hidden--visually\" id=\"sk-estimator-id-1\" type=\"checkbox\" checked><label for=\"sk-estimator-id-1\" class=\"sk-toggleable__label sk-toggleable__label-arrow\">DecisionTreeClassifier</label><div class=\"sk-toggleable__content\"><pre>DecisionTreeClassifier(max_depth=100, random_state=42)</pre></div></div></div></div></div>"
      ],
      "text/plain": [
       "DecisionTreeClassifier(max_depth=100, random_state=42)"
      ]
     },
     "execution_count": 5,
     "metadata": {},
     "output_type": "execute_result"
    }
   ],
   "source": [
    "dt_model = DecisionTreeClassifier(criterion='gini', max_depth=100, random_state=42)\n",
    "dt_model.fit(X_train_pca, y_train_labels)"
   ]
  },
  {
   "cell_type": "code",
   "execution_count": null,
   "id": "aa4949b1",
   "metadata": {
    "execution": {
     "iopub.execute_input": "2025-02-16T22:34:51.248346Z",
     "iopub.status.busy": "2025-02-16T22:34:51.247907Z",
     "iopub.status.idle": "2025-02-16T22:34:51.672105Z",
     "shell.execute_reply": "2025-02-16T22:34:51.671040Z"
    },
    "papermill": {
     "duration": 0.430645,
     "end_time": "2025-02-16T22:34:51.674064",
     "exception": false,
     "start_time": "2025-02-16T22:34:51.243419",
     "status": "completed"
    },
    "tags": []
   },
   "outputs": [
    {
     "data": {
      "text/plain": [
       "['/kaggle/working/pca.pkl']"
      ]
     },
     "execution_count": 6,
     "metadata": {},
     "output_type": "execute_result"
    }
   ],
   "source": [
    "joblib.dump(dt_model, \"/kaggle/working/dt.pkl\")\n",
    "joblib.dump(scaler, \"/kaggle/working/scaler.pkl\")\n",
    "joblib.dump(pca, \"/kaggle/working/pca.pkl\")"
   ]
  },
  {
   "cell_type": "markdown",
   "id": "83352733",
   "metadata": {},
   "source": [
    "# `Testing performance`"
   ]
  },
  {
   "cell_type": "code",
   "execution_count": null,
   "id": "ff4e2305",
   "metadata": {
    "execution": {
     "iopub.execute_input": "2025-02-16T22:34:51.681886Z",
     "iopub.status.busy": "2025-02-16T22:34:51.681546Z",
     "iopub.status.idle": "2025-02-16T22:34:51.930999Z",
     "shell.execute_reply": "2025-02-16T22:34:51.929684Z"
    },
    "papermill": {
     "duration": 0.255835,
     "end_time": "2025-02-16T22:34:51.933090",
     "exception": false,
     "start_time": "2025-02-16T22:34:51.677255",
     "status": "completed"
    },
    "tags": []
   },
   "outputs": [],
   "source": [
    "y_train_pred = dt_model.predict(X_train_pca)\n",
    "y_val_pred = dt_model.predict(X_val_pca)\n",
    "y_test_pred = dt_model.predict(X_test_pca)"
   ]
  },
  {
   "cell_type": "code",
   "execution_count": null,
   "id": "7450ddcf",
   "metadata": {
    "execution": {
     "iopub.execute_input": "2025-02-16T22:34:51.941978Z",
     "iopub.status.busy": "2025-02-16T22:34:51.941554Z",
     "iopub.status.idle": "2025-02-16T22:34:51.953357Z",
     "shell.execute_reply": "2025-02-16T22:34:51.951643Z"
    },
    "papermill": {
     "duration": 0.019748,
     "end_time": "2025-02-16T22:34:51.956073",
     "exception": false,
     "start_time": "2025-02-16T22:34:51.936325",
     "status": "completed"
    },
    "tags": []
   },
   "outputs": [],
   "source": [
    "train_accuracy = accuracy_score(y_train_labels, y_train_pred)\n",
    "val_accuracy = accuracy_score(y_val_labels, y_val_pred)\n",
    "test_accuracy = accuracy_score(y_test_labels, y_test_pred)"
   ]
  },
  {
   "cell_type": "code",
   "execution_count": null,
   "id": "4f657e1e",
   "metadata": {
    "execution": {
     "iopub.execute_input": "2025-02-16T22:34:51.964490Z",
     "iopub.status.busy": "2025-02-16T22:34:51.964077Z",
     "iopub.status.idle": "2025-02-16T22:34:51.971414Z",
     "shell.execute_reply": "2025-02-16T22:34:51.970053Z"
    },
    "papermill": {
     "duration": 0.014199,
     "end_time": "2025-02-16T22:34:51.973605",
     "exception": false,
     "start_time": "2025-02-16T22:34:51.959406",
     "status": "completed"
    },
    "tags": []
   },
   "outputs": [
    {
     "name": "stdout",
     "output_type": "stream",
     "text": [
      "Training Accuracy: 18.27%\n",
      "Validation Accuracy: 3.26%\n",
      "Test Accuracy: 3.49%\n"
     ]
    }
   ],
   "source": [
    "print(f\"Training Accuracy: {train_accuracy * 100:.2f}%\")\n",
    "print(f\"Validation Accuracy: {val_accuracy * 100:.2f}%\")\n",
    "print(f\"Test Accuracy: {test_accuracy * 100:.2f}%\")"
   ]
  }
 ],
 "metadata": {
  "kaggle": {
   "accelerator": "none",
   "dataSources": [
    {
     "datasetId": 6629633,
     "sourceId": 10765505,
     "sourceType": "datasetVersion"
    }
   ],
   "dockerImageVersionId": 30886,
   "isGpuEnabled": false,
   "isInternetEnabled": true,
   "language": "python",
   "sourceType": "notebook"
  },
  "kernelspec": {
   "display_name": "Python 3",
   "language": "python",
   "name": "python3"
  },
  "language_info": {
   "codemirror_mode": {
    "name": "ipython",
    "version": 3
   },
   "file_extension": ".py",
   "mimetype": "text/x-python",
   "name": "python",
   "nbconvert_exporter": "python",
   "pygments_lexer": "ipython3",
   "version": "3.10.12"
  },
  "papermill": {
   "default_parameters": {},
   "duration": 2110.578493,
   "end_time": "2025-02-16T22:34:53.106113",
   "environment_variables": {},
   "exception": null,
   "input_path": "__notebook__.ipynb",
   "output_path": "__notebook__.ipynb",
   "parameters": {},
   "start_time": "2025-02-16T21:59:42.527620",
   "version": "2.6.0"
  }
 },
 "nbformat": 4,
 "nbformat_minor": 5
}
