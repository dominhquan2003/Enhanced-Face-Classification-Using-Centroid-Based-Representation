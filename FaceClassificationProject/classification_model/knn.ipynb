{
 "cells": [
  {
   "cell_type": "code",
   "execution_count": null,
   "id": "9f50f9dc",
   "metadata": {
    "_cell_guid": "b1076dfc-b9ad-4769-8c92-a6c4dae69d19",
    "_uuid": "8f2839f25d086af736a60e9eeb907d3b93b6e0e5",
    "execution": {
     "iopub.execute_input": "2025-02-16T14:53:06.207686Z",
     "iopub.status.busy": "2025-02-16T14:53:06.207126Z",
     "iopub.status.idle": "2025-02-16T14:53:09.715881Z",
     "shell.execute_reply": "2025-02-16T14:53:09.714793Z"
    },
    "papermill": {
     "duration": 3.515867,
     "end_time": "2025-02-16T14:53:09.717764",
     "exception": false,
     "start_time": "2025-02-16T14:53:06.201897",
     "status": "completed"
    },
    "tags": []
   },
   "outputs": [],
   "source": [
    "import numpy as np\n",
    "import joblib\n",
    "from sklearn.neighbors import KNeighborsClassifier\n",
    "from sklearn.preprocessing import StandardScaler\n",
    "from sklearn.metrics import accuracy_score\n",
    "from sklearn.model_selection import GridSearchCV\n",
    "from sklearn.decomposition import PCA\n",
    "from imblearn.over_sampling import SMOTE"
   ]
  },
  {
   "cell_type": "markdown",
   "id": "892432f9",
   "metadata": {},
   "source": [
    "# `Load datasets`"
   ]
  },
  {
   "cell_type": "code",
   "execution_count": 2,
   "id": "e6fc78ed",
   "metadata": {
    "execution": {
     "iopub.execute_input": "2025-02-16T14:53:09.725885Z",
     "iopub.status.busy": "2025-02-16T14:53:09.725372Z",
     "iopub.status.idle": "2025-02-16T14:53:20.842533Z",
     "shell.execute_reply": "2025-02-16T14:53:20.841405Z"
    },
    "papermill": {
     "duration": 11.123149,
     "end_time": "2025-02-16T14:53:20.844623",
     "exception": false,
     "start_time": "2025-02-16T14:53:09.721474",
     "status": "completed"
    },
    "tags": []
   },
   "outputs": [],
   "source": [
    "X_train = np.load('/kaggle/input/pit-classification/distance_vectors_train.npy')\n",
    "X_test = np.load('/kaggle/input/pit-classification/distance_vectors_test.npy')\n",
    "X_val = np.load('/kaggle/input/pit-classification/distance_vectors_val.npy')\n",
    "y_train = np.load('/kaggle/input/pit-classification/train_labels.npy')\n",
    "y_test = np.load('/kaggle/input/pit-classification/test_labels.npy')\n",
    "y_val = np.load('/kaggle/input/pit-classification/val_labels.npy')"
   ]
  },
  {
   "cell_type": "markdown",
   "id": "96c80648",
   "metadata": {},
   "source": [
    "# `Convert one-hot encoded labels to class indices`"
   ]
  },
  {
   "cell_type": "code",
   "execution_count": null,
   "id": "598a60c8",
   "metadata": {
    "execution": {
     "iopub.execute_input": "2025-02-16T14:53:20.852645Z",
     "iopub.status.busy": "2025-02-16T14:53:20.852282Z",
     "iopub.status.idle": "2025-02-16T14:53:20.869655Z",
     "shell.execute_reply": "2025-02-16T14:53:20.868425Z"
    },
    "papermill": {
     "duration": 0.023427,
     "end_time": "2025-02-16T14:53:20.871489",
     "exception": false,
     "start_time": "2025-02-16T14:53:20.848062",
     "status": "completed"
    },
    "tags": []
   },
   "outputs": [],
   "source": [
    "y_train = np.argmax(y_train, axis=1)\n",
    "y_test = np.argmax(y_test, axis=1)\n",
    "y_val = np.argmax(y_val, axis=1)"
   ]
  },
  {
   "cell_type": "markdown",
   "id": "be1fb716",
   "metadata": {},
   "source": [
    "# `Standardize features`"
   ]
  },
  {
   "cell_type": "code",
   "execution_count": null,
   "id": "bbaee163",
   "metadata": {
    "execution": {
     "iopub.execute_input": "2025-02-16T14:53:20.879617Z",
     "iopub.status.busy": "2025-02-16T14:53:20.879248Z",
     "iopub.status.idle": "2025-02-16T14:53:25.928978Z",
     "shell.execute_reply": "2025-02-16T14:53:25.927859Z"
    },
    "papermill": {
     "duration": 5.056047,
     "end_time": "2025-02-16T14:53:25.931074",
     "exception": false,
     "start_time": "2025-02-16T14:53:20.875027",
     "status": "completed"
    },
    "tags": []
   },
   "outputs": [],
   "source": [
    "scaler = StandardScaler()\n",
    "X_train_scaled = scaler.fit_transform(X_train)\n",
    "X_test_scaled = scaler.transform(X_test)\n",
    "X_val_scaled = scaler.transform(X_val)"
   ]
  },
  {
   "cell_type": "markdown",
   "id": "9ef0afd7",
   "metadata": {},
   "source": [
    "# `Apply PCA for dimensionality reduction`"
   ]
  },
  {
   "cell_type": "code",
   "execution_count": null,
   "id": "35fed2c2",
   "metadata": {
    "execution": {
     "iopub.execute_input": "2025-02-16T14:53:25.939795Z",
     "iopub.status.busy": "2025-02-16T14:53:25.939437Z",
     "iopub.status.idle": "2025-02-16T14:54:39.923046Z",
     "shell.execute_reply": "2025-02-16T14:54:39.921825Z"
    },
    "papermill": {
     "duration": 73.990918,
     "end_time": "2025-02-16T14:54:39.925725",
     "exception": false,
     "start_time": "2025-02-16T14:53:25.934807",
     "status": "completed"
    },
    "tags": []
   },
   "outputs": [],
   "source": [
    "pca = PCA(n_components=500)\n",
    "X_train_pca = pca.fit_transform(X_train_scaled)\n",
    "X_test_pca = pca.transform(X_test_scaled)\n",
    "X_val_pca = pca.transform(X_val_scaled)"
   ]
  },
  {
   "cell_type": "code",
   "execution_count": null,
   "id": "4ce99521",
   "metadata": {
    "execution": {
     "iopub.execute_input": "2025-02-16T14:54:39.934579Z",
     "iopub.status.busy": "2025-02-16T14:54:39.934199Z",
     "iopub.status.idle": "2025-02-16T14:54:41.065638Z",
     "shell.execute_reply": "2025-02-16T14:54:41.064528Z"
    },
    "papermill": {
     "duration": 1.137899,
     "end_time": "2025-02-16T14:54:41.067790",
     "exception": false,
     "start_time": "2025-02-16T14:54:39.929891",
     "status": "completed"
    },
    "tags": []
   },
   "outputs": [],
   "source": [
    "smote = SMOTE(sampling_strategy='auto', random_state=42)\n",
    "X_train_resampled, y_train_resampled = smote.fit_resample(X_train_pca, y_train)"
   ]
  },
  {
   "cell_type": "code",
   "execution_count": null,
   "id": "4e63a21e",
   "metadata": {
    "execution": {
     "iopub.execute_input": "2025-02-16T14:54:41.076184Z",
     "iopub.status.busy": "2025-02-16T14:54:41.075777Z",
     "iopub.status.idle": "2025-02-16T14:54:41.080669Z",
     "shell.execute_reply": "2025-02-16T14:54:41.079631Z"
    },
    "papermill": {
     "duration": 0.010987,
     "end_time": "2025-02-16T14:54:41.082384",
     "exception": false,
     "start_time": "2025-02-16T14:54:41.071397",
     "status": "completed"
    },
    "tags": []
   },
   "outputs": [],
   "source": [
    "param_grid = {\n",
    "    'n_neighbors': [3, 5, 10, 15, 20],\n",
    "    'weights': ['uniform', 'distance'],\n",
    "    'p': [1, 2]\n",
    "}\n",
    "\n",
    "grid_search = GridSearchCV(\n",
    "    KNeighborsClassifier(n_jobs=-1), param_grid, cv=5, scoring='accuracy', n_jobs=-1\n",
    ")"
   ]
  },
  {
   "cell_type": "code",
   "execution_count": 8,
   "id": "101bb852",
   "metadata": {
    "execution": {
     "iopub.execute_input": "2025-02-16T14:54:41.090864Z",
     "iopub.status.busy": "2025-02-16T14:54:41.090474Z",
     "iopub.status.idle": "2025-02-16T16:37:39.424422Z",
     "shell.execute_reply": "2025-02-16T16:37:39.421668Z"
    },
    "papermill": {
     "duration": 6178.345924,
     "end_time": "2025-02-16T16:37:39.432051",
     "exception": false,
     "start_time": "2025-02-16T14:54:41.086127",
     "status": "completed"
    },
    "tags": []
   },
   "outputs": [],
   "source": [
    "grid_search.fit(X_train_resampled, y_train_resampled)\n",
    "best_params = grid_search.best_params_"
   ]
  },
  {
   "cell_type": "code",
   "execution_count": 9,
   "id": "b45e4ec2",
   "metadata": {
    "execution": {
     "iopub.execute_input": "2025-02-16T16:37:39.449126Z",
     "iopub.status.busy": "2025-02-16T16:37:39.448649Z",
     "iopub.status.idle": "2025-02-16T16:37:39.457194Z",
     "shell.execute_reply": "2025-02-16T16:37:39.456090Z"
    },
    "papermill": {
     "duration": 0.018,
     "end_time": "2025-02-16T16:37:39.459973",
     "exception": false,
     "start_time": "2025-02-16T16:37:39.441973",
     "status": "completed"
    },
    "tags": []
   },
   "outputs": [
    {
     "name": "stdout",
     "output_type": "stream",
     "text": [
      "Best K: 3, Best Weight: distance, Best p: 1\n"
     ]
    }
   ],
   "source": [
    "print(f\"Best K: {best_params['n_neighbors']}, Best Weight: {best_params['weights']}, Best p: {best_params['p']}\")"
   ]
  },
  {
   "cell_type": "code",
   "execution_count": null,
   "id": "7c558d10",
   "metadata": {
    "execution": {
     "iopub.execute_input": "2025-02-16T16:37:39.468938Z",
     "iopub.status.busy": "2025-02-16T16:37:39.468528Z",
     "iopub.status.idle": "2025-02-16T16:37:39.473613Z",
     "shell.execute_reply": "2025-02-16T16:37:39.472524Z"
    },
    "papermill": {
     "duration": 0.011673,
     "end_time": "2025-02-16T16:37:39.475537",
     "exception": false,
     "start_time": "2025-02-16T16:37:39.463864",
     "status": "completed"
    },
    "tags": []
   },
   "outputs": [],
   "source": [
    "knn_model = KNeighborsClassifier(\n",
    "    n_neighbors=best_params['n_neighbors'], \n",
    "    weights=best_params['weights'], \n",
    "    p=best_params['p'],\n",
    "    n_jobs=-1\n",
    ")"
   ]
  },
  {
   "cell_type": "code",
   "execution_count": 11,
   "id": "f259873b",
   "metadata": {
    "execution": {
     "iopub.execute_input": "2025-02-16T16:37:39.484555Z",
     "iopub.status.busy": "2025-02-16T16:37:39.484011Z",
     "iopub.status.idle": "2025-02-16T16:37:39.528437Z",
     "shell.execute_reply": "2025-02-16T16:37:39.527176Z"
    },
    "papermill": {
     "duration": 0.051002,
     "end_time": "2025-02-16T16:37:39.530429",
     "exception": false,
     "start_time": "2025-02-16T16:37:39.479427",
     "status": "completed"
    },
    "tags": []
   },
   "outputs": [
    {
     "data": {
      "text/html": [
       "<style>#sk-container-id-1 {color: black;background-color: white;}#sk-container-id-1 pre{padding: 0;}#sk-container-id-1 div.sk-toggleable {background-color: white;}#sk-container-id-1 label.sk-toggleable__label {cursor: pointer;display: block;width: 100%;margin-bottom: 0;padding: 0.3em;box-sizing: border-box;text-align: center;}#sk-container-id-1 label.sk-toggleable__label-arrow:before {content: \"▸\";float: left;margin-right: 0.25em;color: #696969;}#sk-container-id-1 label.sk-toggleable__label-arrow:hover:before {color: black;}#sk-container-id-1 div.sk-estimator:hover label.sk-toggleable__label-arrow:before {color: black;}#sk-container-id-1 div.sk-toggleable__content {max-height: 0;max-width: 0;overflow: hidden;text-align: left;background-color: #f0f8ff;}#sk-container-id-1 div.sk-toggleable__content pre {margin: 0.2em;color: black;border-radius: 0.25em;background-color: #f0f8ff;}#sk-container-id-1 input.sk-toggleable__control:checked~div.sk-toggleable__content {max-height: 200px;max-width: 100%;overflow: auto;}#sk-container-id-1 input.sk-toggleable__control:checked~label.sk-toggleable__label-arrow:before {content: \"▾\";}#sk-container-id-1 div.sk-estimator input.sk-toggleable__control:checked~label.sk-toggleable__label {background-color: #d4ebff;}#sk-container-id-1 div.sk-label input.sk-toggleable__control:checked~label.sk-toggleable__label {background-color: #d4ebff;}#sk-container-id-1 input.sk-hidden--visually {border: 0;clip: rect(1px 1px 1px 1px);clip: rect(1px, 1px, 1px, 1px);height: 1px;margin: -1px;overflow: hidden;padding: 0;position: absolute;width: 1px;}#sk-container-id-1 div.sk-estimator {font-family: monospace;background-color: #f0f8ff;border: 1px dotted black;border-radius: 0.25em;box-sizing: border-box;margin-bottom: 0.5em;}#sk-container-id-1 div.sk-estimator:hover {background-color: #d4ebff;}#sk-container-id-1 div.sk-parallel-item::after {content: \"\";width: 100%;border-bottom: 1px solid gray;flex-grow: 1;}#sk-container-id-1 div.sk-label:hover label.sk-toggleable__label {background-color: #d4ebff;}#sk-container-id-1 div.sk-serial::before {content: \"\";position: absolute;border-left: 1px solid gray;box-sizing: border-box;top: 0;bottom: 0;left: 50%;z-index: 0;}#sk-container-id-1 div.sk-serial {display: flex;flex-direction: column;align-items: center;background-color: white;padding-right: 0.2em;padding-left: 0.2em;position: relative;}#sk-container-id-1 div.sk-item {position: relative;z-index: 1;}#sk-container-id-1 div.sk-parallel {display: flex;align-items: stretch;justify-content: center;background-color: white;position: relative;}#sk-container-id-1 div.sk-item::before, #sk-container-id-1 div.sk-parallel-item::before {content: \"\";position: absolute;border-left: 1px solid gray;box-sizing: border-box;top: 0;bottom: 0;left: 50%;z-index: -1;}#sk-container-id-1 div.sk-parallel-item {display: flex;flex-direction: column;z-index: 1;position: relative;background-color: white;}#sk-container-id-1 div.sk-parallel-item:first-child::after {align-self: flex-end;width: 50%;}#sk-container-id-1 div.sk-parallel-item:last-child::after {align-self: flex-start;width: 50%;}#sk-container-id-1 div.sk-parallel-item:only-child::after {width: 0;}#sk-container-id-1 div.sk-dashed-wrapped {border: 1px dashed gray;margin: 0 0.4em 0.5em 0.4em;box-sizing: border-box;padding-bottom: 0.4em;background-color: white;}#sk-container-id-1 div.sk-label label {font-family: monospace;font-weight: bold;display: inline-block;line-height: 1.2em;}#sk-container-id-1 div.sk-label-container {text-align: center;}#sk-container-id-1 div.sk-container {/* jupyter's `normalize.less` sets `[hidden] { display: none; }` but bootstrap.min.css set `[hidden] { display: none !important; }` so we also need the `!important` here to be able to override the default hidden behavior on the sphinx rendered scikit-learn.org. See: https://github.com/scikit-learn/scikit-learn/issues/21755 */display: inline-block !important;position: relative;}#sk-container-id-1 div.sk-text-repr-fallback {display: none;}</style><div id=\"sk-container-id-1\" class=\"sk-top-container\"><div class=\"sk-text-repr-fallback\"><pre>KNeighborsClassifier(n_jobs=-1, n_neighbors=3, p=1, weights=&#x27;distance&#x27;)</pre><b>In a Jupyter environment, please rerun this cell to show the HTML representation or trust the notebook. <br />On GitHub, the HTML representation is unable to render, please try loading this page with nbviewer.org.</b></div><div class=\"sk-container\" hidden><div class=\"sk-item\"><div class=\"sk-estimator sk-toggleable\"><input class=\"sk-toggleable__control sk-hidden--visually\" id=\"sk-estimator-id-1\" type=\"checkbox\" checked><label for=\"sk-estimator-id-1\" class=\"sk-toggleable__label sk-toggleable__label-arrow\">KNeighborsClassifier</label><div class=\"sk-toggleable__content\"><pre>KNeighborsClassifier(n_jobs=-1, n_neighbors=3, p=1, weights=&#x27;distance&#x27;)</pre></div></div></div></div></div>"
      ],
      "text/plain": [
       "KNeighborsClassifier(n_jobs=-1, n_neighbors=3, p=1, weights='distance')"
      ]
     },
     "execution_count": 11,
     "metadata": {},
     "output_type": "execute_result"
    }
   ],
   "source": [
    "knn_model.fit(X_train_resampled, y_train_resampled)"
   ]
  },
  {
   "cell_type": "code",
   "execution_count": null,
   "id": "fdbaabec",
   "metadata": {
    "execution": {
     "iopub.execute_input": "2025-02-16T16:37:39.540071Z",
     "iopub.status.busy": "2025-02-16T16:37:39.539727Z",
     "iopub.status.idle": "2025-02-16T16:37:40.142052Z",
     "shell.execute_reply": "2025-02-16T16:37:40.140974Z"
    },
    "papermill": {
     "duration": 0.609017,
     "end_time": "2025-02-16T16:37:40.143943",
     "exception": false,
     "start_time": "2025-02-16T16:37:39.534926",
     "status": "completed"
    },
    "tags": []
   },
   "outputs": [
    {
     "data": {
      "text/plain": [
       "['pca.pkl']"
      ]
     },
     "execution_count": 12,
     "metadata": {},
     "output_type": "execute_result"
    }
   ],
   "source": [
    "joblib.dump(knn_model, \"knn_model.pkl\")\n",
    "joblib.dump(scaler, \"scaler.pkl\")\n",
    "joblib.dump(pca, \"pca.pkl\")"
   ]
  },
  {
   "cell_type": "markdown",
   "id": "fb8b41f2",
   "metadata": {},
   "source": [
    "# `Testing performance`"
   ]
  },
  {
   "cell_type": "code",
   "execution_count": null,
   "id": "112492e4",
   "metadata": {
    "execution": {
     "iopub.execute_input": "2025-02-16T16:37:40.154543Z",
     "iopub.status.busy": "2025-02-16T16:37:40.154077Z",
     "iopub.status.idle": "2025-02-16T16:47:47.166344Z",
     "shell.execute_reply": "2025-02-16T16:47:47.164665Z"
    },
    "papermill": {
     "duration": 607.020249,
     "end_time": "2025-02-16T16:47:47.168755",
     "exception": false,
     "start_time": "2025-02-16T16:37:40.148506",
     "status": "completed"
    },
    "tags": []
   },
   "outputs": [],
   "source": [
    "y_train_pred = knn_model.predict(X_train_pca)\n",
    "y_val_pred = knn_model.predict(X_val_pca)\n",
    "y_test_pred = knn_model.predict(X_test_pca)"
   ]
  },
  {
   "cell_type": "code",
   "execution_count": null,
   "id": "8430c997",
   "metadata": {
    "execution": {
     "iopub.execute_input": "2025-02-16T16:47:47.179349Z",
     "iopub.status.busy": "2025-02-16T16:47:47.178934Z",
     "iopub.status.idle": "2025-02-16T16:47:47.189121Z",
     "shell.execute_reply": "2025-02-16T16:47:47.188051Z"
    },
    "papermill": {
     "duration": 0.017339,
     "end_time": "2025-02-16T16:47:47.191031",
     "exception": false,
     "start_time": "2025-02-16T16:47:47.173692",
     "status": "completed"
    },
    "tags": []
   },
   "outputs": [],
   "source": [
    "train_accuracy = accuracy_score(y_train, y_train_pred)\n",
    "val_accuracy = accuracy_score(y_val, y_val_pred)\n",
    "test_accuracy = accuracy_score(y_test, y_test_pred)"
   ]
  },
  {
   "cell_type": "code",
   "execution_count": null,
   "id": "bd247988",
   "metadata": {
    "execution": {
     "iopub.execute_input": "2025-02-16T16:47:47.200802Z",
     "iopub.status.busy": "2025-02-16T16:47:47.200457Z",
     "iopub.status.idle": "2025-02-16T16:47:47.205372Z",
     "shell.execute_reply": "2025-02-16T16:47:47.204317Z"
    },
    "papermill": {
     "duration": 0.011857,
     "end_time": "2025-02-16T16:47:47.207219",
     "exception": false,
     "start_time": "2025-02-16T16:47:47.195362",
     "status": "completed"
    },
    "tags": []
   },
   "outputs": [
    {
     "name": "stdout",
     "output_type": "stream",
     "text": [
      "Training Accuracy: 31.67%\n",
      "Validation Accuracy: 18.88%\n",
      "Test Accuracy: 19.13%\n"
     ]
    }
   ],
   "source": [
    "print(f\"Training Accuracy: {train_accuracy * 100:.2f}%\")\n",
    "print(f\"Validation Accuracy: {val_accuracy * 100:.2f}%\")\n",
    "print(f\"Test Accuracy: {test_accuracy * 100:.2f}%\")"
   ]
  }
 ],
 "metadata": {
  "kaggle": {
   "accelerator": "none",
   "dataSources": [
    {
     "datasetId": 6629633,
     "sourceId": 10765505,
     "sourceType": "datasetVersion"
    }
   ],
   "dockerImageVersionId": 30886,
   "isGpuEnabled": false,
   "isInternetEnabled": true,
   "language": "python",
   "sourceType": "notebook"
  },
  "kernelspec": {
   "display_name": "Python 3",
   "language": "python",
   "name": "python3"
  },
  "language_info": {
   "codemirror_mode": {
    "name": "ipython",
    "version": 3
   },
   "file_extension": ".py",
   "mimetype": "text/x-python",
   "name": "python",
   "nbconvert_exporter": "python",
   "pygments_lexer": "ipython3",
   "version": "3.10.12"
  },
  "papermill": {
   "default_parameters": {},
   "duration": 6885.136409,
   "end_time": "2025-02-16T16:47:48.445269",
   "environment_variables": {},
   "exception": null,
   "input_path": "__notebook__.ipynb",
   "output_path": "__notebook__.ipynb",
   "parameters": {},
   "start_time": "2025-02-16T14:53:03.308860",
   "version": "2.6.0"
  }
 },
 "nbformat": 4,
 "nbformat_minor": 5
}
