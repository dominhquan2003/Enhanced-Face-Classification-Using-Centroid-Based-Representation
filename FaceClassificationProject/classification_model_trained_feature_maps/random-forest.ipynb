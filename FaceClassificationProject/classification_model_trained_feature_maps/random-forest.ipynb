{
 "cells": [
  {
   "cell_type": "code",
   "execution_count": 1,
   "id": "0a7e44a8",
   "metadata": {
    "_cell_guid": "b1076dfc-b9ad-4769-8c92-a6c4dae69d19",
    "_uuid": "8f2839f25d086af736a60e9eeb907d3b93b6e0e5",
    "execution": {
     "iopub.execute_input": "2025-02-16T21:38:19.457302Z",
     "iopub.status.busy": "2025-02-16T21:38:19.456787Z",
     "iopub.status.idle": "2025-02-16T21:38:23.531876Z",
     "shell.execute_reply": "2025-02-16T21:38:23.530371Z"
    },
    "papermill": {
     "duration": 4.083438,
     "end_time": "2025-02-16T21:38:23.534452",
     "exception": false,
     "start_time": "2025-02-16T21:38:19.451014",
     "status": "completed"
    },
    "tags": []
   },
   "outputs": [],
   "source": [
    "import numpy as np\n",
    "import joblib\n",
    "import matplotlib.pyplot as plt\n",
    "import seaborn as sns\n",
    "from sklearn.ensemble import RandomForestClassifier\n",
    "from sklearn.decomposition import PCA\n",
    "from sklearn.model_selection import GridSearchCV\n",
    "from sklearn.metrics import accuracy_score, classification_report, confusion_matrix"
   ]
  },
  {
   "cell_type": "markdown",
   "id": "696e4bf0",
   "metadata": {},
   "source": [
    "# `Load extracted feature maps`\n"
   ]
  },
  {
   "cell_type": "code",
   "execution_count": null,
   "id": "20dfdd05",
   "metadata": {
    "execution": {
     "iopub.execute_input": "2025-02-16T21:38:23.544305Z",
     "iopub.status.busy": "2025-02-16T21:38:23.543581Z",
     "iopub.status.idle": "2025-02-16T21:39:27.697856Z",
     "shell.execute_reply": "2025-02-16T21:39:27.696273Z"
    },
    "papermill": {
     "duration": 64.162442,
     "end_time": "2025-02-16T21:39:27.701282",
     "exception": false,
     "start_time": "2025-02-16T21:38:23.538840",
     "status": "completed"
    },
    "tags": []
   },
   "outputs": [],
   "source": [
    "X_train = np.load('/kaggle/input/pit-feature-maps-mobilenetv2/train_feature_maps.npy')\n",
    "X_test = np.load('/kaggle/input/pit-feature-maps-mobilenetv2/test_feature_maps.npy')\n",
    "X_val = np.load('/kaggle/input/pit-feature-maps-mobilenetv2/val_feature_maps.npy')\n",
    "y_train = np.load('/kaggle/input/pit-feature-maps-mobilenetv2/train_labels.npy')\n",
    "y_test = np.load('/kaggle/input/pit-feature-maps-mobilenetv2/test_labels.npy')\n",
    "y_val = np.load('/kaggle/input/pit-feature-maps-mobilenetv2/val_labels.npy')"
   ]
  },
  {
   "cell_type": "markdown",
   "id": "2c5efae3",
   "metadata": {},
   "source": [
    "# `Reshape 4D feature maps to 2D (samples, features)`"
   ]
  },
  {
   "cell_type": "code",
   "execution_count": null,
   "id": "4b41e92a",
   "metadata": {},
   "outputs": [],
   "source": [
    "X_train_reshaped = X_train.reshape(X_train.shape[0], -1)\n",
    "X_test_reshaped = X_test.reshape(X_test.shape[0], -1)\n",
    "X_val_reshaped = X_val.reshape(X_val.shape[0], -1)"
   ]
  },
  {
   "cell_type": "markdown",
   "id": "aa204e7d",
   "metadata": {},
   "source": [
    "# `Apply PCA for dimensionality reduction`"
   ]
  },
  {
   "cell_type": "code",
   "execution_count": null,
   "id": "ea5c8d06",
   "metadata": {
    "execution": {
     "iopub.execute_input": "2025-02-16T21:39:27.712581Z",
     "iopub.status.busy": "2025-02-16T21:39:27.712062Z",
     "iopub.status.idle": "2025-02-16T21:44:35.098768Z",
     "shell.execute_reply": "2025-02-16T21:44:35.092545Z"
    },
    "papermill": {
     "duration": 307.404128,
     "end_time": "2025-02-16T21:44:35.111158",
     "exception": false,
     "start_time": "2025-02-16T21:39:27.707030",
     "status": "completed"
    },
    "tags": []
   },
   "outputs": [],
   "source": [
    "pca = PCA(n_components=500)\n",
    "X_train_pca = pca.fit_transform(X_train_reshaped)\n",
    "X_test_pca = pca.transform(X_test_reshaped)\n",
    "X_val_pca = pca.transform(X_val_reshaped)"
   ]
  },
  {
   "cell_type": "markdown",
   "id": "780a0cdb",
   "metadata": {},
   "source": [
    "# `Save PCA model`"
   ]
  },
  {
   "cell_type": "code",
   "execution_count": null,
   "id": "e51523f2",
   "metadata": {
    "execution": {
     "iopub.execute_input": "2025-02-16T21:44:35.136949Z",
     "iopub.status.busy": "2025-02-16T21:44:35.136215Z",
     "iopub.status.idle": "2025-02-16T21:44:35.561206Z",
     "shell.execute_reply": "2025-02-16T21:44:35.559883Z"
    },
    "papermill": {
     "duration": 0.441776,
     "end_time": "2025-02-16T21:44:35.569200",
     "exception": false,
     "start_time": "2025-02-16T21:44:35.127424",
     "status": "completed"
    },
    "tags": []
   },
   "outputs": [
    {
     "data": {
      "text/plain": [
       "['/kaggle/working/pca_model.pkl']"
      ]
     },
     "execution_count": 4,
     "metadata": {},
     "output_type": "execute_result"
    }
   ],
   "source": [
    "joblib.dump(pca, '/kaggle/working/pca_model.pkl')"
   ]
  },
  {
   "cell_type": "code",
   "execution_count": 9,
   "id": "aec39cb0",
   "metadata": {
    "execution": {
     "iopub.execute_input": "2025-02-16T21:44:35.646566Z",
     "iopub.status.busy": "2025-02-16T21:44:35.646071Z",
     "iopub.status.idle": "2025-02-16T21:44:35.653344Z",
     "shell.execute_reply": "2025-02-16T21:44:35.652170Z"
    },
    "papermill": {
     "duration": 0.014527,
     "end_time": "2025-02-16T21:44:35.655357",
     "exception": false,
     "start_time": "2025-02-16T21:44:35.640830",
     "status": "completed"
    },
    "tags": []
   },
   "outputs": [],
   "source": [
    "rf_model = RandomForestClassifier(n_estimators=200, max_depth=20, min_samples_split=5,  min_samples_leaf = 2,random_state=42)\n"
   ]
  },
  {
   "cell_type": "code",
   "execution_count": 10,
   "id": "73e7ed3c",
   "metadata": {
    "execution": {
     "iopub.execute_input": "2025-02-16T21:44:35.665273Z",
     "iopub.status.busy": "2025-02-16T21:44:35.664799Z",
     "iopub.status.idle": "2025-02-17T00:31:15.639139Z",
     "shell.execute_reply": "2025-02-17T00:31:15.634232Z"
    },
    "papermill": {
     "duration": 10000.015798,
     "end_time": "2025-02-17T00:31:15.675350",
     "exception": false,
     "start_time": "2025-02-16T21:44:35.659552",
     "status": "completed"
    },
    "tags": []
   },
   "outputs": [
    {
     "data": {
      "text/html": [
       "<style>#sk-container-id-1 {color: black;background-color: white;}#sk-container-id-1 pre{padding: 0;}#sk-container-id-1 div.sk-toggleable {background-color: white;}#sk-container-id-1 label.sk-toggleable__label {cursor: pointer;display: block;width: 100%;margin-bottom: 0;padding: 0.3em;box-sizing: border-box;text-align: center;}#sk-container-id-1 label.sk-toggleable__label-arrow:before {content: \"▸\";float: left;margin-right: 0.25em;color: #696969;}#sk-container-id-1 label.sk-toggleable__label-arrow:hover:before {color: black;}#sk-container-id-1 div.sk-estimator:hover label.sk-toggleable__label-arrow:before {color: black;}#sk-container-id-1 div.sk-toggleable__content {max-height: 0;max-width: 0;overflow: hidden;text-align: left;background-color: #f0f8ff;}#sk-container-id-1 div.sk-toggleable__content pre {margin: 0.2em;color: black;border-radius: 0.25em;background-color: #f0f8ff;}#sk-container-id-1 input.sk-toggleable__control:checked~div.sk-toggleable__content {max-height: 200px;max-width: 100%;overflow: auto;}#sk-container-id-1 input.sk-toggleable__control:checked~label.sk-toggleable__label-arrow:before {content: \"▾\";}#sk-container-id-1 div.sk-estimator input.sk-toggleable__control:checked~label.sk-toggleable__label {background-color: #d4ebff;}#sk-container-id-1 div.sk-label input.sk-toggleable__control:checked~label.sk-toggleable__label {background-color: #d4ebff;}#sk-container-id-1 input.sk-hidden--visually {border: 0;clip: rect(1px 1px 1px 1px);clip: rect(1px, 1px, 1px, 1px);height: 1px;margin: -1px;overflow: hidden;padding: 0;position: absolute;width: 1px;}#sk-container-id-1 div.sk-estimator {font-family: monospace;background-color: #f0f8ff;border: 1px dotted black;border-radius: 0.25em;box-sizing: border-box;margin-bottom: 0.5em;}#sk-container-id-1 div.sk-estimator:hover {background-color: #d4ebff;}#sk-container-id-1 div.sk-parallel-item::after {content: \"\";width: 100%;border-bottom: 1px solid gray;flex-grow: 1;}#sk-container-id-1 div.sk-label:hover label.sk-toggleable__label {background-color: #d4ebff;}#sk-container-id-1 div.sk-serial::before {content: \"\";position: absolute;border-left: 1px solid gray;box-sizing: border-box;top: 0;bottom: 0;left: 50%;z-index: 0;}#sk-container-id-1 div.sk-serial {display: flex;flex-direction: column;align-items: center;background-color: white;padding-right: 0.2em;padding-left: 0.2em;position: relative;}#sk-container-id-1 div.sk-item {position: relative;z-index: 1;}#sk-container-id-1 div.sk-parallel {display: flex;align-items: stretch;justify-content: center;background-color: white;position: relative;}#sk-container-id-1 div.sk-item::before, #sk-container-id-1 div.sk-parallel-item::before {content: \"\";position: absolute;border-left: 1px solid gray;box-sizing: border-box;top: 0;bottom: 0;left: 50%;z-index: -1;}#sk-container-id-1 div.sk-parallel-item {display: flex;flex-direction: column;z-index: 1;position: relative;background-color: white;}#sk-container-id-1 div.sk-parallel-item:first-child::after {align-self: flex-end;width: 50%;}#sk-container-id-1 div.sk-parallel-item:last-child::after {align-self: flex-start;width: 50%;}#sk-container-id-1 div.sk-parallel-item:only-child::after {width: 0;}#sk-container-id-1 div.sk-dashed-wrapped {border: 1px dashed gray;margin: 0 0.4em 0.5em 0.4em;box-sizing: border-box;padding-bottom: 0.4em;background-color: white;}#sk-container-id-1 div.sk-label label {font-family: monospace;font-weight: bold;display: inline-block;line-height: 1.2em;}#sk-container-id-1 div.sk-label-container {text-align: center;}#sk-container-id-1 div.sk-container {/* jupyter's `normalize.less` sets `[hidden] { display: none; }` but bootstrap.min.css set `[hidden] { display: none !important; }` so we also need the `!important` here to be able to override the default hidden behavior on the sphinx rendered scikit-learn.org. See: https://github.com/scikit-learn/scikit-learn/issues/21755 */display: inline-block !important;position: relative;}#sk-container-id-1 div.sk-text-repr-fallback {display: none;}</style><div id=\"sk-container-id-1\" class=\"sk-top-container\"><div class=\"sk-text-repr-fallback\"><pre>RandomForestClassifier(max_depth=20, min_samples_leaf=2, min_samples_split=5,\n",
       "                       n_estimators=200, random_state=42)</pre><b>In a Jupyter environment, please rerun this cell to show the HTML representation or trust the notebook. <br />On GitHub, the HTML representation is unable to render, please try loading this page with nbviewer.org.</b></div><div class=\"sk-container\" hidden><div class=\"sk-item\"><div class=\"sk-estimator sk-toggleable\"><input class=\"sk-toggleable__control sk-hidden--visually\" id=\"sk-estimator-id-1\" type=\"checkbox\" checked><label for=\"sk-estimator-id-1\" class=\"sk-toggleable__label sk-toggleable__label-arrow\">RandomForestClassifier</label><div class=\"sk-toggleable__content\"><pre>RandomForestClassifier(max_depth=20, min_samples_leaf=2, min_samples_split=5,\n",
       "                       n_estimators=200, random_state=42)</pre></div></div></div></div></div>"
      ],
      "text/plain": [
       "RandomForestClassifier(max_depth=20, min_samples_leaf=2, min_samples_split=5,\n",
       "                       n_estimators=200, random_state=42)"
      ]
     },
     "execution_count": 10,
     "metadata": {},
     "output_type": "execute_result"
    }
   ],
   "source": [
    "rf_model.fit(X_train_pca, y_train) "
   ]
  },
  {
   "cell_type": "markdown",
   "id": "b3d9be80",
   "metadata": {},
   "source": [
    "# `Save the best model`"
   ]
  },
  {
   "cell_type": "code",
   "execution_count": null,
   "id": "ee2041d4",
   "metadata": {
    "execution": {
     "iopub.execute_input": "2025-02-17T00:44:24.407422Z",
     "iopub.status.busy": "2025-02-17T00:44:24.406989Z",
     "iopub.status.idle": "2025-02-17T00:44:39.275544Z",
     "shell.execute_reply": "2025-02-17T00:44:39.274395Z"
    },
    "papermill": {
     "duration": 14.876312,
     "end_time": "2025-02-17T00:44:39.278157",
     "exception": false,
     "start_time": "2025-02-17T00:44:24.401845",
     "status": "completed"
    },
    "tags": []
   },
   "outputs": [
    {
     "data": {
      "text/plain": [
       "['/kaggle/working/random_forest.pkl']"
      ]
     },
     "execution_count": 14,
     "metadata": {},
     "output_type": "execute_result"
    }
   ],
   "source": [
    "\n",
    "joblib.dump(rf_model, '/kaggle/working/random_forest.pkl')"
   ]
  },
  {
   "cell_type": "markdown",
   "id": "135e17c6",
   "metadata": {},
   "source": [
    "# `Testing performance`"
   ]
  },
  {
   "cell_type": "code",
   "execution_count": 11,
   "id": "92e91733",
   "metadata": {
    "execution": {
     "iopub.execute_input": "2025-02-17T00:31:15.692510Z",
     "iopub.status.busy": "2025-02-17T00:31:15.691817Z",
     "iopub.status.idle": "2025-02-17T00:44:22.511696Z",
     "shell.execute_reply": "2025-02-17T00:44:22.510276Z"
    },
    "papermill": {
     "duration": 786.832599,
     "end_time": "2025-02-17T00:44:22.514401",
     "exception": false,
     "start_time": "2025-02-17T00:31:15.681802",
     "status": "completed"
    },
    "tags": []
   },
   "outputs": [],
   "source": [
    "# Predictions for train, validation, and test sets\n",
    "y_train_pred = rf_model.predict(X_train_pca)\n",
    "y_val_pred = rf_model.predict(X_val_pca)\n",
    "y_test_pred = rf_model.predict(X_test_pca)"
   ]
  },
  {
   "cell_type": "code",
   "execution_count": 12,
   "id": "4b2e26fa",
   "metadata": {
    "execution": {
     "iopub.execute_input": "2025-02-17T00:44:22.526171Z",
     "iopub.status.busy": "2025-02-17T00:44:22.525552Z",
     "iopub.status.idle": "2025-02-17T00:44:24.339326Z",
     "shell.execute_reply": "2025-02-17T00:44:24.337721Z"
    },
    "papermill": {
     "duration": 1.822189,
     "end_time": "2025-02-17T00:44:24.341840",
     "exception": false,
     "start_time": "2025-02-17T00:44:22.519651",
     "status": "completed"
    },
    "tags": []
   },
   "outputs": [],
   "source": [
    "# Compute and print accuracy\n",
    "train_accuracy = accuracy_score(y_train, y_train_pred)\n",
    "val_accuracy = accuracy_score(y_val, y_val_pred)\n",
    "test_accuracy = accuracy_score(y_test, y_test_pred)"
   ]
  },
  {
   "cell_type": "code",
   "execution_count": 13,
   "id": "46ae0151",
   "metadata": {
    "execution": {
     "iopub.execute_input": "2025-02-17T00:44:24.352129Z",
     "iopub.status.busy": "2025-02-17T00:44:24.351722Z",
     "iopub.status.idle": "2025-02-17T00:44:24.395534Z",
     "shell.execute_reply": "2025-02-17T00:44:24.394223Z"
    },
    "papermill": {
     "duration": 0.051232,
     "end_time": "2025-02-17T00:44:24.397470",
     "exception": false,
     "start_time": "2025-02-17T00:44:24.346238",
     "status": "completed"
    },
    "tags": []
   },
   "outputs": [
    {
     "name": "stdout",
     "output_type": "stream",
     "text": [
      "Training Accuracy: 66.35%\n",
      "Validation Accuracy: 31.92%\n",
      "Test Accuracy: 33.41%\n"
     ]
    }
   ],
   "source": [
    "print(f\"Training Accuracy: {train_accuracy * 100:.2f}%\")\n",
    "print(f\"Validation Accuracy: {val_accuracy * 100:.2f}%\")\n",
    "print(f\"Test Accuracy: {test_accuracy * 100:.2f}%\")"
   ]
  }
 ],
 "metadata": {
  "kaggle": {
   "accelerator": "none",
   "dataSources": [
    {
     "datasetId": 6669550,
     "sourceId": 10759284,
     "sourceType": "datasetVersion"
    }
   ],
   "dockerImageVersionId": 30886,
   "isGpuEnabled": false,
   "isInternetEnabled": false,
   "language": "python",
   "sourceType": "notebook"
  },
  "kernelspec": {
   "display_name": "Python 3",
   "language": "python",
   "name": "python3"
  },
  "language_info": {
   "codemirror_mode": {
    "name": "ipython",
    "version": 3
   },
   "file_extension": ".py",
   "mimetype": "text/x-python",
   "name": "python",
   "nbconvert_exporter": "python",
   "pygments_lexer": "ipython3",
   "version": "3.10.12"
  },
  "papermill": {
   "default_parameters": {},
   "duration": 11186.242461,
   "end_time": "2025-02-17T00:44:41.712294",
   "environment_variables": {},
   "exception": null,
   "input_path": "__notebook__.ipynb",
   "output_path": "__notebook__.ipynb",
   "parameters": {},
   "start_time": "2025-02-16T21:38:15.469833",
   "version": "2.6.0"
  }
 },
 "nbformat": 4,
 "nbformat_minor": 5
}
