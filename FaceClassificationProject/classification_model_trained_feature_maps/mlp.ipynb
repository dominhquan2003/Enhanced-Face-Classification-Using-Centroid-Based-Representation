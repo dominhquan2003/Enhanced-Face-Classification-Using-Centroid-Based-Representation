{
 "cells": [
  {
   "cell_type": "code",
   "execution_count": 1,
   "id": "e61fe07a",
   "metadata": {
    "_cell_guid": "b1076dfc-b9ad-4769-8c92-a6c4dae69d19",
    "_uuid": "8f2839f25d086af736a60e9eeb907d3b93b6e0e5",
    "execution": {
     "iopub.execute_input": "2025-02-16T19:00:22.686049Z",
     "iopub.status.busy": "2025-02-16T19:00:22.685669Z",
     "iopub.status.idle": "2025-02-16T19:00:40.317213Z",
     "shell.execute_reply": "2025-02-16T19:00:40.316055Z"
    },
    "papermill": {
     "duration": 17.638186,
     "end_time": "2025-02-16T19:00:40.319322",
     "exception": false,
     "start_time": "2025-02-16T19:00:22.681136",
     "status": "completed"
    },
    "tags": []
   },
   "outputs": [],
   "source": [
    "import numpy as np\n",
    "import tensorflow as tf\n",
    "import matplotlib.pyplot as plt\n",
    "import seaborn as sns\n",
    "import joblib\n",
    "from sklearn.metrics import accuracy_score, classification_report, confusion_matrix\n",
    "from sklearn.preprocessing import StandardScaler\n",
    "from tensorflow.keras.models import Sequential\n",
    "from tensorflow.keras.layers import Dense, Dropout, BatchNormalization\n",
    "from tensorflow.keras.optimizers import Adam\n",
    "from tensorflow.keras.callbacks import EarlyStopping, ReduceLROnPlateau\n",
    "from sklearn.decomposition import PCA"
   ]
  },
  {
   "cell_type": "markdown",
   "id": "9a056778",
   "metadata": {},
   "source": [
    "# `Load extracted feature maps`"
   ]
  },
  {
   "cell_type": "code",
   "execution_count": null,
   "id": "e59fdc70",
   "metadata": {},
   "outputs": [],
   "source": [
    "X_train = np.load('/kaggle/input/pit-feature-maps-mobilenetv2/train_feature_maps.npy')\n",
    "X_test = np.load('/kaggle/input/pit-feature-maps-mobilenetv2/test_feature_maps.npy')\n",
    "X_val = np.load('/kaggle/input/pit-feature-maps-mobilenetv2/val_feature_maps.npy')\n",
    "y_train = np.load('/kaggle/input/pit-feature-maps-mobilenetv2/train_labels.npy')\n",
    "y_test = np.load('/kaggle/input/pit-feature-maps-mobilenetv2/test_labels.npy')\n",
    "y_val = np.load('/kaggle/input/pit-feature-maps-mobilenetv2/val_labels.npy')"
   ]
  },
  {
   "cell_type": "markdown",
   "id": "46bf85f2",
   "metadata": {},
   "source": [
    "# `Convert one-hot encoded labels to class indices`"
   ]
  },
  {
   "cell_type": "code",
   "execution_count": null,
   "id": "312b467e",
   "metadata": {
    "execution": {
     "iopub.execute_input": "2025-02-16T19:00:40.327313Z",
     "iopub.status.busy": "2025-02-16T19:00:40.326701Z",
     "iopub.status.idle": "2025-02-16T19:01:23.160394Z",
     "shell.execute_reply": "2025-02-16T19:01:23.159172Z"
    },
    "papermill": {
     "duration": 42.839596,
     "end_time": "2025-02-16T19:01:23.162369",
     "exception": false,
     "start_time": "2025-02-16T19:00:40.322773",
     "status": "completed"
    },
    "tags": []
   },
   "outputs": [],
   "source": [
    "y_train = np.argmax(y_train, axis=1)\n",
    "y_test = np.argmax(y_test, axis=1)\n",
    "y_val = np.argmax(y_val, axis=1)"
   ]
  },
  {
   "cell_type": "code",
   "execution_count": null,
   "id": "ef5dd1d6",
   "metadata": {
    "execution": {
     "iopub.execute_input": "2025-02-16T19:01:23.170717Z",
     "iopub.status.busy": "2025-02-16T19:01:23.170306Z",
     "iopub.status.idle": "2025-02-16T19:05:44.417075Z",
     "shell.execute_reply": "2025-02-16T19:05:44.415359Z"
    },
    "papermill": {
     "duration": 261.254498,
     "end_time": "2025-02-16T19:05:44.420616",
     "exception": false,
     "start_time": "2025-02-16T19:01:23.166118",
     "status": "completed"
    },
    "tags": []
   },
   "outputs": [],
   "source": [
    "# Number of classes\n",
    "num_classes = len(np.unique(y_train))\n",
    "\n",
    "# Reshape 4D feature maps to 2D (samples, features)\n",
    "X_train_reshaped = X_train.reshape(X_train.shape[0], -1)\n",
    "X_test_reshaped = X_test.reshape(X_test.shape[0], -1)\n",
    "X_val_reshaped = X_val.reshape(X_val.shape[0], -1)\n",
    "\n",
    "\n"
   ]
  },
  {
   "cell_type": "markdown",
   "id": "a090deea",
   "metadata": {},
   "source": [
    "# `Apply PCA for dimensionality reduction`"
   ]
  },
  {
   "cell_type": "code",
   "execution_count": null,
   "id": "dcc196a3",
   "metadata": {},
   "outputs": [],
   "source": [
    "pca = PCA(n_components=500)\n",
    "X_train_pca = pca.fit_transform(X_train_reshaped)\n",
    "X_test_pca = pca.transform(X_test_reshaped)\n",
    "X_val_pca = pca.transform(X_val_reshaped)"
   ]
  },
  {
   "cell_type": "code",
   "execution_count": null,
   "id": "44d73a97",
   "metadata": {
    "execution": {
     "iopub.execute_input": "2025-02-16T19:05:44.430796Z",
     "iopub.status.busy": "2025-02-16T19:05:44.430388Z",
     "iopub.status.idle": "2025-02-16T19:05:44.719965Z",
     "shell.execute_reply": "2025-02-16T19:05:44.718698Z"
    },
    "papermill": {
     "duration": 0.296151,
     "end_time": "2025-02-16T19:05:44.721887",
     "exception": false,
     "start_time": "2025-02-16T19:05:44.425736",
     "status": "completed"
    },
    "tags": []
   },
   "outputs": [
    {
     "data": {
      "text/plain": [
       "['pca.pkl']"
      ]
     },
     "execution_count": 4,
     "metadata": {},
     "output_type": "execute_result"
    }
   ],
   "source": [
    "# Save PCA model\n",
    "joblib.dump(pca, \"pca.pkl\")"
   ]
  },
  {
   "cell_type": "markdown",
   "id": "52ab725e",
   "metadata": {},
   "source": [
    "# `Standardize features`"
   ]
  },
  {
   "cell_type": "code",
   "execution_count": null,
   "id": "9fefe832",
   "metadata": {},
   "outputs": [],
   "source": [
    "scaler = StandardScaler()\n",
    "X_train_scaled = scaler.fit_transform(X_train_pca)\n",
    "X_test_scaled = scaler.transform(X_test_pca)\n",
    "X_val_scaled = scaler.transform(X_val_pca)"
   ]
  },
  {
   "cell_type": "code",
   "execution_count": null,
   "id": "66022adb",
   "metadata": {
    "execution": {
     "iopub.execute_input": "2025-02-16T19:05:44.729800Z",
     "iopub.status.busy": "2025-02-16T19:05:44.729392Z",
     "iopub.status.idle": "2025-02-16T19:05:45.168829Z",
     "shell.execute_reply": "2025-02-16T19:05:45.167683Z"
    },
    "papermill": {
     "duration": 0.44584,
     "end_time": "2025-02-16T19:05:45.171173",
     "exception": false,
     "start_time": "2025-02-16T19:05:44.725333",
     "status": "completed"
    },
    "tags": []
   },
   "outputs": [
    {
     "data": {
      "text/plain": [
       "['scaler.pkl']"
      ]
     },
     "execution_count": 5,
     "metadata": {},
     "output_type": "execute_result"
    }
   ],
   "source": [
    "# Save Scaler\n",
    "joblib.dump(scaler, \"scaler.pkl\")"
   ]
  },
  {
   "cell_type": "markdown",
   "id": "6c777bfa",
   "metadata": {},
   "source": [
    "# `Define MLP model`"
   ]
  },
  {
   "cell_type": "code",
   "execution_count": null,
   "id": "7fd45f26",
   "metadata": {
    "execution": {
     "iopub.execute_input": "2025-02-16T19:05:45.183473Z",
     "iopub.status.busy": "2025-02-16T19:05:45.183132Z",
     "iopub.status.idle": "2025-02-16T19:05:45.369532Z",
     "shell.execute_reply": "2025-02-16T19:05:45.368169Z"
    },
    "papermill": {
     "duration": 0.194805,
     "end_time": "2025-02-16T19:05:45.371511",
     "exception": false,
     "start_time": "2025-02-16T19:05:45.176706",
     "status": "completed"
    },
    "tags": []
   },
   "outputs": [
    {
     "name": "stderr",
     "output_type": "stream",
     "text": [
      "/usr/local/lib/python3.10/dist-packages/keras/src/layers/core/dense.py:87: UserWarning: Do not pass an `input_shape`/`input_dim` argument to a layer. When using Sequential models, prefer using an `Input(shape)` object as the first layer in the model instead.\n",
      "  super().__init__(activity_regularizer=activity_regularizer, **kwargs)\n"
     ]
    }
   ],
   "source": [
    "model = Sequential([\n",
    "    Dense(1024, activation='relu', input_shape=(500,)),  # Use PCA reduced shape\n",
    "    BatchNormalization(),\n",
    "    Dropout(0.4),\n",
    "    \n",
    "    Dense(512, activation='relu'),\n",
    "    BatchNormalization(),\n",
    "    Dropout(0.4),\n",
    "    \n",
    "    Dense(256, activation='relu'),\n",
    "    Dropout(0.3),\n",
    "    \n",
    "    Dense(num_classes, activation='softmax')  # Corrected output layer\n",
    "])"
   ]
  },
  {
   "cell_type": "code",
   "execution_count": 7,
   "id": "bf6f2597",
   "metadata": {
    "execution": {
     "iopub.execute_input": "2025-02-16T19:05:45.380344Z",
     "iopub.status.busy": "2025-02-16T19:05:45.379865Z",
     "iopub.status.idle": "2025-02-16T19:05:45.395764Z",
     "shell.execute_reply": "2025-02-16T19:05:45.394718Z"
    },
    "papermill": {
     "duration": 0.022488,
     "end_time": "2025-02-16T19:05:45.397751",
     "exception": false,
     "start_time": "2025-02-16T19:05:45.375263",
     "status": "completed"
    },
    "tags": []
   },
   "outputs": [],
   "source": [
    "# Compile the model\n",
    "model.compile(optimizer=Adam(learning_rate=0.001), \n",
    "              loss='sparse_categorical_crossentropy',  # Use sparse_categorical_crossentropy for integer labels\n",
    "              metrics=['accuracy'])"
   ]
  },
  {
   "cell_type": "code",
   "execution_count": 8,
   "id": "0e042cd1",
   "metadata": {
    "execution": {
     "iopub.execute_input": "2025-02-16T19:05:45.406243Z",
     "iopub.status.busy": "2025-02-16T19:05:45.405898Z",
     "iopub.status.idle": "2025-02-16T19:05:45.410475Z",
     "shell.execute_reply": "2025-02-16T19:05:45.409417Z"
    },
    "papermill": {
     "duration": 0.010881,
     "end_time": "2025-02-16T19:05:45.412299",
     "exception": false,
     "start_time": "2025-02-16T19:05:45.401418",
     "status": "completed"
    },
    "tags": []
   },
   "outputs": [],
   "source": [
    "# Define callbacks\n",
    "early_stopping = EarlyStopping(monitor='val_loss', patience=10, restore_best_weights=True)\n",
    "lr_scheduler = ReduceLROnPlateau(monitor='val_loss', factor=0.5, patience=5)"
   ]
  },
  {
   "cell_type": "code",
   "execution_count": 9,
   "id": "d600b426",
   "metadata": {
    "execution": {
     "iopub.execute_input": "2025-02-16T19:05:45.421575Z",
     "iopub.status.busy": "2025-02-16T19:05:45.421080Z",
     "iopub.status.idle": "2025-02-16T19:12:26.920299Z",
     "shell.execute_reply": "2025-02-16T19:12:26.918750Z"
    },
    "papermill": {
     "duration": 401.506333,
     "end_time": "2025-02-16T19:12:26.922427",
     "exception": false,
     "start_time": "2025-02-16T19:05:45.416094",
     "status": "completed"
    },
    "tags": []
   },
   "outputs": [
    {
     "name": "stdout",
     "output_type": "stream",
     "text": [
      "Epoch 1/100\n",
      "\u001b[1m998/998\u001b[0m \u001b[32m━━━━━━━━━━━━━━━━━━━━\u001b[0m\u001b[37m\u001b[0m \u001b[1m16s\u001b[0m 14ms/step - accuracy: 0.0157 - loss: 6.3465 - val_accuracy: 0.1869 - val_loss: 4.2137 - learning_rate: 0.0010\n",
      "Epoch 2/100\n",
      "\u001b[1m998/998\u001b[0m \u001b[32m━━━━━━━━━━━━━━━━━━━━\u001b[0m\u001b[37m\u001b[0m \u001b[1m14s\u001b[0m 14ms/step - accuracy: 0.1654 - loss: 4.2116 - val_accuracy: 0.3450 - val_loss: 3.1051 - learning_rate: 0.0010\n",
      "Epoch 3/100\n",
      "\u001b[1m998/998\u001b[0m \u001b[32m━━━━━━━━━━━━━━━━━━━━\u001b[0m\u001b[37m\u001b[0m \u001b[1m14s\u001b[0m 14ms/step - accuracy: 0.3040 - loss: 3.2353 - val_accuracy: 0.4174 - val_loss: 2.7159 - learning_rate: 0.0010\n",
      "Epoch 4/100\n",
      "\u001b[1m998/998\u001b[0m \u001b[32m━━━━━━━━━━━━━━━━━━━━\u001b[0m\u001b[37m\u001b[0m \u001b[1m14s\u001b[0m 14ms/step - accuracy: 0.3959 - loss: 2.6960 - val_accuracy: 0.4538 - val_loss: 2.5227 - learning_rate: 0.0010\n",
      "Epoch 5/100\n",
      "\u001b[1m998/998\u001b[0m \u001b[32m━━━━━━━━━━━━━━━━━━━━\u001b[0m\u001b[37m\u001b[0m \u001b[1m14s\u001b[0m 14ms/step - accuracy: 0.4388 - loss: 2.4191 - val_accuracy: 0.4743 - val_loss: 2.4086 - learning_rate: 0.0010\n",
      "Epoch 6/100\n",
      "\u001b[1m998/998\u001b[0m \u001b[32m━━━━━━━━━━━━━━━━━━━━\u001b[0m\u001b[37m\u001b[0m \u001b[1m14s\u001b[0m 14ms/step - accuracy: 0.4823 - loss: 2.1792 - val_accuracy: 0.4948 - val_loss: 2.3107 - learning_rate: 0.0010\n",
      "Epoch 7/100\n",
      "\u001b[1m998/998\u001b[0m \u001b[32m━━━━━━━━━━━━━━━━━━━━\u001b[0m\u001b[37m\u001b[0m \u001b[1m14s\u001b[0m 14ms/step - accuracy: 0.5140 - loss: 2.0368 - val_accuracy: 0.5005 - val_loss: 2.2908 - learning_rate: 0.0010\n",
      "Epoch 8/100\n",
      "\u001b[1m998/998\u001b[0m \u001b[32m━━━━━━━━━━━━━━━━━━━━\u001b[0m\u001b[37m\u001b[0m \u001b[1m13s\u001b[0m 13ms/step - accuracy: 0.5428 - loss: 1.8817 - val_accuracy: 0.4960 - val_loss: 2.2886 - learning_rate: 0.0010\n",
      "Epoch 9/100\n",
      "\u001b[1m998/998\u001b[0m \u001b[32m━━━━━━━━━━━━━━━━━━━━\u001b[0m\u001b[37m\u001b[0m \u001b[1m14s\u001b[0m 14ms/step - accuracy: 0.5539 - loss: 1.8268 - val_accuracy: 0.5094 - val_loss: 2.2628 - learning_rate: 0.0010\n",
      "Epoch 10/100\n",
      "\u001b[1m998/998\u001b[0m \u001b[32m━━━━━━━━━━━━━━━━━━━━\u001b[0m\u001b[37m\u001b[0m \u001b[1m14s\u001b[0m 14ms/step - accuracy: 0.5798 - loss: 1.6981 - val_accuracy: 0.5146 - val_loss: 2.2475 - learning_rate: 0.0010\n",
      "Epoch 11/100\n",
      "\u001b[1m998/998\u001b[0m \u001b[32m━━━━━━━━━━━━━━━━━━━━\u001b[0m\u001b[37m\u001b[0m \u001b[1m14s\u001b[0m 14ms/step - accuracy: 0.5974 - loss: 1.6161 - val_accuracy: 0.5227 - val_loss: 2.2060 - learning_rate: 0.0010\n",
      "Epoch 12/100\n",
      "\u001b[1m998/998\u001b[0m \u001b[32m━━━━━━━━━━━━━━━━━━━━\u001b[0m\u001b[37m\u001b[0m \u001b[1m14s\u001b[0m 14ms/step - accuracy: 0.6097 - loss: 1.5386 - val_accuracy: 0.5191 - val_loss: 2.2052 - learning_rate: 0.0010\n",
      "Epoch 13/100\n",
      "\u001b[1m998/998\u001b[0m \u001b[32m━━━━━━━━━━━━━━━━━━━━\u001b[0m\u001b[37m\u001b[0m \u001b[1m14s\u001b[0m 14ms/step - accuracy: 0.6153 - loss: 1.4935 - val_accuracy: 0.5269 - val_loss: 2.2037 - learning_rate: 0.0010\n",
      "Epoch 14/100\n",
      "\u001b[1m998/998\u001b[0m \u001b[32m━━━━━━━━━━━━━━━━━━━━\u001b[0m\u001b[37m\u001b[0m \u001b[1m14s\u001b[0m 14ms/step - accuracy: 0.6388 - loss: 1.3934 - val_accuracy: 0.5297 - val_loss: 2.2052 - learning_rate: 0.0010\n",
      "Epoch 15/100\n",
      "\u001b[1m998/998\u001b[0m \u001b[32m━━━━━━━━━━━━━━━━━━━━\u001b[0m\u001b[37m\u001b[0m \u001b[1m14s\u001b[0m 14ms/step - accuracy: 0.6517 - loss: 1.3452 - val_accuracy: 0.5219 - val_loss: 2.2157 - learning_rate: 0.0010\n",
      "Epoch 16/100\n",
      "\u001b[1m998/998\u001b[0m \u001b[32m━━━━━━━━━━━━━━━━━━━━\u001b[0m\u001b[37m\u001b[0m \u001b[1m14s\u001b[0m 14ms/step - accuracy: 0.6601 - loss: 1.2963 - val_accuracy: 0.5252 - val_loss: 2.2149 - learning_rate: 0.0010\n",
      "Epoch 17/100\n",
      "\u001b[1m998/998\u001b[0m \u001b[32m━━━━━━━━━━━━━━━━━━━━\u001b[0m\u001b[37m\u001b[0m \u001b[1m14s\u001b[0m 14ms/step - accuracy: 0.6664 - loss: 1.2405 - val_accuracy: 0.5314 - val_loss: 2.2275 - learning_rate: 0.0010\n",
      "Epoch 18/100\n",
      "\u001b[1m998/998\u001b[0m \u001b[32m━━━━━━━━━━━━━━━━━━━━\u001b[0m\u001b[37m\u001b[0m \u001b[1m14s\u001b[0m 14ms/step - accuracy: 0.6827 - loss: 1.1891 - val_accuracy: 0.5373 - val_loss: 2.2066 - learning_rate: 0.0010\n",
      "Epoch 19/100\n",
      "\u001b[1m998/998\u001b[0m \u001b[32m━━━━━━━━━━━━━━━━━━━━\u001b[0m\u001b[37m\u001b[0m \u001b[1m14s\u001b[0m 14ms/step - accuracy: 0.7060 - loss: 1.0841 - val_accuracy: 0.5609 - val_loss: 2.1668 - learning_rate: 5.0000e-04\n",
      "Epoch 20/100\n",
      "\u001b[1m998/998\u001b[0m \u001b[32m━━━━━━━━━━━━━━━━━━━━\u001b[0m\u001b[37m\u001b[0m \u001b[1m14s\u001b[0m 14ms/step - accuracy: 0.7364 - loss: 0.9695 - val_accuracy: 0.5585 - val_loss: 2.1752 - learning_rate: 5.0000e-04\n",
      "Epoch 21/100\n",
      "\u001b[1m998/998\u001b[0m \u001b[32m━━━━━━━━━━━━━━━━━━━━\u001b[0m\u001b[37m\u001b[0m \u001b[1m14s\u001b[0m 14ms/step - accuracy: 0.7412 - loss: 0.9193 - val_accuracy: 0.5559 - val_loss: 2.1858 - learning_rate: 5.0000e-04\n",
      "Epoch 22/100\n",
      "\u001b[1m998/998\u001b[0m \u001b[32m━━━━━━━━━━━━━━━━━━━━\u001b[0m\u001b[37m\u001b[0m \u001b[1m14s\u001b[0m 14ms/step - accuracy: 0.7534 - loss: 0.8841 - val_accuracy: 0.5642 - val_loss: 2.2073 - learning_rate: 5.0000e-04\n",
      "Epoch 23/100\n",
      "\u001b[1m998/998\u001b[0m \u001b[32m━━━━━━━━━━━━━━━━━━━━\u001b[0m\u001b[37m\u001b[0m \u001b[1m14s\u001b[0m 14ms/step - accuracy: 0.7615 - loss: 0.8369 - val_accuracy: 0.5592 - val_loss: 2.2012 - learning_rate: 5.0000e-04\n",
      "Epoch 24/100\n",
      "\u001b[1m998/998\u001b[0m \u001b[32m━━━━━━━━━━━━━━━━━━━━\u001b[0m\u001b[37m\u001b[0m \u001b[1m14s\u001b[0m 14ms/step - accuracy: 0.7731 - loss: 0.8120 - val_accuracy: 0.5616 - val_loss: 2.2224 - learning_rate: 5.0000e-04\n",
      "Epoch 25/100\n",
      "\u001b[1m998/998\u001b[0m \u001b[32m━━━━━━━━━━━━━━━━━━━━\u001b[0m\u001b[37m\u001b[0m \u001b[1m14s\u001b[0m 14ms/step - accuracy: 0.7884 - loss: 0.7529 - val_accuracy: 0.5698 - val_loss: 2.1986 - learning_rate: 2.5000e-04\n",
      "Epoch 26/100\n",
      "\u001b[1m998/998\u001b[0m \u001b[32m━━━━━━━━━━━━━━━━━━━━\u001b[0m\u001b[37m\u001b[0m \u001b[1m14s\u001b[0m 14ms/step - accuracy: 0.7974 - loss: 0.7111 - val_accuracy: 0.5684 - val_loss: 2.1973 - learning_rate: 2.5000e-04\n",
      "Epoch 27/100\n",
      "\u001b[1m998/998\u001b[0m \u001b[32m━━━━━━━━━━━━━━━━━━━━\u001b[0m\u001b[37m\u001b[0m \u001b[1m14s\u001b[0m 14ms/step - accuracy: 0.8078 - loss: 0.6731 - val_accuracy: 0.5731 - val_loss: 2.2088 - learning_rate: 2.5000e-04\n",
      "Epoch 28/100\n",
      "\u001b[1m998/998\u001b[0m \u001b[32m━━━━━━━━━━━━━━━━━━━━\u001b[0m\u001b[37m\u001b[0m \u001b[1m14s\u001b[0m 14ms/step - accuracy: 0.8041 - loss: 0.6763 - val_accuracy: 0.5734 - val_loss: 2.2045 - learning_rate: 2.5000e-04\n",
      "Epoch 29/100\n",
      "\u001b[1m998/998\u001b[0m \u001b[32m━━━━━━━━━━━━━━━━━━━━\u001b[0m\u001b[37m\u001b[0m \u001b[1m14s\u001b[0m 14ms/step - accuracy: 0.8127 - loss: 0.6516 - val_accuracy: 0.5696 - val_loss: 2.2297 - learning_rate: 2.5000e-04\n"
     ]
    }
   ],
   "source": [
    "# Train the model\n",
    "history = model.fit(X_train_scaled, y_train, \n",
    "                    epochs=100, batch_size=32,\n",
    "                    validation_data=(X_val_scaled, y_val),\n",
    "                    callbacks=[early_stopping, lr_scheduler],\n",
    "                    verbose=1)"
   ]
  },
  {
   "cell_type": "markdown",
   "id": "9b9707aa",
   "metadata": {},
   "source": [
    "# `Save trained model`"
   ]
  },
  {
   "cell_type": "code",
   "execution_count": null,
   "id": "a141e932",
   "metadata": {
    "execution": {
     "iopub.execute_input": "2025-02-16T19:12:27.826986Z",
     "iopub.status.busy": "2025-02-16T19:12:27.826374Z",
     "iopub.status.idle": "2025-02-16T19:12:27.918643Z",
     "shell.execute_reply": "2025-02-16T19:12:27.917603Z"
    },
    "papermill": {
     "duration": 0.576562,
     "end_time": "2025-02-16T19:12:27.920838",
     "exception": false,
     "start_time": "2025-02-16T19:12:27.344276",
     "status": "completed"
    },
    "tags": []
   },
   "outputs": [],
   "source": [
    "model.save(\"mlp.h5\")"
   ]
  },
  {
   "cell_type": "markdown",
   "id": "5b6d293e",
   "metadata": {},
   "source": [
    "# `Testing performance`"
   ]
  },
  {
   "cell_type": "code",
   "execution_count": 11,
   "id": "9704a5d4",
   "metadata": {
    "execution": {
     "iopub.execute_input": "2025-02-16T19:12:28.752450Z",
     "iopub.status.busy": "2025-02-16T19:12:28.751909Z",
     "iopub.status.idle": "2025-02-16T19:12:34.651765Z",
     "shell.execute_reply": "2025-02-16T19:12:34.650517Z"
    },
    "papermill": {
     "duration": 6.317801,
     "end_time": "2025-02-16T19:12:34.653743",
     "exception": false,
     "start_time": "2025-02-16T19:12:28.335942",
     "status": "completed"
    },
    "tags": []
   },
   "outputs": [
    {
     "name": "stdout",
     "output_type": "stream",
     "text": [
      "\u001b[1m998/998\u001b[0m \u001b[32m━━━━━━━━━━━━━━━━━━━━\u001b[0m\u001b[37m\u001b[0m \u001b[1m4s\u001b[0m 4ms/step\n",
      "\u001b[1m133/133\u001b[0m \u001b[32m━━━━━━━━━━━━━━━━━━━━\u001b[0m\u001b[37m\u001b[0m \u001b[1m1s\u001b[0m 4ms/step\n",
      "\u001b[1m125/125\u001b[0m \u001b[32m━━━━━━━━━━━━━━━━━━━━\u001b[0m\u001b[37m\u001b[0m \u001b[1m0s\u001b[0m 4ms/step\n"
     ]
    }
   ],
   "source": [
    "# Predictions for each dataset\n",
    "y_train_pred = np.argmax(model.predict(X_train_scaled), axis=1)\n",
    "y_val_pred = np.argmax(model.predict(X_val_scaled), axis=1)\n",
    "y_test_pred = np.argmax(model.predict(X_test_scaled), axis=1)"
   ]
  },
  {
   "cell_type": "code",
   "execution_count": 12,
   "id": "dcf121a1",
   "metadata": {
    "execution": {
     "iopub.execute_input": "2025-02-16T19:12:35.568168Z",
     "iopub.status.busy": "2025-02-16T19:12:35.567795Z",
     "iopub.status.idle": "2025-02-16T19:12:35.577353Z",
     "shell.execute_reply": "2025-02-16T19:12:35.575816Z"
    },
    "papermill": {
     "duration": 0.502345,
     "end_time": "2025-02-16T19:12:35.579502",
     "exception": false,
     "start_time": "2025-02-16T19:12:35.077157",
     "status": "completed"
    },
    "tags": []
   },
   "outputs": [],
   "source": [
    "# Compute accuracy for train, validation, and test sets\n",
    "train_accuracy = accuracy_score(y_train, y_train_pred)\n",
    "val_accuracy = accuracy_score(y_val, y_val_pred)\n",
    "test_accuracy = accuracy_score(y_test, y_test_pred)"
   ]
  },
  {
   "cell_type": "code",
   "execution_count": 13,
   "id": "18edec4c",
   "metadata": {
    "execution": {
     "iopub.execute_input": "2025-02-16T19:12:36.421331Z",
     "iopub.status.busy": "2025-02-16T19:12:36.420815Z",
     "iopub.status.idle": "2025-02-16T19:12:36.427034Z",
     "shell.execute_reply": "2025-02-16T19:12:36.425702Z"
    },
    "papermill": {
     "duration": 0.428564,
     "end_time": "2025-02-16T19:12:36.429506",
     "exception": false,
     "start_time": "2025-02-16T19:12:36.000942",
     "status": "completed"
    },
    "tags": []
   },
   "outputs": [
    {
     "name": "stdout",
     "output_type": "stream",
     "text": [
      "Training Accuracy: 77.93%\n",
      "Validation Accuracy: 56.09%\n",
      "Test Accuracy: 56.72%\n"
     ]
    }
   ],
   "source": [
    "# Print accuracies\n",
    "print(f\"Training Accuracy: {train_accuracy * 100:.2f}%\")\n",
    "print(f\"Validation Accuracy: {val_accuracy * 100:.2f}%\")\n",
    "print(f\"Test Accuracy: {test_accuracy * 100:.2f}%\")"
   ]
  }
 ],
 "metadata": {
  "kaggle": {
   "accelerator": "none",
   "dataSources": [
    {
     "datasetId": 6669550,
     "sourceId": 10759284,
     "sourceType": "datasetVersion"
    }
   ],
   "dockerImageVersionId": 30886,
   "isGpuEnabled": false,
   "isInternetEnabled": false,
   "language": "python",
   "sourceType": "notebook"
  },
  "kernelspec": {
   "display_name": "Python 3",
   "language": "python",
   "name": "python3"
  },
  "language_info": {
   "codemirror_mode": {
    "name": "ipython",
    "version": 3
   },
   "file_extension": ".py",
   "mimetype": "text/x-python",
   "name": "python",
   "nbconvert_exporter": "python",
   "pygments_lexer": "ipython3",
   "version": "3.10.12"
  },
  "papermill": {
   "default_parameters": {},
   "duration": 739.061532,
   "end_time": "2025-02-16T19:12:38.878978",
   "environment_variables": {},
   "exception": null,
   "input_path": "__notebook__.ipynb",
   "output_path": "__notebook__.ipynb",
   "parameters": {},
   "start_time": "2025-02-16T19:00:19.817446",
   "version": "2.6.0"
  }
 },
 "nbformat": 4,
 "nbformat_minor": 5
}
