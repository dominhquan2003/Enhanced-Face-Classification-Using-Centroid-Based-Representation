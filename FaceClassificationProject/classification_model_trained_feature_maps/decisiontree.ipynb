{
 "cells": [
  {
   "cell_type": "code",
   "execution_count": 1,
   "id": "eb3b2cfd",
   "metadata": {
    "_cell_guid": "b1076dfc-b9ad-4769-8c92-a6c4dae69d19",
    "_uuid": "8f2839f25d086af736a60e9eeb907d3b93b6e0e5",
    "execution": {
     "iopub.execute_input": "2025-02-16T21:55:03.457148Z",
     "iopub.status.busy": "2025-02-16T21:55:03.456731Z",
     "iopub.status.idle": "2025-02-16T21:55:06.955913Z",
     "shell.execute_reply": "2025-02-16T21:55:06.954917Z"
    },
    "papermill": {
     "duration": 3.505425,
     "end_time": "2025-02-16T21:55:06.957907",
     "exception": false,
     "start_time": "2025-02-16T21:55:03.452482",
     "status": "completed"
    },
    "tags": []
   },
   "outputs": [],
   "source": [
    "import numpy as np\n",
    "import matplotlib.pyplot as plt\n",
    "import joblib\n",
    "import seaborn as sns\n",
    "from sklearn.tree import DecisionTreeClassifier\n",
    "from sklearn.preprocessing import StandardScaler\n",
    "from sklearn.metrics import accuracy_score, classification_report, confusion_matrix\n",
    "from sklearn.model_selection import learning_curve\n",
    "from sklearn.decomposition import PCA"
   ]
  },
  {
   "cell_type": "markdown",
   "id": "051d3922",
   "metadata": {},
   "source": [
    "# `Load extracted feature maps`"
   ]
  },
  {
   "cell_type": "code",
   "execution_count": null,
   "id": "66ae9262",
   "metadata": {},
   "outputs": [],
   "source": [
    "X_train = np.load('/kaggle/input/pit-feature-maps-mobilenetv2/train_feature_maps.npy')\n",
    "X_test = np.load('/kaggle/input/pit-feature-maps-mobilenetv2/test_feature_maps.npy')\n",
    "X_val = np.load('/kaggle/input/pit-feature-maps-mobilenetv2/val_feature_maps.npy')\n",
    "y_train = np.load('/kaggle/input/pit-feature-maps-mobilenetv2/train_labels.npy')\n",
    "y_test = np.load('/kaggle/input/pit-feature-maps-mobilenetv2/test_labels.npy')\n",
    "y_val = np.load('/kaggle/input/pit-feature-maps-mobilenetv2/val_labels.npy')"
   ]
  },
  {
   "cell_type": "markdown",
   "id": "ed633a8e",
   "metadata": {},
   "source": [
    "# `Convert one-hot encoded labels to class indices`"
   ]
  },
  {
   "cell_type": "code",
   "execution_count": null,
   "id": "4f79b6bb",
   "metadata": {
    "execution": {
     "iopub.execute_input": "2025-02-16T21:55:06.965158Z",
     "iopub.status.busy": "2025-02-16T21:55:06.964587Z",
     "iopub.status.idle": "2025-02-16T21:56:12.660978Z",
     "shell.execute_reply": "2025-02-16T21:56:12.659588Z"
    },
    "papermill": {
     "duration": 65.701897,
     "end_time": "2025-02-16T21:56:12.662899",
     "exception": false,
     "start_time": "2025-02-16T21:55:06.961002",
     "status": "completed"
    },
    "tags": []
   },
   "outputs": [],
   "source": [
    "y_train_labels = np.argmax(y_train, axis=1)\n",
    "y_test_labels = np.argmax(y_test, axis=1)\n",
    "y_val_labels = np.argmax(y_val, axis=1)"
   ]
  },
  {
   "cell_type": "code",
   "execution_count": 3,
   "id": "3ec34be3",
   "metadata": {
    "execution": {
     "iopub.execute_input": "2025-02-16T21:56:12.669837Z",
     "iopub.status.busy": "2025-02-16T21:56:12.669455Z",
     "iopub.status.idle": "2025-02-16T21:56:12.674510Z",
     "shell.execute_reply": "2025-02-16T21:56:12.673405Z"
    },
    "papermill": {
     "duration": 0.010508,
     "end_time": "2025-02-16T21:56:12.676186",
     "exception": false,
     "start_time": "2025-02-16T21:56:12.665678",
     "status": "completed"
    },
    "tags": []
   },
   "outputs": [],
   "source": [
    "# Reshape 4D feature maps to 2D (samples, features)\n",
    "X_train = X_train.reshape(X_train.shape[0], -1)\n",
    "X_test = X_test.reshape(X_test.shape[0], -1)\n",
    "X_val = X_val.reshape(X_val.shape[0], -1)"
   ]
  },
  {
   "cell_type": "markdown",
   "id": "3cc57bc5",
   "metadata": {},
   "source": [
    "# `Standardize features`"
   ]
  },
  {
   "cell_type": "code",
   "execution_count": null,
   "id": "c4700319",
   "metadata": {
    "execution": {
     "iopub.execute_input": "2025-02-16T21:56:12.682821Z",
     "iopub.status.busy": "2025-02-16T21:56:12.682438Z",
     "iopub.status.idle": "2025-02-16T21:57:11.963490Z",
     "shell.execute_reply": "2025-02-16T21:57:11.962378Z"
    },
    "papermill": {
     "duration": 59.286677,
     "end_time": "2025-02-16T21:57:11.965621",
     "exception": false,
     "start_time": "2025-02-16T21:56:12.678944",
     "status": "completed"
    },
    "tags": []
   },
   "outputs": [],
   "source": [
    "scaler = StandardScaler()\n",
    "X_train_scaled = scaler.fit_transform(X_train)\n",
    "X_test_scaled = scaler.transform(X_test)\n",
    "X_val_scaled = scaler.transform(X_val)"
   ]
  },
  {
   "cell_type": "markdown",
   "id": "8b38a123",
   "metadata": {},
   "source": [
    "# `Apply PCA for dimensionality reduction`"
   ]
  },
  {
   "cell_type": "code",
   "execution_count": null,
   "id": "b90ecb94",
   "metadata": {
    "execution": {
     "iopub.execute_input": "2025-02-16T21:57:11.973269Z",
     "iopub.status.busy": "2025-02-16T21:57:11.972875Z",
     "iopub.status.idle": "2025-02-16T22:02:07.934439Z",
     "shell.execute_reply": "2025-02-16T22:02:07.933292Z"
    },
    "papermill": {
     "duration": 295.967815,
     "end_time": "2025-02-16T22:02:07.936957",
     "exception": false,
     "start_time": "2025-02-16T21:57:11.969142",
     "status": "completed"
    },
    "tags": []
   },
   "outputs": [],
   "source": [
    "pca = PCA(n_components=500)\n",
    "X_train_pca = pca.fit_transform(X_train_scaled)\n",
    "X_test_pca = pca.transform(X_test_scaled)\n",
    "X_val_pca = pca.transform(X_val_scaled)"
   ]
  },
  {
   "cell_type": "markdown",
   "id": "64073bd0",
   "metadata": {},
   "source": [
    "# `Naïve Bayes`"
   ]
  },
  {
   "cell_type": "code",
   "execution_count": null,
   "id": "f45df919",
   "metadata": {
    "execution": {
     "iopub.execute_input": "2025-02-16T22:02:07.949050Z",
     "iopub.status.busy": "2025-02-16T22:02:07.948639Z",
     "iopub.status.idle": "2025-02-16T22:16:21.432034Z",
     "shell.execute_reply": "2025-02-16T22:16:21.429658Z"
    },
    "papermill": {
     "duration": 853.499259,
     "end_time": "2025-02-16T22:16:21.441426",
     "exception": false,
     "start_time": "2025-02-16T22:02:07.942167",
     "status": "completed"
    },
    "tags": []
   },
   "outputs": [
    {
     "data": {
      "text/html": [
       "<style>#sk-container-id-1 {color: black;background-color: white;}#sk-container-id-1 pre{padding: 0;}#sk-container-id-1 div.sk-toggleable {background-color: white;}#sk-container-id-1 label.sk-toggleable__label {cursor: pointer;display: block;width: 100%;margin-bottom: 0;padding: 0.3em;box-sizing: border-box;text-align: center;}#sk-container-id-1 label.sk-toggleable__label-arrow:before {content: \"▸\";float: left;margin-right: 0.25em;color: #696969;}#sk-container-id-1 label.sk-toggleable__label-arrow:hover:before {color: black;}#sk-container-id-1 div.sk-estimator:hover label.sk-toggleable__label-arrow:before {color: black;}#sk-container-id-1 div.sk-toggleable__content {max-height: 0;max-width: 0;overflow: hidden;text-align: left;background-color: #f0f8ff;}#sk-container-id-1 div.sk-toggleable__content pre {margin: 0.2em;color: black;border-radius: 0.25em;background-color: #f0f8ff;}#sk-container-id-1 input.sk-toggleable__control:checked~div.sk-toggleable__content {max-height: 200px;max-width: 100%;overflow: auto;}#sk-container-id-1 input.sk-toggleable__control:checked~label.sk-toggleable__label-arrow:before {content: \"▾\";}#sk-container-id-1 div.sk-estimator input.sk-toggleable__control:checked~label.sk-toggleable__label {background-color: #d4ebff;}#sk-container-id-1 div.sk-label input.sk-toggleable__control:checked~label.sk-toggleable__label {background-color: #d4ebff;}#sk-container-id-1 input.sk-hidden--visually {border: 0;clip: rect(1px 1px 1px 1px);clip: rect(1px, 1px, 1px, 1px);height: 1px;margin: -1px;overflow: hidden;padding: 0;position: absolute;width: 1px;}#sk-container-id-1 div.sk-estimator {font-family: monospace;background-color: #f0f8ff;border: 1px dotted black;border-radius: 0.25em;box-sizing: border-box;margin-bottom: 0.5em;}#sk-container-id-1 div.sk-estimator:hover {background-color: #d4ebff;}#sk-container-id-1 div.sk-parallel-item::after {content: \"\";width: 100%;border-bottom: 1px solid gray;flex-grow: 1;}#sk-container-id-1 div.sk-label:hover label.sk-toggleable__label {background-color: #d4ebff;}#sk-container-id-1 div.sk-serial::before {content: \"\";position: absolute;border-left: 1px solid gray;box-sizing: border-box;top: 0;bottom: 0;left: 50%;z-index: 0;}#sk-container-id-1 div.sk-serial {display: flex;flex-direction: column;align-items: center;background-color: white;padding-right: 0.2em;padding-left: 0.2em;position: relative;}#sk-container-id-1 div.sk-item {position: relative;z-index: 1;}#sk-container-id-1 div.sk-parallel {display: flex;align-items: stretch;justify-content: center;background-color: white;position: relative;}#sk-container-id-1 div.sk-item::before, #sk-container-id-1 div.sk-parallel-item::before {content: \"\";position: absolute;border-left: 1px solid gray;box-sizing: border-box;top: 0;bottom: 0;left: 50%;z-index: -1;}#sk-container-id-1 div.sk-parallel-item {display: flex;flex-direction: column;z-index: 1;position: relative;background-color: white;}#sk-container-id-1 div.sk-parallel-item:first-child::after {align-self: flex-end;width: 50%;}#sk-container-id-1 div.sk-parallel-item:last-child::after {align-self: flex-start;width: 50%;}#sk-container-id-1 div.sk-parallel-item:only-child::after {width: 0;}#sk-container-id-1 div.sk-dashed-wrapped {border: 1px dashed gray;margin: 0 0.4em 0.5em 0.4em;box-sizing: border-box;padding-bottom: 0.4em;background-color: white;}#sk-container-id-1 div.sk-label label {font-family: monospace;font-weight: bold;display: inline-block;line-height: 1.2em;}#sk-container-id-1 div.sk-label-container {text-align: center;}#sk-container-id-1 div.sk-container {/* jupyter's `normalize.less` sets `[hidden] { display: none; }` but bootstrap.min.css set `[hidden] { display: none !important; }` so we also need the `!important` here to be able to override the default hidden behavior on the sphinx rendered scikit-learn.org. See: https://github.com/scikit-learn/scikit-learn/issues/21755 */display: inline-block !important;position: relative;}#sk-container-id-1 div.sk-text-repr-fallback {display: none;}</style><div id=\"sk-container-id-1\" class=\"sk-top-container\"><div class=\"sk-text-repr-fallback\"><pre>DecisionTreeClassifier(max_depth=100, random_state=42)</pre><b>In a Jupyter environment, please rerun this cell to show the HTML representation or trust the notebook. <br />On GitHub, the HTML representation is unable to render, please try loading this page with nbviewer.org.</b></div><div class=\"sk-container\" hidden><div class=\"sk-item\"><div class=\"sk-estimator sk-toggleable\"><input class=\"sk-toggleable__control sk-hidden--visually\" id=\"sk-estimator-id-1\" type=\"checkbox\" checked><label for=\"sk-estimator-id-1\" class=\"sk-toggleable__label sk-toggleable__label-arrow\">DecisionTreeClassifier</label><div class=\"sk-toggleable__content\"><pre>DecisionTreeClassifier(max_depth=100, random_state=42)</pre></div></div></div></div></div>"
      ],
      "text/plain": [
       "DecisionTreeClassifier(max_depth=100, random_state=42)"
      ]
     },
     "execution_count": 6,
     "metadata": {},
     "output_type": "execute_result"
    }
   ],
   "source": [
    "dt_model = DecisionTreeClassifier(criterion='gini', max_depth=100, random_state=42)\n",
    "dt_model.fit(X_train_pca, y_train_labels)"
   ]
  },
  {
   "cell_type": "markdown",
   "id": "9821c589",
   "metadata": {},
   "source": [
    "# `Save models`"
   ]
  },
  {
   "cell_type": "code",
   "execution_count": null,
   "id": "3ef9ca1d",
   "metadata": {
    "execution": {
     "iopub.execute_input": "2025-02-16T22:16:21.450647Z",
     "iopub.status.busy": "2025-02-16T22:16:21.450194Z",
     "iopub.status.idle": "2025-02-16T22:16:22.274297Z",
     "shell.execute_reply": "2025-02-16T22:16:22.273105Z"
    },
    "papermill": {
     "duration": 0.831173,
     "end_time": "2025-02-16T22:16:22.276161",
     "exception": false,
     "start_time": "2025-02-16T22:16:21.444988",
     "status": "completed"
    },
    "tags": []
   },
   "outputs": [
    {
     "data": {
      "text/plain": [
       "['/kaggle/working/pca.pkl']"
      ]
     },
     "execution_count": 7,
     "metadata": {},
     "output_type": "execute_result"
    }
   ],
   "source": [
    "joblib.dump(dt_model, \"/kaggle/working/dt.pkl\")\n",
    "joblib.dump(scaler, \"/kaggle/working/scaler.pkl\")\n",
    "joblib.dump(pca, \"/kaggle/working/pca.pkl\")"
   ]
  },
  {
   "cell_type": "markdown",
   "id": "b8bdce7c",
   "metadata": {},
   "source": [
    "# `Testing performance`"
   ]
  },
  {
   "cell_type": "code",
   "execution_count": 8,
   "id": "c063298c",
   "metadata": {
    "execution": {
     "iopub.execute_input": "2025-02-16T22:16:22.284609Z",
     "iopub.status.busy": "2025-02-16T22:16:22.284185Z",
     "iopub.status.idle": "2025-02-16T22:16:22.438611Z",
     "shell.execute_reply": "2025-02-16T22:16:22.437413Z"
    },
    "papermill": {
     "duration": 0.161255,
     "end_time": "2025-02-16T22:16:22.440822",
     "exception": false,
     "start_time": "2025-02-16T22:16:22.279567",
     "status": "completed"
    },
    "tags": []
   },
   "outputs": [],
   "source": [
    "y_train_pred = dt_model.predict(X_train_pca)\n",
    "y_val_pred = dt_model.predict(X_val_pca)\n",
    "y_test_pred = dt_model.predict(X_test_pca)"
   ]
  },
  {
   "cell_type": "code",
   "execution_count": 9,
   "id": "d19c80e3",
   "metadata": {
    "execution": {
     "iopub.execute_input": "2025-02-16T22:16:22.449145Z",
     "iopub.status.busy": "2025-02-16T22:16:22.448751Z",
     "iopub.status.idle": "2025-02-16T22:16:22.459704Z",
     "shell.execute_reply": "2025-02-16T22:16:22.458566Z"
    },
    "papermill": {
     "duration": 0.01742,
     "end_time": "2025-02-16T22:16:22.461826",
     "exception": false,
     "start_time": "2025-02-16T22:16:22.444406",
     "status": "completed"
    },
    "tags": []
   },
   "outputs": [],
   "source": [
    "# Compute accuracy for train, validation, and test sets\n",
    "train_accuracy = accuracy_score(y_train_labels, y_train_pred)\n",
    "val_accuracy = accuracy_score(y_val_labels, y_val_pred)\n",
    "test_accuracy = accuracy_score(y_test_labels, y_test_pred)"
   ]
  },
  {
   "cell_type": "code",
   "execution_count": 10,
   "id": "a2339c70",
   "metadata": {
    "execution": {
     "iopub.execute_input": "2025-02-16T22:16:22.469944Z",
     "iopub.status.busy": "2025-02-16T22:16:22.469609Z",
     "iopub.status.idle": "2025-02-16T22:16:22.476582Z",
     "shell.execute_reply": "2025-02-16T22:16:22.475318Z"
    },
    "papermill": {
     "duration": 0.013212,
     "end_time": "2025-02-16T22:16:22.478509",
     "exception": false,
     "start_time": "2025-02-16T22:16:22.465297",
     "status": "completed"
    },
    "tags": []
   },
   "outputs": [
    {
     "name": "stdout",
     "output_type": "stream",
     "text": [
      "Training Accuracy: 29.80%\n",
      "Validation Accuracy: 10.71%\n",
      "Test Accuracy: 12.81%\n"
     ]
    }
   ],
   "source": [
    "# Print accuracies\n",
    "print(f\"Training Accuracy: {train_accuracy * 100:.2f}%\")\n",
    "print(f\"Validation Accuracy: {val_accuracy * 100:.2f}%\")\n",
    "print(f\"Test Accuracy: {test_accuracy * 100:.2f}%\")"
   ]
  }
 ],
 "metadata": {
  "kaggle": {
   "accelerator": "none",
   "dataSources": [
    {
     "datasetId": 6669550,
     "sourceId": 10759284,
     "sourceType": "datasetVersion"
    }
   ],
   "isGpuEnabled": false,
   "isInternetEnabled": false,
   "language": "python",
   "sourceType": "notebook"
  },
  "kernelspec": {
   "display_name": "Python 3",
   "language": "python",
   "name": "python3"
  },
  "language_info": {
   "codemirror_mode": {
    "name": "ipython",
    "version": 3
   },
   "file_extension": ".py",
   "mimetype": "text/x-python",
   "name": "python",
   "nbconvert_exporter": "python",
   "pygments_lexer": "ipython3",
   "version": "3.10.12"
  },
  "papermill": {
   "default_parameters": {},
   "duration": 1283.282238,
   "end_time": "2025-02-16T22:16:23.809935",
   "environment_variables": {},
   "exception": null,
   "input_path": "__notebook__.ipynb",
   "output_path": "__notebook__.ipynb",
   "parameters": {},
   "start_time": "2025-02-16T21:55:00.527697",
   "version": "2.6.0"
  }
 },
 "nbformat": 4,
 "nbformat_minor": 5
}
