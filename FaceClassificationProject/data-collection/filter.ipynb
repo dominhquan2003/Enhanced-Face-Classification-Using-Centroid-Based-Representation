{
 "cells": [
  {
   "cell_type": "code",
   "execution_count": null,
   "metadata": {},
   "outputs": [],
   "source": [
    "import os\n",
    "import shutil\n",
    "\n",
    "folder_name_mapping = {\n",
    "    \"Alexander_SkarsgaGòá+¿rd\": \"Alexander_Skarsgård\",\n",
    "    \"Freddy_RodriGòá++guez\": \"Freddy_Rodríguez\",\n",
    "    \"Adrianne_LeoGòá++n\": \"Adrianne_León\",\n",
    "    \"Joanna_GarciGòá++a\": \"Joanna_García\"\n",
    "}\n",
    "\n",
    "base_dir = \"../datasets\"\n",
    "\n",
    "def rename_folders_and_files(base_dir, folder_name_mapping):\n",
    "    for root, dirs, files in os.walk(base_dir):\n",
    "        for dir_name in dirs:\n",
    "            if dir_name in folder_name_mapping:\n",
    "                correct_name = folder_name_mapping[dir_name]\n",
    "                old_path = os.path.join(root, dir_name)\n",
    "                new_path = os.path.join(root, correct_name)\n",
    "                shutil.move(old_path, new_path)\n",
    "\n",
    "                for file_name in os.listdir(new_path):\n",
    "                    if file_name.startswith(dir_name):\n",
    "                        correct_file_name = file_name.replace(dir_name, correct_name)\n",
    "                        old_file_path = os.path.join(new_path, file_name)\n",
    "                        new_file_path = os.path.join(new_path, correct_file_name)\n",
    "                        os.rename(old_file_path, new_file_path)\n",
    "\n",
    "rename_folders_and_files(base_dir, folder_name_mapping)"
   ]
  },
  {
   "cell_type": "code",
   "execution_count": null,
   "metadata": {},
   "outputs": [],
   "source": [
    "import os\n",
    "import shutil\n",
    "\n",
    "def copy_images(src_dirs, dest_dir):\n",
    "    if not os.path.exists(dest_dir):\n",
    "        os.makedirs(dest_dir)\n",
    "    \n",
    "    for src_dir in src_dirs:\n",
    "        for root, dirs, files in os.walk(src_dir):\n",
    "            for dir_name in dirs:\n",
    "                actor_dest_dir = os.path.join(dest_dir, dir_name)\n",
    "                if not os.path.exists(actor_dest_dir):\n",
    "                    os.makedirs(actor_dest_dir)\n",
    "            \n",
    "            for file in files:\n",
    "                if file.endswith('.jpeg'):\n",
    "                    src_file = os.path.join(root, file)\n",
    "                    relative_path = os.path.relpath(root, src_dir)\n",
    "                    dest_subdir = os.path.join(dest_dir, relative_path)\n",
    "                    dest_file = os.path.join(dest_subdir, file)\n",
    "                    \n",
    "                    # Ensure unique file names\n",
    "                    base, ext = os.path.splitext(file)\n",
    "                    counter = 1\n",
    "                    while os.path.exists(dest_file):\n",
    "                        dest_file = os.path.join(dest_subdir, f\"{base}_{counter}{ext}\")\n",
    "                        counter += 1\n",
    "                    \n",
    "                    shutil.copy2(src_file, dest_file)\n",
    "\n",
    "# Define source directories and destination directories\n",
    "actor_src_dirs = [\"../datasets/actor_faces\", \"facescrub/facescrub_actors/faces\"]\n",
    "actress_src_dirs = [\"../datasets/actress_faces\", \"facescrub/facescrub_actresses/faces\"]\n",
    "actors_dest_dir = \"../dataset/actors\"\n",
    "actresses_dest_dir = \"../dataset/actresses\"\n",
    "\n",
    "# Copy images from actor and actress directories\n",
    "copy_images(actor_src_dirs, actors_dest_dir)\n",
    "copy_images(actress_src_dirs, actresses_dest_dir)"
   ]
  }
 ],
 "metadata": {
  "kernelspec": {
   "display_name": "base",
   "language": "python",
   "name": "python3"
  },
  "language_info": {
   "codemirror_mode": {
    "name": "ipython",
    "version": 3
   },
   "file_extension": ".py",
   "mimetype": "text/x-python",
   "name": "python",
   "nbconvert_exporter": "python",
   "pygments_lexer": "ipython3",
   "version": "3.11.9"
  }
 },
 "nbformat": 4,
 "nbformat_minor": 2
}
